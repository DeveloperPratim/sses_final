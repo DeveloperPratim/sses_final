{
  "cells": [
    {
      "cell_type": "markdown",
      "metadata": {
        "id": "view-in-github",
        "colab_type": "text"
      },
      "source": [
        "<a href=\"https://colab.research.google.com/github/DeveloperPratim/sses_final/blob/main/999Ready_Run.ipynb\" target=\"_parent\"><img src=\"https://colab.research.google.com/assets/colab-badge.svg\" alt=\"Open In Colab\"/></a>"
      ]
    },
    {
      "cell_type": "code",
      "execution_count": null,
      "metadata": {
        "colab": {
          "base_uri": "https://localhost:8080/"
        },
        "id": "u6h5-tw1Wqui",
        "outputId": "6a0b7e29-238e-4eef-99bd-63ae32f8005b"
      },
      "outputs": [
        {
          "output_type": "stream",
          "name": "stdout",
          "text": [
            "Mounted at /content/drive\n"
          ]
        }
      ],
      "source": [
        "from google.colab import drive\n",
        "drive.mount('/content/drive')"
      ]
    },
    {
      "cell_type": "code",
      "execution_count": null,
      "metadata": {
        "id": "XTfXFHQwMw8i",
        "colab": {
          "base_uri": "https://localhost:8080/"
        },
        "outputId": "d7c6e16a-fe95-4627-9fca-75e3152709b3"
      },
      "outputs": [
        {
          "output_type": "stream",
          "name": "stdout",
          "text": [
            "Collecting git+https://github.com/huggingface/transformers.git@72958fcd3c98a7afdc61f953aa58c544ebda2f79\n",
            "  Cloning https://github.com/huggingface/transformers.git (to revision 72958fcd3c98a7afdc61f953aa58c544ebda2f79) to /tmp/pip-req-build-xfcr1by2\n",
            "  Running command git clone --filter=blob:none --quiet https://github.com/huggingface/transformers.git /tmp/pip-req-build-xfcr1by2\n",
            "  Running command git rev-parse -q --verify 'sha^72958fcd3c98a7afdc61f953aa58c544ebda2f79'\n",
            "  Running command git fetch -q https://github.com/huggingface/transformers.git 72958fcd3c98a7afdc61f953aa58c544ebda2f79\n",
            "  Running command git checkout -q 72958fcd3c98a7afdc61f953aa58c544ebda2f79\n",
            "  Resolved https://github.com/huggingface/transformers.git to commit 72958fcd3c98a7afdc61f953aa58c544ebda2f79\n",
            "  Installing build dependencies ... \u001b[?25l\u001b[?25hdone\n",
            "  Getting requirements to build wheel ... \u001b[?25l\u001b[?25hdone\n",
            "  Preparing metadata (pyproject.toml) ... \u001b[?25l\u001b[?25hdone\n",
            "Requirement already satisfied: filelock in /usr/local/lib/python3.11/dist-packages (from transformers==4.34.0.dev0) (3.16.1)\n",
            "Requirement already satisfied: huggingface-hub<1.0,>=0.16.4 in /usr/local/lib/python3.11/dist-packages (from transformers==4.34.0.dev0) (0.27.1)\n",
            "Requirement already satisfied: numpy>=1.17 in /usr/local/lib/python3.11/dist-packages (from transformers==4.34.0.dev0) (1.26.4)\n",
            "Requirement already satisfied: packaging>=20.0 in /usr/local/lib/python3.11/dist-packages (from transformers==4.34.0.dev0) (24.2)\n",
            "Requirement already satisfied: pyyaml>=5.1 in /usr/local/lib/python3.11/dist-packages (from transformers==4.34.0.dev0) (6.0.2)\n",
            "Requirement already satisfied: regex!=2019.12.17 in /usr/local/lib/python3.11/dist-packages (from transformers==4.34.0.dev0) (2024.11.6)\n",
            "Requirement already satisfied: requests in /usr/local/lib/python3.11/dist-packages (from transformers==4.34.0.dev0) (2.32.3)\n",
            "Collecting tokenizers<0.15,>=0.14 (from transformers==4.34.0.dev0)\n",
            "  Downloading tokenizers-0.14.1-cp311-cp311-manylinux_2_17_x86_64.manylinux2014_x86_64.whl.metadata (6.7 kB)\n",
            "Requirement already satisfied: safetensors>=0.3.1 in /usr/local/lib/python3.11/dist-packages (from transformers==4.34.0.dev0) (0.5.2)\n",
            "Requirement already satisfied: tqdm>=4.27 in /usr/local/lib/python3.11/dist-packages (from transformers==4.34.0.dev0) (4.67.1)\n",
            "Requirement already satisfied: fsspec>=2023.5.0 in /usr/local/lib/python3.11/dist-packages (from huggingface-hub<1.0,>=0.16.4->transformers==4.34.0.dev0) (2024.10.0)\n",
            "Requirement already satisfied: typing-extensions>=3.7.4.3 in /usr/local/lib/python3.11/dist-packages (from huggingface-hub<1.0,>=0.16.4->transformers==4.34.0.dev0) (4.12.2)\n",
            "Collecting huggingface-hub<1.0,>=0.16.4 (from transformers==4.34.0.dev0)\n",
            "  Downloading huggingface_hub-0.17.3-py3-none-any.whl.metadata (13 kB)\n",
            "Requirement already satisfied: charset-normalizer<4,>=2 in /usr/local/lib/python3.11/dist-packages (from requests->transformers==4.34.0.dev0) (3.4.1)\n",
            "Requirement already satisfied: idna<4,>=2.5 in /usr/local/lib/python3.11/dist-packages (from requests->transformers==4.34.0.dev0) (3.10)\n",
            "Requirement already satisfied: urllib3<3,>=1.21.1 in /usr/local/lib/python3.11/dist-packages (from requests->transformers==4.34.0.dev0) (2.3.0)\n",
            "Requirement already satisfied: certifi>=2017.4.17 in /usr/local/lib/python3.11/dist-packages (from requests->transformers==4.34.0.dev0) (2024.12.14)\n",
            "Downloading tokenizers-0.14.1-cp311-cp311-manylinux_2_17_x86_64.manylinux2014_x86_64.whl (3.8 MB)\n",
            "\u001b[2K   \u001b[90m━━━━━━━━━━━━━━━━━━━━━━━━━━━━━━━━━━━━━━━━\u001b[0m \u001b[32m3.8/3.8 MB\u001b[0m \u001b[31m33.5 MB/s\u001b[0m eta \u001b[36m0:00:00\u001b[0m\n",
            "\u001b[?25hDownloading huggingface_hub-0.17.3-py3-none-any.whl (295 kB)\n",
            "\u001b[2K   \u001b[90m━━━━━━━━━━━━━━━━━━━━━━━━━━━━━━━━━━━━━━━━\u001b[0m \u001b[32m295.0/295.0 kB\u001b[0m \u001b[31m19.8 MB/s\u001b[0m eta \u001b[36m0:00:00\u001b[0m\n",
            "\u001b[?25hBuilding wheels for collected packages: transformers\n",
            "  Building wheel for transformers (pyproject.toml) ... \u001b[?25l\u001b[?25hdone\n",
            "  Created wheel for transformers: filename=transformers-4.34.0.dev0-py3-none-any.whl size=7746278 sha256=cec7789df47c4ec78668cff248991bdd4b9f061a6ad34371be4c0bb1936bab47\n",
            "  Stored in directory: /root/.cache/pip/wheels/89/7e/b3/04336a04924aa0de029f81a87788444ff8202f8eeeb389c534\n",
            "Successfully built transformers\n",
            "Installing collected packages: huggingface-hub, tokenizers, transformers\n",
            "  Attempting uninstall: huggingface-hub\n",
            "    Found existing installation: huggingface-hub 0.27.1\n",
            "    Uninstalling huggingface-hub-0.27.1:\n",
            "      Successfully uninstalled huggingface-hub-0.27.1\n",
            "  Attempting uninstall: tokenizers\n",
            "    Found existing installation: tokenizers 0.21.0\n",
            "    Uninstalling tokenizers-0.21.0:\n",
            "      Successfully uninstalled tokenizers-0.21.0\n",
            "  Attempting uninstall: transformers\n",
            "    Found existing installation: transformers 4.47.1\n",
            "    Uninstalling transformers-4.47.1:\n",
            "      Successfully uninstalled transformers-4.47.1\n",
            "\u001b[31mERROR: pip's dependency resolver does not currently take into account all the packages that are installed. This behaviour is the source of the following dependency conflicts.\n",
            "diffusers 0.32.1 requires huggingface-hub>=0.23.2, but you have huggingface-hub 0.17.3 which is incompatible.\n",
            "accelerate 1.2.1 requires huggingface-hub>=0.21.0, but you have huggingface-hub 0.17.3 which is incompatible.\n",
            "sentence-transformers 3.3.1 requires huggingface-hub>=0.20.0, but you have huggingface-hub 0.17.3 which is incompatible.\n",
            "sentence-transformers 3.3.1 requires transformers<5.0.0,>=4.41.0, but you have transformers 4.34.0.dev0 which is incompatible.\n",
            "peft 0.14.0 requires huggingface-hub>=0.25.0, but you have huggingface-hub 0.17.3 which is incompatible.\u001b[0m\u001b[31m\n",
            "\u001b[0mSuccessfully installed huggingface-hub-0.17.3 tokenizers-0.14.1 transformers-4.34.0.dev0\n"
          ]
        }
      ],
      "source": [
        "!pip install git+https://github.com/huggingface/transformers.git@72958fcd3c98a7afdc61f953aa58c544ebda2f79"
      ]
    },
    {
      "cell_type": "code",
      "execution_count": null,
      "metadata": {
        "id": "nOI_g7yeM1aY",
        "colab": {
          "base_uri": "https://localhost:8080/"
        },
        "outputId": "d0dd4814-7677-46ca-9d92-97be9f624698"
      },
      "outputs": [
        {
          "output_type": "stream",
          "name": "stdout",
          "text": [
            "Collecting git+https://github.com/casper-hansen/AutoAWQ.git@1c5ccc791fa2cb0697db3b4070df1813f1736208\n",
            "  Cloning https://github.com/casper-hansen/AutoAWQ.git (to revision 1c5ccc791fa2cb0697db3b4070df1813f1736208) to /tmp/pip-req-build-thayi_i5\n",
            "  Running command git clone --filter=blob:none --quiet https://github.com/casper-hansen/AutoAWQ.git /tmp/pip-req-build-thayi_i5\n",
            "  Running command git rev-parse -q --verify 'sha^1c5ccc791fa2cb0697db3b4070df1813f1736208'\n",
            "  Running command git fetch -q https://github.com/casper-hansen/AutoAWQ.git 1c5ccc791fa2cb0697db3b4070df1813f1736208\n",
            "  Running command git checkout -q 1c5ccc791fa2cb0697db3b4070df1813f1736208\n",
            "  Resolved https://github.com/casper-hansen/AutoAWQ.git to commit 1c5ccc791fa2cb0697db3b4070df1813f1736208\n",
            "  Preparing metadata (setup.py) ... \u001b[?25l\u001b[?25hdone\n",
            "Requirement already satisfied: torch>=2.0.0 in /usr/local/lib/python3.11/dist-packages (from autoawq==0.1.0) (2.5.1+cu121)\n",
            "Requirement already satisfied: transformers>=4.32.0 in /usr/local/lib/python3.11/dist-packages (from autoawq==0.1.0) (4.34.0.dev0)\n",
            "Requirement already satisfied: tokenizers>=0.12.1 in /usr/local/lib/python3.11/dist-packages (from autoawq==0.1.0) (0.14.1)\n",
            "Requirement already satisfied: accelerate in /usr/local/lib/python3.11/dist-packages (from autoawq==0.1.0) (1.2.1)\n",
            "Requirement already satisfied: sentencepiece in /usr/local/lib/python3.11/dist-packages (from autoawq==0.1.0) (0.2.0)\n",
            "Collecting lm_eval (from autoawq==0.1.0)\n",
            "  Using cached lm_eval-0.4.7-py3-none-any.whl.metadata (46 kB)\n",
            "Collecting texttable (from autoawq==0.1.0)\n",
            "  Using cached texttable-1.7.0-py2.py3-none-any.whl.metadata (9.8 kB)\n",
            "Requirement already satisfied: toml in /usr/local/lib/python3.11/dist-packages (from autoawq==0.1.0) (0.10.2)\n",
            "Collecting attributedict (from autoawq==0.1.0)\n",
            "  Using cached attributedict-0.3.0-py3-none-any.whl.metadata (3.1 kB)\n",
            "Requirement already satisfied: protobuf in /usr/local/lib/python3.11/dist-packages (from autoawq==0.1.0) (4.25.5)\n",
            "Requirement already satisfied: torchvision in /usr/local/lib/python3.11/dist-packages (from autoawq==0.1.0) (0.20.1+cu121)\n",
            "Requirement already satisfied: tabulate in /usr/local/lib/python3.11/dist-packages (from autoawq==0.1.0) (0.9.0)\n",
            "Requirement already satisfied: huggingface_hub<0.18,>=0.16.4 in /usr/local/lib/python3.11/dist-packages (from tokenizers>=0.12.1->autoawq==0.1.0) (0.17.3)\n",
            "Requirement already satisfied: filelock in /usr/local/lib/python3.11/dist-packages (from torch>=2.0.0->autoawq==0.1.0) (3.16.1)\n",
            "Requirement already satisfied: typing-extensions>=4.8.0 in /usr/local/lib/python3.11/dist-packages (from torch>=2.0.0->autoawq==0.1.0) (4.12.2)\n",
            "Requirement already satisfied: networkx in /usr/local/lib/python3.11/dist-packages (from torch>=2.0.0->autoawq==0.1.0) (3.4.2)\n",
            "Requirement already satisfied: jinja2 in /usr/local/lib/python3.11/dist-packages (from torch>=2.0.0->autoawq==0.1.0) (3.1.5)\n",
            "Requirement already satisfied: fsspec in /usr/local/lib/python3.11/dist-packages (from torch>=2.0.0->autoawq==0.1.0) (2024.10.0)\n",
            "Requirement already satisfied: nvidia-cuda-nvrtc-cu12==12.1.105 in /usr/local/lib/python3.11/dist-packages (from torch>=2.0.0->autoawq==0.1.0) (12.1.105)\n",
            "Requirement already satisfied: nvidia-cuda-runtime-cu12==12.1.105 in /usr/local/lib/python3.11/dist-packages (from torch>=2.0.0->autoawq==0.1.0) (12.1.105)\n",
            "Requirement already satisfied: nvidia-cuda-cupti-cu12==12.1.105 in /usr/local/lib/python3.11/dist-packages (from torch>=2.0.0->autoawq==0.1.0) (12.1.105)\n",
            "Requirement already satisfied: nvidia-cudnn-cu12==9.1.0.70 in /usr/local/lib/python3.11/dist-packages (from torch>=2.0.0->autoawq==0.1.0) (9.1.0.70)\n",
            "Requirement already satisfied: nvidia-cublas-cu12==12.1.3.1 in /usr/local/lib/python3.11/dist-packages (from torch>=2.0.0->autoawq==0.1.0) (12.1.3.1)\n",
            "Requirement already satisfied: nvidia-cufft-cu12==11.0.2.54 in /usr/local/lib/python3.11/dist-packages (from torch>=2.0.0->autoawq==0.1.0) (11.0.2.54)\n",
            "Requirement already satisfied: nvidia-curand-cu12==10.3.2.106 in /usr/local/lib/python3.11/dist-packages (from torch>=2.0.0->autoawq==0.1.0) (10.3.2.106)\n",
            "Requirement already satisfied: nvidia-cusolver-cu12==11.4.5.107 in /usr/local/lib/python3.11/dist-packages (from torch>=2.0.0->autoawq==0.1.0) (11.4.5.107)\n",
            "Requirement already satisfied: nvidia-cusparse-cu12==12.1.0.106 in /usr/local/lib/python3.11/dist-packages (from torch>=2.0.0->autoawq==0.1.0) (12.1.0.106)\n",
            "Requirement already satisfied: nvidia-nccl-cu12==2.21.5 in /usr/local/lib/python3.11/dist-packages (from torch>=2.0.0->autoawq==0.1.0) (2.21.5)\n",
            "Requirement already satisfied: nvidia-nvtx-cu12==12.1.105 in /usr/local/lib/python3.11/dist-packages (from torch>=2.0.0->autoawq==0.1.0) (12.1.105)\n",
            "Requirement already satisfied: triton==3.1.0 in /usr/local/lib/python3.11/dist-packages (from torch>=2.0.0->autoawq==0.1.0) (3.1.0)\n",
            "Requirement already satisfied: sympy==1.13.1 in /usr/local/lib/python3.11/dist-packages (from torch>=2.0.0->autoawq==0.1.0) (1.13.1)\n",
            "Requirement already satisfied: nvidia-nvjitlink-cu12 in /usr/local/lib/python3.11/dist-packages (from nvidia-cusolver-cu12==11.4.5.107->torch>=2.0.0->autoawq==0.1.0) (12.6.85)\n",
            "Requirement already satisfied: mpmath<1.4,>=1.1.0 in /usr/local/lib/python3.11/dist-packages (from sympy==1.13.1->torch>=2.0.0->autoawq==0.1.0) (1.3.0)\n",
            "Requirement already satisfied: numpy>=1.17 in /usr/local/lib/python3.11/dist-packages (from transformers>=4.32.0->autoawq==0.1.0) (1.26.4)\n",
            "Requirement already satisfied: packaging>=20.0 in /usr/local/lib/python3.11/dist-packages (from transformers>=4.32.0->autoawq==0.1.0) (24.2)\n",
            "Requirement already satisfied: pyyaml>=5.1 in /usr/local/lib/python3.11/dist-packages (from transformers>=4.32.0->autoawq==0.1.0) (6.0.2)\n",
            "Requirement already satisfied: regex!=2019.12.17 in /usr/local/lib/python3.11/dist-packages (from transformers>=4.32.0->autoawq==0.1.0) (2024.11.6)\n",
            "Requirement already satisfied: requests in /usr/local/lib/python3.11/dist-packages (from transformers>=4.32.0->autoawq==0.1.0) (2.32.3)\n",
            "Requirement already satisfied: safetensors>=0.3.1 in /usr/local/lib/python3.11/dist-packages (from transformers>=4.32.0->autoawq==0.1.0) (0.5.2)\n",
            "Requirement already satisfied: tqdm>=4.27 in /usr/local/lib/python3.11/dist-packages (from transformers>=4.32.0->autoawq==0.1.0) (4.67.1)\n",
            "Requirement already satisfied: psutil in /usr/local/lib/python3.11/dist-packages (from accelerate->autoawq==0.1.0) (5.9.5)\n",
            "INFO: pip is looking at multiple versions of accelerate to determine which version is compatible with other requirements. This could take a while.\n",
            "Collecting accelerate (from autoawq==0.1.0)\n",
            "  Using cached accelerate-1.3.0-py3-none-any.whl.metadata (19 kB)\n",
            "  Using cached accelerate-1.2.0-py3-none-any.whl.metadata (19 kB)\n",
            "  Using cached accelerate-1.1.1-py3-none-any.whl.metadata (19 kB)\n",
            "  Using cached accelerate-1.1.0-py3-none-any.whl.metadata (19 kB)\n",
            "  Using cached accelerate-1.0.1-py3-none-any.whl.metadata (19 kB)\n",
            "  Using cached accelerate-1.0.0-py3-none-any.whl.metadata (19 kB)\n",
            "  Using cached accelerate-0.34.2-py3-none-any.whl.metadata (19 kB)\n",
            "INFO: pip is still looking at multiple versions of accelerate to determine which version is compatible with other requirements. This could take a while.\n",
            "  Using cached accelerate-0.34.1-py3-none-any.whl.metadata (19 kB)\n",
            "  Using cached accelerate-0.34.0-py3-none-any.whl.metadata (19 kB)\n",
            "  Using cached accelerate-0.33.0-py3-none-any.whl.metadata (18 kB)\n",
            "  Using cached accelerate-0.32.1-py3-none-any.whl.metadata (18 kB)\n",
            "Collecting rootpath>=0.1.0 (from attributedict->autoawq==0.1.0)\n",
            "  Using cached rootpath-0.1.1-py3-none-any.whl.metadata (6.3 kB)\n",
            "Collecting inspecta>=0.1.0 (from attributedict->autoawq==0.1.0)\n",
            "  Using cached inspecta-0.1.3-py3-none-any.whl.metadata (3.7 kB)\n",
            "Collecting colour-runner>=0.0.5 (from attributedict->autoawq==0.1.0)\n",
            "  Using cached colour_runner-0.1.1-py2.py3-none-any.whl.metadata (828 bytes)\n",
            "Collecting deepdiff>=3.3.0 (from attributedict->autoawq==0.1.0)\n",
            "  Using cached deepdiff-8.1.1-py3-none-any.whl.metadata (9.5 kB)\n",
            "Collecting tox>=3.0.0 (from attributedict->autoawq==0.1.0)\n",
            "  Using cached tox-4.24.1-py3-none-any.whl.metadata (3.7 kB)\n",
            "Collecting coverage>=4.5.2 (from attributedict->autoawq==0.1.0)\n",
            "  Using cached coverage-7.6.10-cp311-cp311-manylinux_2_5_x86_64.manylinux1_x86_64.manylinux_2_17_x86_64.manylinux2014_x86_64.whl.metadata (8.2 kB)\n",
            "Collecting codecov>=2.0.15 (from attributedict->autoawq==0.1.0)\n",
            "  Using cached codecov-2.1.13-py2.py3-none-any.whl.metadata (1.3 kB)\n",
            "Collecting evaluate (from lm_eval->autoawq==0.1.0)\n",
            "  Using cached evaluate-0.4.3-py3-none-any.whl.metadata (9.2 kB)\n",
            "Collecting datasets>=2.16.0 (from lm_eval->autoawq==0.1.0)\n",
            "  Using cached datasets-3.2.0-py3-none-any.whl.metadata (20 kB)\n",
            "Collecting jsonlines (from lm_eval->autoawq==0.1.0)\n",
            "  Using cached jsonlines-4.0.0-py3-none-any.whl.metadata (1.6 kB)\n",
            "Requirement already satisfied: numexpr in /usr/local/lib/python3.11/dist-packages (from lm_eval->autoawq==0.1.0) (2.10.2)\n",
            "Requirement already satisfied: peft>=0.2.0 in /usr/local/lib/python3.11/dist-packages (from lm_eval->autoawq==0.1.0) (0.14.0)\n",
            "Collecting pybind11>=2.6.2 (from lm_eval->autoawq==0.1.0)\n",
            "  Using cached pybind11-2.13.6-py3-none-any.whl.metadata (9.5 kB)\n",
            "Collecting pytablewriter (from lm_eval->autoawq==0.1.0)\n",
            "  Using cached pytablewriter-1.2.1-py3-none-any.whl.metadata (38 kB)\n",
            "Collecting rouge-score>=0.0.4 (from lm_eval->autoawq==0.1.0)\n",
            "  Using cached rouge_score-0.1.2.tar.gz (17 kB)\n",
            "  Preparing metadata (setup.py) ... \u001b[?25l\u001b[?25hdone\n",
            "Collecting sacrebleu>=1.5.0 (from lm_eval->autoawq==0.1.0)\n",
            "  Using cached sacrebleu-2.5.1-py3-none-any.whl.metadata (51 kB)\n",
            "Requirement already satisfied: scikit-learn>=0.24.1 in /usr/local/lib/python3.11/dist-packages (from lm_eval->autoawq==0.1.0) (1.6.0)\n",
            "Collecting sqlitedict (from lm_eval->autoawq==0.1.0)\n",
            "  Using cached sqlitedict-2.1.0.tar.gz (21 kB)\n",
            "  Preparing metadata (setup.py) ... \u001b[?25l\u001b[?25hdone\n",
            "Collecting tqdm-multiprocess (from lm_eval->autoawq==0.1.0)\n",
            "  Using cached tqdm_multiprocess-0.0.11-py3-none-any.whl.metadata (5.7 kB)\n",
            "Collecting zstandard (from lm_eval->autoawq==0.1.0)\n",
            "  Using cached zstandard-0.23.0-cp311-cp311-manylinux_2_17_x86_64.manylinux2014_x86_64.whl.metadata (3.0 kB)\n",
            "Collecting dill (from lm_eval->autoawq==0.1.0)\n",
            "  Using cached dill-0.3.9-py3-none-any.whl.metadata (10 kB)\n",
            "Collecting word2number (from lm_eval->autoawq==0.1.0)\n",
            "  Using cached word2number-1.1.zip (9.7 kB)\n",
            "  Preparing metadata (setup.py) ... \u001b[?25l\u001b[?25hdone\n",
            "Requirement already satisfied: more_itertools in /usr/local/lib/python3.11/dist-packages (from lm_eval->autoawq==0.1.0) (10.5.0)\n",
            "Requirement already satisfied: pillow!=8.3.*,>=5.3.0 in /usr/local/lib/python3.11/dist-packages (from torchvision->autoawq==0.1.0) (11.1.0)\n",
            "Collecting blessings (from colour-runner>=0.0.5->attributedict->autoawq==0.1.0)\n",
            "  Using cached blessings-1.7-py3-none-any.whl.metadata (19 kB)\n",
            "Requirement already satisfied: pygments in /usr/local/lib/python3.11/dist-packages (from colour-runner>=0.0.5->attributedict->autoawq==0.1.0) (2.18.0)\n",
            "Requirement already satisfied: pyarrow>=15.0.0 in /usr/local/lib/python3.11/dist-packages (from datasets>=2.16.0->lm_eval->autoawq==0.1.0) (17.0.0)\n",
            "Collecting dill (from lm_eval->autoawq==0.1.0)\n",
            "  Using cached dill-0.3.8-py3-none-any.whl.metadata (10 kB)\n",
            "Requirement already satisfied: pandas in /usr/local/lib/python3.11/dist-packages (from datasets>=2.16.0->lm_eval->autoawq==0.1.0) (2.2.2)\n",
            "Collecting xxhash (from datasets>=2.16.0->lm_eval->autoawq==0.1.0)\n",
            "  Using cached xxhash-3.5.0-cp311-cp311-manylinux_2_17_x86_64.manylinux2014_x86_64.whl.metadata (12 kB)\n",
            "Collecting multiprocess<0.70.17 (from datasets>=2.16.0->lm_eval->autoawq==0.1.0)\n",
            "  Using cached multiprocess-0.70.16-py311-none-any.whl.metadata (7.2 kB)\n",
            "Collecting fsspec (from torch>=2.0.0->autoawq==0.1.0)\n",
            "  Using cached fsspec-2024.9.0-py3-none-any.whl.metadata (11 kB)\n",
            "Requirement already satisfied: aiohttp in /usr/local/lib/python3.11/dist-packages (from datasets>=2.16.0->lm_eval->autoawq==0.1.0) (3.11.11)\n",
            "INFO: pip is looking at multiple versions of datasets to determine which version is compatible with other requirements. This could take a while.\n",
            "Collecting datasets>=2.16.0 (from lm_eval->autoawq==0.1.0)\n",
            "  Using cached datasets-3.1.0-py3-none-any.whl.metadata (20 kB)\n",
            "  Using cached datasets-3.0.2-py3-none-any.whl.metadata (20 kB)\n",
            "  Using cached datasets-3.0.1-py3-none-any.whl.metadata (20 kB)\n",
            "Collecting multiprocess (from datasets>=2.16.0->lm_eval->autoawq==0.1.0)\n",
            "  Using cached multiprocess-0.70.17-py311-none-any.whl.metadata (7.2 kB)\n",
            "Collecting fsspec (from torch>=2.0.0->autoawq==0.1.0)\n",
            "  Using cached fsspec-2024.6.1-py3-none-any.whl.metadata (11 kB)\n",
            "Collecting datasets>=2.16.0 (from lm_eval->autoawq==0.1.0)\n",
            "  Using cached datasets-3.0.0-py3-none-any.whl.metadata (19 kB)\n",
            "  Using cached datasets-2.21.0-py3-none-any.whl.metadata (21 kB)\n",
            "  Using cached datasets-2.20.0-py3-none-any.whl.metadata (19 kB)\n",
            "Collecting pyarrow-hotfix (from datasets>=2.16.0->lm_eval->autoawq==0.1.0)\n",
            "  Using cached pyarrow_hotfix-0.6-py3-none-any.whl.metadata (3.6 kB)\n",
            "Collecting fsspec (from torch>=2.0.0->autoawq==0.1.0)\n",
            "  Using cached fsspec-2024.5.0-py3-none-any.whl.metadata (11 kB)\n",
            "Collecting datasets>=2.16.0 (from lm_eval->autoawq==0.1.0)\n",
            "  Using cached datasets-2.19.2-py3-none-any.whl.metadata (19 kB)\n",
            "Collecting fsspec (from torch>=2.0.0->autoawq==0.1.0)\n",
            "  Using cached fsspec-2024.3.1-py3-none-any.whl.metadata (6.8 kB)\n",
            "INFO: pip is still looking at multiple versions of datasets to determine which version is compatible with other requirements. This could take a while.\n",
            "Collecting datasets>=2.16.0 (from lm_eval->autoawq==0.1.0)\n",
            "  Using cached datasets-2.19.1-py3-none-any.whl.metadata (19 kB)\n",
            "  Using cached datasets-2.19.0-py3-none-any.whl.metadata (19 kB)\n",
            "  Using cached datasets-2.18.0-py3-none-any.whl.metadata (20 kB)\n",
            "Collecting fsspec (from torch>=2.0.0->autoawq==0.1.0)\n",
            "  Using cached fsspec-2024.2.0-py3-none-any.whl.metadata (6.8 kB)\n",
            "Collecting datasets>=2.16.0 (from lm_eval->autoawq==0.1.0)\n",
            "  Using cached datasets-2.17.1-py3-none-any.whl.metadata (20 kB)\n",
            "Collecting fsspec (from torch>=2.0.0->autoawq==0.1.0)\n",
            "  Using cached fsspec-2023.10.0-py3-none-any.whl.metadata (6.8 kB)\n",
            "Collecting datasets>=2.16.0 (from lm_eval->autoawq==0.1.0)\n",
            "  Using cached datasets-2.17.0-py3-none-any.whl.metadata (20 kB)\n",
            "INFO: This is taking longer than usual. You might need to provide the dependency resolver with stricter constraints to reduce runtime. See https://pip.pypa.io/warnings/backtracking for guidance. If you want to abort this run, press Ctrl + C.\n",
            "  Using cached datasets-2.16.1-py3-none-any.whl.metadata (20 kB)\n",
            "Collecting dill (from lm_eval->autoawq==0.1.0)\n",
            "  Using cached dill-0.3.7-py3-none-any.whl.metadata (9.9 kB)\n",
            "Collecting datasets>=2.16.0 (from lm_eval->autoawq==0.1.0)\n",
            "  Using cached datasets-2.16.0-py3-none-any.whl.metadata (20 kB)\n",
            "Collecting lm_eval (from autoawq==0.1.0)\n",
            "  Using cached lm_eval-0.4.5-py3-none-any.whl.metadata (44 kB)\n",
            "  Using cached lm_eval-0.4.4-py3-none-any.whl.metadata (43 kB)\n",
            "  Using cached lm_eval-0.4.3-py3-none-any.whl.metadata (38 kB)\n",
            "  Using cached lm_eval-0.4.2-py3-none-any.whl.metadata (30 kB)\n",
            "  Using cached lm_eval-0.4.1-py3-none-any.whl.metadata (27 kB)\n",
            "Collecting datasets>=2.14.0 (from lm_eval->autoawq==0.1.0)\n",
            "  Using cached datasets-2.15.0-py3-none-any.whl.metadata (20 kB)\n",
            "  Using cached datasets-2.14.7-py3-none-any.whl.metadata (19 kB)\n",
            "Collecting orderly-set<6,>=5.2.3 (from deepdiff>=3.3.0->attributedict->autoawq==0.1.0)\n",
            "  Using cached orderly_set-5.2.3-py3-none-any.whl.metadata (6.0 kB)\n",
            "Requirement already satisfied: six>=1.11.0 in /usr/local/lib/python3.11/dist-packages (from inspecta>=0.1.0->attributedict->autoawq==0.1.0) (1.17.0)\n",
            "Requirement already satisfied: termcolor>=1.1.0 in /usr/local/lib/python3.11/dist-packages (from inspecta>=0.1.0->attributedict->autoawq==0.1.0) (2.5.0)\n",
            "INFO: pip is looking at multiple versions of peft to determine which version is compatible with other requirements. This could take a while.\n",
            "Collecting peft>=0.2.0 (from lm_eval->autoawq==0.1.0)\n",
            "  Using cached peft-0.13.2-py3-none-any.whl.metadata (13 kB)\n",
            "Requirement already satisfied: charset-normalizer<4,>=2 in /usr/local/lib/python3.11/dist-packages (from requests->transformers>=4.32.0->autoawq==0.1.0) (3.4.1)\n",
            "Requirement already satisfied: idna<4,>=2.5 in /usr/local/lib/python3.11/dist-packages (from requests->transformers>=4.32.0->autoawq==0.1.0) (3.10)\n",
            "Requirement already satisfied: urllib3<3,>=1.21.1 in /usr/local/lib/python3.11/dist-packages (from requests->transformers>=4.32.0->autoawq==0.1.0) (2.3.0)\n",
            "Requirement already satisfied: certifi>=2017.4.17 in /usr/local/lib/python3.11/dist-packages (from requests->transformers>=4.32.0->autoawq==0.1.0) (2024.12.14)\n",
            "Collecting coloredlogs>=10.0 (from rootpath>=0.1.0->attributedict->autoawq==0.1.0)\n",
            "  Using cached coloredlogs-15.0.1-py2.py3-none-any.whl.metadata (12 kB)\n",
            "Requirement already satisfied: absl-py in /usr/local/lib/python3.11/dist-packages (from rouge-score>=0.0.4->lm_eval->autoawq==0.1.0) (1.4.0)\n",
            "Requirement already satisfied: nltk in /usr/local/lib/python3.11/dist-packages (from rouge-score>=0.0.4->lm_eval->autoawq==0.1.0) (3.9.1)\n",
            "Collecting portalocker (from sacrebleu>=1.5.0->lm_eval->autoawq==0.1.0)\n",
            "  Using cached portalocker-3.1.1-py3-none-any.whl.metadata (8.6 kB)\n",
            "Collecting colorama (from sacrebleu>=1.5.0->lm_eval->autoawq==0.1.0)\n",
            "  Using cached colorama-0.4.6-py2.py3-none-any.whl.metadata (17 kB)\n",
            "Requirement already satisfied: lxml in /usr/local/lib/python3.11/dist-packages (from sacrebleu>=1.5.0->lm_eval->autoawq==0.1.0) (5.3.0)\n",
            "Requirement already satisfied: scipy>=1.6.0 in /usr/local/lib/python3.11/dist-packages (from scikit-learn>=0.24.1->lm_eval->autoawq==0.1.0) (1.13.1)\n",
            "Requirement already satisfied: joblib>=1.2.0 in /usr/local/lib/python3.11/dist-packages (from scikit-learn>=0.24.1->lm_eval->autoawq==0.1.0) (1.4.2)\n",
            "Requirement already satisfied: threadpoolctl>=3.1.0 in /usr/local/lib/python3.11/dist-packages (from scikit-learn>=0.24.1->lm_eval->autoawq==0.1.0) (3.5.0)\n",
            "Requirement already satisfied: cachetools>=5.5 in /usr/local/lib/python3.11/dist-packages (from tox>=3.0.0->attributedict->autoawq==0.1.0) (5.5.0)\n",
            "Requirement already satisfied: chardet>=5.2 in /usr/local/lib/python3.11/dist-packages (from tox>=3.0.0->attributedict->autoawq==0.1.0) (5.2.0)\n",
            "Requirement already satisfied: platformdirs>=4.3.6 in /usr/local/lib/python3.11/dist-packages (from tox>=3.0.0->attributedict->autoawq==0.1.0) (4.3.6)\n",
            "Requirement already satisfied: pluggy>=1.5 in /usr/local/lib/python3.11/dist-packages (from tox>=3.0.0->attributedict->autoawq==0.1.0) (1.5.0)\n",
            "Collecting pyproject-api>=1.8 (from tox>=3.0.0->attributedict->autoawq==0.1.0)\n",
            "  Using cached pyproject_api-1.9.0-py3-none-any.whl.metadata (2.7 kB)\n",
            "Collecting virtualenv>=20.27.1 (from tox>=3.0.0->attributedict->autoawq==0.1.0)\n",
            "  Using cached virtualenv-20.29.1-py3-none-any.whl.metadata (4.5 kB)\n",
            "Requirement already satisfied: MarkupSafe>=2.0 in /usr/local/lib/python3.11/dist-packages (from jinja2->torch>=2.0.0->autoawq==0.1.0) (3.0.2)\n",
            "Requirement already satisfied: attrs>=19.2.0 in /usr/local/lib/python3.11/dist-packages (from jsonlines->lm_eval->autoawq==0.1.0) (24.3.0)\n",
            "Requirement already satisfied: setuptools>=38.3.0 in /usr/local/lib/python3.11/dist-packages (from pytablewriter->lm_eval->autoawq==0.1.0) (75.1.0)\n",
            "Collecting DataProperty<2,>=1.1.0 (from pytablewriter->lm_eval->autoawq==0.1.0)\n",
            "  Using cached DataProperty-1.1.0-py3-none-any.whl.metadata (11 kB)\n",
            "Collecting mbstrdecoder<2,>=1.0.0 (from pytablewriter->lm_eval->autoawq==0.1.0)\n",
            "  Using cached mbstrdecoder-1.1.4-py3-none-any.whl.metadata (4.3 kB)\n",
            "Collecting pathvalidate<4,>=2.3.0 (from pytablewriter->lm_eval->autoawq==0.1.0)\n",
            "  Using cached pathvalidate-3.2.3-py3-none-any.whl.metadata (12 kB)\n",
            "Collecting tabledata<2,>=1.3.1 (from pytablewriter->lm_eval->autoawq==0.1.0)\n",
            "  Using cached tabledata-1.3.4-py3-none-any.whl.metadata (3.7 kB)\n",
            "Collecting tcolorpy<1,>=0.0.5 (from pytablewriter->lm_eval->autoawq==0.1.0)\n",
            "  Using cached tcolorpy-0.1.7-py3-none-any.whl.metadata (6.3 kB)\n",
            "Collecting typepy<2,>=1.3.2 (from typepy[datetime]<2,>=1.3.2->pytablewriter->lm_eval->autoawq==0.1.0)\n",
            "  Using cached typepy-1.3.4-py3-none-any.whl.metadata (9.2 kB)\n",
            "Collecting humanfriendly>=9.1 (from coloredlogs>=10.0->rootpath>=0.1.0->attributedict->autoawq==0.1.0)\n",
            "  Using cached humanfriendly-10.0-py2.py3-none-any.whl.metadata (9.2 kB)\n",
            "Requirement already satisfied: aiohappyeyeballs>=2.3.0 in /usr/local/lib/python3.11/dist-packages (from aiohttp->datasets>=2.16.0->lm_eval->autoawq==0.1.0) (2.4.4)\n",
            "Requirement already satisfied: aiosignal>=1.1.2 in /usr/local/lib/python3.11/dist-packages (from aiohttp->datasets>=2.16.0->lm_eval->autoawq==0.1.0) (1.3.2)\n",
            "Requirement already satisfied: frozenlist>=1.1.1 in /usr/local/lib/python3.11/dist-packages (from aiohttp->datasets>=2.16.0->lm_eval->autoawq==0.1.0) (1.5.0)\n",
            "Requirement already satisfied: multidict<7.0,>=4.5 in /usr/local/lib/python3.11/dist-packages (from aiohttp->datasets>=2.16.0->lm_eval->autoawq==0.1.0) (6.1.0)\n",
            "Requirement already satisfied: propcache>=0.2.0 in /usr/local/lib/python3.11/dist-packages (from aiohttp->datasets>=2.16.0->lm_eval->autoawq==0.1.0) (0.2.1)\n",
            "Requirement already satisfied: yarl<2.0,>=1.17.0 in /usr/local/lib/python3.11/dist-packages (from aiohttp->datasets>=2.16.0->lm_eval->autoawq==0.1.0) (1.18.3)\n",
            "Requirement already satisfied: python-dateutil<3.0.0,>=2.8.0 in /usr/local/lib/python3.11/dist-packages (from typepy[datetime]<2,>=1.3.2->pytablewriter->lm_eval->autoawq==0.1.0) (2.8.2)\n",
            "Requirement already satisfied: pytz>=2018.9 in /usr/local/lib/python3.11/dist-packages (from typepy[datetime]<2,>=1.3.2->pytablewriter->lm_eval->autoawq==0.1.0) (2024.2)\n",
            "Collecting distlib<1,>=0.3.7 (from virtualenv>=20.27.1->tox>=3.0.0->attributedict->autoawq==0.1.0)\n",
            "  Using cached distlib-0.3.9-py2.py3-none-any.whl.metadata (5.2 kB)\n",
            "INFO: pip is looking at multiple versions of multiprocess to determine which version is compatible with other requirements. This could take a while.\n",
            "Collecting multiprocess (from datasets>=2.14.0->lm_eval->autoawq==0.1.0)\n",
            "  Using cached multiprocess-0.70.15-py311-none-any.whl.metadata (7.2 kB)\n",
            "Requirement already satisfied: click in /usr/local/lib/python3.11/dist-packages (from nltk->rouge-score>=0.0.4->lm_eval->autoawq==0.1.0) (8.1.8)\n",
            "Requirement already satisfied: tzdata>=2022.7 in /usr/local/lib/python3.11/dist-packages (from pandas->datasets>=2.16.0->lm_eval->autoawq==0.1.0) (2024.2)\n",
            "Using cached accelerate-0.32.1-py3-none-any.whl (314 kB)\n",
            "Using cached attributedict-0.3.0-py3-none-any.whl (14 kB)\n",
            "Using cached lm_eval-0.4.1-py3-none-any.whl (1.1 MB)\n",
            "Using cached datasets-2.14.7-py3-none-any.whl (520 kB)\n",
            "Using cached texttable-1.7.0-py2.py3-none-any.whl (10 kB)\n",
            "Using cached codecov-2.1.13-py2.py3-none-any.whl (16 kB)\n",
            "Using cached colour_runner-0.1.1-py2.py3-none-any.whl (3.7 kB)\n",
            "Using cached coverage-7.6.10-cp311-cp311-manylinux_2_5_x86_64.manylinux1_x86_64.manylinux_2_17_x86_64.manylinux2014_x86_64.whl (239 kB)\n",
            "Using cached deepdiff-8.1.1-py3-none-any.whl (84 kB)\n",
            "Using cached evaluate-0.4.3-py3-none-any.whl (84 kB)\n",
            "Using cached fsspec-2023.10.0-py3-none-any.whl (166 kB)\n",
            "Using cached inspecta-0.1.3-py3-none-any.whl (9.2 kB)\n",
            "Using cached peft-0.13.2-py3-none-any.whl (320 kB)\n",
            "Using cached pybind11-2.13.6-py3-none-any.whl (243 kB)\n",
            "Using cached rootpath-0.1.1-py3-none-any.whl (15 kB)\n",
            "Using cached sacrebleu-2.5.1-py3-none-any.whl (104 kB)\n",
            "Using cached tox-4.24.1-py3-none-any.whl (171 kB)\n",
            "Using cached jsonlines-4.0.0-py3-none-any.whl (8.7 kB)\n",
            "Using cached pytablewriter-1.2.1-py3-none-any.whl (91 kB)\n",
            "Using cached tqdm_multiprocess-0.0.11-py3-none-any.whl (9.8 kB)\n",
            "Using cached zstandard-0.23.0-cp311-cp311-manylinux_2_17_x86_64.manylinux2014_x86_64.whl (5.4 MB)\n",
            "Using cached colorama-0.4.6-py2.py3-none-any.whl (25 kB)\n",
            "Using cached coloredlogs-15.0.1-py2.py3-none-any.whl (46 kB)\n",
            "Using cached DataProperty-1.1.0-py3-none-any.whl (27 kB)\n",
            "Using cached dill-0.3.7-py3-none-any.whl (115 kB)\n",
            "Using cached mbstrdecoder-1.1.4-py3-none-any.whl (7.9 kB)\n",
            "Using cached orderly_set-5.2.3-py3-none-any.whl (12 kB)\n",
            "Using cached pathvalidate-3.2.3-py3-none-any.whl (24 kB)\n",
            "Using cached pyproject_api-1.9.0-py3-none-any.whl (13 kB)\n",
            "Using cached tabledata-1.3.4-py3-none-any.whl (11 kB)\n",
            "Using cached tcolorpy-0.1.7-py3-none-any.whl (8.1 kB)\n",
            "Using cached typepy-1.3.4-py3-none-any.whl (31 kB)\n",
            "Using cached virtualenv-20.29.1-py3-none-any.whl (4.3 MB)\n",
            "Using cached blessings-1.7-py3-none-any.whl (18 kB)\n",
            "Using cached multiprocess-0.70.15-py311-none-any.whl (135 kB)\n",
            "Using cached portalocker-3.1.1-py3-none-any.whl (19 kB)\n",
            "Using cached pyarrow_hotfix-0.6-py3-none-any.whl (7.9 kB)\n",
            "Using cached xxhash-3.5.0-cp311-cp311-manylinux_2_17_x86_64.manylinux2014_x86_64.whl (194 kB)\n",
            "Using cached distlib-0.3.9-py2.py3-none-any.whl (468 kB)\n",
            "Using cached humanfriendly-10.0-py2.py3-none-any.whl (86 kB)\n",
            "Building wheels for collected packages: autoawq, rouge-score, sqlitedict\n",
            "  Building wheel for autoawq (setup.py) ... \u001b[?25l\u001b[?25hcanceled\n",
            "Traceback (most recent call last):\n",
            "  File \"/usr/local/lib/python3.11/dist-packages/pip/_internal/cli/base_command.py\", line 179, in exc_logging_wrapper\n",
            "    status = run_func(*args)\n",
            "             ^^^^^^^^^^^^^^^\n",
            "  File \"/usr/local/lib/python3.11/dist-packages/pip/_internal/cli/req_command.py\", line 67, in wrapper\n",
            "    return func(self, options, args)\n",
            "           ^^^^^^^^^^^^^^^^^^^^^^^^^\n",
            "  File \"/usr/local/lib/python3.11/dist-packages/pip/_internal/commands/install.py\", line 423, in run\n",
            "    _, build_failures = build(\n",
            "                        ^^^^^^\n",
            "  File \"/usr/local/lib/python3.11/dist-packages/pip/_internal/wheel_builder.py\", line 319, in build\n",
            "    wheel_file = _build_one(\n",
            "                 ^^^^^^^^^^^\n",
            "  File \"/usr/local/lib/python3.11/dist-packages/pip/_internal/wheel_builder.py\", line 193, in _build_one\n",
            "    wheel_path = _build_one_inside_env(\n",
            "                 ^^^^^^^^^^^^^^^^^^^^^^\n",
            "  File \"/usr/local/lib/python3.11/dist-packages/pip/_internal/wheel_builder.py\", line 240, in _build_one_inside_env\n",
            "    wheel_path = build_wheel_legacy(\n",
            "                 ^^^^^^^^^^^^^^^^^^^\n",
            "  File \"/usr/local/lib/python3.11/dist-packages/pip/_internal/operations/build/wheel_legacy.py\", line 83, in build_wheel_legacy\n",
            "    output = call_subprocess(\n",
            "             ^^^^^^^^^^^^^^^^\n",
            "  File \"/usr/local/lib/python3.11/dist-packages/pip/_internal/utils/subprocess.py\", line 151, in call_subprocess\n",
            "    line: str = proc.stdout.readline()\n",
            "                ^^^^^^^^^^^^^^^^^^^^^^\n",
            "KeyboardInterrupt\n",
            "\n",
            "During handling of the above exception, another exception occurred:\n",
            "\n",
            "Traceback (most recent call last):\n",
            "  File \"/usr/local/bin/pip3\", line 8, in <module>\n",
            "    sys.exit(main())\n",
            "             ^^^^^^\n",
            "  File \"/usr/local/lib/python3.11/dist-packages/pip/_internal/cli/main.py\", line 80, in main\n",
            "    return command.main(cmd_args)\n",
            "           ^^^^^^^^^^^^^^^^^^^^^^\n",
            "  File \"/usr/local/lib/python3.11/dist-packages/pip/_internal/cli/base_command.py\", line 100, in main\n",
            "    return self._main(args)\n",
            "           ^^^^^^^^^^^^^^^^\n",
            "  File \"/usr/local/lib/python3.11/dist-packages/pip/_internal/cli/base_command.py\", line 232, in _main\n",
            "    return run(options, args)\n",
            "           ^^^^^^^^^^^^^^^^^^\n",
            "  File \"/usr/local/lib/python3.11/dist-packages/pip/_internal/cli/base_command.py\", line 215, in exc_logging_wrapper\n",
            "    logger.critical(\"Operation cancelled by user\")\n",
            "  File \"/usr/lib/python3.11/logging/__init__.py\", line 1536, in critical\n",
            "    self._log(CRITICAL, msg, args, **kwargs)\n",
            "  File \"/usr/lib/python3.11/logging/__init__.py\", line 1634, in _log\n",
            "    self.handle(record)\n",
            "  File \"/usr/lib/python3.11/logging/__init__.py\", line 1644, in handle\n",
            "    self.callHandlers(record)\n",
            "  File \"/usr/lib/python3.11/logging/__init__.py\", line 1706, in callHandlers\n",
            "    hdlr.handle(record)\n",
            "  File \"/usr/lib/python3.11/logging/__init__.py\", line 978, in handle\n",
            "    self.emit(record)\n",
            "  File \"/usr/local/lib/python3.11/dist-packages/pip/_internal/utils/logging.py\", line 177, in emit\n",
            "    self.console.print(renderable, overflow=\"ignore\", crop=False, style=style)\n",
            "  File \"/usr/local/lib/python3.11/dist-packages/pip/_vendor/rich/console.py\", line 1703, in print\n",
            "    extend(\n",
            "  File \"/usr/local/lib/python3.11/dist-packages/pip/_vendor/rich/segment.py\", line 198, in <genexpr>\n",
            "    cls(text, None if control else apply(_style), control)\n",
            "                                   ^^^^^^^^^^^^^\n",
            "  File \"/usr/local/lib/python3.11/dist-packages/pip/_vendor/rich/style.py\", line 758, in __add__\n",
            "    combined_style = self._add(style)\n",
            "                     ^^^^^^^^^^^^^^^^\n",
            "  File \"/usr/local/lib/python3.11/dist-packages/pip/_vendor/rich/style.py\", line 435, in __hash__\n",
            "    self._hash = hash(\n",
            "                 ^^^^^\n",
            "KeyboardInterrupt\n",
            "^C\n"
          ]
        }
      ],
      "source": [
        "\n",
        "!pip install git+https://github.com/casper-hansen/AutoAWQ.git@1c5ccc791fa2cb0697db3b4070df1813f1736208"
      ]
    },
    {
      "cell_type": "code",
      "execution_count": null,
      "metadata": {
        "id": "ExhTTK1PM1_2",
        "colab": {
          "base_uri": "https://localhost:8080/"
        },
        "outputId": "c6f04c10-229a-4823-e977-328eb9f07419"
      },
      "outputs": [
        {
          "output_type": "stream",
          "name": "stdout",
          "text": [
            "Collecting autoawq\n",
            "  Downloading autoawq-0.2.8.tar.gz (71 kB)\n",
            "\u001b[?25l     \u001b[90m━━━━━━━━━━━━━━━━━━━━━━━━━━━━━━━━━━━━━━━━\u001b[0m \u001b[32m0.0/71.6 kB\u001b[0m \u001b[31m?\u001b[0m eta \u001b[36m-:--:--\u001b[0m\r\u001b[2K     \u001b[90m━━━━━━━━━━━━━━━━━━━━━━━━━━━━━━━━━━━━━━━━\u001b[0m \u001b[32m71.6/71.6 kB\u001b[0m \u001b[31m5.2 MB/s\u001b[0m eta \u001b[36m0:00:00\u001b[0m\n",
            "\u001b[?25h  Preparing metadata (setup.py) ... \u001b[?25l\u001b[?25hdone\n",
            "Requirement already satisfied: torch>=2.5.1 in /usr/local/lib/python3.11/dist-packages (from autoawq) (2.5.1+cu121)\n",
            "Requirement already satisfied: triton in /usr/local/lib/python3.11/dist-packages (from autoawq) (3.1.0)\n",
            "Collecting transformers<=4.47.1,>=4.45.0 (from autoawq)\n",
            "  Downloading transformers-4.47.1-py3-none-any.whl.metadata (44 kB)\n",
            "\u001b[2K     \u001b[90m━━━━━━━━━━━━━━━━━━━━━━━━━━━━━━━━━━━━━━━━\u001b[0m \u001b[32m44.1/44.1 kB\u001b[0m \u001b[31m3.2 MB/s\u001b[0m eta \u001b[36m0:00:00\u001b[0m\n",
            "\u001b[?25hRequirement already satisfied: tokenizers>=0.12.1 in /usr/local/lib/python3.11/dist-packages (from autoawq) (0.14.1)\n",
            "Requirement already satisfied: typing_extensions>=4.8.0 in /usr/local/lib/python3.11/dist-packages (from autoawq) (4.12.2)\n",
            "Requirement already satisfied: accelerate in /usr/local/lib/python3.11/dist-packages (from autoawq) (1.2.1)\n",
            "Collecting datasets>=2.20 (from autoawq)\n",
            "  Downloading datasets-3.2.0-py3-none-any.whl.metadata (20 kB)\n",
            "Collecting zstandard (from autoawq)\n",
            "  Downloading zstandard-0.23.0-cp311-cp311-manylinux_2_17_x86_64.manylinux2014_x86_64.whl.metadata (3.0 kB)\n",
            "Collecting huggingface_hub>=0.26.5 (from autoawq)\n",
            "  Downloading huggingface_hub-0.27.1-py3-none-any.whl.metadata (13 kB)\n",
            "Requirement already satisfied: filelock in /usr/local/lib/python3.11/dist-packages (from datasets>=2.20->autoawq) (3.16.1)\n",
            "Requirement already satisfied: numpy>=1.17 in /usr/local/lib/python3.11/dist-packages (from datasets>=2.20->autoawq) (1.26.4)\n",
            "Requirement already satisfied: pyarrow>=15.0.0 in /usr/local/lib/python3.11/dist-packages (from datasets>=2.20->autoawq) (17.0.0)\n",
            "Collecting dill<0.3.9,>=0.3.0 (from datasets>=2.20->autoawq)\n",
            "  Downloading dill-0.3.8-py3-none-any.whl.metadata (10 kB)\n",
            "Requirement already satisfied: pandas in /usr/local/lib/python3.11/dist-packages (from datasets>=2.20->autoawq) (2.2.2)\n",
            "Requirement already satisfied: requests>=2.32.2 in /usr/local/lib/python3.11/dist-packages (from datasets>=2.20->autoawq) (2.32.3)\n",
            "Requirement already satisfied: tqdm>=4.66.3 in /usr/local/lib/python3.11/dist-packages (from datasets>=2.20->autoawq) (4.67.1)\n",
            "Collecting xxhash (from datasets>=2.20->autoawq)\n",
            "  Downloading xxhash-3.5.0-cp311-cp311-manylinux_2_17_x86_64.manylinux2014_x86_64.whl.metadata (12 kB)\n",
            "Collecting multiprocess<0.70.17 (from datasets>=2.20->autoawq)\n",
            "  Downloading multiprocess-0.70.16-py311-none-any.whl.metadata (7.2 kB)\n",
            "Collecting fsspec<=2024.9.0,>=2023.1.0 (from fsspec[http]<=2024.9.0,>=2023.1.0->datasets>=2.20->autoawq)\n",
            "  Downloading fsspec-2024.9.0-py3-none-any.whl.metadata (11 kB)\n",
            "Requirement already satisfied: aiohttp in /usr/local/lib/python3.11/dist-packages (from datasets>=2.20->autoawq) (3.11.11)\n",
            "Requirement already satisfied: packaging in /usr/local/lib/python3.11/dist-packages (from datasets>=2.20->autoawq) (24.2)\n",
            "Requirement already satisfied: pyyaml>=5.1 in /usr/local/lib/python3.11/dist-packages (from datasets>=2.20->autoawq) (6.0.2)\n",
            "INFO: pip is looking at multiple versions of tokenizers to determine which version is compatible with other requirements. This could take a while.\n",
            "Collecting tokenizers>=0.12.1 (from autoawq)\n",
            "  Downloading tokenizers-0.21.0-cp39-abi3-manylinux_2_17_x86_64.manylinux2014_x86_64.whl.metadata (6.7 kB)\n",
            "Requirement already satisfied: networkx in /usr/local/lib/python3.11/dist-packages (from torch>=2.5.1->autoawq) (3.4.2)\n",
            "Requirement already satisfied: jinja2 in /usr/local/lib/python3.11/dist-packages (from torch>=2.5.1->autoawq) (3.1.5)\n",
            "Requirement already satisfied: nvidia-cuda-nvrtc-cu12==12.1.105 in /usr/local/lib/python3.11/dist-packages (from torch>=2.5.1->autoawq) (12.1.105)\n",
            "Requirement already satisfied: nvidia-cuda-runtime-cu12==12.1.105 in /usr/local/lib/python3.11/dist-packages (from torch>=2.5.1->autoawq) (12.1.105)\n",
            "Requirement already satisfied: nvidia-cuda-cupti-cu12==12.1.105 in /usr/local/lib/python3.11/dist-packages (from torch>=2.5.1->autoawq) (12.1.105)\n",
            "Requirement already satisfied: nvidia-cudnn-cu12==9.1.0.70 in /usr/local/lib/python3.11/dist-packages (from torch>=2.5.1->autoawq) (9.1.0.70)\n",
            "Requirement already satisfied: nvidia-cublas-cu12==12.1.3.1 in /usr/local/lib/python3.11/dist-packages (from torch>=2.5.1->autoawq) (12.1.3.1)\n",
            "Requirement already satisfied: nvidia-cufft-cu12==11.0.2.54 in /usr/local/lib/python3.11/dist-packages (from torch>=2.5.1->autoawq) (11.0.2.54)\n",
            "Requirement already satisfied: nvidia-curand-cu12==10.3.2.106 in /usr/local/lib/python3.11/dist-packages (from torch>=2.5.1->autoawq) (10.3.2.106)\n",
            "Requirement already satisfied: nvidia-cusolver-cu12==11.4.5.107 in /usr/local/lib/python3.11/dist-packages (from torch>=2.5.1->autoawq) (11.4.5.107)\n",
            "Requirement already satisfied: nvidia-cusparse-cu12==12.1.0.106 in /usr/local/lib/python3.11/dist-packages (from torch>=2.5.1->autoawq) (12.1.0.106)\n",
            "Requirement already satisfied: nvidia-nccl-cu12==2.21.5 in /usr/local/lib/python3.11/dist-packages (from torch>=2.5.1->autoawq) (2.21.5)\n",
            "Requirement already satisfied: nvidia-nvtx-cu12==12.1.105 in /usr/local/lib/python3.11/dist-packages (from torch>=2.5.1->autoawq) (12.1.105)\n",
            "Requirement already satisfied: sympy==1.13.1 in /usr/local/lib/python3.11/dist-packages (from torch>=2.5.1->autoawq) (1.13.1)\n",
            "Requirement already satisfied: nvidia-nvjitlink-cu12 in /usr/local/lib/python3.11/dist-packages (from nvidia-cusolver-cu12==11.4.5.107->torch>=2.5.1->autoawq) (12.6.85)\n",
            "Requirement already satisfied: mpmath<1.4,>=1.1.0 in /usr/local/lib/python3.11/dist-packages (from sympy==1.13.1->torch>=2.5.1->autoawq) (1.3.0)\n",
            "Requirement already satisfied: regex!=2019.12.17 in /usr/local/lib/python3.11/dist-packages (from transformers<=4.47.1,>=4.45.0->autoawq) (2024.11.6)\n",
            "Requirement already satisfied: safetensors>=0.4.1 in /usr/local/lib/python3.11/dist-packages (from transformers<=4.47.1,>=4.45.0->autoawq) (0.5.2)\n",
            "Requirement already satisfied: psutil in /usr/local/lib/python3.11/dist-packages (from accelerate->autoawq) (5.9.5)\n",
            "Requirement already satisfied: aiohappyeyeballs>=2.3.0 in /usr/local/lib/python3.11/dist-packages (from aiohttp->datasets>=2.20->autoawq) (2.4.4)\n",
            "Requirement already satisfied: aiosignal>=1.1.2 in /usr/local/lib/python3.11/dist-packages (from aiohttp->datasets>=2.20->autoawq) (1.3.2)\n",
            "Requirement already satisfied: attrs>=17.3.0 in /usr/local/lib/python3.11/dist-packages (from aiohttp->datasets>=2.20->autoawq) (24.3.0)\n",
            "Requirement already satisfied: frozenlist>=1.1.1 in /usr/local/lib/python3.11/dist-packages (from aiohttp->datasets>=2.20->autoawq) (1.5.0)\n",
            "Requirement already satisfied: multidict<7.0,>=4.5 in /usr/local/lib/python3.11/dist-packages (from aiohttp->datasets>=2.20->autoawq) (6.1.0)\n",
            "Requirement already satisfied: propcache>=0.2.0 in /usr/local/lib/python3.11/dist-packages (from aiohttp->datasets>=2.20->autoawq) (0.2.1)\n",
            "Requirement already satisfied: yarl<2.0,>=1.17.0 in /usr/local/lib/python3.11/dist-packages (from aiohttp->datasets>=2.20->autoawq) (1.18.3)\n",
            "Requirement already satisfied: charset-normalizer<4,>=2 in /usr/local/lib/python3.11/dist-packages (from requests>=2.32.2->datasets>=2.20->autoawq) (3.4.1)\n",
            "Requirement already satisfied: idna<4,>=2.5 in /usr/local/lib/python3.11/dist-packages (from requests>=2.32.2->datasets>=2.20->autoawq) (3.10)\n",
            "Requirement already satisfied: urllib3<3,>=1.21.1 in /usr/local/lib/python3.11/dist-packages (from requests>=2.32.2->datasets>=2.20->autoawq) (2.3.0)\n",
            "Requirement already satisfied: certifi>=2017.4.17 in /usr/local/lib/python3.11/dist-packages (from requests>=2.32.2->datasets>=2.20->autoawq) (2024.12.14)\n",
            "Requirement already satisfied: MarkupSafe>=2.0 in /usr/local/lib/python3.11/dist-packages (from jinja2->torch>=2.5.1->autoawq) (3.0.2)\n",
            "Requirement already satisfied: python-dateutil>=2.8.2 in /usr/local/lib/python3.11/dist-packages (from pandas->datasets>=2.20->autoawq) (2.8.2)\n",
            "Requirement already satisfied: pytz>=2020.1 in /usr/local/lib/python3.11/dist-packages (from pandas->datasets>=2.20->autoawq) (2024.2)\n",
            "Requirement already satisfied: tzdata>=2022.7 in /usr/local/lib/python3.11/dist-packages (from pandas->datasets>=2.20->autoawq) (2024.2)\n",
            "Requirement already satisfied: six>=1.5 in /usr/local/lib/python3.11/dist-packages (from python-dateutil>=2.8.2->pandas->datasets>=2.20->autoawq) (1.17.0)\n",
            "Downloading datasets-3.2.0-py3-none-any.whl (480 kB)\n",
            "\u001b[2K   \u001b[90m━━━━━━━━━━━━━━━━━━━━━━━━━━━━━━━━━━━━━━━━\u001b[0m \u001b[32m480.6/480.6 kB\u001b[0m \u001b[31m30.6 MB/s\u001b[0m eta \u001b[36m0:00:00\u001b[0m\n",
            "\u001b[?25hDownloading huggingface_hub-0.27.1-py3-none-any.whl (450 kB)\n",
            "\u001b[2K   \u001b[90m━━━━━━━━━━━━━━━━━━━━━━━━━━━━━━━━━━━━━━━━\u001b[0m \u001b[32m450.7/450.7 kB\u001b[0m \u001b[31m29.6 MB/s\u001b[0m eta \u001b[36m0:00:00\u001b[0m\n",
            "\u001b[?25hDownloading tokenizers-0.21.0-cp39-abi3-manylinux_2_17_x86_64.manylinux2014_x86_64.whl (3.0 MB)\n",
            "\u001b[2K   \u001b[90m━━━━━━━━━━━━━━━━━━━━━━━━━━━━━━━━━━━━━━━━\u001b[0m \u001b[32m3.0/3.0 MB\u001b[0m \u001b[31m45.4 MB/s\u001b[0m eta \u001b[36m0:00:00\u001b[0m\n",
            "\u001b[?25hDownloading transformers-4.47.1-py3-none-any.whl (10.1 MB)\n",
            "\u001b[2K   \u001b[90m━━━━━━━━━━━━━━━━━━━━━━━━━━━━━━━━━━━━━━━━\u001b[0m \u001b[32m10.1/10.1 MB\u001b[0m \u001b[31m69.5 MB/s\u001b[0m eta \u001b[36m0:00:00\u001b[0m\n",
            "\u001b[?25hDownloading zstandard-0.23.0-cp311-cp311-manylinux_2_17_x86_64.manylinux2014_x86_64.whl (5.4 MB)\n",
            "\u001b[2K   \u001b[90m━━━━━━━━━━━━━━━━━━━━━━━━━━━━━━━━━━━━━━━━\u001b[0m \u001b[32m5.4/5.4 MB\u001b[0m \u001b[31m58.2 MB/s\u001b[0m eta \u001b[36m0:00:00\u001b[0m\n",
            "\u001b[?25hDownloading dill-0.3.8-py3-none-any.whl (116 kB)\n",
            "\u001b[2K   \u001b[90m━━━━━━━━━━━━━━━━━━━━━━━━━━━━━━━━━━━━━━━━\u001b[0m \u001b[32m116.3/116.3 kB\u001b[0m \u001b[31m10.6 MB/s\u001b[0m eta \u001b[36m0:00:00\u001b[0m\n",
            "\u001b[?25hDownloading fsspec-2024.9.0-py3-none-any.whl (179 kB)\n",
            "\u001b[2K   \u001b[90m━━━━━━━━━━━━━━━━━━━━━━━━━━━━━━━━━━━━━━━━\u001b[0m \u001b[32m179.3/179.3 kB\u001b[0m \u001b[31m16.1 MB/s\u001b[0m eta \u001b[36m0:00:00\u001b[0m\n",
            "\u001b[?25hDownloading multiprocess-0.70.16-py311-none-any.whl (143 kB)\n",
            "\u001b[2K   \u001b[90m━━━━━━━━━━━━━━━━━━━━━━━━━━━━━━━━━━━━━━━━\u001b[0m \u001b[32m143.5/143.5 kB\u001b[0m \u001b[31m13.1 MB/s\u001b[0m eta \u001b[36m0:00:00\u001b[0m\n",
            "\u001b[?25hDownloading xxhash-3.5.0-cp311-cp311-manylinux_2_17_x86_64.manylinux2014_x86_64.whl (194 kB)\n",
            "\u001b[2K   \u001b[90m━━━━━━━━━━━━━━━━━━━━━━━━━━━━━━━━━━━━━━━━\u001b[0m \u001b[32m194.8/194.8 kB\u001b[0m \u001b[31m16.7 MB/s\u001b[0m eta \u001b[36m0:00:00\u001b[0m\n",
            "\u001b[?25hBuilding wheels for collected packages: autoawq\n",
            "  Building wheel for autoawq (setup.py) ... \u001b[?25l\u001b[?25hdone\n",
            "  Created wheel for autoawq: filename=autoawq-0.2.8-py3-none-any.whl size=108744 sha256=558862757af83a5d0231ab2bb847865cf5f33b5a5eac71c9d2cbd24796d26559\n",
            "  Stored in directory: /root/.cache/pip/wheels/fd/03/fe/99c1c678bfe8aca712186466969ed866f52feda95ae1dcd1b1\n",
            "Successfully built autoawq\n",
            "Installing collected packages: zstandard, xxhash, fsspec, dill, multiprocess, huggingface_hub, tokenizers, transformers, datasets, autoawq\n",
            "  Attempting uninstall: fsspec\n",
            "    Found existing installation: fsspec 2024.10.0\n",
            "    Uninstalling fsspec-2024.10.0:\n",
            "      Successfully uninstalled fsspec-2024.10.0\n",
            "  Attempting uninstall: huggingface_hub\n",
            "    Found existing installation: huggingface-hub 0.17.3\n",
            "    Uninstalling huggingface-hub-0.17.3:\n",
            "      Successfully uninstalled huggingface-hub-0.17.3\n",
            "  Attempting uninstall: tokenizers\n",
            "    Found existing installation: tokenizers 0.14.1\n",
            "    Uninstalling tokenizers-0.14.1:\n",
            "      Successfully uninstalled tokenizers-0.14.1\n",
            "  Attempting uninstall: transformers\n",
            "    Found existing installation: transformers 4.34.0.dev0\n",
            "    Uninstalling transformers-4.34.0.dev0:\n",
            "      Successfully uninstalled transformers-4.34.0.dev0\n",
            "\u001b[31mERROR: pip's dependency resolver does not currently take into account all the packages that are installed. This behaviour is the source of the following dependency conflicts.\n",
            "gcsfs 2024.10.0 requires fsspec==2024.10.0, but you have fsspec 2024.9.0 which is incompatible.\u001b[0m\u001b[31m\n",
            "\u001b[0mSuccessfully installed autoawq-0.2.8 datasets-3.2.0 dill-0.3.8 fsspec-2024.9.0 huggingface_hub-0.27.1 multiprocess-0.70.16 tokenizers-0.21.0 transformers-4.47.1 xxhash-3.5.0 zstandard-0.23.0\n"
          ]
        }
      ],
      "source": [
        "!pip install autoawq"
      ]
    },
    {
      "cell_type": "code",
      "execution_count": null,
      "metadata": {
        "id": "JY93qCTDM5Ks",
        "colab": {
          "base_uri": "https://localhost:8080/"
        },
        "outputId": "c55f1283-0c4e-415f-c494-45efa160c227"
      },
      "outputs": [
        {
          "output_type": "stream",
          "name": "stdout",
          "text": [
            "Collecting googlesearch-python\n",
            "  Downloading googlesearch_python-1.3.0-py3-none-any.whl.metadata (3.4 kB)\n",
            "Requirement already satisfied: beautifulsoup4>=4.9 in /usr/local/lib/python3.11/dist-packages (from googlesearch-python) (4.12.3)\n",
            "Requirement already satisfied: requests>=2.20 in /usr/local/lib/python3.11/dist-packages (from googlesearch-python) (2.32.3)\n",
            "Requirement already satisfied: soupsieve>1.2 in /usr/local/lib/python3.11/dist-packages (from beautifulsoup4>=4.9->googlesearch-python) (2.6)\n",
            "Requirement already satisfied: charset-normalizer<4,>=2 in /usr/local/lib/python3.11/dist-packages (from requests>=2.20->googlesearch-python) (3.4.1)\n",
            "Requirement already satisfied: idna<4,>=2.5 in /usr/local/lib/python3.11/dist-packages (from requests>=2.20->googlesearch-python) (3.10)\n",
            "Requirement already satisfied: urllib3<3,>=1.21.1 in /usr/local/lib/python3.11/dist-packages (from requests>=2.20->googlesearch-python) (2.3.0)\n",
            "Requirement already satisfied: certifi>=2017.4.17 in /usr/local/lib/python3.11/dist-packages (from requests>=2.20->googlesearch-python) (2024.12.14)\n",
            "Downloading googlesearch_python-1.3.0-py3-none-any.whl (5.6 kB)\n",
            "Installing collected packages: googlesearch-python\n",
            "Successfully installed googlesearch-python-1.3.0\n"
          ]
        }
      ],
      "source": [
        "\n",
        "!pip install googlesearch-python"
      ]
    },
    {
      "cell_type": "code",
      "execution_count": null,
      "metadata": {
        "id": "IHH1qJBQM8Xu",
        "colab": {
          "base_uri": "https://localhost:8080/"
        },
        "outputId": "092036a7-a55d-4a39-bffb-5121f1dfdf64"
      },
      "outputs": [
        {
          "output_type": "stream",
          "name": "stdout",
          "text": [
            "Requirement already satisfied: pandas in /usr/local/lib/python3.11/dist-packages (2.2.2)\n",
            "Requirement already satisfied: openpyxl in /usr/local/lib/python3.11/dist-packages (3.1.5)\n",
            "Requirement already satisfied: numpy>=1.23.2 in /usr/local/lib/python3.11/dist-packages (from pandas) (1.26.4)\n",
            "Requirement already satisfied: python-dateutil>=2.8.2 in /usr/local/lib/python3.11/dist-packages (from pandas) (2.8.2)\n",
            "Requirement already satisfied: pytz>=2020.1 in /usr/local/lib/python3.11/dist-packages (from pandas) (2024.2)\n",
            "Requirement already satisfied: tzdata>=2022.7 in /usr/local/lib/python3.11/dist-packages (from pandas) (2024.2)\n",
            "Requirement already satisfied: et-xmlfile in /usr/local/lib/python3.11/dist-packages (from openpyxl) (2.0.0)\n",
            "Requirement already satisfied: six>=1.5 in /usr/local/lib/python3.11/dist-packages (from python-dateutil>=2.8.2->pandas) (1.17.0)\n"
          ]
        }
      ],
      "source": [
        "!pip install pandas openpyxl"
      ]
    },
    {
      "cell_type": "code",
      "execution_count": null,
      "metadata": {
        "id": "9dRne2i4NIRZ",
        "colab": {
          "base_uri": "https://localhost:8080/"
        },
        "outputId": "8068cf60-daac-44d3-879e-d881af7d03a5"
      },
      "outputs": [
        {
          "output_type": "stream",
          "name": "stderr",
          "text": [
            "[nltk_data] Downloading package punkt_tab to /root/nltk_data...\n",
            "[nltk_data]   Package punkt_tab is already up-to-date!\n"
          ]
        },
        {
          "output_type": "stream",
          "name": "stdout",
          "text": [
            "Access denied for https://www.reddit.com/r/learnprogramming/comments/o1snxx/operating_systems_act_as_an_interface_between_the/\n",
            "Access denied for https://quizlet.com/in/862388068/operating-system-flash-cards/\n",
            "Access denied for https://quizlet.com/100199142/computer-chapter-3-4-flash-cards/\n",
            "Access denied for https://www.pcrefix.co.uk/can-computers-run-without-operating-systems\n",
            "Access denied for https://brainly.com/question/41659019\n",
            "Access denied for https://brainly.com/question/52424104\n",
            "{\n",
            "  \"plagiarism\": true,\n",
            "  \"average_score\": 55.55555555555555,\n",
            "  \"max_score\": 66.66666666666666,\n",
            "  \"max_score_url\": \"https://www.javatpoint.com/operating-system\",\n",
            "  \"data\": [\n",
            "    {\n",
            "      \"sentence\": \"\\nAn Operating System can be defined as an interface between user and hardware.\",\n",
            "      \"url\": \"https://www.javatpoint.com/operating-system\",\n",
            "      \"score\": 66.66666666666666,\n",
            "      \"plagiarism\": true\n",
            "    },\n",
            "    {\n",
            "      \"sentence\": \"It is responsible for the execution of all the processes, Resource Allocation, CPU scheduling, memory management, and providing security.\",\n",
            "      \"url\": \"https://parajulirajesh.com.np/operating-system/\",\n",
            "      \"score\": 40.0,\n",
            "      \"plagiarism\": true\n",
            "    },\n",
            "    {\n",
            "      \"sentence\": \"The OS also manages devices such as printers, monitors, and storage devices.\",\n",
            "      \"url\": \"https://www.techtarget.com/whatis/definition/operating-system-OS\",\n",
            "      \"score\": 0.0,\n",
            "      \"plagiarism\": false\n",
            "    },\n",
            "    {\n",
            "      \"sentence\": \"Without an operating system, a computer cannot function effectively.\",\n",
            "      \"url\": \"https://www.onyxgs.com/blog/operating-systems-backbone-your-computer\",\n",
            "      \"score\": 60.0,\n",
            "      \"plagiarism\": true\n",
            "    }\n",
            "  ]\n",
            "}\n"
          ]
        }
      ],
      "source": [
        "\n",
        "import aiohttp\n",
        "import asyncio\n",
        "import hashlib\n",
        "import json\n",
        "import random\n",
        "import nltk\n",
        "from nltk.tokenize import sent_tokenize\n",
        "from typing import List, Dict, Any\n",
        "from googlesearch import search\n",
        "import nltk\n",
        "nltk.download('punkt_tab')\n",
        "# Ensure NLTK resources are downloaded for sentence tokenization\n",
        "try:\n",
        "    nltk.data.find('tokenizers/punkt')\n",
        "except LookupError:\n",
        "    print(\"Downloading 'punkt' package...\")\n",
        "    nltk.download('punkt')\n",
        "\n",
        "def get_useragent():\n",
        "    _useragent_list = [\n",
        "        'Mozilla/5.0 (Windows NT 10.0; Win64; x64; rv:66.0) Gecko/20100101 Firefox/66.0',\n",
        "        'Mozilla/5.0 (Windows NT 10.0; Win64; x64) AppleWebKit/537.36 (KHTML, like Gecko) Chrome/111.0.0.0 Safari/537.36',\n",
        "        'Mozilla/5.0 (Macintosh; Intel Mac OS X 10_15_7) AppleWebKit/537.36 (KHTML, like Gecko) Chrome/111.0.0.0 Safari/537.36',\n",
        "        'Mozilla/5.0 (Windows NT 10.0; Win64; x64) AppleWebKit/537.36 (KHTML, like Gecko) Chrome/109.0.0.0 Safari/537.36',\n",
        "        'Mozilla/5.0 (X11; Linux x86_64) AppleWebKit/537.36 (KHTML, like Gecko) Chrome/111.0.0.0 Safari/537.36',\n",
        "        'Mozilla/5.0 (Windows NT 10.0; Win64; x64) AppleWebKit/537.36 (KHTML, like Gecko) Chrome/111.0.0.0 Safari/537.36 Edg/111.0.1661.62',\n",
        "        'Mozilla/5.0 (Windows NT 10.0; Win64; x64; rv:109.0) Gecko/20100101 Firefox/111.0'\n",
        "    ]\n",
        "    return random.choice(_useragent_list)\n",
        "\n",
        "def google_search(query):\n",
        "    \"\"\"Perform Google search and return the list of URLs.\"\"\"\n",
        "    links = []\n",
        "    try:\n",
        "        # Perform the Google search request\n",
        "        for url in search(query, lang='en'):\n",
        "            links.append(url)  # Append each URL to the links list\n",
        "    except Exception as e:\n",
        "        print(f\"Error during the search request: {e}\")\n",
        "    return links\n",
        "\n",
        "async def fetch_web_content(url: str, session: aiohttp.ClientSession) -> str:\n",
        "    \"\"\"Fetch and clean the main content of a webpage.\"\"\"\n",
        "    try:\n",
        "        headers = {\"User-Agent\": get_useragent()}\n",
        "        async with session.get(url, headers=headers, timeout=5) as response:\n",
        "            if response.status == 403:\n",
        "                print(f\"Access denied for {url}\")\n",
        "                return \"\"\n",
        "            content = await response.text(errors='ignore')\n",
        "            return content\n",
        "    except aiohttp.ClientError as e:\n",
        "        print(f\"Failed to fetch {url}: {e}\")\n",
        "        return \"\"\n",
        "\n",
        "def get_shingles(text: str, k: int = 5) -> set:\n",
        "    \"\"\"Generate k-shingles (sets of k consecutive words) for a given text.\"\"\"\n",
        "    words = text.split()\n",
        "    shingles = set()\n",
        "    for i in range(len(words) - k + 1):\n",
        "        shingle = \" \".join(words[i:i + k])\n",
        "        shingle_hash = hashlib.md5(shingle.encode(\"utf-8\")).hexdigest()\n",
        "        shingles.add(shingle_hash)\n",
        "    return shingles\n",
        "\n",
        "def similarity1(set1, set2):\n",
        "    \"\"\"Calculate the similarity score based on intersection of shingles.\"\"\"\n",
        "    if len(set1) == 0 or len(set2) == 0:\n",
        "        return 0.0\n",
        "    intersection = len(set1.intersection(set2))\n",
        "    return (intersection / len(set1)) * 100\n",
        "\n",
        "async def check_sentence_plagiarism(sentence: str) -> Dict[str, Any]:\n",
        "    \"\"\"Check plagiarism for a single sentence by searching and comparing content.\"\"\"\n",
        "    result = {\"sentence\": sentence, \"matches\": []}\n",
        "    urls = google_search(sentence)  # Call google_search synchronously\n",
        "\n",
        "    async with aiohttp.ClientSession() as session:\n",
        "        tasks = [fetch_web_content(url, session) for url in urls]\n",
        "        contents = await asyncio.gather(*tasks)\n",
        "\n",
        "    for url, content in zip(urls, contents):\n",
        "        if content:\n",
        "            original_shingles = get_shingles(sentence)\n",
        "            content_shingles = get_shingles(content)\n",
        "            similarity = similarity1(original_shingles, content_shingles)\n",
        "            result[\"matches\"].append({\"url\": url, \"score\": similarity})\n",
        "\n",
        "    # Sort matches by score in descending order and take the highest\n",
        "    if result[\"matches\"]:\n",
        "        result[\"matches\"].sort(key=lambda x: x[\"score\"], reverse=True)\n",
        "        highest_match = result[\"matches\"][0]\n",
        "        result[\"highest_match\"] = {\"url\": highest_match[\"url\"], \"score\": highest_match[\"score\"]}\n",
        "    else:\n",
        "        result[\"highest_match\"] = {\"url\": None, \"score\": 0.0}\n",
        "\n",
        "    return result\n",
        "\n",
        "async def plagiarism_checker(text: str) -> List[Dict[str, Any]]:\n",
        "    \"\"\"Run plagiarism check on each sentence in the input text.\"\"\"\n",
        "    sentences = sent_tokenize(text)\n",
        "    results = await asyncio.gather(*[check_sentence_plagiarism(sentence) for sentence in sentences])\n",
        "    return get_score(results)\n",
        "def get_score(data):\n",
        "    \"\"\"Generate a final plagiarism score, excluding scores less than 30.\"\"\"\n",
        "    result = []\n",
        "    total_score = 0\n",
        "    max_score = 0\n",
        "    max_score_url = \"\"\n",
        "    total_sentences = 0\n",
        "\n",
        "    for entry in data:\n",
        "        url = entry['highest_match']['url']\n",
        "        score = entry['highest_match']['score']\n",
        "        sentence = entry['sentence']\n",
        "\n",
        "        # Exclude sentences with score less than 30\n",
        "        if score < 30:\n",
        "            plagiarism = False  # Mark as non-plagiarized\n",
        "        else:\n",
        "            plagiarism = True  # Mark as plagiarized if score >= 30\n",
        "\n",
        "        # If the score is 30 or higher, add it to total_score for average calculation\n",
        "        if score >= 30:\n",
        "            total_score += score\n",
        "            total_sentences += 1  # Count only plagiarized sentences for average\n",
        "\n",
        "        # Track maximum score and corresponding URL\n",
        "        if score > max_score:\n",
        "            max_score = score\n",
        "            max_score_url = url\n",
        "\n",
        "        # Check if we should merge with the last entry\n",
        "        if result and result[-1]['url'] == url and result[-1]['score'] == score:\n",
        "            result[-1]['sentence'] += \" \" + sentence  # Append the sentence\n",
        "        else:\n",
        "            # Add a new entry with plagiarism flag\n",
        "            result.append({\n",
        "                'sentence': sentence,\n",
        "                'url': url,\n",
        "                'score': score,\n",
        "                'plagiarism': plagiarism\n",
        "            })\n",
        "\n",
        "    # Calculate average score only from sentences with score >= 30\n",
        "    average_score = total_score / total_sentences if total_sentences else 0\n",
        "\n",
        "    # Create the final structured response\n",
        "    response = {\n",
        "        \"plagiarism\": any(entry['plagiarism'] for entry in result),\n",
        "        \"average_score\": average_score,\n",
        "        \"max_score\": max_score,\n",
        "        \"max_score_url\": max_score_url,\n",
        "        \"data\": result\n",
        "    }\n",
        "\n",
        "    return response\n",
        "\n",
        "# Example input text for plagiarism checking\n",
        "input_text = \"\"\"\n",
        "An Operating System can be defined as an interface between user and hardware. It is responsible for the execution of all the processes, Resource Allocation, CPU scheduling, memory management, and providing security. The OS also manages devices such as printers, monitors, and storage devices. Without an operating system, a computer cannot function effectively.\n",
        "\"\"\"\n",
        "# Running the plagiarism checker asynchronously\n",
        "results_plagiarism = await plagiarism_checker(input_text)\n",
        "\n",
        "# Printing the results in a readable format\n",
        "print(json.dumps(results_plagiarism, indent=2))\n"
      ]
    },
    {
      "cell_type": "code",
      "execution_count": null,
      "metadata": {
        "id": "xZmhZEiWNVTB"
      },
      "outputs": [],
      "source": [
        "\n",
        "\n",
        "from transformers import AutoTokenizer, AutoModelForSequenceClassification\n",
        "import torch\n",
        "import numpy as np\n",
        "\n",
        "def detect_ai_generated_text_advanced_v3(\n",
        "    text,\n",
        "    model_name=\"roberta-base-openai-detector\",\n",
        "    threshold=0.5,\n",
        "    max_length=512\n",
        "):\n",
        "    \"\"\"\n",
        "    Advanced detection of AI-generated text with detailed metrics, AI flag, and percentage.\n",
        "\n",
        "    Parameters:\n",
        "        text (str): Input text to analyze.\n",
        "        model_name (str): Pre-trained model to use for detection.\n",
        "        threshold (float): Confidence threshold for categorization (default: 0.5).\n",
        "        max_length (int): Maximum length for tokenization (default: 512).\n",
        "\n",
        "    Returns:\n",
        "        dict: Detailed output with categorization, confidence, metrics, AI flag, and percentage.\n",
        "    \"\"\"\n",
        "    try:\n",
        "        # Load tokenizer and model\n",
        "        tokenizer = AutoTokenizer.from_pretrained(model_name)\n",
        "        model = AutoModelForSequenceClassification.from_pretrained(model_name)\n",
        "\n",
        "        # Tokenize and prepare text\n",
        "        tokens = tokenizer(text, return_tensors=\"pt\", truncation=True, max_length=max_length)\n",
        "        token_count = len(tokens[\"input_ids\"][0])\n",
        "\n",
        "        # Inference\n",
        "        outputs = model(**tokens)\n",
        "        probabilities = torch.softmax(outputs.logits, dim=1).detach().numpy()[0]\n",
        "        ai_confidence = probabilities[1]\n",
        "        human_confidence = probabilities[0]\n",
        "        category = \"AI-generated\" if ai_confidence > threshold else \"Human-written\"\n",
        "\n",
        "        # AI flag and percentage\n",
        "        is_ai = ai_confidence > threshold\n",
        "        ai_percentage = round(ai_confidence * 100, 2)\n",
        "\n",
        "        # Additional metrics\n",
        "        char_count = len(text)\n",
        "        word_count = len(text.split())\n",
        "        avg_word_length = char_count / word_count if word_count > 0 else 0\n",
        "        confidence_diff = abs(ai_confidence - human_confidence)\n",
        "\n",
        "        return {\n",
        "            \"category\": category,\n",
        "            \"AI\": is_ai,\n",
        "            \"AI_Percentage\": ai_percentage,\n",
        "            \"confidence\": ai_confidence if is_ai else human_confidence,\n",
        "            \"confidence_difference\": confidence_diff,\n",
        "            \"probabilities\": {\n",
        "                \"Human-written\": human_confidence,\n",
        "                \"AI-generated\": ai_confidence\n",
        "            },\n",
        "            \"metrics\": {\n",
        "                \"character_count\": char_count,\n",
        "                \"word_count\": word_count,\n",
        "                \"average_word_length\": round(avg_word_length, 2),\n",
        "                \"token_count\": token_count,\n",
        "                \"max_token_length\": max_length\n",
        "            },\n",
        "            \"threshold_used\": threshold\n",
        "        }\n",
        "    except Exception as e:\n",
        "        return {\"error\": str(e)}\n",
        "\n",
        "# Example usage\n",
        "#text = \"In a world driven by rapid technological advancement, artificial intelligence has emerged as a transformative force. From revolutionizing healthcare with predictive diagnostics to enhancing efficiency in industries through automation, AI continues to redefine the boundaries of what is possible. However, this unprecedented growth also poses ethical dilemmas, emphasizing the need for responsible innovation to ensure these technologies benefit humanity as a whole.\"\n",
        "#result_AI = detect_ai_generated_text_advanced_v3(text, threshold=0.7)\n",
        "#print(result)\n",
        "#print()"
      ]
    },
    {
      "cell_type": "code",
      "execution_count": null,
      "metadata": {
        "id": "sxNaDuZhNYKI"
      },
      "outputs": [],
      "source": [
        "\n",
        "import re\n",
        "import math\n",
        "import torch\n",
        "from awq import AutoAWQForCausalLM\n",
        "from transformers import AutoTokenizer\n",
        "\n",
        "# Load model\n",
        "model_name_or_path = \"TheBloke/Mistral-7B-Instruct-v0.1-AWQ\"\n",
        "device = \"cuda\" if torch.cuda.is_available() else \"cpu\"\n",
        "\n",
        "if 'model' not in globals():\n",
        "    model = AutoAWQForCausalLM.from_quantized(\n",
        "        model_name_or_path,\n",
        "        fuse_layers=True,\n",
        "        trust_remote_code=False,\n",
        "        safetensors=True\n",
        "    ).to(device)\n",
        "    tokenizer = AutoTokenizer.from_pretrained(model_name_or_path, trust_remote_code=False)\n",
        "\n",
        "models_loaded = True\n",
        "\n",
        "# Function to evaluate the student's answer\n",
        "def evaluate_answer(question, answer, full_marks=5, expected_answer=None):\n",
        "    # Basic Information\n",
        "    prompt = f\"\"\"\n",
        "    Question: {question}\n",
        "    Answer: {answer}\n",
        "    Full Marks: {full_marks}\n",
        "    \"\"\"\n",
        "\n",
        "    if expected_answer:\n",
        "        prompt += f\"Expected Answer: {expected_answer}\\n\"\n",
        "\n",
        "    # Evaluation instructions\n",
        "    prompt += \"\"\"\n",
        "    Evaluate based on strictly: Correctness of answer, Completeness of answer, Clarity, Depth, and Relevance of answer , if answer not according to asked question or giving nearly similar answer just give it a 0 marks.\n",
        "\n",
        "    Return JSON with:\n",
        "    - marks_obtained\n",
        "    - feedback  ( detailed overall feedback )\n",
        "    - strengths ( detailed positive aspects )\n",
        "    - areas_for_improvemen ( for getting full marks)\n",
        "    - clarity_score (1-10)\n",
        "    - depth_score (1-10)\n",
        "    \"\"\"\n",
        "\n",
        "    # Tokenize the prompt for the model\n",
        "    tokens = tokenizer(prompt, return_tensors='pt').input_ids.to(device)\n",
        "\n",
        "    # Generate the model's response with the given prompt\n",
        "    generation_output = model.generate(\n",
        "        tokens, do_sample=True, temperature=0.7, top_p=0.95, top_k=40, max_new_tokens=512\n",
        "    )\n",
        "\n",
        "    # Decode the output from the model\n",
        "    response = tokenizer.decode(generation_output[0], skip_special_tokens=True)\n",
        "\n",
        "    return response\n",
        "\n",
        "\n",
        "def round_based_on_fraction(number):\n",
        "    # Get the fractional part of the number\n",
        "    fractional_part = number - math.floor(number)\n",
        "\n",
        "    # If the fractional part is greater than 0.5, round up, else round down\n",
        "    if fractional_part > 0.5:\n",
        "        return math.ceil(number)  # Round up\n",
        "    else:\n",
        "        return math.floor(number)  # Round down"
      ]
    },
    {
      "cell_type": "code",
      "execution_count": null,
      "metadata": {
        "id": "8eeJY6duNl_A"
      },
      "outputs": [],
      "source": [
        "\n",
        "import re\n",
        "\n",
        "def extract_score_and_feedback(generated_text):\n",
        "    \"\"\"\n",
        "    Extract detailed evaluation information from the generated text using regular expressions.\n",
        "\n",
        "    :param generated_text: The raw output from the model.\n",
        "    :return: A dictionary with extracted evaluation details.\n",
        "    \"\"\"\n",
        "    # Define the patterns for each field\n",
        "    score_pattern = r'\"marks_obtained\":\\s*([0-9.]+)'  # Extract numerical score\n",
        "    feedback_pattern = r'\"feedback\":\\s*\"([^\"]+)\"'  # Extract feedback text, handling newlines\n",
        "    strengths_pattern = r'\"strengths\":\\s*\\[([^\\]]+)\\]'  # Extract strengths list\n",
        "    areas_for_improvement_pattern = r'\"areas_for_improvement\":\\s*\\[([^\\]]+)\\]'  # Extract areas for improvement list\n",
        "    clarity_score_pattern = r'\"clarity_score\":\\s*([0-9.]+)'  # Extract clarity score\n",
        "    depth_score_pattern = r'\"depth_score\":\\s*([0-9.]+)'  # Extract depth score\n",
        "\n",
        "    # Find matches using regular expressions\n",
        "    score_match = re.search(score_pattern, generated_text)\n",
        "    feedback_match = re.search(feedback_pattern, generated_text)\n",
        "    strengths_match = re.search(strengths_pattern, generated_text)\n",
        "    areas_for_improvement_match = re.search(areas_for_improvement_pattern, generated_text)\n",
        "    clarity_score_match = re.search(clarity_score_pattern, generated_text)\n",
        "    depth_score_match = re.search(depth_score_pattern, generated_text)\n",
        "\n",
        "    # Extract values or set them to None if not found\n",
        "    score = float(score_match.group(1)) if score_match else None\n",
        "    feedback = feedback_match.group(1).strip() if feedback_match else None  # Strip to remove extra spaces/newlines\n",
        "\n",
        "    # Handle strengths and areas for improvement (could be a list or a single string)\n",
        "    strengths = parse_list_or_string(strengths_match.group(1)) if strengths_match else []\n",
        "    areas_for_improvement = parse_list_or_string(areas_for_improvement_match.group(1)) if areas_for_improvement_match else []\n",
        "\n",
        "    clarity_score = float(clarity_score_match.group(1)) if clarity_score_match else None\n",
        "    depth_score = float(depth_score_match.group(1)) if depth_score_match else None\n",
        "\n",
        "    # Return the extracted data as a dictionary\n",
        "    return {\n",
        "        \"marks_obtained\": score,\n",
        "        \"feedback\": feedback,\n",
        "        \"strengths\": strengths,\n",
        "        \"areas_for_improvement\": areas_for_improvement,\n",
        "        \"clarity_score\": clarity_score,\n",
        "        \"depth_score\": depth_score\n",
        "    }\n",
        "\n",
        "def parse_list_or_string(value):\n",
        "    \"\"\"\n",
        "    Parse a field that could either be a list of strings or a single string.\n",
        "    If it's a list, it will return a list; if it's a single string, it will return a list with one item.\n",
        "\n",
        "    :param value: The raw string to be parsed (could be a list or a string).\n",
        "    :return: A list of strings.\n",
        "    \"\"\"\n",
        "    # If the value looks like a list (contains commas), split it into a list\n",
        "    if isinstance(value, str) and \",\" in value:\n",
        "        # Remove leading/trailing whitespace and split by commas\n",
        "        return [item.strip().strip('\"') for item in value.split(\",\")]\n",
        "    # Otherwise, return a list containing the value as a single item\n",
        "    elif isinstance(value, str):\n",
        "        return [value.strip().strip('\"')]\n",
        "    return []"
      ]
    },
    {
      "cell_type": "code",
      "execution_count": null,
      "metadata": {
        "id": "9D2vcQnANq9k"
      },
      "outputs": [],
      "source": [
        "\n",
        "import asyncio\n",
        "import math\n",
        "import re\n",
        "\n",
        "async def GetData(question, student_answer, expected_answer, marks):\n",
        "    if not models_loaded:\n",
        "        raise RuntimeError(\"Models are not loaded. Call `load_models()` first.\")\n",
        "\n",
        "    # Ensure non-empty inputs\n",
        "    student_answer = student_answer or \"\"  # Default to empty string if None or empty\n",
        "    expected_answer = expected_answer or \"\"  # Default to empty string if None or empty\n",
        "    marks = marks or 0  # Default to 0 if marks are None or empty\n",
        "    question = question or \"\"  # Default to empty string if None or empty\n",
        "\n",
        "    # Generate response using the model\n",
        "    generated_text = evaluate_answer(question, student_answer, marks, expected_answer)\n",
        "\n",
        "    # Extract score and feedback from the model's output\n",
        "    result = extract_score_and_feedback(generated_text)\n",
        "\n",
        "    # Handle missing or None values gracefully using .get() with default values\n",
        "    score = result.get('marks_obtained', 0)  # Default to 0 if score is None or not found\n",
        "    score_old = score\n",
        "    feedback = result.get('feedback', \"\")  # Default to an empty string if feedback is None or not found\n",
        "    strengths = result.get('strengths', \"\")  # Default to an empty string if strengths are None or not found\n",
        "    areas_for_improvement = result.get('areas_for_improvement', \"\")  # Default to an empty string if areas are None or not found\n",
        "    clarity_score = result.get('clarity_score', 0)  # Default to 0 if clarity score is None or not found\n",
        "    depth_score = result.get('depth_score', 0)  # Default to 0 if depth score is None or not found\n",
        "\n",
        "    # Ensure score is not None before using it in arithmetic operations\n",
        "    score = score if score is not None else 0\n",
        "\n",
        "    # Logarithmic scaling of score\n",
        "    log_score = math.log(score + 1) if score is not None else 0  # Logarithm of score (score + 1 to avoid log(0))\n",
        "    weighted_score = log_score * 0.5  # Adjust weight as needed\n",
        "\n",
        "    # Calculate initial marks based on the weighted sum\n",
        "    final_marks_obtained = weighted_score * marks  # Scale by full marks\n",
        "\n",
        "    # Initialize penalty and reason\n",
        "    penalty = 0.0\n",
        "    penalty_reasons = []\n",
        "\n",
        "    # Apply penalty if marks exceed 90% of full marks\n",
        "    max_allowed_marks = marks * 0.9\n",
        "    if final_marks_obtained > max_allowed_marks:\n",
        "        penalty_factor = 0.8  # Apply a 20% penalty\n",
        "        final_marks_obtained *= penalty_factor\n",
        "        penalty += 0.2  # Penalty is 20% of the score\n",
        "        penalty_reasons.append(\"Penalty applied for exceeding 90% of full marks\")\n",
        "\n",
        "    # Check plagiarism and AI detection\n",
        "    results_plagiarism = await plagiarism_checker(student_answer) or {}\n",
        "    result_AI = detect_ai_generated_text_advanced_v3(student_answer, threshold=0.7) or {}\n",
        "\n",
        "    if results_plagiarism.get(\"plagiarism\", False) and results_plagiarism.get(\"average_score\", 0.0) > 0.3:\n",
        "        penalty += 0.25  # Apply a 25% penalty for plagiarism\n",
        "        penalty_reasons.append(\"Penalty applied for plagiarism exceeding 30%\")\n",
        "\n",
        "    if result_AI.get(\"AI\", False) and result_AI.get(\"AI_Percentage\", 0.0) > 30:\n",
        "        penalty += 0.25  # Apply a 25% penalty for AI-generated text exceeding 30%\n",
        "        penalty_reasons.append(\"Penalty applied for AI detection exceeding 30%\")\n",
        "\n",
        "    # Apply total penalty and adjust marks\n",
        "    final_marks_obtained = final_marks_obtained * (1 - penalty)\n",
        "\n",
        "    # Ensure marks are never below 0\n",
        "    final_marks_obtained = max(final_marks_obtained, 0)\n",
        "\n",
        "    # Analyze student's answer\n",
        "    student_word_count = len(student_answer.split())  # Count words in student's answer\n",
        "    student_sentence_count = len(re.split(r'[.!?]+', student_answer.strip())) - 1  # Count sentences\n",
        "\n",
        "    # Prepare final result dictionary\n",
        "    result_data = {\n",
        "        \"full_marks\": marks,\n",
        "        \"obtained_marks\": score_old,\n",
        "        \"strengths\": strengths,\n",
        "        \"areas_for_improvement\": areas_for_improvement,\n",
        "        \"clarity_score\": clarity_score,\n",
        "        \"depth_score\": depth_score,\n",
        "        \"final_marks_obtained\": round_based_on_fraction(final_marks_obtained),\n",
        "        \"feedback\": feedback,\n",
        "        \"student_word_count\": student_word_count,\n",
        "        \"student_sentence_count\": student_sentence_count,\n",
        "        \"plagiarism\": results_plagiarism.get(\"plagiarism\", False),\n",
        "        \"average_score\": results_plagiarism.get(\"average_score\", 0.0),\n",
        "        \"max_score\": results_plagiarism.get(\"max_score\", 0.0),\n",
        "        \"max_score_url\": results_plagiarism.get(\"max_score_url\", \"\"),\n",
        "        \"AI_category\": result_AI.get(\"category\", \"Unknown\"),\n",
        "        \"AI_flag\": result_AI.get(\"AI\", False),\n",
        "        \"AI_percentage\": result_AI.get(\"AI_Percentage\", 0.0),\n",
        "        \"AI_probabilities\": result_AI.get(\"probabilities\", {}),\n",
        "        \"reason\": \"; \".join(penalty_reasons),  # List of reasons for penalties applied\n",
        "    }\n",
        "\n",
        "    return result_data"
      ]
    },
    {
      "cell_type": "code",
      "execution_count": null,
      "metadata": {
        "id": "wWowI98QNyNV",
        "colab": {
          "base_uri": "https://localhost:8080/",
          "height": 332
        },
        "outputId": "bf83391b-4341-42b8-81ca-634592d1e1ef"
      },
      "outputs": [
        {
          "output_type": "error",
          "ename": "RuntimeError",
          "evalue": "asyncio.run() cannot be called from a running event loop",
          "traceback": [
            "\u001b[0;31m---------------------------------------------------------------------------\u001b[0m",
            "\u001b[0;31mRuntimeError\u001b[0m                              Traceback (most recent call last)",
            "\u001b[0;32m<ipython-input-23-38c2a90aa160>\u001b[0m in \u001b[0;36m<cell line: 0>\u001b[0;34m()\u001b[0m\n\u001b[1;32m     13\u001b[0m \u001b[0;34m\u001b[0m\u001b[0m\n\u001b[1;32m     14\u001b[0m \u001b[0;31m# Ensure to run the asynchronous function properly\u001b[0m\u001b[0;34m\u001b[0m\u001b[0;34m\u001b[0m\u001b[0m\n\u001b[0;32m---> 15\u001b[0;31m \u001b[0mfinal_result\u001b[0m \u001b[0;34m=\u001b[0m \u001b[0masyncio\u001b[0m\u001b[0;34m.\u001b[0m\u001b[0mrun\u001b[0m\u001b[0;34m(\u001b[0m\u001b[0mGetData\u001b[0m\u001b[0;34m(\u001b[0m\u001b[0mquestion\u001b[0m\u001b[0;34m,\u001b[0m \u001b[0manswer\u001b[0m\u001b[0;34m,\u001b[0m \u001b[0mexpected_answer\u001b[0m\u001b[0;34m,\u001b[0m \u001b[0mfull_marks\u001b[0m\u001b[0;34m)\u001b[0m\u001b[0;34m)\u001b[0m\u001b[0;34m\u001b[0m\u001b[0;34m\u001b[0m\u001b[0m\n\u001b[0m\u001b[1;32m     16\u001b[0m \u001b[0;34m\u001b[0m\u001b[0m\n\u001b[1;32m     17\u001b[0m \u001b[0;31m# Directly print the dictionary with 4-space indentation\u001b[0m\u001b[0;34m\u001b[0m\u001b[0;34m\u001b[0m\u001b[0m\n",
            "\u001b[0;32m/usr/lib/python3.11/asyncio/runners.py\u001b[0m in \u001b[0;36mrun\u001b[0;34m(main, debug)\u001b[0m\n\u001b[1;32m    184\u001b[0m     \u001b[0;32mif\u001b[0m \u001b[0mevents\u001b[0m\u001b[0;34m.\u001b[0m\u001b[0m_get_running_loop\u001b[0m\u001b[0;34m(\u001b[0m\u001b[0;34m)\u001b[0m \u001b[0;32mis\u001b[0m \u001b[0;32mnot\u001b[0m \u001b[0;32mNone\u001b[0m\u001b[0;34m:\u001b[0m\u001b[0;34m\u001b[0m\u001b[0;34m\u001b[0m\u001b[0m\n\u001b[1;32m    185\u001b[0m         \u001b[0;31m# fail fast with short traceback\u001b[0m\u001b[0;34m\u001b[0m\u001b[0;34m\u001b[0m\u001b[0m\n\u001b[0;32m--> 186\u001b[0;31m         raise RuntimeError(\n\u001b[0m\u001b[1;32m    187\u001b[0m             \"asyncio.run() cannot be called from a running event loop\")\n\u001b[1;32m    188\u001b[0m \u001b[0;34m\u001b[0m\u001b[0m\n",
            "\u001b[0;31mRuntimeError\u001b[0m: asyncio.run() cannot be called from a running event loop"
          ]
        }
      ],
      "source": [
        "\n",
        "import asyncio\n",
        "\n",
        "# Define the question, answer, expected_answer, and full_marks\n",
        "question = \"What is an Operating System?\"\n",
        "answer = \"\"\"Operating System is a System software that manages all the resources of the computing device.\n",
        "\n",
        "Acts as an interface between the software and different parts of the computer or the computer hardware.\n",
        "Manages the overall resources and operations of the computer.\n",
        "Controls and monitors the execution of all other programs that reside in the computer, which also includes application programs and other system software of the computer.\n",
        "Examples of Operating Systems are Windows, Linux, macOS, Android, iOS, etc.\"\"\"\n",
        "expected_answer = \"An operating system is system software that manages hardware and software resources.\"\n",
        "full_marks = 5\n",
        "\n",
        "# Ensure to run the asynchronous function properly\n",
        "final_result = asyncio.run(GetData(question, answer, expected_answer, full_marks))\n",
        "\n",
        "# Directly print the dictionary with 4-space indentation\n",
        "# Since final_result is already a dictionary, we can print it directly\n",
        "print(\"\\n\".join([f\"{key}: {value}\" for key, value in final_result.items()]))"
      ]
    },
    {
      "cell_type": "code",
      "execution_count": null,
      "metadata": {
        "id": "JaetcqH2N2RW"
      },
      "outputs": [],
      "source": [
        "\n",
        "generated_text = evaluate_answer(question, answer, full_marks, expected_answer)\n",
        "\n",
        "print(generated_text)"
      ]
    },
    {
      "cell_type": "code",
      "execution_count": null,
      "metadata": {
        "id": "l5EPix_zN4xI"
      },
      "outputs": [],
      "source": [
        "\n",
        "generated_text = evaluate_answer(question, answer, full_marks, expected_answer)\n",
        "\n",
        "print(generated_text)"
      ]
    },
    {
      "cell_type": "code",
      "execution_count": null,
      "metadata": {
        "id": "ODGOUZwnN_CG",
        "colab": {
          "base_uri": "https://localhost:8080/",
          "height": 1000,
          "referenced_widgets": [
            "4da70ae3246146d081a569c727ed88f7",
            "ed72bac70b9a472f88b0c8011c9aadcd",
            "ca77971bf2c0438eb7f33c248bd6cb9a",
            "6a94a680008049a7831ab2c50406165f",
            "fda05352fc9349ed964452ab2a82b1fb",
            "cc9ef1b987a84a08ae13e3cf9b9827c1",
            "0f5d1d549abd45549a47ba97c5a1b44b",
            "222f5588fe2a4d278fba6bd771cd56c7",
            "603804d46a6443a0a952f94320499b9a",
            "1502cffac2e74a17ab89efdce4cf33dd",
            "0e2353114fd146acb551afdbda53003a",
            "3b3d342fc7cd42bcabaf4a7f884a1643",
            "1a0c8466d4394cadaca7aa5a8a26e612",
            "12dbff2db50242ca9c9f040f7cd4c852",
            "13174df550c24f90b72bbd06f337f468",
            "1e2eafc17e5b43f5a789b678e262c973",
            "ffca174169d442ec9a8477daa61264ea",
            "12f99544bb1d46f7a9249c12b2938b8f",
            "29ba6021520847848a55328ba5a89de9",
            "4376a334b3b64941a5b8416650e0f5b8",
            "cd139441605143028d62ffa56313a7bb",
            "4fc9e3df4f9e4a7c8cc81fff1caf913a",
            "9aa30571920349c6b3ea2323d632a5f7",
            "b5a5b790c8124ed1ad46b6b695b1d5e9",
            "1ee6b1564c0e473b9070faa779fe196e",
            "3eb8b7a69dd04b0984671f8ac665065d",
            "d49522be9b444fb98ecc962d0742d486",
            "6929f4a98d0247c7b5e69b19a3bd69a0",
            "039c1a93664f464eb89177bb840b5442",
            "2442e23d1253462f8d1c1ffa5776e736",
            "e54584374b804f1eb4fac7559d9e1829",
            "59a5881e9c8443509b9e9d7216f7a6d6",
            "da248b6c45b24ce4957b7a3f4eb049be",
            "b127c2d5d05d479a98e2a2841f37c7bc",
            "850ef0801dfb421baa3d03070f445865",
            "d1602942361843d4a6e00dd48da5cbca",
            "e1e8594a02a3494ca4c3d0725e7ecb22",
            "096cf1dd0caa408495415a6f767946c4",
            "d0864caeaed048bb915c4436d6af14cb",
            "e3b9cb6d1d3145b382a8519000e70175",
            "ae944a724c314af99977b131a84e5b24",
            "7056ad585ffb4420a1b6255bbd900ee9",
            "5582028ba2024d66b0e830260b0ee1a9",
            "67926c233f58494382e4cf3986902626",
            "37e16115288649a5b87e696d527c4f6a",
            "5101c7a4088345468367cde143bbf0e7",
            "f52c4ff3fc8b4252a09bea7d902b6690",
            "121386b1b91a4208bc56c19f79ba76b7",
            "a2f5a74f4e264204b9c263c2142482cd",
            "3cf469a257fb4b28b7bbe54949729c8a",
            "71c4ecbe983e49d683077f65c3a9dc2d",
            "155d9e7fe9804794b8b1e8bcea5145ce",
            "ba48a03c76d3432fb82b0021940abe95",
            "39af033b756a4d55ba3eb8e9daacfb6d",
            "fbf2404872054a85a68e1567bf49dae9",
            "7f8f6ab51454420d9e78cdc751f83795",
            "5bf2e6ce5ee14a8a929cd4601d5ae97a",
            "a03c90f0f9bc4dafae5dba3223c92c21",
            "132d01548ef9446d836c8ba305b345a0",
            "b68da65c70f341f48a0db5ebe6b0469f",
            "5facd2456fa2407b87f790818361b824",
            "44a14090a13243dc9efc157aeb607dc2",
            "fc4d3c59c2794d6db8061a934127b74f",
            "d55fdcc519864b589cf2c21ca831f77a",
            "1dd98523937e41e199f4df0058ec319d",
            "eb25bc9123b64fbeb360d69ec898acc7"
          ]
        },
        "outputId": "0ed738a7-ca18-4fef-a57c-ee3039887816"
      },
      "outputs": [
        {
          "metadata": {
            "tags": null
          },
          "name": "stdout",
          "output_type": "stream",
          "text": [
            "Excel file loaded successfully.\n",
            "Access denied for https://www.reddit.com/r/MathHelp/comments/dldmdb/need_help_finding_what_im_doing_wrong_on_a/\n"
          ]
        },
        {
          "data": {
            "application/vnd.jupyter.widget-view+json": {
              "model_id": "4da70ae3246146d081a569c727ed88f7",
              "version_major": 2,
              "version_minor": 0
            },
            "text/plain": [
              "tokenizer_config.json:   0%|          | 0.00/25.0 [00:00<?, ?B/s]"
            ]
          },
          "metadata": {},
          "output_type": "display_data"
        },
        {
          "data": {
            "application/vnd.jupyter.widget-view+json": {
              "model_id": "3b3d342fc7cd42bcabaf4a7f884a1643",
              "version_major": 2,
              "version_minor": 0
            },
            "text/plain": [
              "config.json:   0%|          | 0.00/624 [00:00<?, ?B/s]"
            ]
          },
          "metadata": {},
          "output_type": "display_data"
        },
        {
          "data": {
            "application/vnd.jupyter.widget-view+json": {
              "model_id": "9aa30571920349c6b3ea2323d632a5f7",
              "version_major": 2,
              "version_minor": 0
            },
            "text/plain": [
              "vocab.json:   0%|          | 0.00/899k [00:00<?, ?B/s]"
            ]
          },
          "metadata": {},
          "output_type": "display_data"
        },
        {
          "data": {
            "application/vnd.jupyter.widget-view+json": {
              "model_id": "b127c2d5d05d479a98e2a2841f37c7bc",
              "version_major": 2,
              "version_minor": 0
            },
            "text/plain": [
              "merges.txt:   0%|          | 0.00/456k [00:00<?, ?B/s]"
            ]
          },
          "metadata": {},
          "output_type": "display_data"
        },
        {
          "data": {
            "application/vnd.jupyter.widget-view+json": {
              "model_id": "37e16115288649a5b87e696d527c4f6a",
              "version_major": 2,
              "version_minor": 0
            },
            "text/plain": [
              "tokenizer.json:   0%|          | 0.00/1.36M [00:00<?, ?B/s]"
            ]
          },
          "metadata": {},
          "output_type": "display_data"
        },
        {
          "data": {
            "application/vnd.jupyter.widget-view+json": {
              "model_id": "7f8f6ab51454420d9e78cdc751f83795",
              "version_major": 2,
              "version_minor": 0
            },
            "text/plain": [
              "model.safetensors:   0%|          | 0.00/501M [00:00<?, ?B/s]"
            ]
          },
          "metadata": {},
          "output_type": "display_data"
        },
        {
          "metadata": {
            "tags": null
          },
          "name": "stderr",
          "output_type": "stream",
          "text": [
            "Some weights of the model checkpoint at roberta-base-openai-detector were not used when initializing RobertaForSequenceClassification: ['roberta.pooler.dense.bias', 'roberta.pooler.dense.weight']\n",
            "- This IS expected if you are initializing RobertaForSequenceClassification from the checkpoint of a model trained on another task or with another architecture (e.g. initializing a BertForSequenceClassification model from a BertForPreTraining model).\n",
            "- This IS NOT expected if you are initializing RobertaForSequenceClassification from the checkpoint of a model that you expect to be exactly identical (initializing a BertForSequenceClassification model from a BertForSequenceClassification model).\n"
          ]
        },
        {
          "metadata": {
            "tags": null
          },
          "name": "stdout",
          "output_type": "stream",
          "text": [
            "Result for row 300: {'full_marks': 4.0, 'obtained_marks': None, 'strengths': [], 'areas_for_improvement': [], 'clarity_score': None, 'depth_score': None, 'final_marks_obtained': 0, 'feedback': None, 'student_word_count': 8, 'student_sentence_count': 1, 'plagiarism': False, 'average_score': 0, 'max_score': 0, 'max_score_url': '', 'AI_category': 'Human-written', 'AI_flag': False, 'AI_percentage': 56.03, 'AI_probabilities': {'Human-written': 0.43968886, 'AI-generated': 0.56031114}, 'reason': ''}\n"
          ]
        },
        {
          "metadata": {
            "tags": null
          },
          "name": "stderr",
          "output_type": "stream",
          "text": [
            "<ipython-input-24-d5f1273cdd7e>:77: FutureWarning: Setting an item of incompatible dtype is deprecated and will raise an error in a future version of pandas. Value 'None' has dtype incompatible with float64, please explicitly cast to a compatible dtype first.\n",
            "  df.at[index, col] = value\n"
          ]
        },
        {
          "metadata": {
            "tags": null
          },
          "name": "stdout",
          "output_type": "stream",
          "text": [
            "Row 300 results saved to /content/drive/MyDrive/updated_results.xlsx\n",
            "Failed to fetch /search?num=12: /search?num=12\n"
          ]
        },
        {
          "metadata": {
            "tags": null
          },
          "name": "stderr",
          "output_type": "stream",
          "text": [
            "Some weights of the model checkpoint at roberta-base-openai-detector were not used when initializing RobertaForSequenceClassification: ['roberta.pooler.dense.bias', 'roberta.pooler.dense.weight']\n",
            "- This IS expected if you are initializing RobertaForSequenceClassification from the checkpoint of a model trained on another task or with another architecture (e.g. initializing a BertForSequenceClassification model from a BertForPreTraining model).\n",
            "- This IS NOT expected if you are initializing RobertaForSequenceClassification from the checkpoint of a model that you expect to be exactly identical (initializing a BertForSequenceClassification model from a BertForSequenceClassification model).\n"
          ]
        },
        {
          "metadata": {
            "tags": null
          },
          "name": "stdout",
          "output_type": "stream",
          "text": [
            "Result for row 301: {'full_marks': 4.0, 'obtained_marks': 3.5, 'strengths': ['Correct answer', 'Completeness is good'], 'areas_for_improvement': ['Give more details and examples', 'Could have given more depth'], 'clarity_score': 8.0, 'depth_score': 7.0, 'final_marks_obtained': 2, 'feedback': 'Correct answer but could have given more details and examples. Completeness is good. Clarity is 8, depth is 7', 'student_word_count': 44, 'student_sentence_count': 4, 'plagiarism': False, 'average_score': 0, 'max_score': 0, 'max_score_url': '', 'AI_category': 'AI-generated', 'AI_flag': True, 'AI_percentage': 99.66, 'AI_probabilities': {'Human-written': 0.003438906, 'AI-generated': 0.9965611}, 'reason': 'Penalty applied for AI detection exceeding 30%'}\n",
            "Row 301 results saved to /content/drive/MyDrive/updated_results.xlsx\n",
            "Access denied for https://www.reddit.com/r/packettracer/comments/jhjn7p/packet_tracer_help/\n"
          ]
        },
        {
          "metadata": {
            "tags": null
          },
          "name": "stderr",
          "output_type": "stream",
          "text": [
            "Some weights of the model checkpoint at roberta-base-openai-detector were not used when initializing RobertaForSequenceClassification: ['roberta.pooler.dense.bias', 'roberta.pooler.dense.weight']\n",
            "- This IS expected if you are initializing RobertaForSequenceClassification from the checkpoint of a model trained on another task or with another architecture (e.g. initializing a BertForSequenceClassification model from a BertForPreTraining model).\n",
            "- This IS NOT expected if you are initializing RobertaForSequenceClassification from the checkpoint of a model that you expect to be exactly identical (initializing a BertForSequenceClassification model from a BertForSequenceClassification model).\n"
          ]
        },
        {
          "metadata": {
            "tags": null
          },
          "name": "stdout",
          "output_type": "stream",
          "text": [
            "Result for row 302: {'full_marks': 5.0, 'obtained_marks': 5.0, 'strengths': [], 'areas_for_improvement': [], 'clarity_score': 9.5, 'depth_score': 8.5, 'final_marks_obtained': 4, 'feedback': 'You have provided the correct answers for all the questions. Your answers are complete, clear and relevant. You have also provided a good level of detail and depth. Overall, your response is excellent.', 'student_word_count': 6, 'student_sentence_count': 6, 'plagiarism': False, 'average_score': 0, 'max_score': 0, 'max_score_url': '', 'AI_category': 'Human-written', 'AI_flag': False, 'AI_percentage': 36.17, 'AI_probabilities': {'Human-written': 0.638277, 'AI-generated': 0.36172298}, 'reason': ''}\n",
            "Row 302 results saved to /content/drive/MyDrive/updated_results.xlsx\n",
            "Failed to fetch /search?num=12: /search?num=12\n",
            "Failed to fetch /search?num=12: /search?num=12\n",
            "Failed to fetch https://aec.edu.in/aec/Instruction_Material/CNS%20U-1.pdf: Cannot connect to host aec.edu.in:443 ssl:default [Connect call failed ('210.212.210.90', 443)]\n",
            "Error processing row 303: \n",
            "Failed to fetch /search?num=12: /search?num=12\n",
            "Failed to fetch /search?num=12: /search?num=12\n",
            "Access denied for https://www.thesslstore.com/blog/block-cipher-vs-stream-cipher/\n",
            "Failed to fetch https://clai.com/cryptography-aes-replacement-of-des-cryptography/: Cannot connect to host clai.com:443 ssl:True [SSLCertVerificationError: (1, '[SSL: CERTIFICATE_VERIFY_FAILED] certificate verify failed: unable to get local issuer certificate (_ssl.c:1006)')]\n"
          ]
        },
        {
          "metadata": {
            "tags": null
          },
          "name": "stderr",
          "output_type": "stream",
          "text": [
            "Some weights of the model checkpoint at roberta-base-openai-detector were not used when initializing RobertaForSequenceClassification: ['roberta.pooler.dense.bias', 'roberta.pooler.dense.weight']\n",
            "- This IS expected if you are initializing RobertaForSequenceClassification from the checkpoint of a model trained on another task or with another architecture (e.g. initializing a BertForSequenceClassification model from a BertForPreTraining model).\n",
            "- This IS NOT expected if you are initializing RobertaForSequenceClassification from the checkpoint of a model that you expect to be exactly identical (initializing a BertForSequenceClassification model from a BertForSequenceClassification model).\n"
          ]
        },
        {
          "metadata": {
            "tags": null
          },
          "name": "stdout",
          "output_type": "stream",
          "text": [
            "Result for row 304: {'full_marks': 2.0, 'obtained_marks': 1.0, 'strengths': [], 'areas_for_improvement': ['Provide a complete answer', 'Answer according to the asked question'], 'clarity_score': 3.0, 'depth_score': 3.0, 'final_marks_obtained': 1, 'feedback': 'Answer is incomplete and not according to asked question', 'student_word_count': 61, 'student_sentence_count': 6, 'plagiarism': False, 'average_score': 0, 'max_score': 20.0, 'max_score_url': 'https://www.tutorialspoint.com/unlock-the-secrets-of-stream-ciphers-an-ultimate-guide', 'AI_category': 'AI-generated', 'AI_flag': True, 'AI_percentage': 99.98, 'AI_probabilities': {'Human-written': 0.00022289253, 'AI-generated': 0.99977714}, 'reason': 'Penalty applied for AI detection exceeding 30%'}\n"
          ]
        },
        {
          "metadata": {
            "tags": null
          },
          "name": "stderr",
          "output_type": "stream",
          "text": [
            "/usr/local/lib/python3.11/dist-packages/openpyxl/cell/cell.py:109: RuntimeWarning: coroutine 'GetData' was never awaited\n",
            "  super().__init__(worksheet, style_array)\n",
            "RuntimeWarning: Enable tracemalloc to get the object allocation traceback\n"
          ]
        },
        {
          "metadata": {
            "tags": null
          },
          "name": "stdout",
          "output_type": "stream",
          "text": [
            "Row 304 results saved to /content/drive/MyDrive/updated_results.xlsx\n",
            "Access denied for https://www.thesslstore.com/blog/what-is-a-hash-function-in-cryptography-a-beginners-guide/\n",
            "Access denied for https://www.researchgate.net/publication/380746074_Cyber_Security_and_Digital_Economy_Opportunities_Growth_and_Challenges\n",
            "Access denied for https://www.researchgate.net/publication/376635392_The_role_of_cyber_security_in_advancing_sustainable_digitalization_Opportunities_and_challenges\n",
            "Access denied for https://brainly.com/question/20008174\n",
            "Access denied for https://www.reddit.com/r/linux/comments/z5bjbo/how_do_applications_store_passwords_and_other/\n"
          ]
        },
        {
          "metadata": {
            "tags": null
          },
          "name": "stderr",
          "output_type": "stream",
          "text": [
            "Some weights of the model checkpoint at roberta-base-openai-detector were not used when initializing RobertaForSequenceClassification: ['roberta.pooler.dense.bias', 'roberta.pooler.dense.weight']\n",
            "- This IS expected if you are initializing RobertaForSequenceClassification from the checkpoint of a model trained on another task or with another architecture (e.g. initializing a BertForSequenceClassification model from a BertForPreTraining model).\n",
            "- This IS NOT expected if you are initializing RobertaForSequenceClassification from the checkpoint of a model that you expect to be exactly identical (initializing a BertForSequenceClassification model from a BertForSequenceClassification model).\n"
          ]
        },
        {
          "metadata": {
            "tags": null
          },
          "name": "stdout",
          "output_type": "stream",
          "text": [
            "Result for row 305: {'full_marks': 2.0, 'obtained_marks': 2.0, 'strengths': ['Correct answer', 'Complete answer', 'Relevant examples'], 'areas_for_improvement': ['More depth and detail about how hash functions work and how they are used in digital systems', 'More specific examples of real-world applications'], 'clarity_score': 8.0, 'depth_score': 7.0, 'final_marks_obtained': 1, 'feedback': 'Great job, your answer is correct and complete. You have provided a good overview of hash functions and their purpose. Your answer is also relevant and provides examples of real-world applications. However, it would be helpful to provide more depth and detail about the specifics of how hash functions work and how they are used in digital systems. Additionally, your answer could be improved by providing more specific examples of real-world applications, such as how hash functions are used in digital signature and password storage.', 'student_word_count': 71, 'student_sentence_count': 6, 'plagiarism': False, 'average_score': 0, 'max_score': 16.666666666666664, 'max_score_url': 'https://www.tuple.nl/en/knowledge-base/hashing', 'AI_category': 'AI-generated', 'AI_flag': True, 'AI_percentage': 99.98, 'AI_probabilities': {'Human-written': 0.00016861093, 'AI-generated': 0.9998313}, 'reason': 'Penalty applied for AI detection exceeding 30%'}\n",
            "Row 305 results saved to /content/drive/MyDrive/updated_results.xlsx\n",
            "Failed to fetch /search?num=12: /search?num=12\n",
            "Failed to fetch /search?num=2: /search?num=2\n",
            "Failed to fetch : \n",
            "Failed to fetch : \n",
            "Failed to fetch : \n",
            "Failed to fetch : \n",
            "Failed to fetch : \n",
            "Failed to fetch : \n",
            "Failed to fetch : \n"
          ]
        },
        {
          "metadata": {
            "tags": null
          },
          "name": "stderr",
          "output_type": "stream",
          "text": [
            "Some weights of the model checkpoint at roberta-base-openai-detector were not used when initializing RobertaForSequenceClassification: ['roberta.pooler.dense.bias', 'roberta.pooler.dense.weight']\n",
            "- This IS expected if you are initializing RobertaForSequenceClassification from the checkpoint of a model trained on another task or with another architecture (e.g. initializing a BertForSequenceClassification model from a BertForPreTraining model).\n",
            "- This IS NOT expected if you are initializing RobertaForSequenceClassification from the checkpoint of a model that you expect to be exactly identical (initializing a BertForSequenceClassification model from a BertForSequenceClassification model).\n"
          ]
        },
        {
          "metadata": {
            "tags": null
          },
          "name": "stdout",
          "output_type": "stream",
          "text": [
            "Result for row 306: {'full_marks': 2.0, 'obtained_marks': None, 'strengths': [], 'areas_for_improvement': [], 'clarity_score': None, 'depth_score': None, 'final_marks_obtained': 0, 'feedback': None, 'student_word_count': 10, 'student_sentence_count': 0, 'plagiarism': False, 'average_score': 0, 'max_score': 0, 'max_score_url': '', 'AI_category': 'AI-generated', 'AI_flag': True, 'AI_percentage': 83.45, 'AI_probabilities': {'Human-written': 0.16553402, 'AI-generated': 0.834466}, 'reason': 'Penalty applied for AI detection exceeding 30%'}\n",
            "Row 306 results saved to /content/drive/MyDrive/updated_results.xlsx\n",
            "Failed to fetch /search?q=Cipher+text+LQIRUPDWLRQ+VHFULWB+PLAIN+TEXT+:+INFORMATION+SECURITY&num=12&safe=active&sca_esv=2894001585057402&hl=en&ie=UTF-8&filter=0: /search?q=Cipher+text+LQIRUPDWLRQ+VHFULWB+PLAIN+TEXT+:+INFORMATION+SECURITY&num=12&safe=active&sca_esv=2894001585057402&hl=en&ie=UTF-8&filter=0\n",
            "Failed to fetch /search?num=12: /search?num=12\n"
          ]
        },
        {
          "metadata": {
            "tags": null
          },
          "name": "stderr",
          "output_type": "stream",
          "text": [
            "Some weights of the model checkpoint at roberta-base-openai-detector were not used when initializing RobertaForSequenceClassification: ['roberta.pooler.dense.bias', 'roberta.pooler.dense.weight']\n",
            "- This IS expected if you are initializing RobertaForSequenceClassification from the checkpoint of a model trained on another task or with another architecture (e.g. initializing a BertForSequenceClassification model from a BertForPreTraining model).\n",
            "- This IS NOT expected if you are initializing RobertaForSequenceClassification from the checkpoint of a model that you expect to be exactly identical (initializing a BertForSequenceClassification model from a BertForSequenceClassification model).\n"
          ]
        },
        {
          "metadata": {
            "tags": null
          },
          "name": "stdout",
          "output_type": "stream",
          "text": [
            "Result for row 307: {'full_marks': 2.0, 'obtained_marks': 2.0, 'strengths': ['You have correctly decrypted the cipher text.', 'You have provided a correct answer.'], 'areas_for_improvement': ['You could provide a more detailed explanation of your solution.', 'You could provide more examples of how to decrypt different types of ciphers.', 'You could make your explanation clearer and more concise.'], 'clarity_score': 7.0, 'depth_score': 7.0, 'final_marks_obtained': 1, 'feedback': 'Good job! You have correctly decrypted the cipher text. However, your answer could be more detailed and include more information about how you arrived at your solution. You could also provide a brief explanation of the Caesar Cipher algorithm and how it works. In addition, you could provide more examples of how to decrypt different types of ciphers. Finally, your explanation could be clearer and more concise.', 'student_word_count': 9, 'student_sentence_count': 0, 'plagiarism': False, 'average_score': 0, 'max_score': 0, 'max_score_url': '', 'AI_category': 'Human-written', 'AI_flag': False, 'AI_percentage': 68.45, 'AI_probabilities': {'Human-written': 0.31547663, 'AI-generated': 0.68452334}, 'reason': ''}\n",
            "Row 307 results saved to /content/drive/MyDrive/updated_results.xlsx\n",
            "Access denied for https://open.spotify.com/track/20FZrLl9zSbO9b3DhaqO6M\n"
          ]
        },
        {
          "metadata": {
            "tags": null
          },
          "name": "stderr",
          "output_type": "stream",
          "text": [
            "Some weights of the model checkpoint at roberta-base-openai-detector were not used when initializing RobertaForSequenceClassification: ['roberta.pooler.dense.bias', 'roberta.pooler.dense.weight']\n",
            "- This IS expected if you are initializing RobertaForSequenceClassification from the checkpoint of a model trained on another task or with another architecture (e.g. initializing a BertForSequenceClassification model from a BertForPreTraining model).\n",
            "- This IS NOT expected if you are initializing RobertaForSequenceClassification from the checkpoint of a model that you expect to be exactly identical (initializing a BertForSequenceClassification model from a BertForSequenceClassification model).\n"
          ]
        },
        {
          "metadata": {
            "tags": null
          },
          "name": "stdout",
          "output_type": "stream",
          "text": [
            "Result for row 308: {'full_marks': 4.0, 'obtained_marks': None, 'strengths': [], 'areas_for_improvement': [], 'clarity_score': None, 'depth_score': None, 'final_marks_obtained': 0, 'feedback': None, 'student_word_count': 1, 'student_sentence_count': 0, 'plagiarism': False, 'average_score': 0, 'max_score': 0, 'max_score_url': '', 'AI_category': 'Human-written', 'AI_flag': False, 'AI_percentage': 0.12, 'AI_probabilities': {'Human-written': 0.99879324, 'AI-generated': 0.0012067063}, 'reason': ''}\n",
            "Row 308 results saved to /content/drive/MyDrive/updated_results.xlsx\n",
            "Failed to fetch /search?num=12: /search?num=12\n",
            "Access denied for https://www.slideshare.net/slideshow/lecture-06-32370438/32370438\n"
          ]
        },
        {
          "metadata": {
            "tags": null
          },
          "name": "stderr",
          "output_type": "stream",
          "text": [
            "Some weights of the model checkpoint at roberta-base-openai-detector were not used when initializing RobertaForSequenceClassification: ['roberta.pooler.dense.bias', 'roberta.pooler.dense.weight']\n",
            "- This IS expected if you are initializing RobertaForSequenceClassification from the checkpoint of a model trained on another task or with another architecture (e.g. initializing a BertForSequenceClassification model from a BertForPreTraining model).\n",
            "- This IS NOT expected if you are initializing RobertaForSequenceClassification from the checkpoint of a model that you expect to be exactly identical (initializing a BertForSequenceClassification model from a BertForSequenceClassification model).\n"
          ]
        },
        {
          "metadata": {
            "tags": null
          },
          "name": "stdout",
          "output_type": "stream",
          "text": [
            "Result for row 309: {'full_marks': 4.0, 'obtained_marks': 3.0, 'strengths': [], 'areas_for_improvement': ['Give more detail and depth to the answer.'], 'clarity_score': 8.0, 'depth_score': 6.0, 'final_marks_obtained': 2, 'feedback': 'Good effort, but answer is incomplete and lacks depth.', 'student_word_count': 129, 'student_sentence_count': 3, 'plagiarism': False, 'average_score': 0, 'max_score': 0.8, 'max_score_url': 'https://orhanergun.net/tcp-ip-vs-osi-model', 'AI_category': 'AI-generated', 'AI_flag': True, 'AI_percentage': 99.98, 'AI_probabilities': {'Human-written': 0.0001857806, 'AI-generated': 0.9998142}, 'reason': 'Penalty applied for AI detection exceeding 30%'}\n",
            "Row 309 results saved to /content/drive/MyDrive/updated_results.xlsx\n",
            "Access denied for https://www.reddit.com/r/packettracer/comments/jhjn7p/packet_tracer_help/\n"
          ]
        },
        {
          "metadata": {
            "tags": null
          },
          "name": "stderr",
          "output_type": "stream",
          "text": [
            "Some weights of the model checkpoint at roberta-base-openai-detector were not used when initializing RobertaForSequenceClassification: ['roberta.pooler.dense.bias', 'roberta.pooler.dense.weight']\n",
            "- This IS expected if you are initializing RobertaForSequenceClassification from the checkpoint of a model trained on another task or with another architecture (e.g. initializing a BertForSequenceClassification model from a BertForPreTraining model).\n",
            "- This IS NOT expected if you are initializing RobertaForSequenceClassification from the checkpoint of a model that you expect to be exactly identical (initializing a BertForSequenceClassification model from a BertForSequenceClassification model).\n"
          ]
        },
        {
          "metadata": {
            "tags": null
          },
          "name": "stdout",
          "output_type": "stream",
          "text": [
            "Result for row 310: {'full_marks': 5.0, 'obtained_marks': 5.0, 'strengths': ['Correctness of answer', 'Clarity of answer', 'Completeness of answer'], 'areas_for_improvement': ['Depth score could be improved by providing more information about the subnet and its properties.'], 'clarity_score': 9.0, 'depth_score': 7.0, 'final_marks_obtained': 4, 'feedback': 'Good job! You have answered all three parts correctly and provided detailed answers. Keep up the good work!', 'student_word_count': 9, 'student_sentence_count': 6, 'plagiarism': False, 'average_score': 0, 'max_score': 0, 'max_score_url': '', 'AI_category': 'Human-written', 'AI_flag': False, 'AI_percentage': 18.12, 'AI_probabilities': {'Human-written': 0.8187839, 'AI-generated': 0.18121615}, 'reason': ''}\n",
            "Row 310 results saved to /content/drive/MyDrive/updated_results.xlsx\n",
            "Failed to fetch /search?num=12: /search?num=12\n"
          ]
        },
        {
          "metadata": {
            "tags": null
          },
          "name": "stderr",
          "output_type": "stream",
          "text": [
            "Some weights of the model checkpoint at roberta-base-openai-detector were not used when initializing RobertaForSequenceClassification: ['roberta.pooler.dense.bias', 'roberta.pooler.dense.weight']\n",
            "- This IS expected if you are initializing RobertaForSequenceClassification from the checkpoint of a model trained on another task or with another architecture (e.g. initializing a BertForSequenceClassification model from a BertForPreTraining model).\n",
            "- This IS NOT expected if you are initializing RobertaForSequenceClassification from the checkpoint of a model that you expect to be exactly identical (initializing a BertForSequenceClassification model from a BertForSequenceClassification model).\n"
          ]
        },
        {
          "metadata": {
            "tags": null
          },
          "name": "stdout",
          "output_type": "stream",
          "text": [
            "Result for row 311: {'full_marks': 4.0, 'obtained_marks': 0.0, 'strengths': [], 'areas_for_improvement': ['Explain security services and security attacks'], 'clarity_score': 0.0, 'depth_score': 0.0, 'final_marks_obtained': 0, 'feedback': \"Your answer is not complete and not according to the asked question. You didn't explain security services and security attacks.\", 'student_word_count': 53, 'student_sentence_count': 0, 'plagiarism': False, 'average_score': 0, 'max_score': 0, 'max_score_url': '', 'AI_category': 'AI-generated', 'AI_flag': True, 'AI_percentage': 99.45, 'AI_probabilities': {'Human-written': 0.0054757446, 'AI-generated': 0.99452424}, 'reason': 'Penalty applied for AI detection exceeding 30%'}\n",
            "Row 311 results saved to /content/drive/MyDrive/updated_results.xlsx\n",
            "Failed to fetch /search?num=12: /search?num=12\n",
            "Access denied for https://www.slideshare.net/slideshow/3pptx/261920555\n"
          ]
        },
        {
          "metadata": {
            "tags": null
          },
          "name": "stderr",
          "output_type": "stream",
          "text": [
            "Some weights of the model checkpoint at roberta-base-openai-detector were not used when initializing RobertaForSequenceClassification: ['roberta.pooler.dense.bias', 'roberta.pooler.dense.weight']\n",
            "- This IS expected if you are initializing RobertaForSequenceClassification from the checkpoint of a model trained on another task or with another architecture (e.g. initializing a BertForSequenceClassification model from a BertForPreTraining model).\n",
            "- This IS NOT expected if you are initializing RobertaForSequenceClassification from the checkpoint of a model that you expect to be exactly identical (initializing a BertForSequenceClassification model from a BertForSequenceClassification model).\n"
          ]
        },
        {
          "metadata": {
            "tags": null
          },
          "name": "stdout",
          "output_type": "stream",
          "text": [
            "Result for row 312: {'full_marks': 2.0, 'obtained_marks': 2.0, 'strengths': ['The answer is correct.'], 'areas_for_improvement': ['The answer lacks depth and clarity.', 'It only mentions the basic differences between block and stream ciphers and does not provide any examples.'], 'clarity_score': 4.0, 'depth_score': 2.0, 'final_marks_obtained': 1, 'feedback': 'The answer is correct but it lacks depth and clarity. It only mentions the basic differences between block and stream ciphers and does not provide any examples. To get full marks, the answer should provide more detailed explanations and examples for each type of cipher.', 'student_word_count': 51, 'student_sentence_count': 3, 'plagiarism': False, 'average_score': 0, 'max_score': 16.666666666666664, 'max_score_url': 'https://www.twingate.com/blog/glossary/block-cipher-algorithm', 'AI_category': 'AI-generated', 'AI_flag': True, 'AI_percentage': 91.59, 'AI_probabilities': {'Human-written': 0.08407292, 'AI-generated': 0.9159271}, 'reason': 'Penalty applied for AI detection exceeding 30%'}\n",
            "Row 312 results saved to /content/drive/MyDrive/updated_results.xlsx\n",
            "Failed to fetch /search?num=12: /search?num=12\n",
            "Access denied for https://www.thesslstore.com/blog/what-is-a-hash-function-in-cryptography-a-beginners-guide/\n",
            "Error processing row 313: \n",
            "Failed to fetch /search?num=12: /search?num=12\n",
            "Failed to fetch /search?num=12: /search?num=12\n",
            "Failed to fetch /search?num=2: /search?num=2\n",
            "Failed to fetch : \n"
          ]
        },
        {
          "metadata": {
            "tags": null
          },
          "name": "stderr",
          "output_type": "stream",
          "text": [
            "Some weights of the model checkpoint at roberta-base-openai-detector were not used when initializing RobertaForSequenceClassification: ['roberta.pooler.dense.bias', 'roberta.pooler.dense.weight']\n",
            "- This IS expected if you are initializing RobertaForSequenceClassification from the checkpoint of a model trained on another task or with another architecture (e.g. initializing a BertForSequenceClassification model from a BertForPreTraining model).\n",
            "- This IS NOT expected if you are initializing RobertaForSequenceClassification from the checkpoint of a model that you expect to be exactly identical (initializing a BertForSequenceClassification model from a BertForSequenceClassification model).\n"
          ]
        },
        {
          "metadata": {
            "tags": null
          },
          "name": "stdout",
          "output_type": "stream",
          "text": [
            "Result for row 314: {'full_marks': 2.0, 'obtained_marks': 2.0, 'strengths': [\"You have correctly completed the task of encrypting the message 'OPERATING SYSTEM' using a Caesar Cipher with a shift of 5.\"], 'areas_for_improvement': ['Providing more detailed explanations of the process you used.', 'Adding some additional examples to demonstrate your understanding of Caesar Ciphers.'], 'clarity_score': 8.0, 'depth_score': 8.0, 'final_marks_obtained': 1, 'feedback': \"You have correctly completed the task of encrypting the message 'OPERATING SYSTEM' using a Caesar Cipher with a shift of 5. However, your answer could be improved by providing more detailed explanations of the process you used. You may also want to consider adding some additional examples to demonstrate your understanding of Caesar Ciphers.\", 'student_word_count': 9, 'student_sentence_count': 0, 'plagiarism': False, 'average_score': 0, 'max_score': 0, 'max_score_url': '', 'AI_category': 'AI-generated', 'AI_flag': True, 'AI_percentage': 98.45, 'AI_probabilities': {'Human-written': 0.015503764, 'AI-generated': 0.98449624}, 'reason': 'Penalty applied for AI detection exceeding 30%'}\n",
            "Row 314 results saved to /content/drive/MyDrive/updated_results.xlsx\n",
            "Failed to fetch /search?q=Cipher+text+:-+LQIRUPDWLRQ+VHFULWB%0Aplain+text+:-+information+security&num=12&safe=active&sca_esv=2894001585057402&hl=en&ie=UTF-8&filter=0: /search?q=Cipher+text+:-+LQIRUPDWLRQ+VHFULWB%0Aplain+text+:-+information+security&num=12&safe=active&sca_esv=2894001585057402&hl=en&ie=UTF-8&filter=0\n",
            "Failed to fetch /search?num=12: /search?num=12\n"
          ]
        },
        {
          "metadata": {
            "tags": null
          },
          "name": "stderr",
          "output_type": "stream",
          "text": [
            "Some weights of the model checkpoint at roberta-base-openai-detector were not used when initializing RobertaForSequenceClassification: ['roberta.pooler.dense.bias', 'roberta.pooler.dense.weight']\n",
            "- This IS expected if you are initializing RobertaForSequenceClassification from the checkpoint of a model trained on another task or with another architecture (e.g. initializing a BertForSequenceClassification model from a BertForPreTraining model).\n",
            "- This IS NOT expected if you are initializing RobertaForSequenceClassification from the checkpoint of a model that you expect to be exactly identical (initializing a BertForSequenceClassification model from a BertForSequenceClassification model).\n"
          ]
        },
        {
          "metadata": {
            "tags": null
          },
          "name": "stdout",
          "output_type": "stream",
          "text": [
            "Result for row 315: {'full_marks': 2.0, 'obtained_marks': 8.0, 'strengths': ['Correct answer', 'Explanation provided'], 'areas_for_improvement': ['Clarity could be improved', 'Depth could be improved'], 'clarity_score': 7.0, 'depth_score': 6.0, 'final_marks_obtained': 1, 'feedback': 'Good effort! Keep practicing and you can achieve full marks.', 'student_word_count': 10, 'student_sentence_count': 0, 'plagiarism': False, 'average_score': 0, 'max_score': 0, 'max_score_url': '', 'AI_category': 'AI-generated', 'AI_flag': True, 'AI_percentage': 95.08, 'AI_probabilities': {'Human-written': 0.049179904, 'AI-generated': 0.95082}, 'reason': 'Penalty applied for exceeding 90% of full marks; Penalty applied for AI detection exceeding 30%'}\n",
            "Row 315 results saved to /content/drive/MyDrive/updated_results.xlsx\n",
            "Access denied for https://www.reddit.com/r/MathHelp/comments/dldmdb/need_help_finding_what_im_doing_wrong_on_a/\n",
            "Error processing row 316: \n",
            "Access denied for https://www.cloudflare.com/learning/ddos/glossary/open-systems-interconnection-model-osi/\n",
            "Access denied for https://www.cloudflare.com/learning/ddos/glossary/open-systems-interconnection-model-osi/\n"
          ]
        },
        {
          "metadata": {
            "tags": null
          },
          "name": "stderr",
          "output_type": "stream",
          "text": [
            "Some weights of the model checkpoint at roberta-base-openai-detector were not used when initializing RobertaForSequenceClassification: ['roberta.pooler.dense.bias', 'roberta.pooler.dense.weight']\n",
            "- This IS expected if you are initializing RobertaForSequenceClassification from the checkpoint of a model trained on another task or with another architecture (e.g. initializing a BertForSequenceClassification model from a BertForPreTraining model).\n",
            "- This IS NOT expected if you are initializing RobertaForSequenceClassification from the checkpoint of a model that you expect to be exactly identical (initializing a BertForSequenceClassification model from a BertForSequenceClassification model).\n"
          ]
        },
        {
          "metadata": {
            "tags": null
          },
          "name": "stdout",
          "output_type": "stream",
          "text": [
            "Result for row 317: {'full_marks': 4.0, 'obtained_marks': None, 'strengths': [], 'areas_for_improvement': [], 'clarity_score': None, 'depth_score': None, 'final_marks_obtained': 0, 'feedback': None, 'student_word_count': 29, 'student_sentence_count': 3, 'plagiarism': False, 'average_score': 0, 'max_score': 0, 'max_score_url': '', 'AI_category': 'AI-generated', 'AI_flag': True, 'AI_percentage': 98.19, 'AI_probabilities': {'Human-written': 0.018089343, 'AI-generated': 0.98191065}, 'reason': 'Penalty applied for AI detection exceeding 30%'}\n",
            "Row 317 results saved to /content/drive/MyDrive/updated_results.xlsx\n",
            "Failed to fetch : \n",
            "Failed to fetch /search?num=12: /search?num=12\n",
            "Access denied for https://www.reddit.com/r/HomeNetworking/comments/11r0syv/19216816426_but_how/\n",
            "Access denied for https://interlir.com/2024/12/26/a-beginners-guide-to-subnetting-ipv4-and-ipv6-addresses/\n",
            "Access denied for https://www.kentwood.us/city_services/city_departments/court_(62-b_district)/index.php\n",
            "Error processing row 318: \n",
            "Access denied for https://www.cloudflare.com/learning/ddos/famous-ddos-attacks/\n"
          ]
        },
        {
          "metadata": {
            "tags": null
          },
          "name": "stderr",
          "output_type": "stream",
          "text": [
            "Some weights of the model checkpoint at roberta-base-openai-detector were not used when initializing RobertaForSequenceClassification: ['roberta.pooler.dense.bias', 'roberta.pooler.dense.weight']\n",
            "- This IS expected if you are initializing RobertaForSequenceClassification from the checkpoint of a model trained on another task or with another architecture (e.g. initializing a BertForSequenceClassification model from a BertForPreTraining model).\n",
            "- This IS NOT expected if you are initializing RobertaForSequenceClassification from the checkpoint of a model that you expect to be exactly identical (initializing a BertForSequenceClassification model from a BertForSequenceClassification model).\n"
          ]
        },
        {
          "metadata": {
            "tags": null
          },
          "name": "stdout",
          "output_type": "stream",
          "text": [
            "Result for row 319: {'full_marks': 4.0, 'obtained_marks': 4.0, 'strengths': ['Explanation of security services and security attacks is clear and correct'], 'areas_for_improvement': ['Could have included more detail on security services and security attacks'], 'clarity_score': 8.0, 'depth_score': 7.0, 'final_marks_obtained': 2, 'feedback': 'Your answer is good but you could have included more detail on some points. The clarity and depth of your answer could be improved.', 'student_word_count': 38, 'student_sentence_count': 4, 'plagiarism': False, 'average_score': 0, 'max_score': 14.285714285714285, 'max_score_url': 'https://www.techtarget.com/searchsecurity/feature/10-types-of-security-incidents-and-how-to-handle-them', 'AI_category': 'AI-generated', 'AI_flag': True, 'AI_percentage': 99.96, 'AI_probabilities': {'Human-written': 0.00044450432, 'AI-generated': 0.9995555}, 'reason': 'Penalty applied for AI detection exceeding 30%'}\n",
            "Row 319 results saved to /content/drive/MyDrive/updated_results.xlsx\n"
          ]
        },
        {
          "metadata": {
            "tags": null
          },
          "name": "stderr",
          "output_type": "stream",
          "text": [
            "Some weights of the model checkpoint at roberta-base-openai-detector were not used when initializing RobertaForSequenceClassification: ['roberta.pooler.dense.bias', 'roberta.pooler.dense.weight']\n",
            "- This IS expected if you are initializing RobertaForSequenceClassification from the checkpoint of a model trained on another task or with another architecture (e.g. initializing a BertForSequenceClassification model from a BertForPreTraining model).\n",
            "- This IS NOT expected if you are initializing RobertaForSequenceClassification from the checkpoint of a model that you expect to be exactly identical (initializing a BertForSequenceClassification model from a BertForSequenceClassification model).\n"
          ]
        },
        {
          "metadata": {
            "tags": null
          },
          "name": "stdout",
          "output_type": "stream",
          "text": [
            "Result for row 320: {'full_marks': 2.0, 'obtained_marks': 2.0, 'strengths': ['Correct answer', 'Good explanation', 'Clarity'], 'areas_for_improvement': ['Additional details', 'More depth'], 'clarity_score': 10.0, 'depth_score': 10.0, 'final_marks_obtained': 1, 'feedback': 'Good job! You have answered the question correctly. You have provided a clear and concise answer. You have also provided a good explanation of block ciphers and stream ciphers. However, you could have gone into more detail about the specific algorithms used for each. Overall, your answer is good but could be improved with some additional details and depth.', 'student_word_count': 32, 'student_sentence_count': 3, 'plagiarism': False, 'average_score': 0, 'max_score': 0, 'max_score_url': '', 'AI_category': 'AI-generated', 'AI_flag': True, 'AI_percentage': 99.76, 'AI_probabilities': {'Human-written': 0.002422672, 'AI-generated': 0.99757737}, 'reason': 'Penalty applied for AI detection exceeding 30%'}\n",
            "Row 320 results saved to /content/drive/MyDrive/updated_results.xlsx\n",
            "Access denied for https://www.thesslstore.com/blog/what-is-a-hash-function-in-cryptography-a-beginners-guide/\n",
            "Access denied for https://www.gadgetaccess.com/encryption-hashing-and-salting/\n"
          ]
        },
        {
          "metadata": {
            "tags": null
          },
          "name": "stderr",
          "output_type": "stream",
          "text": [
            "Some weights of the model checkpoint at roberta-base-openai-detector were not used when initializing RobertaForSequenceClassification: ['roberta.pooler.dense.bias', 'roberta.pooler.dense.weight']\n",
            "- This IS expected if you are initializing RobertaForSequenceClassification from the checkpoint of a model trained on another task or with another architecture (e.g. initializing a BertForSequenceClassification model from a BertForPreTraining model).\n",
            "- This IS NOT expected if you are initializing RobertaForSequenceClassification from the checkpoint of a model that you expect to be exactly identical (initializing a BertForSequenceClassification model from a BertForSequenceClassification model).\n"
          ]
        },
        {
          "metadata": {
            "tags": null
          },
          "name": "stdout",
          "output_type": "stream",
          "text": [
            "Result for row 321: {'full_marks': 2.0, 'obtained_marks': 2.0, 'strengths': [], 'areas_for_improvement': ['Explain two real-world applications of hash functions.', 'Provide depth and clarity in the explanation of Hash functions and their real-world applications.'], 'clarity_score': 5.0, 'depth_score': 4.0, 'final_marks_obtained': 1, 'feedback': 'The answer is partially correct. The candidate has explained the purpose of Hash Functions and also provided a real-world application of hash functions which is Caesar Cipher.\\n        The candidate has not mentioned any other real-world application of hash functions.\\n        The candidate has not given any depth or clarity in the answer.', 'student_word_count': 49, 'student_sentence_count': 3, 'plagiarism': False, 'average_score': 0, 'max_score': 0, 'max_score_url': '', 'AI_category': 'AI-generated', 'AI_flag': True, 'AI_percentage': 99.95, 'AI_probabilities': {'Human-written': 0.000498953, 'AI-generated': 0.999501}, 'reason': 'Penalty applied for AI detection exceeding 30%'}\n",
            "Row 321 results saved to /content/drive/MyDrive/updated_results.xlsx\n",
            "Failed to fetch /search?num=12: /search?num=12\n",
            "Access denied for https://www.tuttoncdjr.com/\n",
            "Access denied for https://www.vannuyscdjr.com/\n",
            "Access denied for https://www.lakecdjr.com/\n",
            "Access denied for https://www.gastoniadodge.com/?srsltid=AfmBOor8IpIYqvjG0tPmbqweQ9EXLAE9jiwtHdmU4jH-FWUQsneNoYI_\n"
          ]
        },
        {
          "metadata": {
            "tags": null
          },
          "name": "stderr",
          "output_type": "stream",
          "text": [
            "Some weights of the model checkpoint at roberta-base-openai-detector were not used when initializing RobertaForSequenceClassification: ['roberta.pooler.dense.bias', 'roberta.pooler.dense.weight']\n",
            "- This IS expected if you are initializing RobertaForSequenceClassification from the checkpoint of a model trained on another task or with another architecture (e.g. initializing a BertForSequenceClassification model from a BertForPreTraining model).\n",
            "- This IS NOT expected if you are initializing RobertaForSequenceClassification from the checkpoint of a model that you expect to be exactly identical (initializing a BertForSequenceClassification model from a BertForSequenceClassification model).\n"
          ]
        },
        {
          "metadata": {
            "tags": null
          },
          "name": "stdout",
          "output_type": "stream",
          "text": [
            "Result for row 322: {'full_marks': 2.0, 'obtained_marks': 0.0, 'strengths': ['Correctness of answer'], 'areas_for_improvement': ['Completeness of answer', 'Clarity', 'Depth'], 'clarity_score': 1.0, 'depth_score': 1.0, 'final_marks_obtained': 0, 'feedback': 'Please provide a detailed answer for the given question.', 'student_word_count': 2, 'student_sentence_count': 0, 'plagiarism': False, 'average_score': 0, 'max_score': 0, 'max_score_url': '', 'AI_category': 'Human-written', 'AI_flag': False, 'AI_percentage': 58.76, 'AI_probabilities': {'Human-written': 0.41237172, 'AI-generated': 0.58762825}, 'reason': ''}\n",
            "Row 322 results saved to /content/drive/MyDrive/updated_results.xlsx\n",
            "Failed to fetch /search?num=12: /search?num=12\n"
          ]
        },
        {
          "metadata": {
            "tags": null
          },
          "name": "stderr",
          "output_type": "stream",
          "text": [
            "Some weights of the model checkpoint at roberta-base-openai-detector were not used when initializing RobertaForSequenceClassification: ['roberta.pooler.dense.bias', 'roberta.pooler.dense.weight']\n",
            "- This IS expected if you are initializing RobertaForSequenceClassification from the checkpoint of a model trained on another task or with another architecture (e.g. initializing a BertForSequenceClassification model from a BertForPreTraining model).\n",
            "- This IS NOT expected if you are initializing RobertaForSequenceClassification from the checkpoint of a model that you expect to be exactly identical (initializing a BertForSequenceClassification model from a BertForSequenceClassification model).\n"
          ]
        },
        {
          "metadata": {
            "tags": null
          },
          "name": "stdout",
          "output_type": "stream",
          "text": [
            "Result for row 323: {'full_marks': 2.0, 'obtained_marks': 2.0, 'strengths': ['You have attempted to solve the problem.', 'You have used the correct approach for decryption.'], 'areas_for_improvement': ['You need to check for the correct number of characters in the encrypted message.'], 'clarity_score': 8.0, 'depth_score': 6.0, 'final_marks_obtained': 1, 'feedback': 'Your answer is partially correct. You have decrypted the first part of the message correctly. However, you have missed the second part of the message. Please refer to the example provided in the question for the expected output.', 'student_word_count': 2, 'student_sentence_count': 0, 'plagiarism': False, 'average_score': 0, 'max_score': 0, 'max_score_url': '', 'AI_category': 'Human-written', 'AI_flag': False, 'AI_percentage': 14.5, 'AI_probabilities': {'Human-written': 0.8549922, 'AI-generated': 0.14500785}, 'reason': ''}\n",
            "Row 323 results saved to /content/drive/MyDrive/updated_results.xlsx\n",
            "Access denied for https://open.spotify.com/artist/2Dor6diK1zw9BEluKBOdoA\n"
          ]
        },
        {
          "metadata": {
            "tags": null
          },
          "name": "stderr",
          "output_type": "stream",
          "text": [
            "Some weights of the model checkpoint at roberta-base-openai-detector were not used when initializing RobertaForSequenceClassification: ['roberta.pooler.dense.bias', 'roberta.pooler.dense.weight']\n",
            "- This IS expected if you are initializing RobertaForSequenceClassification from the checkpoint of a model trained on another task or with another architecture (e.g. initializing a BertForSequenceClassification model from a BertForPreTraining model).\n",
            "- This IS NOT expected if you are initializing RobertaForSequenceClassification from the checkpoint of a model that you expect to be exactly identical (initializing a BertForSequenceClassification model from a BertForSequenceClassification model).\n"
          ]
        },
        {
          "metadata": {
            "tags": null
          },
          "name": "stdout",
          "output_type": "stream",
          "text": [
            "Result for row 324: {'full_marks': 4.0, 'obtained_marks': None, 'strengths': [], 'areas_for_improvement': [], 'clarity_score': None, 'depth_score': None, 'final_marks_obtained': 0, 'feedback': None, 'student_word_count': 1, 'student_sentence_count': 0, 'plagiarism': False, 'average_score': 0, 'max_score': 0, 'max_score_url': '', 'AI_category': 'Human-written', 'AI_flag': False, 'AI_percentage': 4.93, 'AI_probabilities': {'Human-written': 0.9506638, 'AI-generated': 0.049336202}, 'reason': ''}\n",
            "Row 324 results saved to /content/drive/MyDrive/updated_results.xlsx\n",
            "Failed to fetch /search?num=12: /search?num=12\n",
            "Failed to fetch /search?num=12: /search?num=12\n",
            "Failed to fetch /search?q=TCP/IP:+A+practical,+Implementation-driven+model+developed+by+the+U.S.+Department+of+Defense+to+facilliate+communication+over+the+internet%0AOSI:+The+OSI+model+divides+its+layer+into+finer+details,+separating+presentation+and+Session+Layers+from+application+for+better+clarity.&num=12&safe=active&sca_esv=2894001585057402&hl=en&ie=UTF-8&filter=0: /search?q=TCP/IP:+A+practical,+Implementation-driven+model+developed+by+the+U.S.+Department+of+Defense+to+facilliate+communication+over+the+internet%0AOSI:+The+OSI+model+divides+its+layer+into+finer+details,+separating+presentation+and+Session+Layers+from+application+for+better+clarity.&num=12&safe=active&sca_esv=2894001585057402&hl=en&ie=UTF-8&filter=0\n",
            "Access denied for https://www.cloudflare.com/learning/ddos/glossary/open-systems-interconnection-model-osi/\n",
            "Access denied for http://www.dit.upm.es/~david/master/doc/TCP_IP_Tutorial_and_Technical_Overview.pdf\n",
            "Error processing row 325: \n",
            "Failed to fetch /search?num=12: /search?num=12\n",
            "Access denied for https://www.reddit.com/r/packettracer/comments/jhjn7p/packet_tracer_help/\n"
          ]
        },
        {
          "metadata": {
            "tags": null
          },
          "name": "stderr",
          "output_type": "stream",
          "text": [
            "Some weights of the model checkpoint at roberta-base-openai-detector were not used when initializing RobertaForSequenceClassification: ['roberta.pooler.dense.bias', 'roberta.pooler.dense.weight']\n",
            "- This IS expected if you are initializing RobertaForSequenceClassification from the checkpoint of a model trained on another task or with another architecture (e.g. initializing a BertForSequenceClassification model from a BertForPreTraining model).\n",
            "- This IS NOT expected if you are initializing RobertaForSequenceClassification from the checkpoint of a model that you expect to be exactly identical (initializing a BertForSequenceClassification model from a BertForSequenceClassification model).\n"
          ]
        },
        {
          "metadata": {
            "tags": null
          },
          "name": "stdout",
          "output_type": "stream",
          "text": [
            "Result for row 326: {'full_marks': 5.0, 'obtained_marks': 5.0, 'strengths': [], 'areas_for_improvement': [], 'clarity_score': 10.0, 'depth_score': 10.0, 'final_marks_obtained': 4, 'feedback': 'Great job! Your answers are accurate and complete. Your explanations are clear and easy to understand. You have provided all the required information and have also added some additional insights. Keep up the good work!', 'student_word_count': 16, 'student_sentence_count': 6, 'plagiarism': False, 'average_score': 0, 'max_score': 0, 'max_score_url': '', 'AI_category': 'Human-written', 'AI_flag': False, 'AI_percentage': 60.14, 'AI_probabilities': {'Human-written': 0.39858645, 'AI-generated': 0.6014136}, 'reason': ''}\n",
            "Row 326 results saved to /content/drive/MyDrive/updated_results.xlsx\n",
            "Failed to fetch /search?num=12: /search?num=12\n",
            "Failed to fetch https://aec.edu.in/aec/Instruction_Material/CNS%20U-1.pdf: Cannot connect to host aec.edu.in:443 ssl:default [Connect call failed ('210.212.210.90', 443)]\n"
          ]
        },
        {
          "metadata": {
            "tags": null
          },
          "name": "stderr",
          "output_type": "stream",
          "text": [
            "Some weights of the model checkpoint at roberta-base-openai-detector were not used when initializing RobertaForSequenceClassification: ['roberta.pooler.dense.bias', 'roberta.pooler.dense.weight']\n",
            "- This IS expected if you are initializing RobertaForSequenceClassification from the checkpoint of a model trained on another task or with another architecture (e.g. initializing a BertForSequenceClassification model from a BertForPreTraining model).\n",
            "- This IS NOT expected if you are initializing RobertaForSequenceClassification from the checkpoint of a model that you expect to be exactly identical (initializing a BertForSequenceClassification model from a BertForSequenceClassification model).\n"
          ]
        },
        {
          "metadata": {
            "tags": null
          },
          "name": "stdout",
          "output_type": "stream",
          "text": [
            "Result for row 327: {'full_marks': 4.0, 'obtained_marks': 4.0, 'strengths': ['Answer is correct and complete'], 'areas_for_improvement': ['Provide more details and examples to improve the overall quality of the answer.'], 'clarity_score': 6.0, 'depth_score': 4.0, 'final_marks_obtained': 2, 'feedback': 'Answer is correct and complete, but lacks depth and clarity. Please provide more details and examples to improve the overall quality of the answer.', 'student_word_count': 63, 'student_sentence_count': 4, 'plagiarism': False, 'average_score': 0, 'max_score': 7.6923076923076925, 'max_score_url': 'https://www.blackduck.com/glossary/what-is-cyber-security.html', 'AI_category': 'AI-generated', 'AI_flag': True, 'AI_percentage': 99.91, 'AI_probabilities': {'Human-written': 0.0009279984, 'AI-generated': 0.99907196}, 'reason': 'Penalty applied for AI detection exceeding 30%'}\n",
            "Row 327 results saved to /content/drive/MyDrive/updated_results.xlsx\n"
          ]
        },
        {
          "metadata": {
            "tags": null
          },
          "name": "stderr",
          "output_type": "stream",
          "text": [
            "Some weights of the model checkpoint at roberta-base-openai-detector were not used when initializing RobertaForSequenceClassification: ['roberta.pooler.dense.bias', 'roberta.pooler.dense.weight']\n",
            "- This IS expected if you are initializing RobertaForSequenceClassification from the checkpoint of a model trained on another task or with another architecture (e.g. initializing a BertForSequenceClassification model from a BertForPreTraining model).\n",
            "- This IS NOT expected if you are initializing RobertaForSequenceClassification from the checkpoint of a model that you expect to be exactly identical (initializing a BertForSequenceClassification model from a BertForSequenceClassification model).\n"
          ]
        },
        {
          "metadata": {
            "tags": null
          },
          "name": "stdout",
          "output_type": "stream",
          "text": [
            "Result for row 328: {'full_marks': 2.0, 'obtained_marks': 2.0, 'strengths': ['Clarity of answer', 'Relevance of answer'], 'areas_for_improvement': ['Depth of answer'], 'clarity_score': 8.0, 'depth_score': 6.0, 'final_marks_obtained': 1, 'feedback': 'Good overall effort, but could have gone into more detail about the differences between block ciphers and stream ciphers.', 'student_word_count': 33, 'student_sentence_count': 1, 'plagiarism': False, 'average_score': 0, 'max_score': 0, 'max_score_url': '', 'AI_category': 'Human-written', 'AI_flag': False, 'AI_percentage': 55.8, 'AI_probabilities': {'Human-written': 0.44197705, 'AI-generated': 0.5580229}, 'reason': ''}\n",
            "Row 328 results saved to /content/drive/MyDrive/updated_results.xlsx\n",
            "Access denied for https://www.thesslstore.com/blog/what-is-a-hash-function-in-cryptography-a-beginners-guide/\n",
            "Access denied for https://www.researchgate.net/publication/359256068_Use_of_Blockchain_Technology_in_Data_Integrity_Assurance\n"
          ]
        },
        {
          "metadata": {
            "tags": null
          },
          "name": "stderr",
          "output_type": "stream",
          "text": [
            "Some weights of the model checkpoint at roberta-base-openai-detector were not used when initializing RobertaForSequenceClassification: ['roberta.pooler.dense.bias', 'roberta.pooler.dense.weight']\n",
            "- This IS expected if you are initializing RobertaForSequenceClassification from the checkpoint of a model trained on another task or with another architecture (e.g. initializing a BertForSequenceClassification model from a BertForPreTraining model).\n",
            "- This IS NOT expected if you are initializing RobertaForSequenceClassification from the checkpoint of a model that you expect to be exactly identical (initializing a BertForSequenceClassification model from a BertForSequenceClassification model).\n"
          ]
        },
        {
          "metadata": {
            "tags": null
          },
          "name": "stdout",
          "output_type": "stream",
          "text": [
            "Result for row 329: {'full_marks': 2.0, 'obtained_marks': 2.0, 'strengths': ['Explanation of hash functions is correct'], 'areas_for_improvement': ['Explanation of hash functions could be more detailed and comprehensive'], 'clarity_score': 8.0, 'depth_score': 7.0, 'final_marks_obtained': 1, 'feedback': 'The answer is generally correct, but lacks completeness. It could be improved by providing more detail about hash functions and their use cases.', 'student_word_count': 41, 'student_sentence_count': 1, 'plagiarism': False, 'average_score': 0, 'max_score': 15.789473684210526, 'max_score_url': 'https://www.tuple.nl/en/knowledge-base/hashing', 'AI_category': 'AI-generated', 'AI_flag': True, 'AI_percentage': 98.07, 'AI_probabilities': {'Human-written': 0.01927359, 'AI-generated': 0.9807264}, 'reason': 'Penalty applied for AI detection exceeding 30%'}\n",
            "Row 329 results saved to /content/drive/MyDrive/updated_results.xlsx\n",
            "Failed to fetch /search?num=12: /search?num=12\n",
            "Failed to fetch : \n"
          ]
        },
        {
          "metadata": {
            "tags": null
          },
          "name": "stderr",
          "output_type": "stream",
          "text": [
            "Some weights of the model checkpoint at roberta-base-openai-detector were not used when initializing RobertaForSequenceClassification: ['roberta.pooler.dense.bias', 'roberta.pooler.dense.weight']\n",
            "- This IS expected if you are initializing RobertaForSequenceClassification from the checkpoint of a model trained on another task or with another architecture (e.g. initializing a BertForSequenceClassification model from a BertForPreTraining model).\n",
            "- This IS NOT expected if you are initializing RobertaForSequenceClassification from the checkpoint of a model that you expect to be exactly identical (initializing a BertForSequenceClassification model from a BertForSequenceClassification model).\n"
          ]
        },
        {
          "metadata": {
            "tags": null
          },
          "name": "stdout",
          "output_type": "stream",
          "text": [
            "Result for row 330: {'full_marks': 2.0, 'obtained_marks': None, 'strengths': ['Correct answer', 'Explanation is clear and easy to understand.'], 'areas_for_improvement': [], 'clarity_score': 9.0, 'depth_score': 2.0, 'final_marks_obtained': 0, 'feedback': 'Correctness: 2/2.0. The answer is exactly as required. Completeness: 2/2.0. All the aspects of the question are covered. Clarity: 9/10. The explanation is clear and easy to understand. Depth: 2/10. The explanation is not very detailed. Relevance: 2/10. The answer is not very relevant to the question.', 'student_word_count': 7, 'student_sentence_count': 0, 'plagiarism': False, 'average_score': 0, 'max_score': 0, 'max_score_url': '', 'AI_category': 'AI-generated', 'AI_flag': True, 'AI_percentage': 82.93, 'AI_probabilities': {'Human-written': 0.17067412, 'AI-generated': 0.82932585}, 'reason': 'Penalty applied for AI detection exceeding 30%'}\n",
            "Row 330 results saved to /content/drive/MyDrive/updated_results.xlsx\n",
            "Failed to fetch /search?q=Cipher+Text:+LQIRUPDWLRQ+VHFULWB%0APlain+Text:+INFORMATION+SECURITY&num=12&safe=active&sca_esv=2894001585057402&hl=en&ie=UTF-8&filter=0: /search?q=Cipher+Text:+LQIRUPDWLRQ+VHFULWB%0APlain+Text:+INFORMATION+SECURITY&num=12&safe=active&sca_esv=2894001585057402&hl=en&ie=UTF-8&filter=0\n",
            "Failed to fetch /search?num=12: /search?num=12\n"
          ]
        },
        {
          "metadata": {
            "tags": null
          },
          "name": "stderr",
          "output_type": "stream",
          "text": [
            "Some weights of the model checkpoint at roberta-base-openai-detector were not used when initializing RobertaForSequenceClassification: ['roberta.pooler.dense.bias', 'roberta.pooler.dense.weight']\n",
            "- This IS expected if you are initializing RobertaForSequenceClassification from the checkpoint of a model trained on another task or with another architecture (e.g. initializing a BertForSequenceClassification model from a BertForPreTraining model).\n",
            "- This IS NOT expected if you are initializing RobertaForSequenceClassification from the checkpoint of a model that you expect to be exactly identical (initializing a BertForSequenceClassification model from a BertForSequenceClassification model).\n"
          ]
        },
        {
          "metadata": {
            "tags": null
          },
          "name": "stdout",
          "output_type": "stream",
          "text": [
            "Result for row 331: {'full_marks': 2.0, 'obtained_marks': 2.0, 'strengths': ['The answer is provided within the time frame.'], 'areas_for_improvement': ['The decrypted text is not matching with the provided plain text.'], 'clarity_score': 7.0, 'depth_score': 6.0, 'final_marks_obtained': 1, 'feedback': 'The provided answer is partially correct and complete. The decryption is done but the plain text provided is not matching with the decrypted text.', 'student_word_count': 8, 'student_sentence_count': 0, 'plagiarism': False, 'average_score': 0, 'max_score': 0, 'max_score_url': '', 'AI_category': 'AI-generated', 'AI_flag': True, 'AI_percentage': 83.92, 'AI_probabilities': {'Human-written': 0.16084468, 'AI-generated': 0.8391553}, 'reason': 'Penalty applied for AI detection exceeding 30%'}\n",
            "Row 331 results saved to /content/drive/MyDrive/updated_results.xlsx\n",
            "Access denied for https://www.reddit.com/r/MathHelp/comments/dldmdb/need_help_finding_what_im_doing_wrong_on_a/\n",
            "Error processing row 332: \n",
            "Failed to fetch /search?num=12: /search?num=12\n",
            "Access denied for https://www.tandfonline.com/doi/full/10.1080/14703290802377307\n",
            "Access denied for https://www.researchgate.net/publication/255949688_A_Generic_Model_for_Sustainability_with_Process-_and_Product-specific_Instances\n",
            "Access denied for https://www.revitforum.org/forum/revit-architecture-forum-rac/architecture-family-creation/42371-metric-generic-model-wall-based-vs-window-door-template\n",
            "Access denied for https://www.slideshare.net/slideshow/practical-strategies-for-successful-implementation-and-deployment-of-ai-based-solutions-a-presentation-from-globus-medical/271971732\n",
            "Error processing row 333: \n",
            "Access denied for https://www.reddit.com/r/packettracer/comments/jhjn7p/packet_tracer_help/\n",
            "Access denied for https://hardforum.com/threads/probably-a-basic-question-on-subnets-and-networks.1919454/\n"
          ]
        },
        {
          "metadata": {
            "tags": null
          },
          "name": "stderr",
          "output_type": "stream",
          "text": [
            "Some weights of the model checkpoint at roberta-base-openai-detector were not used when initializing RobertaForSequenceClassification: ['roberta.pooler.dense.bias', 'roberta.pooler.dense.weight']\n",
            "- This IS expected if you are initializing RobertaForSequenceClassification from the checkpoint of a model trained on another task or with another architecture (e.g. initializing a BertForSequenceClassification model from a BertForPreTraining model).\n",
            "- This IS NOT expected if you are initializing RobertaForSequenceClassification from the checkpoint of a model that you expect to be exactly identical (initializing a BertForSequenceClassification model from a BertForSequenceClassification model).\n"
          ]
        },
        {
          "metadata": {
            "tags": null
          },
          "name": "stdout",
          "output_type": "stream",
          "text": [
            "Result for row 334: {'full_marks': 5.0, 'obtained_marks': None, 'strengths': [], 'areas_for_improvement': [], 'clarity_score': None, 'depth_score': None, 'final_marks_obtained': 0, 'feedback': None, 'student_word_count': 6, 'student_sentence_count': 9, 'plagiarism': False, 'average_score': 0, 'max_score': 0, 'max_score_url': '', 'AI_category': 'Human-written', 'AI_flag': False, 'AI_percentage': 49.66, 'AI_probabilities': {'Human-written': 0.50336033, 'AI-generated': 0.49663967}, 'reason': ''}\n",
            "Row 334 results saved to /content/drive/MyDrive/updated_results.xlsx\n",
            "Failed to fetch : \n",
            "Failed to fetch /search?num=12: /search?num=12\n",
            "Error processing row 335: \n",
            "Access denied for https://www.reddit.com/r/DSP/comments/17p57kz/audio_processing_blocks/\n",
            "Access denied for https://preyproject.com/blog/types-of-encryption-symmetric-or-asymmetric-rsa-or-aes\n",
            "Failed to fetch https://www.4feldco.com/articles/glass-block-windows: Cannot connect to host www.4feldco.com:443 ssl:True [SSLCertVerificationError: (1, '[SSL: CERTIFICATE_VERIFY_FAILED] certificate verify failed: unable to get local issuer certificate (_ssl.c:1006)')]\n",
            "Failed to fetch https://www.mrrooter.com/about/blog/2019/march/toilet-backing-up-into-shower-what-to-do-next/: 400, message='Got more than 8190 bytes (9280) when reading Header value is too long.', url='https://www.mrrooter.com/about/blog/2019/march/toilet-backing-up-into-shower-what-to-do-next/'\n"
          ]
        },
        {
          "metadata": {
            "tags": null
          },
          "name": "stderr",
          "output_type": "stream",
          "text": [
            "Some weights of the model checkpoint at roberta-base-openai-detector were not used when initializing RobertaForSequenceClassification: ['roberta.pooler.dense.bias', 'roberta.pooler.dense.weight']\n",
            "- This IS expected if you are initializing RobertaForSequenceClassification from the checkpoint of a model trained on another task or with another architecture (e.g. initializing a BertForSequenceClassification model from a BertForPreTraining model).\n",
            "- This IS NOT expected if you are initializing RobertaForSequenceClassification from the checkpoint of a model that you expect to be exactly identical (initializing a BertForSequenceClassification model from a BertForSequenceClassification model).\n"
          ]
        },
        {
          "metadata": {
            "tags": null
          },
          "name": "stdout",
          "output_type": "stream",
          "text": [
            "Result for row 336: {'full_marks': 2.0, 'obtained_marks': 2.0, 'strengths': ['Answer is mostly correct.', 'Examples are given.'], 'areas_for_improvement': ['The answer could have been improved by providing more examples and explanations.', 'Clarity and depth could have been improved.'], 'clarity_score': 6.0, 'depth_score': 6.0, 'final_marks_obtained': 1, 'feedback': 'Answer is mostly correct and complete. However, it lacks clarity and depth. The answer could have been improved by providing more examples and explanations. Clarity score: 6, Depth score: 6.', 'student_word_count': 46, 'student_sentence_count': 6, 'plagiarism': True, 'average_score': 80.0, 'max_score': 80.0, 'max_score_url': 'https://www.twingate.com/blog/glossary/stream-cipher', 'AI_category': 'Human-written', 'AI_flag': False, 'AI_percentage': 44.7, 'AI_probabilities': {'Human-written': 0.55304563, 'AI-generated': 0.4469544}, 'reason': 'Penalty applied for plagiarism exceeding 30%'}\n",
            "Row 336 results saved to /content/drive/MyDrive/updated_results.xlsx\n",
            "Access denied for https://www.researchgate.net/publication/380976463_Security_Investigating_How_Blockchain_Can_Be_Utilized_to_Secure_Data_Integrity_and_Privacy\n",
            "Access denied for https://fastercapital.com/topics/the-role-of-blockchain-technology-in-ensuring-data-integrity.html\n"
          ]
        },
        {
          "metadata": {
            "tags": null
          },
          "name": "stderr",
          "output_type": "stream",
          "text": [
            "Some weights of the model checkpoint at roberta-base-openai-detector were not used when initializing RobertaForSequenceClassification: ['roberta.pooler.dense.bias', 'roberta.pooler.dense.weight']\n",
            "- This IS expected if you are initializing RobertaForSequenceClassification from the checkpoint of a model trained on another task or with another architecture (e.g. initializing a BertForSequenceClassification model from a BertForPreTraining model).\n",
            "- This IS NOT expected if you are initializing RobertaForSequenceClassification from the checkpoint of a model that you expect to be exactly identical (initializing a BertForSequenceClassification model from a BertForSequenceClassification model).\n"
          ]
        },
        {
          "metadata": {
            "tags": null
          },
          "name": "stdout",
          "output_type": "stream",
          "text": [
            "Result for row 337: {'full_marks': 2.0, 'obtained_marks': 2.0, 'strengths': ['Clarity in understanding of purpose of hash functions', 'Relevance of answer', 'Depth of understanding'], 'areas_for_improvement': ['Providing more specific real-world applications of hash functions'], 'clarity_score': 9.0, 'depth_score': 8.0, 'final_marks_obtained': 1, 'feedback': 'Good job! You have provided a clear and concise answer to the question. Your answer is also relevant and provides a good depth of understanding. However, it would be better if you could provide two more specific real-world applications of hash functions.', 'student_word_count': 40, 'student_sentence_count': 1, 'plagiarism': False, 'average_score': 0, 'max_score': 16.666666666666664, 'max_score_url': 'https://www.tuple.nl/en/knowledge-base/hashing', 'AI_category': 'AI-generated', 'AI_flag': True, 'AI_percentage': 79.35, 'AI_probabilities': {'Human-written': 0.20654488, 'AI-generated': 0.7934552}, 'reason': 'Penalty applied for AI detection exceeding 30%'}\n",
            "Row 337 results saved to /content/drive/MyDrive/updated_results.xlsx\n",
            "Failed to fetch /search?num=12: /search?num=12\n",
            "Failed to fetch /search?num=2: /search?num=2\n",
            "Failed to fetch : \n",
            "Failed to fetch : \n",
            "Failed to fetch : \n",
            "Failed to fetch : \n",
            "Failed to fetch : \n",
            "Failed to fetch : \n",
            "Failed to fetch : \n"
          ]
        },
        {
          "metadata": {
            "tags": null
          },
          "name": "stderr",
          "output_type": "stream",
          "text": [
            "Some weights of the model checkpoint at roberta-base-openai-detector were not used when initializing RobertaForSequenceClassification: ['roberta.pooler.dense.bias', 'roberta.pooler.dense.weight']\n",
            "- This IS expected if you are initializing RobertaForSequenceClassification from the checkpoint of a model trained on another task or with another architecture (e.g. initializing a BertForSequenceClassification model from a BertForPreTraining model).\n",
            "- This IS NOT expected if you are initializing RobertaForSequenceClassification from the checkpoint of a model that you expect to be exactly identical (initializing a BertForSequenceClassification model from a BertForSequenceClassification model).\n"
          ]
        },
        {
          "metadata": {
            "tags": null
          },
          "name": "stdout",
          "output_type": "stream",
          "text": [
            "Result for row 338: {'full_marks': 2.0, 'obtained_marks': 2.0, 'strengths': [], 'areas_for_improvement': ['Provide more detailed explanations for your steps', 'Show a deeper understanding of the Caesar Cipher encryption algorithm', 'Add additional context or explanation for your answer'], 'clarity_score': 8.0, 'depth_score': 4.0, 'final_marks_obtained': 1, 'feedback': 'Your answer is correct. However, you did not provide any additional context or explanation for the steps you took to arrive at the cipher text. Additionally, your answer is quite simple and lacks depth. To get full marks, you should provide more detailed explanations for your steps and show a deeper understanding of the Caesar Cipher encryption algorithm.', 'student_word_count': 7, 'student_sentence_count': 0, 'plagiarism': False, 'average_score': 0, 'max_score': 0, 'max_score_url': '', 'AI_category': 'AI-generated', 'AI_flag': True, 'AI_percentage': 92.23, 'AI_probabilities': {'Human-written': 0.077729106, 'AI-generated': 0.9222709}, 'reason': 'Penalty applied for AI detection exceeding 30%'}\n",
            "Row 338 results saved to /content/drive/MyDrive/updated_results.xlsx\n",
            "Failed to fetch : \n",
            "Failed to fetch : \n",
            "Failed to fetch : \n",
            "Failed to fetch : \n",
            "Failed to fetch : \n",
            "Failed to fetch : \n",
            "Failed to fetch : \n",
            "Failed to fetch : \n",
            "Failed to fetch : \n"
          ]
        },
        {
          "metadata": {
            "tags": null
          },
          "name": "stderr",
          "output_type": "stream",
          "text": [
            "Some weights of the model checkpoint at roberta-base-openai-detector were not used when initializing RobertaForSequenceClassification: ['roberta.pooler.dense.bias', 'roberta.pooler.dense.weight']\n",
            "- This IS expected if you are initializing RobertaForSequenceClassification from the checkpoint of a model trained on another task or with another architecture (e.g. initializing a BertForSequenceClassification model from a BertForPreTraining model).\n",
            "- This IS NOT expected if you are initializing RobertaForSequenceClassification from the checkpoint of a model that you expect to be exactly identical (initializing a BertForSequenceClassification model from a BertForSequenceClassification model).\n"
          ]
        },
        {
          "metadata": {
            "tags": null
          },
          "name": "stdout",
          "output_type": "stream",
          "text": [
            "Result for row 339: {'full_marks': 2.0, 'obtained_marks': 2.0, 'strengths': ['Correctness of answer', 'Clarity'], 'areas_for_improvement': [], 'clarity_score': 8.0, 'depth_score': 6.0, 'final_marks_obtained': 1, 'feedback': 'Good job!', 'student_word_count': 8, 'student_sentence_count': 0, 'plagiarism': False, 'average_score': 0, 'max_score': 0, 'max_score_url': '', 'AI_category': 'Human-written', 'AI_flag': False, 'AI_percentage': 63.23, 'AI_probabilities': {'Human-written': 0.3677062, 'AI-generated': 0.6322937}, 'reason': ''}\n",
            "Row 339 results saved to /content/drive/MyDrive/updated_results.xlsx\n",
            "Access denied for https://www.reddit.com/r/MathHelp/comments/dldmdb/need_help_finding_what_im_doing_wrong_on_a/\n"
          ]
        },
        {
          "metadata": {
            "tags": null
          },
          "name": "stderr",
          "output_type": "stream",
          "text": [
            "Some weights of the model checkpoint at roberta-base-openai-detector were not used when initializing RobertaForSequenceClassification: ['roberta.pooler.dense.bias', 'roberta.pooler.dense.weight']\n",
            "- This IS expected if you are initializing RobertaForSequenceClassification from the checkpoint of a model trained on another task or with another architecture (e.g. initializing a BertForSequenceClassification model from a BertForPreTraining model).\n",
            "- This IS NOT expected if you are initializing RobertaForSequenceClassification from the checkpoint of a model that you expect to be exactly identical (initializing a BertForSequenceClassification model from a BertForSequenceClassification model).\n"
          ]
        },
        {
          "metadata": {
            "tags": null
          },
          "name": "stdout",
          "output_type": "stream",
          "text": [
            "Result for row 340: {'full_marks': 4.0, 'obtained_marks': None, 'strengths': [], 'areas_for_improvement': [], 'clarity_score': None, 'depth_score': None, 'final_marks_obtained': 0, 'feedback': None, 'student_word_count': 9, 'student_sentence_count': 0, 'plagiarism': False, 'average_score': 0, 'max_score': 0, 'max_score_url': '', 'AI_category': 'Human-written', 'AI_flag': False, 'AI_percentage': 57.94, 'AI_probabilities': {'Human-written': 0.42056453, 'AI-generated': 0.57943547}, 'reason': ''}\n",
            "Row 340 results saved to /content/drive/MyDrive/updated_results.xlsx\n",
            "Failed to fetch /search?num=12: /search?num=12\n",
            "Access denied for https://www.cloudflare.com/learning/ddos/glossary/open-systems-interconnection-model-osi/\n",
            "Access denied for https://www.forcepoint.com/cyber-edu/osi-model\n",
            "Access denied for https://www.indeed.com/career-advice/career-development/what-are-the-layers-in-software-architecture\n",
            "Access denied for https://www.researchgate.net/figure/Responsibilities-of-each-layer-and-their-interdependencies-in-an-well-designed-enterprise_fig1_4242299\n",
            "Access denied for https://www.reddit.com/r/ccna/comments/jrlo0m/tcpip_model_4_or_5_layers/\n",
            "Access denied for https://crsreports.congress.gov/product/pdf/IF/IF10553\n",
            "Access denied for https://www.cloudflare.com/learning/ddos/glossary/tcp-ip/\n",
            "Access denied for https://www.indeed.com/career-advice/career-development/communication-technology-examples\n",
            "Access denied for https://datadome.co/guides/ddos/7-layers-osi-model/\n",
            "Error processing row 341: \n",
            "Access denied for https://brainly.com/question/33405972\n",
            "Access denied for https://quizlet.com/799900734/ccna-1-v7-modules-11-13-ip-addressing-exam-answers-full-flash-cards/\n"
          ]
        },
        {
          "metadata": {
            "tags": null
          },
          "name": "stderr",
          "output_type": "stream",
          "text": [
            "Some weights of the model checkpoint at roberta-base-openai-detector were not used when initializing RobertaForSequenceClassification: ['roberta.pooler.dense.bias', 'roberta.pooler.dense.weight']\n",
            "- This IS expected if you are initializing RobertaForSequenceClassification from the checkpoint of a model trained on another task or with another architecture (e.g. initializing a BertForSequenceClassification model from a BertForPreTraining model).\n",
            "- This IS NOT expected if you are initializing RobertaForSequenceClassification from the checkpoint of a model that you expect to be exactly identical (initializing a BertForSequenceClassification model from a BertForSequenceClassification model).\n"
          ]
        },
        {
          "metadata": {
            "tags": null
          },
          "name": "stdout",
          "output_type": "stream",
          "text": [
            "Result for row 342: {'full_marks': 5.0, 'obtained_marks': 5.0, 'strengths': [], 'areas_for_improvement': [], 'clarity_score': 8.0, 'depth_score': 9.0, 'final_marks_obtained': 3, 'feedback': 'Correct answer for all parts. Comprehensive and relevant answer with good depth. However, the answer could be presented in a clearer manner.', 'student_word_count': 17, 'student_sentence_count': 6, 'plagiarism': False, 'average_score': 0, 'max_score': 0, 'max_score_url': '', 'AI_category': 'AI-generated', 'AI_flag': True, 'AI_percentage': 93.41, 'AI_probabilities': {'Human-written': 0.065879874, 'AI-generated': 0.9341201}, 'reason': 'Penalty applied for AI detection exceeding 30%'}\n",
            "Row 342 results saved to /content/drive/MyDrive/updated_results.xlsx\n",
            "Access denied for https://www.reddit.com/r/webdev/comments/14g96dz/whats_the_usual_way_to_login_to_a_website_eg_post/\n",
            "Failed to fetch https://pipeforce.io/en/secure-data-exchange-the-5-most-important-points/: Cannot connect to host pipeforce.io:443 ssl:True [SSLCertVerificationError: (1, '[SSL: CERTIFICATE_VERIFY_FAILED] certificate verify failed: unable to get local issuer certificate (_ssl.c:1006)')]\n",
            "Access denied for https://www.mass.gov/info-details/know-the-types-of-cyber-threats\n",
            "Access denied for https://www.reddit.com/r/cybersecurity_help/comments/1cv1nsb/is_this_hack_email_real_sent_from_my_own_email/\n",
            "Access denied for https://cybernews.com/secure-email-providers/email-spoofing/\n",
            "Access denied for https://www.fbi.gov/how-we-can-help-you/scams-and-safety/common-frauds-and-scams/spoofing-and-phishing\n",
            "Error processing row 343: \n"
          ]
        },
        {
          "metadata": {
            "tags": null
          },
          "name": "stderr",
          "output_type": "stream",
          "text": [
            "Some weights of the model checkpoint at roberta-base-openai-detector were not used when initializing RobertaForSequenceClassification: ['roberta.pooler.dense.bias', 'roberta.pooler.dense.weight']\n",
            "- This IS expected if you are initializing RobertaForSequenceClassification from the checkpoint of a model trained on another task or with another architecture (e.g. initializing a BertForSequenceClassification model from a BertForPreTraining model).\n",
            "- This IS NOT expected if you are initializing RobertaForSequenceClassification from the checkpoint of a model that you expect to be exactly identical (initializing a BertForSequenceClassification model from a BertForSequenceClassification model).\n"
          ]
        },
        {
          "metadata": {
            "tags": null
          },
          "name": "stdout",
          "output_type": "stream",
          "text": [
            "Result for row 344: {'full_marks': 2.0, 'obtained_marks': 2.0, 'strengths': [], 'areas_for_improvement': ['Provide a more detailed comparison of block and stream ciphers with examples.', 'Give a clarity score and depth score.', ''], 'clarity_score': 7.0, 'depth_score': 6.0, 'final_marks_obtained': 1, 'feedback': 'The answer is correct but it is not complete and lacks depth. Please provide a more detailed comparison of block and stream ciphers with examples. Also, please give a clarity score and depth score.', 'student_word_count': 58, 'student_sentence_count': 3, 'plagiarism': False, 'average_score': 0, 'max_score': 0, 'max_score_url': '', 'AI_category': 'AI-generated', 'AI_flag': True, 'AI_percentage': 98.41, 'AI_probabilities': {'Human-written': 0.015888687, 'AI-generated': 0.9841113}, 'reason': 'Penalty applied for AI detection exceeding 30%'}\n",
            "Row 344 results saved to /content/drive/MyDrive/updated_results.xlsx\n",
            "Access denied for https://www.reddit.com/r/explainlikeimfive/comments/2gjit5/eli5_if_you_change_1_bit_of_a_file_its_hash/\n",
            "Access denied for https://www.chegg.com/homework-help/questions-and-answers/6-easy-generate-code-given-message-virtually-impossible-generate-message-given-code-descri-q58866591\n",
            "Error processing row 345: \n",
            "Failed to fetch : \n",
            "Failed to fetch : \n",
            "Failed to fetch : \n",
            "Failed to fetch : \n",
            "Failed to fetch : \n",
            "Failed to fetch : \n",
            "Failed to fetch : \n",
            "Failed to fetch : \n"
          ]
        },
        {
          "metadata": {
            "tags": null
          },
          "name": "stderr",
          "output_type": "stream",
          "text": [
            "Some weights of the model checkpoint at roberta-base-openai-detector were not used when initializing RobertaForSequenceClassification: ['roberta.pooler.dense.bias', 'roberta.pooler.dense.weight']\n",
            "- This IS expected if you are initializing RobertaForSequenceClassification from the checkpoint of a model trained on another task or with another architecture (e.g. initializing a BertForSequenceClassification model from a BertForPreTraining model).\n",
            "- This IS NOT expected if you are initializing RobertaForSequenceClassification from the checkpoint of a model that you expect to be exactly identical (initializing a BertForSequenceClassification model from a BertForSequenceClassification model).\n"
          ]
        },
        {
          "metadata": {
            "tags": null
          },
          "name": "stdout",
          "output_type": "stream",
          "text": [
            "Result for row 346: {'full_marks': 2.0, 'obtained_marks': 1.5, 'strengths': ['The solution is correct'], 'areas_for_improvement': ['Provide a complete solution to the problem'], 'clarity_score': 7.0, 'depth_score': 5.0, 'final_marks_obtained': 1, 'feedback': 'Your answer is partially correct but it lacks completeness. Please provide a complete solution to the problem.', 'student_word_count': 2, 'student_sentence_count': 0, 'plagiarism': False, 'average_score': 0, 'max_score': 0, 'max_score_url': '', 'AI_category': 'Human-written', 'AI_flag': False, 'AI_percentage': 39.1, 'AI_probabilities': {'Human-written': 0.60897046, 'AI-generated': 0.3910295}, 'reason': ''}\n",
            "Row 346 results saved to /content/drive/MyDrive/updated_results.xlsx\n"
          ]
        },
        {
          "metadata": {
            "tags": null
          },
          "name": "stderr",
          "output_type": "stream",
          "text": [
            "Some weights of the model checkpoint at roberta-base-openai-detector were not used when initializing RobertaForSequenceClassification: ['roberta.pooler.dense.bias', 'roberta.pooler.dense.weight']\n",
            "- This IS expected if you are initializing RobertaForSequenceClassification from the checkpoint of a model trained on another task or with another architecture (e.g. initializing a BertForSequenceClassification model from a BertForPreTraining model).\n",
            "- This IS NOT expected if you are initializing RobertaForSequenceClassification from the checkpoint of a model that you expect to be exactly identical (initializing a BertForSequenceClassification model from a BertForSequenceClassification model).\n"
          ]
        },
        {
          "metadata": {
            "tags": null
          },
          "name": "stdout",
          "output_type": "stream",
          "text": [
            "Result for row 347: {'full_marks': 2.0, 'obtained_marks': 2.0, 'strengths': ['You have correctly decrypted the cipher text.', 'Your code is well-structured and easy to understand.'], 'areas_for_improvement': ['You could provide more information and examples to improve your explanation.', 'You could improve your clarity and depth score by providing more context and background information on Caesar Ciphers.'], 'clarity_score': 7.0, 'depth_score': 7.0, 'final_marks_obtained': 1, 'feedback': 'Good job! You have correctly decrypted the cipher text using a Caesar Cipher with a shift of 3. However, your answer could be improved by providing more information and examples. For full marks, please provide a detailed explanation of the process and include additional examples. In addition, you could improve your clarity and depth score by providing more context and background information on Caesar Ciphers.', 'student_word_count': 0, 'student_sentence_count': 0, 'plagiarism': False, 'average_score': 0, 'max_score': 0, 'max_score_url': '', 'AI_category': 'Human-written', 'AI_flag': False, 'AI_percentage': 0.09, 'AI_probabilities': {'Human-written': 0.9990896, 'AI-generated': 0.00091043336}, 'reason': ''}\n",
            "Row 347 results saved to /content/drive/MyDrive/updated_results.xlsx\n"
          ]
        },
        {
          "output_type": "stream",
          "name": "stderr",
          "text": [
            "Some weights of the model checkpoint at roberta-base-openai-detector were not used when initializing RobertaForSequenceClassification: ['roberta.pooler.dense.bias', 'roberta.pooler.dense.weight']\n",
            "- This IS expected if you are initializing RobertaForSequenceClassification from the checkpoint of a model trained on another task or with another architecture (e.g. initializing a BertForSequenceClassification model from a BertForPreTraining model).\n",
            "- This IS NOT expected if you are initializing RobertaForSequenceClassification from the checkpoint of a model that you expect to be exactly identical (initializing a BertForSequenceClassification model from a BertForSequenceClassification model).\n"
          ]
        },
        {
          "output_type": "stream",
          "name": "stdout",
          "text": [
            "Result for row 348: {'full_marks': 4.0, 'obtained_marks': 3.5, 'strengths': ['Explanation of the process of finding the private key'], 'areas_for_improvement': ['Provide more depth about the process of finding the private key'], 'clarity_score': 9.0, 'depth_score': 6.0, 'final_marks_obtained': 3, 'feedback': 'Excellent job! The answer is correct and well-explained. However, you can provide more depth about the process of finding the private key.', 'student_word_count': 17, 'student_sentence_count': 0, 'plagiarism': False, 'average_score': 0, 'max_score': 0, 'max_score_url': '', 'AI_category': 'Human-written', 'AI_flag': False, 'AI_percentage': 55.84, 'AI_probabilities': {'Human-written': 0.44156483, 'AI-generated': 0.5584352}, 'reason': ''}\n",
            "Row 348 results saved to /content/drive/MyDrive/updated_results.xlsx\n",
            "Failed to fetch /search?num=12: /search?num=12\n",
            "Failed to fetch : \n",
            "Access denied for https://study.com/academy/lesson/what-is-communication-definition-importance.html\n"
          ]
        },
        {
          "output_type": "stream",
          "name": "stderr",
          "text": [
            "Some weights of the model checkpoint at roberta-base-openai-detector were not used when initializing RobertaForSequenceClassification: ['roberta.pooler.dense.bias', 'roberta.pooler.dense.weight']\n",
            "- This IS expected if you are initializing RobertaForSequenceClassification from the checkpoint of a model trained on another task or with another architecture (e.g. initializing a BertForSequenceClassification model from a BertForPreTraining model).\n",
            "- This IS NOT expected if you are initializing RobertaForSequenceClassification from the checkpoint of a model that you expect to be exactly identical (initializing a BertForSequenceClassification model from a BertForSequenceClassification model).\n"
          ]
        },
        {
          "output_type": "stream",
          "name": "stdout",
          "text": [
            "Result for row 349: {'full_marks': 4.0, 'obtained_marks': 3.5, 'strengths': ['Good understanding of the OSI model and TCP/IP model'], 'areas_for_improvement': ['Needs to cover more detail in some areas', 'especially the TCP/IP model'], 'clarity_score': 8.0, 'depth_score': 6.0, 'final_marks_obtained': 2, 'feedback': 'Good attempt, but could have covered more detail in some areas. Make sure to provide a comprehensive answer that addresses all aspects of the question.', 'student_word_count': 118, 'student_sentence_count': 8, 'plagiarism': True, 'average_score': 50.0, 'max_score': 50.0, 'max_score_url': 'https://www.a10networks.com/glossary/osi-network-model-and-types-of-load-balancers/', 'AI_category': 'AI-generated', 'AI_flag': True, 'AI_percentage': 98.83, 'AI_probabilities': {'Human-written': 0.011669344, 'AI-generated': 0.9883307}, 'reason': 'Penalty applied for plagiarism exceeding 30%; Penalty applied for AI detection exceeding 30%'}\n",
            "Row 349 results saved to /content/drive/MyDrive/updated_results.xlsx\n",
            "Failed to fetch /search?q=a)+62+hosts%0Ab)+network++address+is+192.168.1.64%C3%AF%C2%BB%C2%BF%0Ac)192.168.1.127+is+broadcast+address.&num=12&safe=active&sca_esv=92b12e7e59cf2f55&hl=en&ie=UTF-8&filter=0: /search?q=a)+62+hosts%0Ab)+network++address+is+192.168.1.64%C3%AF%C2%BB%C2%BF%0Ac)192.168.1.127+is+broadcast+address.&num=12&safe=active&sca_esv=92b12e7e59cf2f55&hl=en&ie=UTF-8&filter=0\n",
            "Failed to fetch /search?num=12: /search?num=12\n"
          ]
        },
        {
          "output_type": "stream",
          "name": "stderr",
          "text": [
            "Some weights of the model checkpoint at roberta-base-openai-detector were not used when initializing RobertaForSequenceClassification: ['roberta.pooler.dense.bias', 'roberta.pooler.dense.weight']\n",
            "- This IS expected if you are initializing RobertaForSequenceClassification from the checkpoint of a model trained on another task or with another architecture (e.g. initializing a BertForSequenceClassification model from a BertForPreTraining model).\n",
            "- This IS NOT expected if you are initializing RobertaForSequenceClassification from the checkpoint of a model that you expect to be exactly identical (initializing a BertForSequenceClassification model from a BertForSequenceClassification model).\n"
          ]
        },
        {
          "output_type": "stream",
          "name": "stdout",
          "text": [
            "Result for row 350: {'full_marks': 5.0, 'obtained_marks': 5.0, 'strengths': ['Correctness', 'Completeness', 'Clarity', 'Relevance'], 'areas_for_improvement': [], 'clarity_score': 8.0, 'depth_score': 9.0, 'final_marks_obtained': 3, 'feedback': 'Good job. You have answered all the questions correctly and given detailed explanations. However, you could have explained the subnetting process in more detail.', 'student_word_count': 12, 'student_sentence_count': 7, 'plagiarism': False, 'average_score': 0, 'max_score': 0, 'max_score_url': '', 'AI_category': 'AI-generated', 'AI_flag': True, 'AI_percentage': 99.26, 'AI_probabilities': {'Human-written': 0.007410972, 'AI-generated': 0.992589}, 'reason': 'Penalty applied for AI detection exceeding 30%'}\n",
            "Row 350 results saved to /content/drive/MyDrive/updated_results.xlsx\n",
            "Failed to fetch /search?num=12: /search?num=12\n",
            "Failed to fetch /search?num=12: /search?num=12\n",
            "Failed to fetch /search?num=12: /search?num=12\n",
            "Failed to fetch /search?num=12: /search?num=12\n",
            "Access denied for https://www.reddit.com/r/learnprogramming/comments/192j47i/how_can_checksum_guarantee_that_the_data_was_not/\n",
            "Access denied for https://www.researchgate.net/publication/372909532_Email_Security_Issues_Tools_and_Techniques_Used_in_Investigation\n",
            "Access denied for https://pmc.ncbi.nlm.nih.gov/articles/PMC7122347/\n"
          ]
        },
        {
          "output_type": "stream",
          "name": "stderr",
          "text": [
            "Some weights of the model checkpoint at roberta-base-openai-detector were not used when initializing RobertaForSequenceClassification: ['roberta.pooler.dense.bias', 'roberta.pooler.dense.weight']\n",
            "- This IS expected if you are initializing RobertaForSequenceClassification from the checkpoint of a model trained on another task or with another architecture (e.g. initializing a BertForSequenceClassification model from a BertForPreTraining model).\n",
            "- This IS NOT expected if you are initializing RobertaForSequenceClassification from the checkpoint of a model that you expect to be exactly identical (initializing a BertForSequenceClassification model from a BertForSequenceClassification model).\n"
          ]
        },
        {
          "output_type": "stream",
          "name": "stdout",
          "text": [
            "Result for row 351: {'full_marks': 4.0, 'obtained_marks': 4.0, 'strengths': ['Explanation is clear and concise'], 'areas_for_improvement': ['More detailed explanation of some points'], 'clarity_score': 7.0, 'depth_score': 6.0, 'final_marks_obtained': 2, 'feedback': 'Answer is correct and complete, but lacks clarity and depth in some parts.', 'student_word_count': 112, 'student_sentence_count': 11, 'plagiarism': False, 'average_score': 0, 'max_score': 25.0, 'max_score_url': 'https://csrc.nist.gov/glossary/term/authentication', 'AI_category': 'AI-generated', 'AI_flag': True, 'AI_percentage': 99.98, 'AI_probabilities': {'Human-written': 0.00016981976, 'AI-generated': 0.9998301}, 'reason': 'Penalty applied for AI detection exceeding 30%'}\n",
            "Row 351 results saved to /content/drive/MyDrive/updated_results.xlsx\n",
            "Failed to fetch /search?num=12: /search?num=12\n",
            "Access denied for https://www.reddit.com/r/linuxadmin/comments/31coq6/sharing_an_ssh_key_between_multiple_users/\n",
            "Access denied for https://brainly.com/question/29699101\n",
            "Access denied for https://www.reddit.com/r/explainlikeimfive/comments/22bgvq/eli5why_does_some_type_of_files_transfer_faster/\n",
            "Access denied for https://www.webopedia.com/definitions/symmetric-encryption/\n",
            "Access denied for https://quizlet.com/395300210/cissp-cert-library-topic-6-flash-cards/\n"
          ]
        },
        {
          "output_type": "stream",
          "name": "stderr",
          "text": [
            "Some weights of the model checkpoint at roberta-base-openai-detector were not used when initializing RobertaForSequenceClassification: ['roberta.pooler.dense.bias', 'roberta.pooler.dense.weight']\n",
            "- This IS expected if you are initializing RobertaForSequenceClassification from the checkpoint of a model trained on another task or with another architecture (e.g. initializing a BertForSequenceClassification model from a BertForPreTraining model).\n",
            "- This IS NOT expected if you are initializing RobertaForSequenceClassification from the checkpoint of a model that you expect to be exactly identical (initializing a BertForSequenceClassification model from a BertForSequenceClassification model).\n"
          ]
        },
        {
          "output_type": "stream",
          "name": "stdout",
          "text": [
            "Result for row 352: {'full_marks': 2.0, 'obtained_marks': 2.0, 'strengths': [], 'areas_for_improvement': ['You should provide more details on how block ciphers and stream ciphers work.', 'You should provide more examples to make your answer more complete.', 'You should improve your writing skills to make your answer more informative.', 'You should improve your understanding of the topic to make your answer more comprehensive.'], 'clarity_score': 6.0, 'depth_score': 5.0, 'final_marks_obtained': 1, 'feedback': 'You have provided a basic comparison between block ciphers and stream ciphers with one example for each. However, your answer is not comprehensive enough and does not cover all the key points. It is also not clear how you arrived at your conclusions. You should improve your writing skills and provide more details to make your answer more informative. You should also improve your understanding of the topic and provide more examples to make your answer more complete.', 'student_word_count': 53, 'student_sentence_count': 4, 'plagiarism': False, 'average_score': 0, 'max_score': 0, 'max_score_url': '', 'AI_category': 'AI-generated', 'AI_flag': True, 'AI_percentage': 99.85, 'AI_probabilities': {'Human-written': 0.0015247938, 'AI-generated': 0.99847525}, 'reason': 'Penalty applied for AI detection exceeding 30%'}\n",
            "Row 352 results saved to /content/drive/MyDrive/updated_results.xlsx\n",
            "Access denied for https://ludwig.guru/s/they+are+designed+to\n",
            "Access denied for https://ludwig.guru/s/they+are+designed\n",
            "Access denied for https://certera.com/blog/sha-256-algorithm-know-everything-about-it/\n"
          ]
        },
        {
          "output_type": "stream",
          "name": "stderr",
          "text": [
            "Some weights of the model checkpoint at roberta-base-openai-detector were not used when initializing RobertaForSequenceClassification: ['roberta.pooler.dense.bias', 'roberta.pooler.dense.weight']\n",
            "- This IS expected if you are initializing RobertaForSequenceClassification from the checkpoint of a model trained on another task or with another architecture (e.g. initializing a BertForSequenceClassification model from a BertForPreTraining model).\n",
            "- This IS NOT expected if you are initializing RobertaForSequenceClassification from the checkpoint of a model that you expect to be exactly identical (initializing a BertForSequenceClassification model from a BertForSequenceClassification model).\n"
          ]
        },
        {
          "output_type": "stream",
          "name": "stdout",
          "text": [
            "Result for row 353: {'full_marks': 2.0, 'obtained_marks': None, 'strengths': [], 'areas_for_improvement': [], 'clarity_score': None, 'depth_score': None, 'final_marks_obtained': 0, 'feedback': None, 'student_word_count': 35, 'student_sentence_count': 3, 'plagiarism': False, 'average_score': 0, 'max_score': 0, 'max_score_url': '', 'AI_category': 'AI-generated', 'AI_flag': True, 'AI_percentage': 80.12, 'AI_probabilities': {'Human-written': 0.19879064, 'AI-generated': 0.8012094}, 'reason': 'Penalty applied for AI detection exceeding 30%'}\n",
            "Row 353 results saved to /content/drive/MyDrive/updated_results.xlsx\n",
            "Failed to fetch /search?num=12: /search?num=12\n",
            "Access denied for https://www.lakecdjr.com/\n",
            "Access denied for https://www.tuttoncdjr.com/\n",
            "Access denied for https://www.vannuyscdjr.com/\n",
            "Access denied for https://www.gastoniadodge.com/?srsltid=AfmBOor3HA_tIkLLQDO5A29f0Hwvj8K3e9bK5Eqf8D6BySAmGnOwKa2i\n"
          ]
        },
        {
          "output_type": "stream",
          "name": "stderr",
          "text": [
            "Some weights of the model checkpoint at roberta-base-openai-detector were not used when initializing RobertaForSequenceClassification: ['roberta.pooler.dense.bias', 'roberta.pooler.dense.weight']\n",
            "- This IS expected if you are initializing RobertaForSequenceClassification from the checkpoint of a model trained on another task or with another architecture (e.g. initializing a BertForSequenceClassification model from a BertForPreTraining model).\n",
            "- This IS NOT expected if you are initializing RobertaForSequenceClassification from the checkpoint of a model that you expect to be exactly identical (initializing a BertForSequenceClassification model from a BertForSequenceClassification model).\n"
          ]
        },
        {
          "output_type": "stream",
          "name": "stdout",
          "text": [
            "Result for row 354: {'full_marks': 2.0, 'obtained_marks': 2.0, 'strengths': ['Correctness of answer', 'Completeness of answer'], 'areas_for_improvement': ['Clarity of explanation'], 'clarity_score': 8.0, 'depth_score': 9.0, 'final_marks_obtained': 1, 'feedback': 'Great job! Your answer is correct and complete. The only area that could use improvement is the clarity of the explanation. Consider providing more context and examples to help the reader understand the concept.', 'student_word_count': 2, 'student_sentence_count': 0, 'plagiarism': False, 'average_score': 0, 'max_score': 0, 'max_score_url': '', 'AI_category': 'Human-written', 'AI_flag': False, 'AI_percentage': 58.76, 'AI_probabilities': {'Human-written': 0.41237172, 'AI-generated': 0.58762825}, 'reason': ''}\n",
            "Row 354 results saved to /content/drive/MyDrive/updated_results.xlsx\n",
            "Access denied for https://www.sanfoundry.com/cyber-security-questions-answers-information-security-technologies/\n"
          ]
        },
        {
          "output_type": "stream",
          "name": "stderr",
          "text": [
            "Some weights of the model checkpoint at roberta-base-openai-detector were not used when initializing RobertaForSequenceClassification: ['roberta.pooler.dense.bias', 'roberta.pooler.dense.weight']\n",
            "- This IS expected if you are initializing RobertaForSequenceClassification from the checkpoint of a model trained on another task or with another architecture (e.g. initializing a BertForSequenceClassification model from a BertForPreTraining model).\n",
            "- This IS NOT expected if you are initializing RobertaForSequenceClassification from the checkpoint of a model that you expect to be exactly identical (initializing a BertForSequenceClassification model from a BertForSequenceClassification model).\n"
          ]
        },
        {
          "output_type": "stream",
          "name": "stdout",
          "text": [
            "Result for row 355: {'full_marks': 2.0, 'obtained_marks': 2.0, 'strengths': ['Explanation of Caesar Cipher is correct', 'Answer is correct'], 'areas_for_improvement': ['Explanation of Caesar Cipher is correct', 'Answer is correct', 'Please explain your reasoning more clearly and give more examples to support your answer.'], 'clarity_score': 7.0, 'depth_score': 7.0, 'final_marks_obtained': 1, 'feedback': 'Answer is correct but can be improved in terms of clarity and depth. Please explain your reasoning more clearly and give more examples to support your answer.', 'student_word_count': 4, 'student_sentence_count': 0, 'plagiarism': False, 'average_score': 0, 'max_score': 0, 'max_score_url': '', 'AI_category': 'Human-written', 'AI_flag': False, 'AI_percentage': 40.68, 'AI_probabilities': {'Human-written': 0.5931745, 'AI-generated': 0.4068254}, 'reason': ''}\n",
            "Row 355 results saved to /content/drive/MyDrive/updated_results.xlsx\n",
            "Access denied for https://www.reddit.com/r/MathHelp/comments/dldmdb/need_help_finding_what_im_doing_wrong_on_a/\n"
          ]
        },
        {
          "output_type": "stream",
          "name": "stderr",
          "text": [
            "Some weights of the model checkpoint at roberta-base-openai-detector were not used when initializing RobertaForSequenceClassification: ['roberta.pooler.dense.bias', 'roberta.pooler.dense.weight']\n",
            "- This IS expected if you are initializing RobertaForSequenceClassification from the checkpoint of a model trained on another task or with another architecture (e.g. initializing a BertForSequenceClassification model from a BertForPreTraining model).\n",
            "- This IS NOT expected if you are initializing RobertaForSequenceClassification from the checkpoint of a model that you expect to be exactly identical (initializing a BertForSequenceClassification model from a BertForSequenceClassification model).\n"
          ]
        },
        {
          "output_type": "stream",
          "name": "stdout",
          "text": [
            "Result for row 356: {'full_marks': 4.0, 'obtained_marks': 5.5, 'strengths': [], 'areas_for_improvement': ['Completeness', 'Depth', 'Clarity'], 'clarity_score': 6.0, 'depth_score': 5.0, 'final_marks_obtained': 2, 'feedback': 'The answer is mostly correct but lacks completeness, depth and clarity. It would be better if you provide more information about the process of generating RSA keys. Also, try to improve your overall clarity and depth score.', 'student_word_count': 9, 'student_sentence_count': 0, 'plagiarism': False, 'average_score': 0, 'max_score': 0, 'max_score_url': '', 'AI_category': 'Human-written', 'AI_flag': False, 'AI_percentage': 27.54, 'AI_probabilities': {'Human-written': 0.72464484, 'AI-generated': 0.27535516}, 'reason': 'Penalty applied for exceeding 90% of full marks'}\n",
            "Row 356 results saved to /content/drive/MyDrive/updated_results.xlsx\n"
          ]
        },
        {
          "output_type": "stream",
          "name": "stderr",
          "text": [
            "Some weights of the model checkpoint at roberta-base-openai-detector were not used when initializing RobertaForSequenceClassification: ['roberta.pooler.dense.bias', 'roberta.pooler.dense.weight']\n",
            "- This IS expected if you are initializing RobertaForSequenceClassification from the checkpoint of a model trained on another task or with another architecture (e.g. initializing a BertForSequenceClassification model from a BertForPreTraining model).\n",
            "- This IS NOT expected if you are initializing RobertaForSequenceClassification from the checkpoint of a model that you expect to be exactly identical (initializing a BertForSequenceClassification model from a BertForSequenceClassification model).\n"
          ]
        },
        {
          "output_type": "stream",
          "name": "stdout",
          "text": [
            "Result for row 357: {'full_marks': 4.0, 'obtained_marks': 4.0, 'strengths': ['Correct and complete answer'], 'areas_for_improvement': ['More detail on specific features of each model', 'More specific about relevance to different types of networks'], 'clarity_score': 9.0, 'depth_score': 8.0, 'final_marks_obtained': 3, 'feedback': 'Your answer is correct and complete. It provides a clear explanation of the differences between the OSI Model and TCP/IP Model. However, it could have been more detailed in terms of the specific features of each model. Additionally, it could have been more specific about the relevance of each model to different types of networks.', 'student_word_count': 0, 'student_sentence_count': 0, 'plagiarism': False, 'average_score': 0, 'max_score': 0, 'max_score_url': '', 'AI_category': 'Human-written', 'AI_flag': False, 'AI_percentage': 0.22, 'AI_probabilities': {'Human-written': 0.99783176, 'AI-generated': 0.0021681923}, 'reason': ''}\n",
            "Row 357 results saved to /content/drive/MyDrive/updated_results.xlsx\n"
          ]
        },
        {
          "output_type": "stream",
          "name": "stderr",
          "text": [
            "Some weights of the model checkpoint at roberta-base-openai-detector were not used when initializing RobertaForSequenceClassification: ['roberta.pooler.dense.bias', 'roberta.pooler.dense.weight']\n",
            "- This IS expected if you are initializing RobertaForSequenceClassification from the checkpoint of a model trained on another task or with another architecture (e.g. initializing a BertForSequenceClassification model from a BertForPreTraining model).\n",
            "- This IS NOT expected if you are initializing RobertaForSequenceClassification from the checkpoint of a model that you expect to be exactly identical (initializing a BertForSequenceClassification model from a BertForSequenceClassification model).\n"
          ]
        },
        {
          "output_type": "stream",
          "name": "stdout",
          "text": [
            "Result for row 358: {'full_marks': 5.0, 'obtained_marks': 5.0, 'strengths': ['Answer is correct and complete'], 'areas_for_improvement': ['Providing more context and explaining subnetting in more detail'], 'clarity_score': 9.0, 'depth_score': 8.0, 'final_marks_obtained': 3, 'feedback': 'Answer is correct and complete. It covers all three parts and provides clear explanations. However, it could be improved by providing more context and explaining the concept of subnetting in more detail.', 'student_word_count': 10, 'student_sentence_count': 6, 'plagiarism': False, 'average_score': 0, 'max_score': 0, 'max_score_url': '', 'AI_category': 'AI-generated', 'AI_flag': True, 'AI_percentage': 77.91, 'AI_probabilities': {'Human-written': 0.22088976, 'AI-generated': 0.7791102}, 'reason': 'Penalty applied for AI detection exceeding 30%'}\n",
            "Row 358 results saved to /content/drive/MyDrive/updated_results.xlsx\n"
          ]
        },
        {
          "output_type": "stream",
          "name": "stderr",
          "text": [
            "Some weights of the model checkpoint at roberta-base-openai-detector were not used when initializing RobertaForSequenceClassification: ['roberta.pooler.dense.bias', 'roberta.pooler.dense.weight']\n",
            "- This IS expected if you are initializing RobertaForSequenceClassification from the checkpoint of a model trained on another task or with another architecture (e.g. initializing a BertForSequenceClassification model from a BertForPreTraining model).\n",
            "- This IS NOT expected if you are initializing RobertaForSequenceClassification from the checkpoint of a model that you expect to be exactly identical (initializing a BertForSequenceClassification model from a BertForSequenceClassification model).\n"
          ]
        },
        {
          "output_type": "stream",
          "name": "stdout",
          "text": [
            "Result for row 359: {'full_marks': 4.0, 'obtained_marks': 0.0, 'strengths': [], 'areas_for_improvement': [], 'clarity_score': 0.0, 'depth_score': 0.0, 'final_marks_obtained': 0, 'feedback': 'Please provide a proper answer to the question. The question is asking for explanations of security concepts. There are no marks given for the completeness of the answer. The score of the answer is based on how well it meets the requirements of the question. The answer should be relevant, complete, and accurate. The answer should also be written in a clear and concise manner. The answer should be written in a structured way and should include relevant examples to illustrate the concepts. The answer should also be relevant to the topic of security. The answer should be written in a way that is easy to understand for someone who is not familiar with the concepts. The answer should also be written in a way that is concise and easy to read.', 'student_word_count': 0, 'student_sentence_count': 0, 'plagiarism': False, 'average_score': 0, 'max_score': 0, 'max_score_url': '', 'AI_category': 'Human-written', 'AI_flag': False, 'AI_percentage': 0.22, 'AI_probabilities': {'Human-written': 0.99783176, 'AI-generated': 0.0021681923}, 'reason': ''}\n",
            "Row 359 results saved to /content/drive/MyDrive/updated_results.xlsx\n"
          ]
        },
        {
          "output_type": "stream",
          "name": "stderr",
          "text": [
            "Some weights of the model checkpoint at roberta-base-openai-detector were not used when initializing RobertaForSequenceClassification: ['roberta.pooler.dense.bias', 'roberta.pooler.dense.weight']\n",
            "- This IS expected if you are initializing RobertaForSequenceClassification from the checkpoint of a model trained on another task or with another architecture (e.g. initializing a BertForSequenceClassification model from a BertForPreTraining model).\n",
            "- This IS NOT expected if you are initializing RobertaForSequenceClassification from the checkpoint of a model that you expect to be exactly identical (initializing a BertForSequenceClassification model from a BertForSequenceClassification model).\n"
          ]
        },
        {
          "output_type": "stream",
          "name": "stdout",
          "text": [
            "Result for row 360: {'full_marks': 2.0, 'obtained_marks': 2.0, 'strengths': ['You have provided a good answer'], 'areas_for_improvement': ['Please provide more detail and examples for each type of cipher. You can also add some analysis and comparison between them.'], 'clarity_score': 7.0, 'depth_score': 6.0, 'final_marks_obtained': 1, 'feedback': 'Your answer is good, but it can be better. Please provide more detail and examples for each type of cipher. You can also add some analysis and comparison between them.', 'student_word_count': 0, 'student_sentence_count': 0, 'plagiarism': False, 'average_score': 0, 'max_score': 0, 'max_score_url': '', 'AI_category': 'Human-written', 'AI_flag': False, 'AI_percentage': 0.22, 'AI_probabilities': {'Human-written': 0.99783176, 'AI-generated': 0.0021681923}, 'reason': ''}\n",
            "Row 360 results saved to /content/drive/MyDrive/updated_results.xlsx\n",
            "Failed to fetch /search?q=<img+src=\"data:image/jpeg;base64,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: /search?q=%3Cimg+src=%22data:image/jpeg;base64,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\n",
            "Failed to fetch : \n"
          ]
        },
        {
          "output_type": "stream",
          "name": "stderr",
          "text": [
            "Some weights of the model checkpoint at roberta-base-openai-detector were not used when initializing RobertaForSequenceClassification: ['roberta.pooler.dense.bias', 'roberta.pooler.dense.weight']\n",
            "- This IS expected if you are initializing RobertaForSequenceClassification from the checkpoint of a model trained on another task or with another architecture (e.g. initializing a BertForSequenceClassification model from a BertForPreTraining model).\n",
            "- This IS NOT expected if you are initializing RobertaForSequenceClassification from the checkpoint of a model that you expect to be exactly identical (initializing a BertForSequenceClassification model from a BertForSequenceClassification model).\n"
          ]
        },
        {
          "output_type": "stream",
          "name": "stdout",
          "text": [
            "Result for row 361: {'full_marks': 2.0, 'obtained_marks': 7.0, 'strengths': ['Clarity of answer', 'Relevance of answer'], 'areas_for_improvement': ['Explanation of what a hash function does', 'Providing more depth and examples'], 'clarity_score': 8.0, 'depth_score': 6.0, 'final_marks_obtained': 1, 'feedback': \"Good job. Overall answer was clear and relevant. However, you could have provided more depth and examples. Also, you didn't explain what a hash function does.\", 'student_word_count': 2, 'student_sentence_count': 0, 'plagiarism': False, 'average_score': 0, 'max_score': 0, 'max_score_url': '', 'AI_category': 'AI-generated', 'AI_flag': True, 'AI_percentage': 87.27, 'AI_probabilities': {'Human-written': 0.12731023, 'AI-generated': 0.8726897}, 'reason': 'Penalty applied for exceeding 90% of full marks; Penalty applied for AI detection exceeding 30%'}\n",
            "Row 361 results saved to /content/drive/MyDrive/updated_results.xlsx\n",
            "Failed to fetch /search?q=<img+src=\"data:image/jpeg;base64,/9j/4AAQSkZJRgABAQEAyADIAAD/2wBDABALDA4MChAODQ4SERATGCgaGBYWGDEjJR0oOjM9PDkzODdASFxOQERXRTc4UG1RV19iZ2hnPk1xeXBkeFxlZ2P/2wBDARESEhgVGC8aGi9jQjhCY2NjY2NjY2NjY2NjY2NjY2NjY2NjY2NjY2NjY2NjY2NjY2NjY2NjY2NjY2NjY2NjY2P/wAARCANoBDgDASIAAhEBAxEB/8QAGwAAAwEBAQEBAAAAAAAAAAAAAAECAwQFBgf/xABBEAACAgIBAwIEAwYFAwIFBQEAAQIRAyExBBJBBVETImFxFDKRBiMkM4GhNEJSscEVYtFy8SU1Q4LwFkRFU+Fj/8QAGAEBAQEBAQAAAAAAAAAAAAAAAAECAwT/xAAeEQEBAQEBAQEBAQEBAAAAAAAAARExAiFBEgNhUf/aAAwDAQACEQMRAD8A+Pk1KHb5WtAlunoEnHb8hJ987WvBUD+WdRel5FLe+WxwcUn3bZKfvoDTulLGoeOSZJxbXlaCTprt8A33LfIEp1vyaSn3pJLgiKt0O/hyrkoEt09B3OLpXQ8k++Xd7aFdvXJBUXbtmmSXxowhGG4715IxJSdSdfRlt/ByfLtcgRFfDy1Nccohu5NrSbNZ92VyyPkzUvk7Ut+4FVUbXKKblkpc0RF06lpFuahkuO0vABGKUmpaa9zOrdLgc25NzfnYm01S5AqWJxx9/jgltySj7FpyklC6XOwmvh5KVNATDbp+C8WaWJ3Hb9jJ25Wy0l2WufYGrlB44qfNuqFOXxJWlSWgtyShLhbJvtk0uOEAouNO+TSE5OPY+JaMlHVlS2lVpoC3FYsqjKmqsiUbk5LSbH+Z3J7Qk24dq4exBMlw47BRUueUNrtdMl33WuAHHXy+GJrtetjltaBK+QErbvwHOlyNOtA49rT5bAcUrqRElUqW0XKDm20mhRinH3YEVuym+GvA1G5U0PtdtLf9AEqcW+X4KhHuai9IHCUXbT2NxnJqSWloK6MXyNpbSdfctS7YuS55Hih/DtOLb8UhyxT+G9P9CO0vxzym3X3sMs+7sUuFuio9PllLUdc6CXS5nNrslS+hWb6cvdU7XCNcU6dvzs0XR5XG1jlv3Rpj9Ozyf5JJL6EZ11dAv3trniz1FPtU5f6bd/Y5eh6DLBW1TN5dLmlinFRactV9yWGuWWVY8cE2kZ+qZlLpMVbcpXoJ+l9TNpdukzR+k58jhGd9sfcSI8WUe52vAo12tO74PbXoWZydUk/pwXD9npctu0UeV0kZd9vhbOuE3GU5+3/B62L0XsVvng0Xo8fhuLvezHrzrU9Y8HLrp23zLx72cbi27XCPq5ei45KKfC2VH0TDVNOjUmM26+TUH22kSozcOHs+wj6NgW6K/wCkYFpQVIqPkoQcpRST1vg7IRdTbTtKj6WPpmCMrUEvHBa9Pw1Sjp8gfI/PGHalz7IhdPkk7cJU/NH2S6DDd9qouPSYo8QQHyOHoptSkoSbX0OiHS5Y4u3sdy1dcH1KwQiqUVv6FLFCq7VrgYPkpdDnlk/I6Kh6d1Ha/kabPq1jjfCG4RvhfoMHysfSszabibP0jNJ70kfSqKqkOhg+aj6Jle3VsuPomWNH0VbHVsYPCl6K5rb3wRH9nklTbPoeOAA8GP7PwivztV4ouPocFK+7nye2+BV7geS/RcT52gXo2FNNq2j1hMDgj6ZhTvtoqPp+GLvtR2ABzrpMNfkRS6bFFaijYTAyWCCWojWOK4RYn9AJcUuBUq0N8gAvsCDlgBS4Gn7EJlICkykZp2yk9gaRZS5Ii9lIC0AkNAMTKJYA+CGWyGBMiWNuxMCfIw4DkA5AdAAIAQIBpgCABpjTJsaewKQ0IEwapDJTtWuAc0uSosCFNON+EL4yul4ElpfWNUNGKzJukDy/La4Qw/qOiLLXFmGOXcu5cM1ukTDf1cWWmc0cy7qfJpjn3Sa8IuJrVFoxeXdLbLxz7o29eCYutUUjJ5UuNpeRxyWrH01sikRF2rRSexillV45L3VH5r6vik+qySjdJ06P0x7R+e+sN4etzxStNtWCvAl8u/I4R+LkjG6T0PJCUUpSTVkuVSTjprdlRpnx/ByOPNGSxycO7aXubQSyLJLJK3V7YRyr4Hw6tvRFYpdjTXIHTjxdsksmk/IBHCoubpeCbcG4vng3njn3JwjK/ZIzeDK05OLt+6LhrJLRcvmSpUzSHTZG0uyVfY3fT5LtQr7oDiqrQJVydseiyylfbyav0vNJpRh/X2A896aoSuX1Z7WD0PLJpy0jqh+zqfM2UfOJN6XI3Bwab8/3Pqsf7O4U7bbNX+z/AE8lT7tfUmmPkG3KWlVFRVundn169A6ZcJ2/LZcfQ+mivyJsaY+NqSTUbV6YlCUZcX9kfaL0bpk77Fa2XH0npk7cItrzQ0x8TKEpPUXr6GuHppzduLr6H20PTsC4gjVdJhX+RDTHwsOizuOsct6po0l6b1EXFrG3fhLg+6XT41pRSH8GHHavbgD4Z+ndTKSaxypa4NsfpeaUZOWOV15R9osMEvyopYof6V+gHxMPSuoljcXBpv6cBH0XqYyVwdH2yxxXhFOC9ho+Kl6N1MpdyjX0or/oWdw3y/J9mor2QJfYaY+Nh6D1HEqaHH9n8yld2j7Kl9BUNMfH/wD6dzSduVXumjVfs9kXEkmj6trQDTHyz/Z6U5XKW+Br9nLjTbPqEgGq+ah+zUUrcmy//wBN427bPofJXgaPn3+zWFrdtlR/Z3B53Xuz3mCGjxYegYIppXvViX7PdMn+U9vgGB48fQOmT3FUUvQumjxBb2eq0NbWxo8pejdNw4WbR9K6aK1jiq0dwMDiXp2Ba7EX+Bw1XYq+x0g9kNrnXR4U9QSH+GxJUoI2YMDJdPjquxFLFBcRRYMCVjiuEh9sV4Q/AATSXgO1XaH4AoSXsMGFkB4BIFwMArQBew4AAACg8jF5GQAn9A8AgGAg8gMAEgGAAuQAaEAD4GIEAxNgAAxA9sTAAAFyAgY3yIBCZTJYCZL4KZLAQxAA06BOyHKnXkUskY8l+psarktHP8VJdz4NJZe2NvhjDWyZaOVZt14Gs/zV7F/mp/UdaGjB5PlTXDN48WSzFl1XgQN6MHm7YW+RJq241ZLMIZZzTklSWgcnFW7bZf5Z/po9OhP6GWS447b2GSfbHW2xhq3JIa3swkqxuT21s2h+VMYSq4IyTUFstOyJx7nT4RIt/wCMn1CjG/PFFY8vdKvfZlHp+7J3Pj2Lce3qIpaVUb+Of1qsl5XH22ZZssu7tj4+g1/iH9Ymyxq7fLJ8i/a53km8drleS4ucY90uDWWNfDaWmzObco9i03ouxMsaRmpY+7wZ48ndJrwaxx1j7bYRwqKvyT4v1MG/h1HbCC3c7srDDt7k/c0cUxplZ41eOcfaRk4NOmbYodsp3w3Zr2pu2P6w/nescWOo90ufYIL5cja0/Bulqg7NUuGP6X+U9M7xI1nfbrkjDDsjTNUZ/Wpxz4cTeRynejbHqc48ezLWnrQKHz93hl/pn+SjHslvllw+ZSitD7fm7v6FY4dsm/cbCRLVRp8ocHcmvFexrJWqCEaj9RpiFkaxRrllY5S7knw9igvlafK9xQTWSLfHBfw+661wfCftNjjj6rNL/N3H3a4Piv2txX1zb4ezDb5bJmeVKL1REH2y+bg0zxUZLtr/AME48Ty5KXkoSg5RcknXv7A49sU1ydEM3b088Tjt6s5W6lTIjpxLJ1Mow18vlgZrL8LIpYXTr9QCvdk4W6iqM2k3qP8AShYY971x7nZjwathlzQw93jTN4dMm+Fv6HTDFT2dEYV7Bcc+PpkltLX0OmOJLVFqNFIKSiUkCRSWwGuBrkSRQAADQE1Y0hoEtgCQ0gWh+QABggBIKAYCGCABAHgEgGIYgAABgAq2MAAA8gAAAXsABgAAIYnyAAwYgATALAGAAAPgAYeAEAeQfBQAAADALAAAQwAAC9ACYw8AuAAAAAf0AAAABAAxABAxMAKAYkCIH4DwAAA7EZZ5uGO0XtS3GgN0cscs3g7ltvQk5PHKTe1ujX8s/wBupySdeWJzUeTlyScfhye1/uTJOWSCla7mX+Wf7dbnuvLE8lS7fLMsi7eohLw9ULJrqMf18k/lf6aZMva6W2Q839jKacXN8tu1fgvDC8fdK02XIbVQn3Q7uDKGVyk14XkMC78TS96Jh8knFbaEkLa0wT742aMy6ZdsKXubGa3OOebrPFPyjKeKc8l+DXKm82OuH/Y2SLuMWa5XiksTvhHVGKyRV7XIske7G4ryXgj240n40NJ5xGSMllSitIIQcm1wzpSvfkcYVK15H9L/AAzlD4fT1y15OqDuKIlDui0/JcVSr2M36smH4MFguUnLaf8AY3SE1sS4tmscKqPb7aIl8st7Rv29rbXnYpK1sup/Llyrud26HD5sdvf3NHiTe3ortSVLhF1Mc7j3Y74vwOTccVrTN6omUbVPgmrjPBJyhbNfIlFRVLSGiNQUTOHdJSWqL8DSIYz7Pn7jVLQLgaWgmFWgUUt1saHyUJIpCH5IoGAACGuRIpANKg8g3oAGPwSikA0WiEWmBSLRCKQFopERZaApIfan/QEUgYfg+S/a/HeWElu4n1qPnP2tjWPHJc8AfFQjBZ6y8ezMIT+HNyhpL3NlD4uScptpvdexz1quX9Co6MmOMcCyKVt+EYO8+RJJJ8BJSjFKXD+pPf25E4crewOmGKGP4kctdyQGmPBLqY5MraTUbaf0Aivc9P6f+HhJ8y2dsYUiekj29NjS8RNkgEo0ikqBFJACQ0hrSGkAIaBIoAQAAANACAEUhJDXIAuBoQ/AAFAkMBLgaQhrYDENqwYAhDACWAwABAwAAAAAACgAPIAAAwAAExsTKEDAAEDAHsAAAABeQ8gAAgXA1wAmAMQAAmHgBjEADBElWADEH1AYCu2FgPwLyO9EgND8iBPYDYJiYPgBgIFyAwFyMAsLAEgGY9QrxujViatUyxL9mOfpFeLtfCZeXFcX28+xrFKOloqrH9fWf5+MIY+7HFSW14DLC3GS5ibVWkD4obV/lzTTy5Ye0d2GWDllxyXCN1Gt8A0NTEON8g1qkVwDQ1rGePH8OLS87JUEm35ZqyaommJjHt487GNrQmNOJat2HIARVIuL0ZlRegNo7LRES0wLQLglMpAUJjoAJaE1opifAEC8jaBoCXyJlMkABAUlSASRSQkhoAoa0JIbABpUCAA8ggGgBAAIBg2LyDAY0SNMCkykQilsCkWiEy0BSGhLQ0wLRa4ITLT0BSKRKLQD8HjftJBS6SDltKVHso8v9oMff6dL3TsFfnPU/wAyfZwvYwSpJ/1OzLJY4ZYNJt6tnNi7VKPetGkTJynrwjOPyy2dXVOEciWHhR4RGDBLPNtUqV7IDFlyxUlC1GfytoDqjmxL0+UHH94pcpARX1GBduKKW6VGiCEe2KXFFJACGtDS0NIAXA0CKS0AAA2gBBQIEADBIfkAQLkYeQAEAwAzy5exUttjnNRjb5M8cO+XdLj2NSM2/kGPvk7lpexukJKtIolWAYCvZFDBPQAAmAB4ABMYgDwCDwAAAAAAAFAwACAYmNiKBiEw8ADCw8AuQAQ2LyAAAeAD/YA8AAMnnkoQCaBACAECewAA5B6AHtgC2x/QPAebAFyPyAAAq2MAECeh0HkA8BYIYCYB5DgAAYLQAlYcAgfAAMSYeaAYxPgfgAF5GDAlgDBgLyJjEyBMXkb5Jb2AmDWgYPgCfIA0DRQDi6JQN0gNostOzDG3J29I3jwQXHRa2Qi46AoKBcAAmJlMloBMlotrRLAliKYUAkMAoAQJDSGAIFyC4H5ATAYACAAsAABgIGAUAcAiMmWONfNpmK63G9R3WrQHSmXZyx6iMnWzaLtWBtF2WvYyi6VnNjy5Yz7sn5ZPj2Lg9FbCMlJa2jKeRRwZJqqUW7MPSnKXRY5S: /search?q=%3Cimg+src=%22data:image/jpeg;base64,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\n",
            "Failed to fetch : \n",
            "Access denied for https://nl.mathworks.com/matlabcentral/answers/2120661-how-can-i-convert-base64-encoded-data-url-to-a-png-image\n"
          ]
        },
        {
          "output_type": "stream",
          "name": "stderr",
          "text": [
            "Some weights of the model checkpoint at roberta-base-openai-detector were not used when initializing RobertaForSequenceClassification: ['roberta.pooler.dense.bias', 'roberta.pooler.dense.weight']\n",
            "- This IS expected if you are initializing RobertaForSequenceClassification from the checkpoint of a model trained on another task or with another architecture (e.g. initializing a BertForSequenceClassification model from a BertForPreTraining model).\n",
            "- This IS NOT expected if you are initializing RobertaForSequenceClassification from the checkpoint of a model that you expect to be exactly identical (initializing a BertForSequenceClassification model from a BertForSequenceClassification model).\n"
          ]
        },
        {
          "output_type": "stream",
          "name": "stdout",
          "text": [
            "Result for row 362: {'full_marks': 2.0, 'obtained_marks': None, 'strengths': [], 'areas_for_improvement': [], 'clarity_score': None, 'depth_score': None, 'final_marks_obtained': 0, 'feedback': None, 'student_word_count': 2, 'student_sentence_count': 0, 'plagiarism': False, 'average_score': 0, 'max_score': 0, 'max_score_url': '', 'AI_category': 'AI-generated', 'AI_flag': True, 'AI_percentage': 89.14, 'AI_probabilities': {'Human-written': 0.10864166, 'AI-generated': 0.8913583}, 'reason': 'Penalty applied for AI detection exceeding 30%'}\n",
            "Row 362 results saved to /content/drive/MyDrive/updated_results.xlsx\n",
            "Failed to fetch /search?q=<img+src=\"data:image/jpeg;base64,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: /search?q=%3Cimg+src=%22data:image/jpeg;base64,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\n",
            "Failed to fetch : \n"
          ]
        },
        {
          "output_type": "stream",
          "name": "stderr",
          "text": [
            "Some weights of the model checkpoint at roberta-base-openai-detector were not used when initializing RobertaForSequenceClassification: ['roberta.pooler.dense.bias', 'roberta.pooler.dense.weight']\n",
            "- This IS expected if you are initializing RobertaForSequenceClassification from the checkpoint of a model trained on another task or with another architecture (e.g. initializing a BertForSequenceClassification model from a BertForPreTraining model).\n",
            "- This IS NOT expected if you are initializing RobertaForSequenceClassification from the checkpoint of a model that you expect to be exactly identical (initializing a BertForSequenceClassification model from a BertForSequenceClassification model).\n"
          ]
        },
        {
          "output_type": "stream",
          "name": "stdout",
          "text": [
            "Result for row 363: {'full_marks': 2.0, 'obtained_marks': 2.0, 'strengths': ['Good job! You got the answer right.'], 'areas_for_improvement': ['Please provide more detail in your explanation.'], 'clarity_score': 8.0, 'depth_score': 7.0, 'final_marks_obtained': 1, 'feedback': 'Good job! You got the answer right. Just a little more detail in your explanation would make your answer even better.', 'student_word_count': 2, 'student_sentence_count': 0, 'plagiarism': False, 'average_score': 0, 'max_score': 0, 'max_score_url': '', 'AI_category': 'AI-generated', 'AI_flag': True, 'AI_percentage': 86.62, 'AI_probabilities': {'Human-written': 0.13381314, 'AI-generated': 0.86618686}, 'reason': 'Penalty applied for AI detection exceeding 30%'}\n",
            "Row 363 results saved to /content/drive/MyDrive/updated_results.xlsx\n"
          ]
        },
        {
          "output_type": "stream",
          "name": "stderr",
          "text": [
            "Some weights of the model checkpoint at roberta-base-openai-detector were not used when initializing RobertaForSequenceClassification: ['roberta.pooler.dense.bias', 'roberta.pooler.dense.weight']\n",
            "- This IS expected if you are initializing RobertaForSequenceClassification from the checkpoint of a model trained on another task or with another architecture (e.g. initializing a BertForSequenceClassification model from a BertForPreTraining model).\n",
            "- This IS NOT expected if you are initializing RobertaForSequenceClassification from the checkpoint of a model that you expect to be exactly identical (initializing a BertForSequenceClassification model from a BertForSequenceClassification model).\n"
          ]
        },
        {
          "output_type": "stream",
          "name": "stdout",
          "text": [
            "Result for row 364: {'full_marks': 4.0, 'obtained_marks': 4.0, 'strengths': ['The answer is mostly correct and complete.'], 'areas_for_improvement': ['The answer is not very clear and does not provide much depth.'], 'clarity_score': 6.0, 'depth_score': 4.0, 'final_marks_obtained': 3, 'feedback': 'Answer is mostly correct and complete. However, it is not very clear and does not provide much depth. It also lacks the strengths that would make it stand out. To get full marks, the answer should be more detailed, explain why the prime numbers are chosen, and provide more context. It should also be written in a clear and concise manner. The depth score could be improved by providing more information about the RSA algorithm and its significance in cryptography.', 'student_word_count': 0, 'student_sentence_count': 0, 'plagiarism': False, 'average_score': 0, 'max_score': 0, 'max_score_url': '', 'AI_category': 'Human-written', 'AI_flag': False, 'AI_percentage': 0.22, 'AI_probabilities': {'Human-written': 0.99783176, 'AI-generated': 0.0021681923}, 'reason': ''}\n",
            "Row 364 results saved to /content/drive/MyDrive/updated_results.xlsx\n",
            "Failed to fetch /search?num=12: /search?num=12\n",
            "Failed to fetch /search?num=12: /search?num=12\n",
            "Access denied for https://www.arubanetworks.com/techdocs/AirWave/8303/webhelp/Content/DeviceConfig/MAS_Config/Multicast_PIM.htm\n",
            "Access denied for https://www.reddit.com/r/ccna/comments/zmuehg/why_do_some_instructors_still_teach_the_4_layer/\n",
            "Access denied for https://www.researchgate.net/publication/220516468_Model-based_quality_assurance_of_protocol_documentation_Tools_and_methodology\n",
            "Access denied for https://www.thegreenjournal.com/article/S0167-8140(24)00711-4/fulltext\n",
            "Error processing row 365: \n",
            "Access denied for https://www.reddit.com/r/HomeNetworking/comments/11r0syv/19216816426_but_how/\n"
          ]
        },
        {
          "output_type": "stream",
          "name": "stderr",
          "text": [
            "Some weights of the model checkpoint at roberta-base-openai-detector were not used when initializing RobertaForSequenceClassification: ['roberta.pooler.dense.bias', 'roberta.pooler.dense.weight']\n",
            "- This IS expected if you are initializing RobertaForSequenceClassification from the checkpoint of a model trained on another task or with another architecture (e.g. initializing a BertForSequenceClassification model from a BertForPreTraining model).\n",
            "- This IS NOT expected if you are initializing RobertaForSequenceClassification from the checkpoint of a model that you expect to be exactly identical (initializing a BertForSequenceClassification model from a BertForSequenceClassification model).\n"
          ]
        },
        {
          "output_type": "stream",
          "name": "stdout",
          "text": [
            "Result for row 366: {'full_marks': 5.0, 'obtained_marks': 5.0, 'strengths': [], 'areas_for_improvement': ['Provide more detailed explanations of how the subnet mask affects the number of hosts that can be accommodated in the subnet.', 'Explain why the format of the network address is important.', 'Explain how the broadcast address is calculated.'], 'clarity_score': 8.0, 'depth_score': 7.0, 'final_marks_obtained': 4, 'feedback': 'Overall, your answers are correct and complete. However, some of the answers could have been more detailed and relevant. In particular, your answer for (a) does not provide a detailed explanation of how the subnet mask affects the number of hosts that can be accommodated in the subnet. Your answer for (b) could have been more specific about the format of the network address and why it is important. Your answer for (c) does not provide any explanation of how the broadcast address is calculated. Finally, your answers could have been more organized and easier to read. Please see the strengths and areas for improvement below.', 'student_word_count': 7, 'student_sentence_count': 9, 'plagiarism': False, 'average_score': 0, 'max_score': 0, 'max_score_url': '', 'AI_category': 'Human-written', 'AI_flag': False, 'AI_percentage': 19.51, 'AI_probabilities': {'Human-written': 0.8048634, 'AI-generated': 0.19513659}, 'reason': ''}\n",
            "Row 366 results saved to /content/drive/MyDrive/updated_results.xlsx\n",
            "Failed to fetch /search?num=12: /search?num=12\n",
            "Access denied for https://www.cloudflare.com/learning/ddos/what-is-a-ddos-attack/\n",
            "Access denied for https://pmc.ncbi.nlm.nih.gov/articles/PMC7122347/\n",
            "Error processing row 367: \n"
          ]
        },
        {
          "output_type": "stream",
          "name": "stderr",
          "text": [
            "Some weights of the model checkpoint at roberta-base-openai-detector were not used when initializing RobertaForSequenceClassification: ['roberta.pooler.dense.bias', 'roberta.pooler.dense.weight']\n",
            "- This IS expected if you are initializing RobertaForSequenceClassification from the checkpoint of a model trained on another task or with another architecture (e.g. initializing a BertForSequenceClassification model from a BertForPreTraining model).\n",
            "- This IS NOT expected if you are initializing RobertaForSequenceClassification from the checkpoint of a model that you expect to be exactly identical (initializing a BertForSequenceClassification model from a BertForSequenceClassification model).\n"
          ]
        },
        {
          "output_type": "stream",
          "name": "stdout",
          "text": [
            "Result for row 368: {'full_marks': 2.0, 'obtained_marks': 2.0, 'strengths': ['Good examples were provided', 'Correct comparison of block and stream ciphers'], 'areas_for_improvement': ['Could provide more detail about how each type of cipher works', 'Could be more organized'], 'clarity_score': 8.0, 'depth_score': 6.0, 'final_marks_obtained': 1, 'feedback': \"Great job! You've provided a good comparison of block ciphers and stream ciphers. Your examples are also appropriate. However, you could have provided more detail about how each type of cipher works. Additionally, your answer could have been more organized, making it easier to read and understand. Overall, your answer is clear and concise, but could benefit from more depth and organization.\", 'student_word_count': 28, 'student_sentence_count': 6, 'plagiarism': True, 'average_score': 36.36363636363637, 'max_score': 36.36363636363637, 'max_score_url': 'https://www.studysmarter.co.uk/explanations/computer-science/cybersecurity-in-computer-science/stream-ciphers/', 'AI_category': 'AI-generated', 'AI_flag': True, 'AI_percentage': 96.05, 'AI_probabilities': {'Human-written': 0.039492164, 'AI-generated': 0.96050787}, 'reason': 'Penalty applied for plagiarism exceeding 30%; Penalty applied for AI detection exceeding 30%'}\n",
            "Row 368 results saved to /content/drive/MyDrive/updated_results.xlsx\n",
            "Failed to fetch /search?num=12: /search?num=12\n",
            "Access denied for https://www.reddit.com/r/crypto/comments/mezfe8/why_is_sha256_useful_for_certificates_and_file/\n"
          ]
        },
        {
          "output_type": "stream",
          "name": "stderr",
          "text": [
            "Some weights of the model checkpoint at roberta-base-openai-detector were not used when initializing RobertaForSequenceClassification: ['roberta.pooler.dense.bias', 'roberta.pooler.dense.weight']\n",
            "- This IS expected if you are initializing RobertaForSequenceClassification from the checkpoint of a model trained on another task or with another architecture (e.g. initializing a BertForSequenceClassification model from a BertForPreTraining model).\n",
            "- This IS NOT expected if you are initializing RobertaForSequenceClassification from the checkpoint of a model that you expect to be exactly identical (initializing a BertForSequenceClassification model from a BertForSequenceClassification model).\n"
          ]
        },
        {
          "output_type": "stream",
          "name": "stdout",
          "text": [
            "Result for row 369: {'full_marks': 2.0, 'obtained_marks': None, 'strengths': [], 'areas_for_improvement': [], 'clarity_score': None, 'depth_score': None, 'final_marks_obtained': 0, 'feedback': None, 'student_word_count': 21, 'student_sentence_count': 6, 'plagiarism': False, 'average_score': 0, 'max_score': 0, 'max_score_url': '', 'AI_category': 'Human-written', 'AI_flag': False, 'AI_percentage': 56.82, 'AI_probabilities': {'Human-written': 0.4318296, 'AI-generated': 0.56817037}, 'reason': ''}\n",
            "Row 369 results saved to /content/drive/MyDrive/updated_results.xlsx\n",
            "Failed to fetch /search?q=Result.: /search?q=Result.\n",
            "Failed to fetch : \n",
            "Failed to fetch /search?num=12: /search?num=12\n",
            "Failed to fetch : \n",
            "Failed to fetch : \n",
            "Failed to fetch : \n",
            "Failed to fetch : \n",
            "Failed to fetch : \n",
            "Failed to fetch : \n",
            "Failed to fetch : \n",
            "Failed to fetch : \n",
            "Failed to fetch : \n",
            "Failed to fetch : \n",
            "Failed to fetch https://www.studocu.com/in/document/brahmdevdada-mane-polytechnic/emerging-trends-engineering/nis/85479849: 400, message='Got more than 8190 bytes (15651) when reading Header value is too long.', url='https://www.studocu.com/in/document/brahmdevdada-mane-polytechnic/emerging-trends-engineering/nis/85479849'\n",
            "Error processing row 370: \n",
            "Failed to fetch /search?q=Cipher+Text:+%22+LQIRUPDWLRQ+VHFXULWB%22%0AShift:+3+%0ADecryption:%0AShift+each+letter+back+by+3+positions.&num=12&safe=active&sca_esv=92b12e7e59cf2f55&hl=en&ie=UTF-8&filter=0: /search?q=Cipher+Text:+%22+LQIRUPDWLRQ+VHFXULWB%22%0AShift:+3+%0ADecryption:%0AShift+each+letter+back+by+3+positions.&num=12&safe=active&sca_esv=92b12e7e59cf2f55&hl=en&ie=UTF-8&filter=0\n",
            "Failed to fetch : \n",
            "Failed to fetch /search?q=Cipher+Text:+%22+LQIRUPDWLRQ+VHFXULWB%22%0AShift:+3+%0ADecryption:%0AShift+each+letter+back+by+3+positions.&num=2&safe=active&sca_esv=92b12e7e59cf2f55&hl=en&ie=UTF-8&filter=0: /search?q=Cipher+Text:+%22+LQIRUPDWLRQ+VHFXULWB%22%0AShift:+3+%0ADecryption:%0AShift+each+letter+back+by+3+positions.&num=2&safe=active&sca_esv=92b12e7e59cf2f55&hl=en&ie=UTF-8&filter=0\n",
            "Failed to fetch : \n",
            "Failed to fetch : \n",
            "Access denied for https://www.slideshare.net/slideshow/p2-l5-intro-to-cryptography-script-pptx/274624042\n",
            "Access denied for https://www.cloudflare.com/learning/security/what-is-information-security/\n",
            "Access denied for https://quizlet.com/39433009/test-2-flash-cards/\n",
            "Access denied for https://quizlet.com/580335965/p2l5-cryptography-flash-cards/\n"
          ]
        },
        {
          "output_type": "stream",
          "name": "stderr",
          "text": [
            "Some weights of the model checkpoint at roberta-base-openai-detector were not used when initializing RobertaForSequenceClassification: ['roberta.pooler.dense.bias', 'roberta.pooler.dense.weight']\n",
            "- This IS expected if you are initializing RobertaForSequenceClassification from the checkpoint of a model trained on another task or with another architecture (e.g. initializing a BertForSequenceClassification model from a BertForPreTraining model).\n",
            "- This IS NOT expected if you are initializing RobertaForSequenceClassification from the checkpoint of a model that you expect to be exactly identical (initializing a BertForSequenceClassification model from a BertForSequenceClassification model).\n"
          ]
        },
        {
          "output_type": "stream",
          "name": "stdout",
          "text": [
            "Result for row 371: {'full_marks': 2.0, 'obtained_marks': 1.0, 'strengths': ['Correct answer'], 'areas_for_improvement': ['No feedback or explanation provided'], 'clarity_score': 2.0, 'depth_score': 1.0, 'final_marks_obtained': 1, 'feedback': 'Only the correct answer was given, no feedback or explanation was provided.', 'student_word_count': 18, 'student_sentence_count': 1, 'plagiarism': False, 'average_score': 0, 'max_score': 0, 'max_score_url': '', 'AI_category': 'AI-generated', 'AI_flag': True, 'AI_percentage': 95.66, 'AI_probabilities': {'Human-written': 0.043394234, 'AI-generated': 0.9566058}, 'reason': 'Penalty applied for AI detection exceeding 30%'}\n",
            "Row 371 results saved to /content/drive/MyDrive/updated_results.xlsx\n",
            "Failed to fetch /search?num=12: /search?num=12\n"
          ]
        },
        {
          "output_type": "stream",
          "name": "stderr",
          "text": [
            "Some weights of the model checkpoint at roberta-base-openai-detector were not used when initializing RobertaForSequenceClassification: ['roberta.pooler.dense.bias', 'roberta.pooler.dense.weight']\n",
            "- This IS expected if you are initializing RobertaForSequenceClassification from the checkpoint of a model trained on another task or with another architecture (e.g. initializing a BertForSequenceClassification model from a BertForPreTraining model).\n",
            "- This IS NOT expected if you are initializing RobertaForSequenceClassification from the checkpoint of a model that you expect to be exactly identical (initializing a BertForSequenceClassification model from a BertForSequenceClassification model).\n"
          ]
        },
        {
          "output_type": "stream",
          "name": "stdout",
          "text": [
            "Result for row 372: {'full_marks': 4.0, 'obtained_marks': 4.0, 'strengths': [], 'areas_for_improvement': [], 'clarity_score': 10.0, 'depth_score': 10.0, 'final_marks_obtained': 3, 'feedback': 'Good job!', 'student_word_count': 2, 'student_sentence_count': 0, 'plagiarism': False, 'average_score': 0, 'max_score': 0, 'max_score_url': '', 'AI_category': 'Human-written', 'AI_flag': False, 'AI_percentage': 37.21, 'AI_probabilities': {'Human-written': 0.6278632, 'AI-generated': 0.37213683}, 'reason': ''}\n",
            "Row 372 results saved to /content/drive/MyDrive/updated_results.xlsx\n",
            "Failed to fetch /search?num=12: /search?num=12\n",
            "Access denied for https://www.cloudflare.com/learning/ddos/glossary/open-systems-interconnection-model-osi/\n",
            "Access denied for https://www.cloudflare.com/learning/ddos/glossary/open-systems-interconnection-model-osi/\n",
            "Access denied for https://www.reddit.com/r/ccna/comments/zmuehg/why_do_some_instructors_still_teach_the_4_layer/\n",
            "Access denied for https://www.reddit.com/r/techsupport/comments/17d6eg2/my_cpu_utilization_is_always_below_5_percent/\n",
            "Access denied for https://fastercapital.com/topics/implementing-error-handling-and-validation-mechanisms.html\n",
            "Access denied for https://linustechtips.com/topic/1546379-very-low-cpu-usage-and-high-gpu-usage/\n",
            "Access denied for https://www.reddit.com/r/PhasmophobiaGame/comments/1214n59/activity_5emf_5/\n",
            "Access denied for https://www.researchgate.net/post/Which-method-should-I-use-to-present-the-Mean-of-a-5-point-Likert-scale\n",
            "Error processing row 373: \n",
            "Access denied for https://help.keenetic.com/hc/en-us/articles/213965829-Calculating-the-number-of-hosts-and-subnets-based-on-IP-address-and-mask\n"
          ]
        },
        {
          "output_type": "stream",
          "name": "stderr",
          "text": [
            "Some weights of the model checkpoint at roberta-base-openai-detector were not used when initializing RobertaForSequenceClassification: ['roberta.pooler.dense.bias', 'roberta.pooler.dense.weight']\n",
            "- This IS expected if you are initializing RobertaForSequenceClassification from the checkpoint of a model trained on another task or with another architecture (e.g. initializing a BertForSequenceClassification model from a BertForPreTraining model).\n",
            "- This IS NOT expected if you are initializing RobertaForSequenceClassification from the checkpoint of a model that you expect to be exactly identical (initializing a BertForSequenceClassification model from a BertForSequenceClassification model).\n"
          ]
        },
        {
          "output_type": "stream",
          "name": "stdout",
          "text": [
            "Result for row 374: {'full_marks': 5.0, 'obtained_marks': 5.0, 'strengths': ['Correctness of answer', 'Clarity of answer'], 'areas_for_improvement': ['Completeness of answer', 'Organization of answer'], 'clarity_score': 8.0, 'depth_score': 7.0, 'final_marks_obtained': 4, 'feedback': \"Good job! You've provided correct answers to all the questions. However, you could have provided more details and explanation to your answers, making it more comprehensive. Additionally, please work on organizing your answer to make it more clear and easy to read. Keep up the good work!\", 'student_word_count': 4, 'student_sentence_count': 6, 'plagiarism': False, 'average_score': 0, 'max_score': 0, 'max_score_url': '', 'AI_category': 'Human-written', 'AI_flag': False, 'AI_percentage': 37.67, 'AI_probabilities': {'Human-written': 0.6233435, 'AI-generated': 0.37665653}, 'reason': ''}\n",
            "Row 374 results saved to /content/drive/MyDrive/updated_results.xlsx\n",
            "Failed to fetch /search?num=12: /search?num=12\n",
            "Failed to fetch /search?num=12: /search?num=12\n",
            "Access denied for https://bolster.ai/glossary/active-attack\n"
          ]
        },
        {
          "output_type": "stream",
          "name": "stderr",
          "text": [
            "Some weights of the model checkpoint at roberta-base-openai-detector were not used when initializing RobertaForSequenceClassification: ['roberta.pooler.dense.bias', 'roberta.pooler.dense.weight']\n",
            "- This IS expected if you are initializing RobertaForSequenceClassification from the checkpoint of a model trained on another task or with another architecture (e.g. initializing a BertForSequenceClassification model from a BertForPreTraining model).\n",
            "- This IS NOT expected if you are initializing RobertaForSequenceClassification from the checkpoint of a model that you expect to be exactly identical (initializing a BertForSequenceClassification model from a BertForSequenceClassification model).\n"
          ]
        },
        {
          "output_type": "stream",
          "name": "stdout",
          "text": [
            "Result for row 375: {'full_marks': 4.0, 'obtained_marks': 3.0, 'strengths': [], 'areas_for_improvement': ['More detail and examples are needed to explain the concepts.', 'Explanation of the concepts is not complete.'], 'clarity_score': 8.0, 'depth_score': 6.0, 'final_marks_obtained': 2, 'feedback': 'Good effort, but needs more depth and completeness. Some concepts are not explained clearly. Please elaborate more on the concepts.', 'student_word_count': 70, 'student_sentence_count': 11, 'plagiarism': False, 'average_score': 0, 'max_score': 2.3255813953488373, 'max_score_url': 'https://www.blackduck.com/glossary/what-is-cyber-security.html', 'AI_category': 'AI-generated', 'AI_flag': True, 'AI_percentage': 99.89, 'AI_probabilities': {'Human-written': 0.001123831, 'AI-generated': 0.99887615}, 'reason': 'Penalty applied for AI detection exceeding 30%'}\n",
            "Row 375 results saved to /content/drive/MyDrive/updated_results.xlsx\n",
            "Access denied for https://www.linuxquestions.org/questions/linux-security-4/rc4-encryption-42778/\n",
            "Failed to fetch https://blog.cryptographyengineering.com/2013/03/12/attack-of-week-rc4-is-kind-of-broken-in/: Server disconnected\n"
          ]
        },
        {
          "output_type": "stream",
          "name": "stderr",
          "text": [
            "Some weights of the model checkpoint at roberta-base-openai-detector were not used when initializing RobertaForSequenceClassification: ['roberta.pooler.dense.bias', 'roberta.pooler.dense.weight']\n",
            "- This IS expected if you are initializing RobertaForSequenceClassification from the checkpoint of a model trained on another task or with another architecture (e.g. initializing a BertForSequenceClassification model from a BertForPreTraining model).\n",
            "- This IS NOT expected if you are initializing RobertaForSequenceClassification from the checkpoint of a model that you expect to be exactly identical (initializing a BertForSequenceClassification model from a BertForSequenceClassification model).\n"
          ]
        },
        {
          "output_type": "stream",
          "name": "stdout",
          "text": [
            "Result for row 376: {'full_marks': 2.0, 'obtained_marks': 2.0, 'strengths': [], 'areas_for_improvement': [], 'clarity_score': 7.0, 'depth_score': 6.0, 'final_marks_obtained': 1, 'feedback': 'Answer is correct but lacks depth and clarity. Also, you need to add more examples to complete the answer.', 'student_word_count': 53, 'student_sentence_count': 5, 'plagiarism': True, 'average_score': 40.0, 'max_score': 40.0, 'max_score_url': 'https://www.studysmarter.co.uk/explanations/computer-science/cybersecurity-in-computer-science/stream-ciphers/', 'AI_category': 'AI-generated', 'AI_flag': True, 'AI_percentage': 96.82, 'AI_probabilities': {'Human-written': 0.03184909, 'AI-generated': 0.96815085}, 'reason': 'Penalty applied for plagiarism exceeding 30%; Penalty applied for AI detection exceeding 30%'}\n",
            "Row 376 results saved to /content/drive/MyDrive/updated_results.xlsx\n",
            "Failed to fetch /search?num=12: /search?num=12\n",
            "Access denied for https://www.thesslstore.com/blog/what-is-a-hash-function-in-cryptography-a-beginners-guide/\n",
            "Access denied for https://www.researchgate.net/publication/381143019_The_Critical_Role_of_Digital_Forensics_in_the_Modern_Information_Era\n",
            "Access denied for https://www.einfochips.com/blog/the-crucial-role-of-cryptography-in-cybersecurity/\n",
            "Access denied for https://www.thesslstore.com/blog/what-is-a-hash-function-in-cryptography-a-beginners-guide/\n",
            "Access denied for https://www.reddit.com/r/learnprogramming/comments/rov0to/how_does_password_hashing_workhow_is_it_used_in/\n"
          ]
        },
        {
          "output_type": "stream",
          "name": "stderr",
          "text": [
            "Some weights of the model checkpoint at roberta-base-openai-detector were not used when initializing RobertaForSequenceClassification: ['roberta.pooler.dense.bias', 'roberta.pooler.dense.weight']\n",
            "- This IS expected if you are initializing RobertaForSequenceClassification from the checkpoint of a model trained on another task or with another architecture (e.g. initializing a BertForSequenceClassification model from a BertForPreTraining model).\n",
            "- This IS NOT expected if you are initializing RobertaForSequenceClassification from the checkpoint of a model that you expect to be exactly identical (initializing a BertForSequenceClassification model from a BertForSequenceClassification model).\n"
          ]
        },
        {
          "output_type": "stream",
          "name": "stdout",
          "text": [
            "Result for row 377: {'full_marks': 2.0, 'obtained_marks': 2.0, 'strengths': [], 'areas_for_improvement': [], 'clarity_score': 8.0, 'depth_score': 6.0, 'final_marks_obtained': 1, 'feedback': 'Answer is correct but not complete enough. It would have been better if you have given some explanation about hash function', 'student_word_count': 87, 'student_sentence_count': 8, 'plagiarism': False, 'average_score': 0, 'max_score': 25.0, 'max_score_url': 'https://www.tuple.nl/en/knowledge-base/hashing', 'AI_category': 'AI-generated', 'AI_flag': True, 'AI_percentage': 99.98, 'AI_probabilities': {'Human-written': 0.00019337058, 'AI-generated': 0.9998067}, 'reason': 'Penalty applied for AI detection exceeding 30%'}\n",
            "Row 377 results saved to /content/drive/MyDrive/updated_results.xlsx\n",
            "Failed to fetch /search?num=12: /search?num=12\n",
            "Failed to fetch /search?q=plain+text+:+Operating+System%0ACipher+text:+TUJWFYNSLXDXYJR&num=12&safe=active&sca_esv=92b12e7e59cf2f55&hl=en&ie=UTF-8&filter=0: /search?q=plain+text+:+Operating+System%0ACipher+text:+TUJWFYNSLXDXYJR&num=12&safe=active&sca_esv=92b12e7e59cf2f55&hl=en&ie=UTF-8&filter=0\n"
          ]
        },
        {
          "output_type": "stream",
          "name": "stderr",
          "text": [
            "Some weights of the model checkpoint at roberta-base-openai-detector were not used when initializing RobertaForSequenceClassification: ['roberta.pooler.dense.bias', 'roberta.pooler.dense.weight']\n",
            "- This IS expected if you are initializing RobertaForSequenceClassification from the checkpoint of a model trained on another task or with another architecture (e.g. initializing a BertForSequenceClassification model from a BertForPreTraining model).\n",
            "- This IS NOT expected if you are initializing RobertaForSequenceClassification from the checkpoint of a model that you expect to be exactly identical (initializing a BertForSequenceClassification model from a BertForSequenceClassification model).\n"
          ]
        },
        {
          "output_type": "stream",
          "name": "stdout",
          "text": [
            "Result for row 378: {'full_marks': 2.0, 'obtained_marks': None, 'strengths': [], 'areas_for_improvement': [], 'clarity_score': None, 'depth_score': None, 'final_marks_obtained': 0, 'feedback': None, 'student_word_count': 8, 'student_sentence_count': 0, 'plagiarism': False, 'average_score': 0, 'max_score': 0, 'max_score_url': '', 'AI_category': 'AI-generated', 'AI_flag': True, 'AI_percentage': 96.26, 'AI_probabilities': {'Human-written': 0.037395287, 'AI-generated': 0.9626047}, 'reason': 'Penalty applied for AI detection exceeding 30%'}\n",
            "Row 378 results saved to /content/drive/MyDrive/updated_results.xlsx\n",
            "Failed to fetch /search?num=12: /search?num=12\n",
            "Failed to fetch /search?num=2: /search?num=2\n",
            "Failed to fetch : \n",
            "Failed to fetch : \n",
            "Failed to fetch : \n",
            "Failed to fetch : \n",
            "Failed to fetch : \n",
            "Failed to fetch : \n",
            "Failed to fetch : \n"
          ]
        },
        {
          "output_type": "stream",
          "name": "stderr",
          "text": [
            "Some weights of the model checkpoint at roberta-base-openai-detector were not used when initializing RobertaForSequenceClassification: ['roberta.pooler.dense.bias', 'roberta.pooler.dense.weight']\n",
            "- This IS expected if you are initializing RobertaForSequenceClassification from the checkpoint of a model trained on another task or with another architecture (e.g. initializing a BertForSequenceClassification model from a BertForPreTraining model).\n",
            "- This IS NOT expected if you are initializing RobertaForSequenceClassification from the checkpoint of a model that you expect to be exactly identical (initializing a BertForSequenceClassification model from a BertForSequenceClassification model).\n"
          ]
        },
        {
          "output_type": "stream",
          "name": "stdout",
          "text": [
            "Result for row 379: {'full_marks': 2.0, 'obtained_marks': 2.0, 'strengths': ['Correct answer'], 'areas_for_improvement': ['Detailed explanation', 'Steps to decrypt'], 'clarity_score': 3.0, 'depth_score': 2.0, 'final_marks_obtained': 1, 'feedback': 'Answer is correct but not detailed and explanation is not provided. Please provide a detailed explanation of your answer and provide all necessary steps to decrypt the cipher text.', 'student_word_count': 8, 'student_sentence_count': 0, 'plagiarism': False, 'average_score': 0, 'max_score': 0, 'max_score_url': '', 'AI_category': 'Human-written', 'AI_flag': False, 'AI_percentage': 67.01, 'AI_probabilities': {'Human-written': 0.32986474, 'AI-generated': 0.6701352}, 'reason': ''}\n",
            "Row 379 results saved to /content/drive/MyDrive/updated_results.xlsx\n"
          ]
        },
        {
          "output_type": "stream",
          "name": "stderr",
          "text": [
            "Some weights of the model checkpoint at roberta-base-openai-detector were not used when initializing RobertaForSequenceClassification: ['roberta.pooler.dense.bias', 'roberta.pooler.dense.weight']\n",
            "- This IS expected if you are initializing RobertaForSequenceClassification from the checkpoint of a model trained on another task or with another architecture (e.g. initializing a BertForSequenceClassification model from a BertForPreTraining model).\n",
            "- This IS NOT expected if you are initializing RobertaForSequenceClassification from the checkpoint of a model that you expect to be exactly identical (initializing a BertForSequenceClassification model from a BertForSequenceClassification model).\n"
          ]
        },
        {
          "output_type": "stream",
          "name": "stdout",
          "text": [
            "Result for row 380: {'full_marks': 4.0, 'obtained_marks': 4.0, 'strengths': ['Answer is mostly correct'], 'areas_for_improvement': ['Needs more detail in some parts'], 'clarity_score': 8.0, 'depth_score': 6.0, 'final_marks_obtained': 3, 'feedback': 'Answer is mostly correct but some parts are not as detailed as expected.', 'student_word_count': 1, 'student_sentence_count': 0, 'plagiarism': False, 'average_score': 0, 'max_score': 0, 'max_score_url': '', 'AI_category': 'Human-written', 'AI_flag': False, 'AI_percentage': 0.12, 'AI_probabilities': {'Human-written': 0.99879324, 'AI-generated': 0.0012067063}, 'reason': ''}\n",
            "Row 380 results saved to /content/drive/MyDrive/updated_results.xlsx\n",
            "Access denied for https://www.cloudflare.com/learning/ddos/glossary/open-systems-interconnection-model-osi/\n",
            "Access denied for https://www.sdxcentral.com/resources/glossary/open-systems-interconnection-osi/\n",
            "Failed to fetch https://www.ndix.net/ndix-explains-osi-model/: Cannot connect to host www.ndix.net:443 ssl:True [SSLCertVerificationError: (1, '[SSL: CERTIFICATE_VERIFY_FAILED] certificate verify failed: unable to get local issuer certificate (_ssl.c:1006)')]\n",
            "Access denied for https://www.reddit.com/r/AskNetsec/comments/qgv2r0/does_osi_model_is_hypothetical_or_it_has_some/\n",
            "Access denied for https://quizlet.com/716157336/osi-model-vs-tcpip-model-flash-cards/\n"
          ]
        },
        {
          "output_type": "stream",
          "name": "stderr",
          "text": [
            "Some weights of the model checkpoint at roberta-base-openai-detector were not used when initializing RobertaForSequenceClassification: ['roberta.pooler.dense.bias', 'roberta.pooler.dense.weight']\n",
            "- This IS expected if you are initializing RobertaForSequenceClassification from the checkpoint of a model trained on another task or with another architecture (e.g. initializing a BertForSequenceClassification model from a BertForPreTraining model).\n",
            "- This IS NOT expected if you are initializing RobertaForSequenceClassification from the checkpoint of a model that you expect to be exactly identical (initializing a BertForSequenceClassification model from a BertForSequenceClassification model).\n"
          ]
        },
        {
          "output_type": "stream",
          "name": "stdout",
          "text": [
            "Result for row 381: {'full_marks': 4.0, 'obtained_marks': 4.0, 'strengths': ['Explanation is clear and concise.', 'You have covered all the points.'], 'areas_for_improvement': ['Provide more examples to make it more clear.'], 'clarity_score': 9.0, 'depth_score': 8.0, 'final_marks_obtained': 2, 'feedback': 'Great job! You have explained all the points correctly and in detail. The only improvement is that you could have given more examples to make it more clear. Keep up the good work!', 'student_word_count': 60, 'student_sentence_count': 5, 'plagiarism': False, 'average_score': 0, 'max_score': 12.5, 'max_score_url': 'https://www.qsfptek.com/qt-news/osi-vs-tcp-ip-model-which-one-is-better.html?srsltid=AfmBOoqdmrvoRbVTstmdxwGU7l3Q5cXhFpJ_BieonIpMewVz2WgyWFPy', 'AI_category': 'AI-generated', 'AI_flag': True, 'AI_percentage': 99.93, 'AI_probabilities': {'Human-written': 0.00070492434, 'AI-generated': 0.999295}, 'reason': 'Penalty applied for AI detection exceeding 30%'}\n",
            "Row 381 results saved to /content/drive/MyDrive/updated_results.xlsx\n",
            "Failed to fetch /search?q=To+find+the+network+address:%0Aconvert+the+IP+and+subnet+mask+into+binary%0AIP+Address+:+192.168.1.65+-+11000000.10101000.00000001.01000001%0ASubnet+Mask:+255.255.255.192-+11111111.11111111.11111111.11000000+%0A2+Perform+a+bitwise+AND+operation+between+the+IP+and+the+subnet++mask:%0AResult:+11000000.10101000.00000001.01000000%0AAnswer:+192.168.1.64.%0Ac.+BROADCAST+ADDRESS:%0ANetwork+Address:+192.168.1.64--%3E+11000000.10101000.00000001.01000000%0ASet+host+bits+to+1+:+192.168.1.127&num=12&safe=active&sca_esv=92b12e7e59cf2f55&hl=en&ie=UTF-8&filter=0: /search?q=To+find+the+network+address:%0Aconvert+the+IP+and+subnet+mask+into+binary%0AIP+Address+:+192.168.1.65+-+11000000.10101000.00000001.01000001%0ASubnet+Mask:+255.255.255.192-+11111111.11111111.11111111.11000000+%0A2+Perform+a+bitwise+AND+operation+between+the+IP+and+the+subnet++mask:%0AResult:+11000000.10101000.00000001.01000000%0AAnswer:+192.168.1.64.%0Ac.+BROADCAST+ADDRESS:%0ANetwork+Address:+192.168.1.64--%3E+11000000.10101000.00000001.01000000%0ASet+host+bits+to+1+:+192.168.1.127&num=12&safe=active&sca_esv=92b12e7e59cf2f55&hl=en&ie=UTF-8&filter=0\n",
            "Access denied for https://www.reddit.com/r/ccna/comments/wfn147/how_255255255192_1000126_can_go_together_isnt_the/\n",
            "Access denied for https://www.reddit.com/r/ccna/comments/cawbpx/how_many_subnets_and_hosts_per_subnet_can_you_get/\n",
            "Access denied for https://help.keenetic.com/hc/en-us/articles/213965829-Calculating-the-number-of-hosts-and-subnets-based-on-IP-address-and-mask\n",
            "Access denied for https://help.keenetic.com/hc/en-us/articles/213965829-Calculating-the-number-of-hosts-and-subnets-based-on-IP-address-and-mask\n",
            "Access denied for https://brainly.com/question/50117444\n"
          ]
        },
        {
          "output_type": "stream",
          "name": "stderr",
          "text": [
            "Some weights of the model checkpoint at roberta-base-openai-detector were not used when initializing RobertaForSequenceClassification: ['roberta.pooler.dense.bias', 'roberta.pooler.dense.weight']\n",
            "- This IS expected if you are initializing RobertaForSequenceClassification from the checkpoint of a model trained on another task or with another architecture (e.g. initializing a BertForSequenceClassification model from a BertForPreTraining model).\n",
            "- This IS NOT expected if you are initializing RobertaForSequenceClassification from the checkpoint of a model that you expect to be exactly identical (initializing a BertForSequenceClassification model from a BertForSequenceClassification model).\n"
          ]
        },
        {
          "output_type": "stream",
          "name": "stdout",
          "text": [
            "Result for row 382: {'full_marks': 5.0, 'obtained_marks': 4.0, 'strengths': ['Correct answer to parts (b) and (c)'], 'areas_for_improvement': ['More explanation of the calculation process for part (a) ', 'More depth and clarity in the answer'], 'clarity_score': 7.0, 'depth_score': 7.0, 'final_marks_obtained': 3, 'feedback': 'Answer is almost correct, but lack of clarity and depth. Also, it should be mentioned that the answer is based on the assumption that there are no overlapping IP addresses within the subnet.', 'student_word_count': 91, 'student_sentence_count': 41, 'plagiarism': False, 'average_score': 0, 'max_score': 6.0, 'max_score_url': 'https://netseccloud.com/how-to-convert-subnet-masks-from-decimal-to-binary-a-practical-guide', 'AI_category': 'AI-generated', 'AI_flag': True, 'AI_percentage': 99.96, 'AI_probabilities': {'Human-written': 0.00038840962, 'AI-generated': 0.9996117}, 'reason': 'Penalty applied for AI detection exceeding 30%'}\n",
            "Row 382 results saved to /content/drive/MyDrive/updated_results.xlsx\n",
            "Access denied for https://quizlet.com/490991624/chapter-1-threats-attacks-and-assets-flash-cards/\n",
            "Error processing row 383: \n"
          ]
        },
        {
          "output_type": "stream",
          "name": "stderr",
          "text": [
            "Some weights of the model checkpoint at roberta-base-openai-detector were not used when initializing RobertaForSequenceClassification: ['roberta.pooler.dense.bias', 'roberta.pooler.dense.weight']\n",
            "- This IS expected if you are initializing RobertaForSequenceClassification from the checkpoint of a model trained on another task or with another architecture (e.g. initializing a BertForSequenceClassification model from a BertForPreTraining model).\n",
            "- This IS NOT expected if you are initializing RobertaForSequenceClassification from the checkpoint of a model that you expect to be exactly identical (initializing a BertForSequenceClassification model from a BertForSequenceClassification model).\n"
          ]
        },
        {
          "output_type": "stream",
          "name": "stdout",
          "text": [
            "Result for row 384: {'full_marks': 2.0, 'obtained_marks': 2.0, 'strengths': ['Correct answer', 'Detailed answer', 'Good clarity and depth scores'], 'areas_for_improvement': ['Provide more examples'], 'clarity_score': 8.0, 'depth_score': 8.0, 'final_marks_obtained': 1, 'feedback': 'Good job! You have answered the question correctly and provided a detailed answer. However, you could have provided more examples to make the answer more comprehensive. Your clarity and depth scores are good as well.', 'student_word_count': 42, 'student_sentence_count': 1, 'plagiarism': False, 'average_score': 0, 'max_score': 7.894736842105263, 'max_score_url': 'https://security.stackexchange.com/questions/334/advantages-and-disadvantages-of-stream-versus-block-ciphers', 'AI_category': 'AI-generated', 'AI_flag': True, 'AI_percentage': 99.95, 'AI_probabilities': {'Human-written': 0.0005357913, 'AI-generated': 0.9994642}, 'reason': 'Penalty applied for AI detection exceeding 30%'}\n",
            "Row 384 results saved to /content/drive/MyDrive/updated_results.xlsx\n",
            "Access denied for https://www.sciencedirect.com/topics/computer-science/digital-fingerprint\n",
            "Access denied for https://www.researchgate.net/publication/381639930_A_Comprehensive_Study_of_Cryptographic_Hash_Functions\n"
          ]
        },
        {
          "output_type": "stream",
          "name": "stderr",
          "text": [
            "Some weights of the model checkpoint at roberta-base-openai-detector were not used when initializing RobertaForSequenceClassification: ['roberta.pooler.dense.bias', 'roberta.pooler.dense.weight']\n",
            "- This IS expected if you are initializing RobertaForSequenceClassification from the checkpoint of a model trained on another task or with another architecture (e.g. initializing a BertForSequenceClassification model from a BertForPreTraining model).\n",
            "- This IS NOT expected if you are initializing RobertaForSequenceClassification from the checkpoint of a model that you expect to be exactly identical (initializing a BertForSequenceClassification model from a BertForSequenceClassification model).\n"
          ]
        },
        {
          "output_type": "stream",
          "name": "stdout",
          "text": [
            "Result for row 385: {'full_marks': 2.0, 'obtained_marks': 2.0, 'strengths': [], 'areas_for_improvement': [], 'clarity_score': 8.0, 'depth_score': 6.0, 'final_marks_obtained': 1, 'feedback': 'You have given a correct answer but it is not complete enough. It is necessary to provide details about each real world application.', 'student_word_count': 66, 'student_sentence_count': 4, 'plagiarism': False, 'average_score': 0, 'max_score': 4.3478260869565215, 'max_score_url': 'https://www.tuple.nl/en/knowledge-base/hashing', 'AI_category': 'AI-generated', 'AI_flag': True, 'AI_percentage': 99.93, 'AI_probabilities': {'Human-written': 0.0007317781, 'AI-generated': 0.99926823}, 'reason': 'Penalty applied for AI detection exceeding 30%'}\n",
            "Row 385 results saved to /content/drive/MyDrive/updated_results.xlsx\n",
            "Error processing row 386: \n",
            "Error processing row 387: \n",
            "Failed to fetch /search?num=12: /search?num=12\n",
            "Access denied for https://www.researchgate.net/post/In_RSA_algorithm_If_p17_q11_then_why_e_7_why_not_e32\n",
            "Access denied for https://www.reddit.com/r/crypto/comments/hbpukk/consider_an_rsa_system_with_p17_q11_and_e3_find_m/\n",
            "Access denied for https://www.chegg.com/homework-help/questions-and-answers/rsa-digital-signature-let-p-17-q-11-also-assume-rsa-chooses-e-7-d-23-encryption-decryption-q127114609\n",
            "Failed to fetch https://exploringnumbertheory.wordpress.com/tag/extended-euclidean-algorithm/: Server disconnected\n",
            "Access denied for https://www.chegg.com/homework-help/questions-and-answers/public-key-cryptography-rsa-system-suppose-p-13-q-11-e-23-therefore-encryption-key-23-143--q173946132\n",
            "Error processing row 388: \n",
            "Access denied for https://www.researchgate.net/publication/383940363_Comparative_Study_Between_the_OSI_Model_and_the_TCPIP_Model_Architecture_and_Protocols_in_Computer_Networking_Systems\n",
            "Access denied for https://www.cloudflare.com/learning/ddos/glossary/open-systems-interconnection-model-osi/\n",
            "Access denied for https://www.forcepoint.com/cyber-edu/osi-model\n",
            "Access denied for https://quizlet.com/86660629/layers-of-the-tcpip-model-flash-cards/\n",
            "Access denied for https://www.researchgate.net/publication/2996873_The_OSI_reference_model\n",
            "Failed to fetch https://egyankosh.ac.in/bitstream/123456789/11692/1/Unit-2.pdf: Cannot connect to host egyankosh.ac.in:443 ssl:True [SSLCertVerificationError: (1, '[SSL: CERTIFICATE_VERIFY_FAILED] certificate verify failed: unable to get local issuer certificate (_ssl.c:1006)')]\n",
            "Error processing row 389: \n",
            "Failed to fetch /search?num=12: /search?num=12\n",
            "Failed to fetch : \n",
            "Failed to fetch : \n",
            "Failed to fetch : \n",
            "Failed to fetch : \n",
            "Failed to fetch : \n",
            "Failed to fetch : \n",
            "Failed to fetch : \n",
            "Failed to fetch : \n",
            "Access denied for https://www.reddit.com/r/ccna/comments/17qdm4v/how_do_i_figure_out_how_many_hosts_would_be/\n",
            "Access denied for https://www.slideshare.net/slideshow/ccna-day1-37014531/37014531\n",
            "Access denied for https://www.reddit.com/r/HomeNetworking/comments/11r0syv/19216816426_but_how/\n",
            "Access denied for https://brainly.com/question/43263554\n",
            "Access denied for https://www.reddit.com/r/networking/comments/5dim2g/subnetting_question_sorry_i_couldnt_find_this/\n",
            "Access denied for https://help.keenetic.com/hc/en-us/articles/213965829-Calculating-the-number-of-hosts-and-subnets-based-on-IP-address-and-mask\n"
          ]
        },
        {
          "output_type": "stream",
          "name": "stderr",
          "text": [
            "Some weights of the model checkpoint at roberta-base-openai-detector were not used when initializing RobertaForSequenceClassification: ['roberta.pooler.dense.bias', 'roberta.pooler.dense.weight']\n",
            "- This IS expected if you are initializing RobertaForSequenceClassification from the checkpoint of a model trained on another task or with another architecture (e.g. initializing a BertForSequenceClassification model from a BertForPreTraining model).\n",
            "- This IS NOT expected if you are initializing RobertaForSequenceClassification from the checkpoint of a model that you expect to be exactly identical (initializing a BertForSequenceClassification model from a BertForSequenceClassification model).\n"
          ]
        },
        {
          "output_type": "stream",
          "name": "stdout",
          "text": [
            "Result for row 390: {'full_marks': 5.0, 'obtained_marks': 5.0, 'strengths': ['Correctness', 'Completeness', 'Clarity', 'Depth', 'Relevance'], 'areas_for_improvement': ['None'], 'clarity_score': 9.0, 'depth_score': 9.0, 'final_marks_obtained': 2, 'feedback': 'Good job!', 'student_word_count': 79, 'student_sentence_count': 27, 'plagiarism': True, 'average_score': 30.0, 'max_score': 30.0, 'max_score_url': 'http://networkinghelper.weebly.com/subnetting.html', 'AI_category': 'AI-generated', 'AI_flag': True, 'AI_percentage': 99.74, 'AI_probabilities': {'Human-written': 0.0025700745, 'AI-generated': 0.9974299}, 'reason': 'Penalty applied for plagiarism exceeding 30%; Penalty applied for AI detection exceeding 30%'}\n",
            "Row 390 results saved to /content/drive/MyDrive/updated_results.xlsx\n",
            "Access denied for https://www.avvo.com/legal-answers/can-i-press-charges-for-an-ex-logging-into-my-acco-3814807.html\n",
            "Access denied for https://www.justanswer.com/computer/my9j9-ex-boyfriend-hacking-facebook.html\n",
            "Access denied for https://www.justanswer.com/computer/fp50d-ex-access-email-account-log-off.html\n",
            "Access denied for https://www.reddit.com/r/privacy/comments/yqowyb/how_do_i_securely_send_sensitive_documents_via/\n",
            "Access denied for https://www.reddit.com/r/techsupport/comments/xbjhbr/my_ex_has_had_access_to_my_email_for_2_years/\n",
            "Access denied for https://www.reddit.com/r/HomeNetworking/comments/18d33co/can_wifi_signals_be_captured/\n",
            "Access denied for https://pmc.ncbi.nlm.nih.gov/articles/PMC7122347/\n",
            "Access denied for https://quizlet.com/490991624/chapter-1-threats-attacks-and-assets-flash-cards/\n",
            "Error processing row 391: \n",
            "Failed to fetch https://cryptography.decipher.ac/Basic-Cryptography/Stream-cipher: Cannot connect to host cryptography.decipher.ac:443 ssl:default [No address associated with hostname]\n",
            "Access denied for https://www.researchgate.net/profile/Meltem-Kurt-Pehlivanoglu/publication/284206699_Email_Encryption_using_RC4_Algorithm/links/569f86d308aee4d26ad2646b/Email-Encryption-using-RC4-Algorithm.pdf\n"
          ]
        },
        {
          "output_type": "stream",
          "name": "stderr",
          "text": [
            "Some weights of the model checkpoint at roberta-base-openai-detector were not used when initializing RobertaForSequenceClassification: ['roberta.pooler.dense.bias', 'roberta.pooler.dense.weight']\n",
            "- This IS expected if you are initializing RobertaForSequenceClassification from the checkpoint of a model trained on another task or with another architecture (e.g. initializing a BertForSequenceClassification model from a BertForPreTraining model).\n",
            "- This IS NOT expected if you are initializing RobertaForSequenceClassification from the checkpoint of a model that you expect to be exactly identical (initializing a BertForSequenceClassification model from a BertForSequenceClassification model).\n"
          ]
        },
        {
          "output_type": "stream",
          "name": "stdout",
          "text": [
            "Result for row 392: {'full_marks': 2.0, 'obtained_marks': 2.0, 'strengths': ['Correctness of answer', 'Clarity of answer'], 'areas_for_improvement': ['Provide more details on the key generation process of stream ciphers', 'Explain how padding works in block ciphers'], 'clarity_score': 9.0, 'depth_score': 8.0, 'final_marks_obtained': 1, 'feedback': 'Good job! Your answer is correct and covers all the aspects of block ciphers and stream ciphers.', 'student_word_count': 77, 'student_sentence_count': 6, 'plagiarism': True, 'average_score': 33.33333333333333, 'max_score': 33.33333333333333, 'max_score_url': 'https://www.studysmarter.co.uk/explanations/computer-science/cybersecurity-in-computer-science/stream-ciphers/', 'AI_category': 'AI-generated', 'AI_flag': True, 'AI_percentage': 99.97, 'AI_probabilities': {'Human-written': 0.00034646562, 'AI-generated': 0.9996536}, 'reason': 'Penalty applied for plagiarism exceeding 30%; Penalty applied for AI detection exceeding 30%'}\n",
            "Row 392 results saved to /content/drive/MyDrive/updated_results.xlsx\n",
            "Failed to fetch /search?num=12: /search?num=12\n",
            "Access denied for https://www.reddit.com/r/learnprogramming/comments/rov0to/how_does_password_hashing_workhow_is_it_used_in/\n",
            "Access denied for https://www.reddit.com/r/cybersecurity/comments/i18lqo/if_passwords_are_stored_as_hashes_how_do_data/\n",
            "Access denied for https://www.reddit.com/r/explainlikeimfive/comments/2gjit5/eli5_if_you_change_1_bit_of_a_file_its_hash/\n",
            "Access denied for https://www.forensicfocus.com/forums/general/how-to-explain-different-hash-values/\n",
            "Access denied for https://brainly.com/question/41780342\n",
            "Error processing row 393: \n",
            "Failed to fetch : \n",
            "Failed to fetch : \n",
            "Failed to fetch : \n",
            "Failed to fetch : \n",
            "Failed to fetch : \n",
            "Failed to fetch : \n",
            "Failed to fetch : \n",
            "Failed to fetch : \n",
            "Failed to fetch : \n"
          ]
        },
        {
          "output_type": "stream",
          "name": "stderr",
          "text": [
            "Some weights of the model checkpoint at roberta-base-openai-detector were not used when initializing RobertaForSequenceClassification: ['roberta.pooler.dense.bias', 'roberta.pooler.dense.weight']\n",
            "- This IS expected if you are initializing RobertaForSequenceClassification from the checkpoint of a model trained on another task or with another architecture (e.g. initializing a BertForSequenceClassification model from a BertForPreTraining model).\n",
            "- This IS NOT expected if you are initializing RobertaForSequenceClassification from the checkpoint of a model that you expect to be exactly identical (initializing a BertForSequenceClassification model from a BertForSequenceClassification model).\n"
          ]
        },
        {
          "output_type": "stream",
          "name": "stdout",
          "text": [
            "Result for row 394: {'full_marks': 2.0, 'obtained_marks': 2.0, 'strengths': ['Correct answer', 'Good understanding of Caesar Cipher concept'], 'areas_for_improvement': ['Provide more context and examples to help the student understand the concept.', 'Explain the concept in more detail'], 'clarity_score': 7.0, 'depth_score': 7.0, 'final_marks_obtained': 1, 'feedback': 'Correct answer, but could have been more detailed and specific. Provide more context and examples to help the student understand the concept.', 'student_word_count': 5, 'student_sentence_count': 0, 'plagiarism': False, 'average_score': 0, 'max_score': 0, 'max_score_url': '', 'AI_category': 'Human-written', 'AI_flag': False, 'AI_percentage': 67.23, 'AI_probabilities': {'Human-written': 0.32773444, 'AI-generated': 0.6722656}, 'reason': ''}\n",
            "Row 394 results saved to /content/drive/MyDrive/updated_results.xlsx\n",
            "Access denied for https://www.reddit.com/r/explainlikeimfive/comments/1dyqqz5/eli5_how_does_one_know_when_a_message_is_decrypted/\n",
            "Error processing row 395: \n",
            "Access denied for https://www.reddit.com/r/MathHelp/comments/dldmdb/need_help_finding_what_im_doing_wrong_on_a/\n"
          ]
        },
        {
          "output_type": "stream",
          "name": "stderr",
          "text": [
            "Some weights of the model checkpoint at roberta-base-openai-detector were not used when initializing RobertaForSequenceClassification: ['roberta.pooler.dense.bias', 'roberta.pooler.dense.weight']\n",
            "- This IS expected if you are initializing RobertaForSequenceClassification from the checkpoint of a model trained on another task or with another architecture (e.g. initializing a BertForSequenceClassification model from a BertForPreTraining model).\n",
            "- This IS NOT expected if you are initializing RobertaForSequenceClassification from the checkpoint of a model that you expect to be exactly identical (initializing a BertForSequenceClassification model from a BertForSequenceClassification model).\n"
          ]
        },
        {
          "output_type": "stream",
          "name": "stdout",
          "text": [
            "Result for row 396: {'full_marks': 4.0, 'obtained_marks': 4.0, 'strengths': ['Correct answer', 'Complete answer', 'Explanation of process'], 'areas_for_improvement': ['Providing more context', 'Explaining the process'], 'clarity_score': 8.0, 'depth_score': 7.0, 'final_marks_obtained': 3, 'feedback': 'Good job! The answer is correct and complete. However, the answer could be improved by providing more context and explaining the process of generating the private key from the public key.', 'student_word_count': 8, 'student_sentence_count': 0, 'plagiarism': False, 'average_score': 0, 'max_score': 0, 'max_score_url': '', 'AI_category': 'Human-written', 'AI_flag': False, 'AI_percentage': 61.31, 'AI_probabilities': {'Human-written': 0.386895, 'AI-generated': 0.613105}, 'reason': ''}\n",
            "Row 396 results saved to /content/drive/MyDrive/updated_results.xlsx\n"
          ]
        },
        {
          "output_type": "stream",
          "name": "stderr",
          "text": [
            "Some weights of the model checkpoint at roberta-base-openai-detector were not used when initializing RobertaForSequenceClassification: ['roberta.pooler.dense.bias', 'roberta.pooler.dense.weight']\n",
            "- This IS expected if you are initializing RobertaForSequenceClassification from the checkpoint of a model trained on another task or with another architecture (e.g. initializing a BertForSequenceClassification model from a BertForPreTraining model).\n",
            "- This IS NOT expected if you are initializing RobertaForSequenceClassification from the checkpoint of a model that you expect to be exactly identical (initializing a BertForSequenceClassification model from a BertForSequenceClassification model).\n"
          ]
        },
        {
          "output_type": "stream",
          "name": "stdout",
          "text": [
            "Result for row 397: {'full_marks': 0, 'obtained_marks': None, 'strengths': [], 'areas_for_improvement': [], 'clarity_score': None, 'depth_score': None, 'final_marks_obtained': 0, 'feedback': None, 'student_word_count': 0, 'student_sentence_count': 0, 'plagiarism': False, 'average_score': 0, 'max_score': 0, 'max_score_url': '', 'AI_category': 'Human-written', 'AI_flag': False, 'AI_percentage': 0.09, 'AI_probabilities': {'Human-written': 0.9990896, 'AI-generated': 0.00091043336}, 'reason': ''}\n",
            "Row 397 results saved to /content/drive/MyDrive/updated_results.xlsx\n"
          ]
        },
        {
          "output_type": "stream",
          "name": "stderr",
          "text": [
            "Some weights of the model checkpoint at roberta-base-openai-detector were not used when initializing RobertaForSequenceClassification: ['roberta.pooler.dense.bias', 'roberta.pooler.dense.weight']\n",
            "- This IS expected if you are initializing RobertaForSequenceClassification from the checkpoint of a model trained on another task or with another architecture (e.g. initializing a BertForSequenceClassification model from a BertForPreTraining model).\n",
            "- This IS NOT expected if you are initializing RobertaForSequenceClassification from the checkpoint of a model that you expect to be exactly identical (initializing a BertForSequenceClassification model from a BertForSequenceClassification model).\n"
          ]
        },
        {
          "output_type": "stream",
          "name": "stdout",
          "text": [
            "Result for row 398: {'full_marks': 4.0, 'obtained_marks': 4.0, 'strengths': ['The answer is correct and provides a good overview of the differences between the OSI model and the TCP/IP model.'], 'areas_for_improvement': ['The answer could benefit from more detail and specific examples to further illustrate the differences.'], 'clarity_score': 8.0, 'depth_score': 7.0, 'final_marks_obtained': 3, 'feedback': 'The answer is correct and provides a good overview of the differences between the OSI model and the TCP/IP model. However, the answer could benefit from more detail and specific examples to further illustrate the differences. Additionally, the answer could benefit from more depth in the explanation of each model. The clarity score is 8 out of 10, and the depth score is 7 out of 10.', 'student_word_count': 0, 'student_sentence_count': 0, 'plagiarism': False, 'average_score': 0, 'max_score': 0, 'max_score_url': '', 'AI_category': 'Human-written', 'AI_flag': False, 'AI_percentage': 0.09, 'AI_probabilities': {'Human-written': 0.9990896, 'AI-generated': 0.00091043336}, 'reason': ''}\n",
            "Row 398 results saved to /content/drive/MyDrive/updated_results.xlsx\n",
            "Access denied for https://www.ipaddress.my/192.168.1.127\n"
          ]
        },
        {
          "output_type": "stream",
          "name": "stderr",
          "text": [
            "Some weights of the model checkpoint at roberta-base-openai-detector were not used when initializing RobertaForSequenceClassification: ['roberta.pooler.dense.bias', 'roberta.pooler.dense.weight']\n",
            "- This IS expected if you are initializing RobertaForSequenceClassification from the checkpoint of a model trained on another task or with another architecture (e.g. initializing a BertForSequenceClassification model from a BertForPreTraining model).\n",
            "- This IS NOT expected if you are initializing RobertaForSequenceClassification from the checkpoint of a model that you expect to be exactly identical (initializing a BertForSequenceClassification model from a BertForSequenceClassification model).\n"
          ]
        },
        {
          "output_type": "stream",
          "name": "stdout",
          "text": [
            "Result for row 399: {'full_marks': 5.0, 'obtained_marks': 5.0, 'strengths': [], 'areas_for_improvement': [], 'clarity_score': 9.0, 'depth_score': 9.0, 'final_marks_obtained': 4, 'feedback': 'Answer is good and complete. It clearly explains all the three aspects of the question.', 'student_word_count': 3, 'student_sentence_count': 6, 'plagiarism': False, 'average_score': 0, 'max_score': 0, 'max_score_url': '', 'AI_category': 'Human-written', 'AI_flag': False, 'AI_percentage': 43.93, 'AI_probabilities': {'Human-written': 0.5606828, 'AI-generated': 0.43931726}, 'reason': ''}\n",
            "Row 399 results saved to /content/drive/MyDrive/updated_results.xlsx\n",
            "Access denied for https://quizlet.com/220738217/chapter-1-introduction-to-information-security-flash-cards/\n",
            "Access denied for https://dir.texas.gov/sites/default/files/Cybersecurity%20Terminology.docx\n"
          ]
        },
        {
          "output_type": "stream",
          "name": "stderr",
          "text": [
            "Some weights of the model checkpoint at roberta-base-openai-detector were not used when initializing RobertaForSequenceClassification: ['roberta.pooler.dense.bias', 'roberta.pooler.dense.weight']\n",
            "- This IS expected if you are initializing RobertaForSequenceClassification from the checkpoint of a model trained on another task or with another architecture (e.g. initializing a BertForSequenceClassification model from a BertForPreTraining model).\n",
            "- This IS NOT expected if you are initializing RobertaForSequenceClassification from the checkpoint of a model that you expect to be exactly identical (initializing a BertForSequenceClassification model from a BertForSequenceClassification model).\n"
          ]
        },
        {
          "output_type": "stream",
          "name": "stdout",
          "text": [
            "Result for row 400: {'full_marks': 4.0, 'obtained_marks': None, 'strengths': [], 'areas_for_improvement': [], 'clarity_score': None, 'depth_score': None, 'final_marks_obtained': 0, 'feedback': None, 'student_word_count': 33, 'student_sentence_count': 2, 'plagiarism': False, 'average_score': 0, 'max_score': 0, 'max_score_url': '', 'AI_category': 'AI-generated', 'AI_flag': True, 'AI_percentage': 99.66, 'AI_probabilities': {'Human-written': 0.0034312373, 'AI-generated': 0.9965688}, 'reason': 'Penalty applied for AI detection exceeding 30%'}\n",
            "Row 400 results saved to /content/drive/MyDrive/updated_results.xlsx\n",
            "Access denied for https://www.reddit.com/r/youtube/comments/tebv1z/what_is_full_stop_punctuation/\n"
          ]
        },
        {
          "output_type": "stream",
          "name": "stderr",
          "text": [
            "Some weights of the model checkpoint at roberta-base-openai-detector were not used when initializing RobertaForSequenceClassification: ['roberta.pooler.dense.bias', 'roberta.pooler.dense.weight']\n",
            "- This IS expected if you are initializing RobertaForSequenceClassification from the checkpoint of a model trained on another task or with another architecture (e.g. initializing a BertForSequenceClassification model from a BertForPreTraining model).\n",
            "- This IS NOT expected if you are initializing RobertaForSequenceClassification from the checkpoint of a model that you expect to be exactly identical (initializing a BertForSequenceClassification model from a BertForSequenceClassification model).\n"
          ]
        },
        {
          "output_type": "stream",
          "name": "stdout",
          "text": [
            "Result for row 401: {'full_marks': 2.0, 'obtained_marks': None, 'strengths': [], 'areas_for_improvement': [], 'clarity_score': None, 'depth_score': None, 'final_marks_obtained': 0, 'feedback': None, 'student_word_count': 68, 'student_sentence_count': 4, 'plagiarism': False, 'average_score': 0, 'max_score': 0, 'max_score_url': '', 'AI_category': 'AI-generated', 'AI_flag': True, 'AI_percentage': 99.79, 'AI_probabilities': {'Human-written': 0.0021349764, 'AI-generated': 0.997865}, 'reason': 'Penalty applied for AI detection exceeding 30%'}\n",
            "Row 401 results saved to /content/drive/MyDrive/updated_results.xlsx\n",
            "Failed to fetch /search?num=12: /search?num=12\n"
          ]
        },
        {
          "output_type": "stream",
          "name": "stderr",
          "text": [
            "Some weights of the model checkpoint at roberta-base-openai-detector were not used when initializing RobertaForSequenceClassification: ['roberta.pooler.dense.bias', 'roberta.pooler.dense.weight']\n",
            "- This IS expected if you are initializing RobertaForSequenceClassification from the checkpoint of a model trained on another task or with another architecture (e.g. initializing a BertForSequenceClassification model from a BertForPreTraining model).\n",
            "- This IS NOT expected if you are initializing RobertaForSequenceClassification from the checkpoint of a model that you expect to be exactly identical (initializing a BertForSequenceClassification model from a BertForSequenceClassification model).\n"
          ]
        },
        {
          "output_type": "stream",
          "name": "stdout",
          "text": [
            "Result for row 402: {'full_marks': 2.0, 'obtained_marks': 85.0, 'strengths': ['Excellent explanation of hash functions', 'Real-world applications provided', 'Clarity and completeness in the answer'], 'areas_for_improvement': ['Could have provided more depth on specific hash functions', 'Could have added more examples to explain the concept better'], 'clarity_score': 9.0, 'depth_score': 7.0, 'final_marks_obtained': 2, 'feedback': 'Great job! You covered all the points and provided clear and concise explanations. Keep up the good work!', 'student_word_count': 32, 'student_sentence_count': 0, 'plagiarism': False, 'average_score': 0, 'max_score': 0, 'max_score_url': '', 'AI_category': 'AI-generated', 'AI_flag': True, 'AI_percentage': 94.19, 'AI_probabilities': {'Human-written': 0.058133867, 'AI-generated': 0.9418661}, 'reason': 'Penalty applied for exceeding 90% of full marks; Penalty applied for AI detection exceeding 30%'}\n",
            "Row 402 results saved to /content/drive/MyDrive/updated_results.xlsx\n",
            "Failed to fetch /search?num=12: /search?num=12\n",
            "Access denied for https://www.lakecdjr.com/\n",
            "Access denied for https://www.vannuyscdjr.com/\n",
            "Access denied for https://www.tuttoncdjr.com/\n",
            "Access denied for https://www.gastoniadodge.com/?srsltid=AfmBOoolo3o__P5Cdvf8tct0JB2GQYGM3MLcseKQph0P0KYSpmppLw5s\n"
          ]
        },
        {
          "output_type": "stream",
          "name": "stderr",
          "text": [
            "Some weights of the model checkpoint at roberta-base-openai-detector were not used when initializing RobertaForSequenceClassification: ['roberta.pooler.dense.bias', 'roberta.pooler.dense.weight']\n",
            "- This IS expected if you are initializing RobertaForSequenceClassification from the checkpoint of a model trained on another task or with another architecture (e.g. initializing a BertForSequenceClassification model from a BertForPreTraining model).\n",
            "- This IS NOT expected if you are initializing RobertaForSequenceClassification from the checkpoint of a model that you expect to be exactly identical (initializing a BertForSequenceClassification model from a BertForSequenceClassification model).\n"
          ]
        },
        {
          "output_type": "stream",
          "name": "stdout",
          "text": [
            "Result for row 403: {'full_marks': 2.0, 'obtained_marks': 2.0, 'strengths': ['Correct answer', 'Clarity'], 'areas_for_improvement': ['Detail explanation'], 'clarity_score': 8.0, 'depth_score': 5.0, 'final_marks_obtained': 1, 'feedback': 'Great job! Your answer is correct and concise. You have clearly understood the question. However, you could have provided a more detailed explanation. Keep up the good work!', 'student_word_count': 2, 'student_sentence_count': 0, 'plagiarism': False, 'average_score': 0, 'max_score': 0, 'max_score_url': '', 'AI_category': 'Human-written', 'AI_flag': False, 'AI_percentage': 52.84, 'AI_probabilities': {'Human-written': 0.47155178, 'AI-generated': 0.5284483}, 'reason': ''}\n",
            "Row 403 results saved to /content/drive/MyDrive/updated_results.xlsx\n",
            "Failed to fetch /search?num=12: /search?num=12\n"
          ]
        },
        {
          "output_type": "stream",
          "name": "stderr",
          "text": [
            "Some weights of the model checkpoint at roberta-base-openai-detector were not used when initializing RobertaForSequenceClassification: ['roberta.pooler.dense.bias', 'roberta.pooler.dense.weight']\n",
            "- This IS expected if you are initializing RobertaForSequenceClassification from the checkpoint of a model trained on another task or with another architecture (e.g. initializing a BertForSequenceClassification model from a BertForPreTraining model).\n",
            "- This IS NOT expected if you are initializing RobertaForSequenceClassification from the checkpoint of a model that you expect to be exactly identical (initializing a BertForSequenceClassification model from a BertForSequenceClassification model).\n"
          ]
        },
        {
          "output_type": "stream",
          "name": "stdout",
          "text": [
            "Result for row 404: {'full_marks': 2.0, 'obtained_marks': 9.0, 'strengths': ['Correctness of the answer'], 'areas_for_improvement': ['Clarity', 'Depth'], 'clarity_score': 7.0, 'depth_score': 7.0, 'final_marks_obtained': 1, 'feedback': 'The answer is mostly correct but it is not very clear and does not provide enough details. It would be better to explain the steps taken to solve the problem.', 'student_word_count': 2, 'student_sentence_count': 0, 'plagiarism': False, 'average_score': 0, 'max_score': 0, 'max_score_url': '', 'AI_category': 'Human-written', 'AI_flag': False, 'AI_percentage': 45.36, 'AI_probabilities': {'Human-written': 0.54638463, 'AI-generated': 0.45361534}, 'reason': 'Penalty applied for exceeding 90% of full marks'}\n",
            "Row 404 results saved to /content/drive/MyDrive/updated_results.xlsx\n"
          ]
        },
        {
          "output_type": "stream",
          "name": "stderr",
          "text": [
            "Some weights of the model checkpoint at roberta-base-openai-detector were not used when initializing RobertaForSequenceClassification: ['roberta.pooler.dense.bias', 'roberta.pooler.dense.weight']\n",
            "- This IS expected if you are initializing RobertaForSequenceClassification from the checkpoint of a model trained on another task or with another architecture (e.g. initializing a BertForSequenceClassification model from a BertForPreTraining model).\n",
            "- This IS NOT expected if you are initializing RobertaForSequenceClassification from the checkpoint of a model that you expect to be exactly identical (initializing a BertForSequenceClassification model from a BertForSequenceClassification model).\n"
          ]
        },
        {
          "output_type": "stream",
          "name": "stdout",
          "text": [
            "Result for row 405: {'full_marks': 4.0, 'obtained_marks': 4.0, 'strengths': ['You have answered the question correctly and provided a detailed answer.'], 'areas_for_improvement': ['You could have provided more information about RSA cryptosystems to make the answer more informative.', 'The answer could have been more concise and to the point.'], 'clarity_score': 8.0, 'depth_score': 7.0, 'final_marks_obtained': 3, 'feedback': 'You have answered the question correctly and provided a detailed answer. However, the answer could have been more concise and to the point. You could have also provided more information about RSA cryptosystems to make the answer more informative.', 'student_word_count': 1, 'student_sentence_count': 0, 'plagiarism': False, 'average_score': 0, 'max_score': 0, 'max_score_url': '', 'AI_category': 'Human-written', 'AI_flag': False, 'AI_percentage': 0.12, 'AI_probabilities': {'Human-written': 0.99879324, 'AI-generated': 0.0012067063}, 'reason': ''}\n",
            "Row 405 results saved to /content/drive/MyDrive/updated_results.xlsx\n",
            "Failed to fetch /search?q=OSI+model+;-%0A1)+osi+model+stands+for+open+system+interconnection+%0A2)+it+has+seven+layers+%0A3)it+is+less+reliable+than+tcp/ip+model.&num=12&safe=active&sca_esv=92b12e7e59cf2f55&hl=en&ie=UTF-8&filter=0: /search?q=OSI+model+;-%0A1)+osi+model+stands+for+open+system+interconnection+%0A2)+it+has+seven+layers+%0A3)it+is+less+reliable+than+tcp/ip+model.&num=12&safe=active&sca_esv=92b12e7e59cf2f55&hl=en&ie=UTF-8&filter=0\n",
            "Failed to fetch /search?num=12: /search?num=12\n",
            "Failed to fetch https://www.ndix.net/ndix-explains-osi-model/: Cannot connect to host www.ndix.net:443 ssl:True [SSLCertVerificationError: (1, '[SSL: CERTIFICATE_VERIFY_FAILED] certificate verify failed: unable to get local issuer certificate (_ssl.c:1006)')]\n",
            "Access denied for https://www.reddit.com/r/PrintedCircuitBoard/comments/135exaq/2layers_vs_4layers_for_emi_interferences/\n",
            "Access denied for https://www.reddit.com/r/ccna/comments/5dyqy9/tcpip_vs_osi_please_explain_these_comparisons/\n",
            "Failed to fetch https://www.techbuyer.com/uk/blog/osi-vs-tcp-ip: 400, message='Got more than 8190 bytes (11182) when reading Header value is too long.', url='https://www.techbuyer.com/uk/blog/osi-vs-tcp-ip'\n"
          ]
        },
        {
          "output_type": "stream",
          "name": "stderr",
          "text": [
            "Some weights of the model checkpoint at roberta-base-openai-detector were not used when initializing RobertaForSequenceClassification: ['roberta.pooler.dense.bias', 'roberta.pooler.dense.weight']\n",
            "- This IS expected if you are initializing RobertaForSequenceClassification from the checkpoint of a model trained on another task or with another architecture (e.g. initializing a BertForSequenceClassification model from a BertForPreTraining model).\n",
            "- This IS NOT expected if you are initializing RobertaForSequenceClassification from the checkpoint of a model that you expect to be exactly identical (initializing a BertForSequenceClassification model from a BertForSequenceClassification model).\n"
          ]
        },
        {
          "output_type": "stream",
          "name": "stdout",
          "text": [
            "Result for row 406: {'full_marks': 4.0, 'obtained_marks': None, 'strengths': [], 'areas_for_improvement': [], 'clarity_score': None, 'depth_score': None, 'final_marks_obtained': 0, 'feedback': None, 'student_word_count': 67, 'student_sentence_count': 5, 'plagiarism': False, 'average_score': 0, 'max_score': 25.0, 'max_score_url': 'https://www.geeksforgeeks.org/difference-between-osi-model-and-tcp-ip-model/', 'AI_category': 'AI-generated', 'AI_flag': True, 'AI_percentage': 99.98, 'AI_probabilities': {'Human-written': 0.00023477626, 'AI-generated': 0.9997652}, 'reason': 'Penalty applied for AI detection exceeding 30%'}\n",
            "Row 406 results saved to /content/drive/MyDrive/updated_results.xlsx\n",
            "Access denied for https://www.reddit.com/r/packettracer/comments/jhjn7p/packet_tracer_help/\n"
          ]
        },
        {
          "output_type": "stream",
          "name": "stderr",
          "text": [
            "Some weights of the model checkpoint at roberta-base-openai-detector were not used when initializing RobertaForSequenceClassification: ['roberta.pooler.dense.bias', 'roberta.pooler.dense.weight']\n",
            "- This IS expected if you are initializing RobertaForSequenceClassification from the checkpoint of a model trained on another task or with another architecture (e.g. initializing a BertForSequenceClassification model from a BertForPreTraining model).\n",
            "- This IS NOT expected if you are initializing RobertaForSequenceClassification from the checkpoint of a model that you expect to be exactly identical (initializing a BertForSequenceClassification model from a BertForSequenceClassification model).\n"
          ]
        },
        {
          "output_type": "stream",
          "name": "stdout",
          "text": [
            "Result for row 407: {'full_marks': 5.0, 'obtained_marks': None, 'strengths': [], 'areas_for_improvement': [], 'clarity_score': None, 'depth_score': None, 'final_marks_obtained': 0, 'feedback': None, 'student_word_count': 5, 'student_sentence_count': 6, 'plagiarism': False, 'average_score': 0, 'max_score': 0, 'max_score_url': '', 'AI_category': 'Human-written', 'AI_flag': False, 'AI_percentage': 48.11, 'AI_probabilities': {'Human-written': 0.51887476, 'AI-generated': 0.4811252}, 'reason': ''}\n",
            "Row 407 results saved to /content/drive/MyDrive/updated_results.xlsx\n",
            "Failed to fetch /search?num=12: /search?num=12\n",
            "Failed to fetch /search?num=12: /search?num=12\n",
            "Failed to fetch /search?q=ex:-++CloudSeK+is+a+company+that+provide+security+services+to+other+businesses%0A%0A%0A(b)+Secuity+attacks+:-++securtiy+attacks+are+a+type+of+attack+where+security+system+is+breached+and+compromised+by+aunauthorized+hackers+or+cyber+criminals.&num=12&safe=active&sca_esv=92b12e7e59cf2f55&hl=en&ie=UTF-8&filter=0: /search?q=ex:-++CloudSeK+is+a+company+that+provide+security+services+to+other+businesses%0A%0A%0A(b)+Secuity+attacks+:-++securtiy+attacks+are+a+type+of+attack+where+security+system+is+breached+and+compromised+by+aunauthorized+hackers+or+cyber+criminals.&num=12&safe=active&sca_esv=92b12e7e59cf2f55&hl=en&ie=UTF-8&filter=0\n",
            "Access denied for https://www.researchgate.net/publication/353025675_SQL_Injection_Attacks_Prevention_System_Technology_Review\n"
          ]
        },
        {
          "output_type": "stream",
          "name": "stderr",
          "text": [
            "Some weights of the model checkpoint at roberta-base-openai-detector were not used when initializing RobertaForSequenceClassification: ['roberta.pooler.dense.bias', 'roberta.pooler.dense.weight']\n",
            "- This IS expected if you are initializing RobertaForSequenceClassification from the checkpoint of a model trained on another task or with another architecture (e.g. initializing a BertForSequenceClassification model from a BertForPreTraining model).\n",
            "- This IS NOT expected if you are initializing RobertaForSequenceClassification from the checkpoint of a model that you expect to be exactly identical (initializing a BertForSequenceClassification model from a BertForSequenceClassification model).\n"
          ]
        },
        {
          "output_type": "stream",
          "name": "stdout",
          "text": [
            "Result for row 408: {'full_marks': 4.0, 'obtained_marks': 0.0, 'strengths': [], 'areas_for_improvement': ['Your answer is not correct', 'Please provide a detailed and accurate answer to the given question'], 'clarity_score': 3.0, 'depth_score': 3.0, 'final_marks_obtained': 0, 'feedback': 'Your answer is not correct', 'student_word_count': 90, 'student_sentence_count': 2, 'plagiarism': False, 'average_score': 0, 'max_score': 22.22222222222222, 'max_score_url': 'https://www.linkedin.com/posts/rahaf-hijazi-3b638b13a_sql-injection-is-a-type-of-security-vulnerability-activity-7210869274062565376-iAmU', 'AI_category': 'AI-generated', 'AI_flag': True, 'AI_percentage': 99.98, 'AI_probabilities': {'Human-written': 0.000177592, 'AI-generated': 0.99982244}, 'reason': 'Penalty applied for AI detection exceeding 30%'}\n",
            "Row 408 results saved to /content/drive/MyDrive/updated_results.xlsx\n",
            "Failed to fetch /search?q=ex;-+RC4.&num=12&safe=active&sca_esv=92b12e7e59cf2f55&hl=en&ie=UTF-8&filter=0: /search?q=ex;-+RC4.&num=12&safe=active&sca_esv=92b12e7e59cf2f55&hl=en&ie=UTF-8&filter=0\n",
            "Access denied for https://preyproject.com/blog/types-of-encryption-symmetric-or-asymmetric-rsa-or-aes\n",
            "Access denied for https://shop.fortop.nl/nl/nl/steute-ex-rc-m20-1s-10m-se504550-magnetische-naderingsschakelaar-ex-1491507.html\n"
          ]
        },
        {
          "output_type": "stream",
          "name": "stderr",
          "text": [
            "Some weights of the model checkpoint at roberta-base-openai-detector were not used when initializing RobertaForSequenceClassification: ['roberta.pooler.dense.bias', 'roberta.pooler.dense.weight']\n",
            "- This IS expected if you are initializing RobertaForSequenceClassification from the checkpoint of a model trained on another task or with another architecture (e.g. initializing a BertForSequenceClassification model from a BertForPreTraining model).\n",
            "- This IS NOT expected if you are initializing RobertaForSequenceClassification from the checkpoint of a model that you expect to be exactly identical (initializing a BertForSequenceClassification model from a BertForSequenceClassification model).\n"
          ]
        },
        {
          "output_type": "stream",
          "name": "stdout",
          "text": [
            "Result for row 409: {'full_marks': 2.0, 'obtained_marks': None, 'strengths': [], 'areas_for_improvement': [], 'clarity_score': None, 'depth_score': None, 'final_marks_obtained': 0, 'feedback': None, 'student_word_count': 38, 'student_sentence_count': 3, 'plagiarism': False, 'average_score': 0, 'max_score': 23.52941176470588, 'max_score_url': 'https://www.geeksforgeeks.org/difference-between-block-cipher-and-stream-cipher/', 'AI_category': 'AI-generated', 'AI_flag': True, 'AI_percentage': 99.44, 'AI_probabilities': {'Human-written': 0.005577973, 'AI-generated': 0.994422}, 'reason': 'Penalty applied for AI detection exceeding 30%'}\n",
            "Row 409 results saved to /content/drive/MyDrive/updated_results.xlsx\n",
            "Failed to fetch /search?q=Ex+;-%0A1)+Hashes+are+used+to+secure+passwords+so+that+it+still+becomes+secure+after+being+breached.&num=12&safe=active&sca_esv=92b12e7e59cf2f55&hl=en&ie=UTF-8&filter=0: /search?q=Ex+;-%0A1)+Hashes+are+used+to+secure+passwords+so+that+it+still+becomes+secure+after+being+breached.&num=12&safe=active&sca_esv=92b12e7e59cf2f55&hl=en&ie=UTF-8&filter=0\n",
            "Access denied for https://www.reddit.com/r/Buttcoin/comments/1gx4ei1/for_the_first_time_ever_researchers_crack_rsa_and/\n"
          ]
        },
        {
          "output_type": "stream",
          "name": "stderr",
          "text": [
            "Some weights of the model checkpoint at roberta-base-openai-detector were not used when initializing RobertaForSequenceClassification: ['roberta.pooler.dense.bias', 'roberta.pooler.dense.weight']\n",
            "- This IS expected if you are initializing RobertaForSequenceClassification from the checkpoint of a model trained on another task or with another architecture (e.g. initializing a BertForSequenceClassification model from a BertForPreTraining model).\n",
            "- This IS NOT expected if you are initializing RobertaForSequenceClassification from the checkpoint of a model that you expect to be exactly identical (initializing a BertForSequenceClassification model from a BertForSequenceClassification model).\n"
          ]
        },
        {
          "output_type": "stream",
          "name": "stdout",
          "text": [
            "Result for row 410: {'full_marks': 2.0, 'obtained_marks': 2.0, 'strengths': ['Correctness of answer', 'Clarity of answer'], 'areas_for_improvement': ['Completeness of answer', 'Depth of answer'], 'clarity_score': 8.0, 'depth_score': 7.0, 'final_marks_obtained': 1, 'feedback': 'The answer is good but it could have been more complete and detailed. It could have provided a more in-depth explanation of what a hash function is and how it works. It could also have provided more examples of real-world applications of hash functions.', 'student_word_count': 63, 'student_sentence_count': 3, 'plagiarism': False, 'average_score': 0, 'max_score': 4.166666666666666, 'max_score_url': 'https://www.pingidentity.com/en/resources/blog/post/encryption-vs-hashing-vs-salting.html', 'AI_category': 'AI-generated', 'AI_flag': True, 'AI_percentage': 99.65, 'AI_probabilities': {'Human-written': 0.0034701314, 'AI-generated': 0.9965299}, 'reason': 'Penalty applied for AI detection exceeding 30%'}\n",
            "Row 410 results saved to /content/drive/MyDrive/updated_results.xlsx\n",
            "Failed to fetch /search?num=12: /search?num=12\n",
            "Failed to fetch /search?q=Message+:-+OPERATING+SYSTEM+%0Aif+I+encyrpt+this+with+a+shift+of+5+then+alphabetical+order+will+be+EFGHIJKLMNOPQRSTUVWZYZABCD%0A%0A%0Athen+the+Encrypted+message+will+be+:-+TUJWFYNSL+XDXY+JR&num=12&safe=active&sca_esv=92b12e7e59cf2f55&hl=en&ie=UTF-8&filter=0: /search?q=Message+:-+OPERATING+SYSTEM+%0Aif+I+encyrpt+this+with+a+shift+of+5+then+alphabetical+order+will+be+EFGHIJKLMNOPQRSTUVWZYZABCD%0A%0A%0Athen+the+Encrypted+message+will+be+:-+TUJWFYNSL+XDXY+JR&num=12&safe=active&sca_esv=92b12e7e59cf2f55&hl=en&ie=UTF-8&filter=0\n",
            "Access denied for https://www.reddit.com/r/cybersecurity/comments/yqt5uj/microsoft_o365_encrypted_mail_inspection/\n",
            "Access denied for https://www.chegg.com/homework-help/questions-and-answers/encryption-simple-shifts-every-letter-message-another-corresponding-position-alphabet-shif-q52222088\n"
          ]
        },
        {
          "output_type": "stream",
          "name": "stderr",
          "text": [
            "Some weights of the model checkpoint at roberta-base-openai-detector were not used when initializing RobertaForSequenceClassification: ['roberta.pooler.dense.bias', 'roberta.pooler.dense.weight']\n",
            "- This IS expected if you are initializing RobertaForSequenceClassification from the checkpoint of a model trained on another task or with another architecture (e.g. initializing a BertForSequenceClassification model from a BertForPreTraining model).\n",
            "- This IS NOT expected if you are initializing RobertaForSequenceClassification from the checkpoint of a model that you expect to be exactly identical (initializing a BertForSequenceClassification model from a BertForSequenceClassification model).\n"
          ]
        },
        {
          "output_type": "stream",
          "name": "stdout",
          "text": [
            "Result for row 411: {'full_marks': 2.0, 'obtained_marks': 2.0, 'strengths': ['Correctness of answer'], 'areas_for_improvement': ['Detailing the encryption process and the new alphabetical order after shift of 5.'], 'clarity_score': 6.0, 'depth_score': 3.0, 'final_marks_obtained': 1, 'feedback': 'The answer is correct but it is not detailed enough. You can give more information about the encryption process and the new alphabetical order after shift of 5.', 'student_word_count': 29, 'student_sentence_count': 0, 'plagiarism': False, 'average_score': 0, 'max_score': 0, 'max_score_url': '', 'AI_category': 'AI-generated', 'AI_flag': True, 'AI_percentage': 96.29, 'AI_probabilities': {'Human-written': 0.037069306, 'AI-generated': 0.9629307}, 'reason': 'Penalty applied for AI detection exceeding 30%'}\n",
            "Row 411 results saved to /content/drive/MyDrive/updated_results.xlsx\n",
            "Failed to fetch /search?q=Cipher+text+:-+LQIRUPDWLRQ+VHFULWB%0AWITH+the+shift+of+3+the+decrypted+message+will+be+;-+INFORMATION+SECRITY&num=12&safe=active&sca_esv=92b12e7e59cf2f55&hl=en&ie=UTF-8&filter=0: /search?q=Cipher+text+:-+LQIRUPDWLRQ+VHFULWB%0AWITH+the+shift+of+3+the+decrypted+message+will+be+;-+INFORMATION+SECRITY&num=12&safe=active&sca_esv=92b12e7e59cf2f55&hl=en&ie=UTF-8&filter=0\n"
          ]
        },
        {
          "output_type": "stream",
          "name": "stderr",
          "text": [
            "Some weights of the model checkpoint at roberta-base-openai-detector were not used when initializing RobertaForSequenceClassification: ['roberta.pooler.dense.bias', 'roberta.pooler.dense.weight']\n",
            "- This IS expected if you are initializing RobertaForSequenceClassification from the checkpoint of a model trained on another task or with another architecture (e.g. initializing a BertForSequenceClassification model from a BertForPreTraining model).\n",
            "- This IS NOT expected if you are initializing RobertaForSequenceClassification from the checkpoint of a model that you expect to be exactly identical (initializing a BertForSequenceClassification model from a BertForSequenceClassification model).\n"
          ]
        },
        {
          "output_type": "stream",
          "name": "stdout",
          "text": [
            "Result for row 412: {'full_marks': 2.0, 'obtained_marks': 2.0, 'strengths': [], 'areas_for_improvement': [], 'clarity_score': 7.0, 'depth_score': 5.0, 'final_marks_obtained': 1, 'feedback': 'Answer is correct but it is not detailed. Provide more details to get full marks. Also, try to provide relevant examples.', 'student_word_count': 18, 'student_sentence_count': 0, 'plagiarism': False, 'average_score': 0, 'max_score': 0, 'max_score_url': '', 'AI_category': 'Human-written', 'AI_flag': False, 'AI_percentage': 58.5, 'AI_probabilities': {'Human-written': 0.41503605, 'AI-generated': 0.5849639}, 'reason': ''}\n",
            "Row 412 results saved to /content/drive/MyDrive/updated_results.xlsx\n"
          ]
        },
        {
          "output_type": "stream",
          "name": "stderr",
          "text": [
            "Some weights of the model checkpoint at roberta-base-openai-detector were not used when initializing RobertaForSequenceClassification: ['roberta.pooler.dense.bias', 'roberta.pooler.dense.weight']\n",
            "- This IS expected if you are initializing RobertaForSequenceClassification from the checkpoint of a model trained on another task or with another architecture (e.g. initializing a BertForSequenceClassification model from a BertForPreTraining model).\n",
            "- This IS NOT expected if you are initializing RobertaForSequenceClassification from the checkpoint of a model that you expect to be exactly identical (initializing a BertForSequenceClassification model from a BertForSequenceClassification model).\n"
          ]
        },
        {
          "output_type": "stream",
          "name": "stdout",
          "text": [
            "Result for row 413: {'full_marks': 4.0, 'obtained_marks': 2.5, 'strengths': ['Answered the question correctly', 'Used proper grammar and spelling'], 'areas_for_improvement': ['Answer the question', 'Use proper grammar and spelling'], 'clarity_score': 5.0, 'depth_score': 3.0, 'final_marks_obtained': 3, 'feedback': 'You did not answer the question. Please try again', 'student_word_count': 5, 'student_sentence_count': 0, 'plagiarism': False, 'average_score': 0, 'max_score': 0, 'max_score_url': '', 'AI_category': 'Human-written', 'AI_flag': False, 'AI_percentage': 33.37, 'AI_probabilities': {'Human-written': 0.66629285, 'AI-generated': 0.33370715}, 'reason': ''}\n",
            "Row 413 results saved to /content/drive/MyDrive/updated_results.xlsx\n",
            "Failed to fetch /search?num=12: /search?num=12\n"
          ]
        },
        {
          "output_type": "stream",
          "name": "stderr",
          "text": [
            "Some weights of the model checkpoint at roberta-base-openai-detector were not used when initializing RobertaForSequenceClassification: ['roberta.pooler.dense.bias', 'roberta.pooler.dense.weight']\n",
            "- This IS expected if you are initializing RobertaForSequenceClassification from the checkpoint of a model trained on another task or with another architecture (e.g. initializing a BertForSequenceClassification model from a BertForPreTraining model).\n",
            "- This IS NOT expected if you are initializing RobertaForSequenceClassification from the checkpoint of a model that you expect to be exactly identical (initializing a BertForSequenceClassification model from a BertForSequenceClassification model).\n"
          ]
        },
        {
          "output_type": "stream",
          "name": "stdout",
          "text": [
            "Result for row 414: {'full_marks': 4.0, 'obtained_marks': 8.0, 'strengths': ['Excellent explanation', 'Covers all aspects of the question'], 'areas_for_improvement': ['Explain the OSI model in more detail', 'Explain the TCP/IP model in more detail'], 'clarity_score': 10.0, 'depth_score': 9.0, 'final_marks_obtained': 2, 'feedback': 'Excellent job! The answer is well-explained and covers all aspects of the question. The clarity score is 10 and the depth score is 9.', 'student_word_count': 27, 'student_sentence_count': 1, 'plagiarism': False, 'average_score': 0, 'max_score': 0, 'max_score_url': '', 'AI_category': 'AI-generated', 'AI_flag': True, 'AI_percentage': 99.73, 'AI_probabilities': {'Human-written': 0.0027192102, 'AI-generated': 0.9972807}, 'reason': 'Penalty applied for exceeding 90% of full marks; Penalty applied for AI detection exceeding 30%'}\n",
            "Row 414 results saved to /content/drive/MyDrive/updated_results.xlsx\n",
            "Access denied for https://www.reddit.com/r/HomeNetworking/comments/11r0syv/19216816426_but_how/\n",
            "Access denied for https://help.keenetic.com/hc/en-us/articles/213965829-Calculating-the-number-of-hosts-and-subnets-based-on-IP-address-and-mask\n"
          ]
        },
        {
          "output_type": "stream",
          "name": "stderr",
          "text": [
            "Some weights of the model checkpoint at roberta-base-openai-detector were not used when initializing RobertaForSequenceClassification: ['roberta.pooler.dense.bias', 'roberta.pooler.dense.weight']\n",
            "- This IS expected if you are initializing RobertaForSequenceClassification from the checkpoint of a model trained on another task or with another architecture (e.g. initializing a BertForSequenceClassification model from a BertForPreTraining model).\n",
            "- This IS NOT expected if you are initializing RobertaForSequenceClassification from the checkpoint of a model that you expect to be exactly identical (initializing a BertForSequenceClassification model from a BertForSequenceClassification model).\n"
          ]
        },
        {
          "output_type": "stream",
          "name": "stdout",
          "text": [
            "Result for row 415: {'full_marks': 5.0, 'obtained_marks': 5.0, 'strengths': ['Your answer is correct and complete.', 'You provided a breakdown of the calculation for each part of the question.'], 'areas_for_improvement': ['You could have provided more detail in your explanation.', 'You could have given a clarity score of 9 and a depth score of 8 to reflect the quality of your answer.'], 'clarity_score': 9.0, 'depth_score': 8.0, 'final_marks_obtained': 4, 'feedback': 'Your answer is correct and complete. However, you could have provided more detail in your explanation. Additionally, you could have given a clarity score of 9 and a depth score of 8 to reflect the quality of your answer.', 'student_word_count': 3, 'student_sentence_count': 6, 'plagiarism': False, 'average_score': 0, 'max_score': 0, 'max_score_url': '', 'AI_category': 'Human-written', 'AI_flag': False, 'AI_percentage': 37.38, 'AI_probabilities': {'Human-written': 0.6261746, 'AI-generated': 0.37382537}, 'reason': ''}\n",
            "Row 415 results saved to /content/drive/MyDrive/updated_results.xlsx\n",
            "Access denied for https://www.sciencedirect.com/topics/computer-science/unauthorized-system-access\n",
            "Access denied for https://www.mass.gov/info-details/know-the-types-of-cyber-threats\n",
            "Error processing row 416: \n",
            "Access denied for https://www.reddit.com/r/SCCM/comments/i0rlpa/installing_rsas_updateexe/\n"
          ]
        },
        {
          "output_type": "stream",
          "name": "stderr",
          "text": [
            "Some weights of the model checkpoint at roberta-base-openai-detector were not used when initializing RobertaForSequenceClassification: ['roberta.pooler.dense.bias', 'roberta.pooler.dense.weight']\n",
            "- This IS expected if you are initializing RobertaForSequenceClassification from the checkpoint of a model trained on another task or with another architecture (e.g. initializing a BertForSequenceClassification model from a BertForPreTraining model).\n",
            "- This IS NOT expected if you are initializing RobertaForSequenceClassification from the checkpoint of a model that you expect to be exactly identical (initializing a BertForSequenceClassification model from a BertForSequenceClassification model).\n"
          ]
        },
        {
          "output_type": "stream",
          "name": "stdout",
          "text": [
            "Result for row 417: {'full_marks': 2.0, 'obtained_marks': None, 'strengths': [], 'areas_for_improvement': [], 'clarity_score': None, 'depth_score': None, 'final_marks_obtained': 0, 'feedback': None, 'student_word_count': 62, 'student_sentence_count': 2, 'plagiarism': False, 'average_score': 0, 'max_score': 0, 'max_score_url': '', 'AI_category': 'AI-generated', 'AI_flag': True, 'AI_percentage': 99.02, 'AI_probabilities': {'Human-written': 0.009759133, 'AI-generated': 0.99024093}, 'reason': 'Penalty applied for AI detection exceeding 30%'}\n",
            "Row 417 results saved to /content/drive/MyDrive/updated_results.xlsx\n",
            "Access denied for https://www.reddit.com/r/learnprogramming/comments/wgyjrk/im_new_to_hash_functions_and_im_trying_to/\n"
          ]
        },
        {
          "output_type": "stream",
          "name": "stderr",
          "text": [
            "Some weights of the model checkpoint at roberta-base-openai-detector were not used when initializing RobertaForSequenceClassification: ['roberta.pooler.dense.bias', 'roberta.pooler.dense.weight']\n",
            "- This IS expected if you are initializing RobertaForSequenceClassification from the checkpoint of a model trained on another task or with another architecture (e.g. initializing a BertForSequenceClassification model from a BertForPreTraining model).\n",
            "- This IS NOT expected if you are initializing RobertaForSequenceClassification from the checkpoint of a model that you expect to be exactly identical (initializing a BertForSequenceClassification model from a BertForSequenceClassification model).\n"
          ]
        },
        {
          "output_type": "stream",
          "name": "stdout",
          "text": [
            "Result for row 418: {'full_marks': 2.0, 'obtained_marks': 2.0, 'strengths': [], 'areas_for_improvement': [], 'clarity_score': 7.0, 'depth_score': 6.0, 'final_marks_obtained': 1, 'feedback': 'Answer is almost correct but needs to be more detailed and specific. It should provide a proper explanation of what a hash function is and how it is used in cryptography. Additionally, the answer should provide more than two real-world applications of hash functions. The overall clarity and depth of the answer could be improved by providing more specific examples of how hash functions are used in different scenarios. The clarity score is 7 and the depth score is 6.', 'student_word_count': 48, 'student_sentence_count': 1, 'plagiarism': False, 'average_score': 0, 'max_score': 3.7037037037037033, 'max_score_url': 'https://en.wikipedia.org/wiki/Cryptographic_hash_function', 'AI_category': 'AI-generated', 'AI_flag': True, 'AI_percentage': 87.42, 'AI_probabilities': {'Human-written': 0.12582012, 'AI-generated': 0.87417984}, 'reason': 'Penalty applied for AI detection exceeding 30%'}\n",
            "Row 418 results saved to /content/drive/MyDrive/updated_results.xlsx\n",
            "Failed to fetch /search?num=12: /search?num=12\n",
            "Access denied for https://www.vannuyscdjr.com/\n",
            "Access denied for https://www.chryslerdodgejeepramoffranklin.com/\n",
            "Access denied for https://hillsboroughcdjr.com/\n"
          ]
        },
        {
          "output_type": "stream",
          "name": "stderr",
          "text": [
            "Some weights of the model checkpoint at roberta-base-openai-detector were not used when initializing RobertaForSequenceClassification: ['roberta.pooler.dense.bias', 'roberta.pooler.dense.weight']\n",
            "- This IS expected if you are initializing RobertaForSequenceClassification from the checkpoint of a model trained on another task or with another architecture (e.g. initializing a BertForSequenceClassification model from a BertForPreTraining model).\n",
            "- This IS NOT expected if you are initializing RobertaForSequenceClassification from the checkpoint of a model that you expect to be exactly identical (initializing a BertForSequenceClassification model from a BertForSequenceClassification model).\n"
          ]
        },
        {
          "output_type": "stream",
          "name": "stdout",
          "text": [
            "Result for row 419: {'full_marks': 2.0, 'obtained_marks': 2.0, 'strengths': ['The answer is correct'], 'areas_for_improvement': ['The explanation is not detailed enough.'], 'clarity_score': 7.0, 'depth_score': 3.0, 'final_marks_obtained': 1, 'feedback': 'The answer is correct. However, the explanation is not detailed enough. Please provide a detailed explanation of the process used to arrive at the answer.', 'student_word_count': 2, 'student_sentence_count': 0, 'plagiarism': False, 'average_score': 0, 'max_score': 0, 'max_score_url': '', 'AI_category': 'Human-written', 'AI_flag': False, 'AI_percentage': 56.66, 'AI_probabilities': {'Human-written': 0.4333588, 'AI-generated': 0.5666413}, 'reason': ''}\n",
            "Row 419 results saved to /content/drive/MyDrive/updated_results.xlsx\n",
            "Failed to fetch /search?num=12: /search?num=12\n"
          ]
        },
        {
          "output_type": "stream",
          "name": "stderr",
          "text": [
            "Some weights of the model checkpoint at roberta-base-openai-detector were not used when initializing RobertaForSequenceClassification: ['roberta.pooler.dense.bias', 'roberta.pooler.dense.weight']\n",
            "- This IS expected if you are initializing RobertaForSequenceClassification from the checkpoint of a model trained on another task or with another architecture (e.g. initializing a BertForSequenceClassification model from a BertForPreTraining model).\n",
            "- This IS NOT expected if you are initializing RobertaForSequenceClassification from the checkpoint of a model that you expect to be exactly identical (initializing a BertForSequenceClassification model from a BertForSequenceClassification model).\n"
          ]
        },
        {
          "output_type": "stream",
          "name": "stdout",
          "text": [
            "Result for row 420: {'full_marks': 2.0, 'obtained_marks': 2.0, 'strengths': ['Correctness of answer'], 'areas_for_improvement': ['Clarity', 'Depth'], 'clarity_score': 5.0, 'depth_score': 4.0, 'final_marks_obtained': 1, 'feedback': 'Your answer is correct but not detailed. Try to provide more depth and clarity in your answer', 'student_word_count': 2, 'student_sentence_count': 0, 'plagiarism': False, 'average_score': 0, 'max_score': 0, 'max_score_url': '', 'AI_category': 'Human-written', 'AI_flag': False, 'AI_percentage': 14.5, 'AI_probabilities': {'Human-written': 0.8549922, 'AI-generated': 0.14500785}, 'reason': ''}\n",
            "Row 420 results saved to /content/drive/MyDrive/updated_results.xlsx\n",
            "Access denied for https://open.spotify.com/artist/2Dor6diK1zw9BEluKBOdoA\n",
            "Access denied for https://open.spotify.com/track/20FZrLl9zSbO9b3DhaqO6M\n"
          ]
        },
        {
          "output_type": "stream",
          "name": "stderr",
          "text": [
            "Some weights of the model checkpoint at roberta-base-openai-detector were not used when initializing RobertaForSequenceClassification: ['roberta.pooler.dense.bias', 'roberta.pooler.dense.weight']\n",
            "- This IS expected if you are initializing RobertaForSequenceClassification from the checkpoint of a model trained on another task or with another architecture (e.g. initializing a BertForSequenceClassification model from a BertForPreTraining model).\n",
            "- This IS NOT expected if you are initializing RobertaForSequenceClassification from the checkpoint of a model that you expect to be exactly identical (initializing a BertForSequenceClassification model from a BertForSequenceClassification model).\n"
          ]
        },
        {
          "output_type": "stream",
          "name": "stdout",
          "text": [
            "Result for row 421: {'full_marks': 4.0, 'obtained_marks': 8.0, 'strengths': ['Good understanding of the problem'], 'areas_for_improvement': ['Please provide more details in the answer'], 'clarity_score': 9.0, 'depth_score': 7.0, 'final_marks_obtained': 3, 'feedback': 'Good job! But please provide more details in the answer.', 'student_word_count': 1, 'student_sentence_count': 0, 'plagiarism': False, 'average_score': 0, 'max_score': 0, 'max_score_url': '', 'AI_category': 'Human-written', 'AI_flag': False, 'AI_percentage': 0.12, 'AI_probabilities': {'Human-written': 0.99879324, 'AI-generated': 0.0012067063}, 'reason': 'Penalty applied for exceeding 90% of full marks'}\n",
            "Row 421 results saved to /content/drive/MyDrive/updated_results.xlsx\n",
            "Failed to fetch /search?num=12: /search?num=12\n",
            "Access denied for https://datadome.co/guides/ddos/7-layers-osi-model/\n"
          ]
        },
        {
          "output_type": "stream",
          "name": "stderr",
          "text": [
            "Some weights of the model checkpoint at roberta-base-openai-detector were not used when initializing RobertaForSequenceClassification: ['roberta.pooler.dense.bias', 'roberta.pooler.dense.weight']\n",
            "- This IS expected if you are initializing RobertaForSequenceClassification from the checkpoint of a model trained on another task or with another architecture (e.g. initializing a BertForSequenceClassification model from a BertForPreTraining model).\n",
            "- This IS NOT expected if you are initializing RobertaForSequenceClassification from the checkpoint of a model that you expect to be exactly identical (initializing a BertForSequenceClassification model from a BertForSequenceClassification model).\n"
          ]
        },
        {
          "output_type": "stream",
          "name": "stdout",
          "text": [
            "Result for row 422: {'full_marks': 4.0, 'obtained_marks': 3.5, 'strengths': [], 'areas_for_improvement': [], 'clarity_score': 7.0, 'depth_score': 5.0, 'final_marks_obtained': 2, 'feedback': 'Your answer is not complete and lacks detail. Please provide a more comprehensive answer to the question.', 'student_word_count': 35, 'student_sentence_count': 0, 'plagiarism': False, 'average_score': 0, 'max_score': 0, 'max_score_url': '', 'AI_category': 'AI-generated', 'AI_flag': True, 'AI_percentage': 73.29, 'AI_probabilities': {'Human-written': 0.26713884, 'AI-generated': 0.73286116}, 'reason': 'Penalty applied for AI detection exceeding 30%'}\n",
            "Row 422 results saved to /content/drive/MyDrive/updated_results.xlsx\n",
            "Failed to fetch /search?num=12: /search?num=12\n",
            "Access denied for https://www.ipaddress.my/192.168.168.1\n",
            "Error processing row 423: \n",
            "Failed to fetch /search?num=12: /search?num=12\n",
            "Failed to fetch /search?num=12: /search?num=12\n",
            "Access denied for https://digital.nhs.uk/cyber-and-data-security/about-us/cyber-security-glossary\n",
            "Access denied for https://quizlet.com/604419533/chapter-1-threats-attacks-and-vulnerabilities-flash-cards/\n",
            "Access denied for https://www.vpngids.nl/veilig-internet/cybercrime/man-in-the-middle-aanval/\n",
            "Access denied for https://bolster.ai/blog/man-in-the-middle-phishing\n"
          ]
        },
        {
          "output_type": "stream",
          "name": "stderr",
          "text": [
            "Some weights of the model checkpoint at roberta-base-openai-detector were not used when initializing RobertaForSequenceClassification: ['roberta.pooler.dense.bias', 'roberta.pooler.dense.weight']\n",
            "- This IS expected if you are initializing RobertaForSequenceClassification from the checkpoint of a model trained on another task or with another architecture (e.g. initializing a BertForSequenceClassification model from a BertForPreTraining model).\n",
            "- This IS NOT expected if you are initializing RobertaForSequenceClassification from the checkpoint of a model that you expect to be exactly identical (initializing a BertForSequenceClassification model from a BertForSequenceClassification model).\n"
          ]
        },
        {
          "output_type": "stream",
          "name": "stdout",
          "text": [
            "Result for row 424: {'full_marks': 4.0, 'obtained_marks': 4.0, 'strengths': ['Correctness', 'Clarity', 'Relevance'], 'areas_for_improvement': [], 'clarity_score': 9.0, 'depth_score': 9.0, 'final_marks_obtained': 2, 'feedback': 'Great job! You correctly explained both security concepts and provided examples. Your answer was complete and clear. Well done!', 'student_word_count': 43, 'student_sentence_count': 4, 'plagiarism': False, 'average_score': 0, 'max_score': 0, 'max_score_url': '', 'AI_category': 'AI-generated', 'AI_flag': True, 'AI_percentage': 99.58, 'AI_probabilities': {'Human-written': 0.004152892, 'AI-generated': 0.99584717}, 'reason': 'Penalty applied for AI detection exceeding 30%'}\n",
            "Row 424 results saved to /content/drive/MyDrive/updated_results.xlsx\n",
            "Failed to fetch /search?num=12: /search?num=12\n",
            "Access denied for https://www.slideshare.net/slideshow/information-and-data-security-block-cipher-and-the-data-encryption-standard-des/80252091\n"
          ]
        },
        {
          "output_type": "stream",
          "name": "stderr",
          "text": [
            "Some weights of the model checkpoint at roberta-base-openai-detector were not used when initializing RobertaForSequenceClassification: ['roberta.pooler.dense.bias', 'roberta.pooler.dense.weight']\n",
            "- This IS expected if you are initializing RobertaForSequenceClassification from the checkpoint of a model trained on another task or with another architecture (e.g. initializing a BertForSequenceClassification model from a BertForPreTraining model).\n",
            "- This IS NOT expected if you are initializing RobertaForSequenceClassification from the checkpoint of a model that you expect to be exactly identical (initializing a BertForSequenceClassification model from a BertForSequenceClassification model).\n"
          ]
        },
        {
          "output_type": "stream",
          "name": "stdout",
          "text": [
            "Result for row 425: {'full_marks': 2.0, 'obtained_marks': 2.0, 'strengths': ['Your answer is clear and concise.', 'You provided a good overview of both block and stream ciphers.'], 'areas_for_improvement': ['Provide more detail and examples to support your claims.'], 'clarity_score': 9.0, 'depth_score': 7.0, 'final_marks_obtained': 1, 'feedback': 'Your answer is clear and complete. However, it could be improved by providing more detail and examples. Overall, your answer is good, but could be better.', 'student_word_count': 48, 'student_sentence_count': 0, 'plagiarism': False, 'average_score': 0, 'max_score': 0, 'max_score_url': '', 'AI_category': 'AI-generated', 'AI_flag': True, 'AI_percentage': 99.71, 'AI_probabilities': {'Human-written': 0.0028810934, 'AI-generated': 0.99711895}, 'reason': 'Penalty applied for AI detection exceeding 30%'}\n",
            "Row 425 results saved to /content/drive/MyDrive/updated_results.xlsx\n"
          ]
        },
        {
          "output_type": "stream",
          "name": "stderr",
          "text": [
            "Some weights of the model checkpoint at roberta-base-openai-detector were not used when initializing RobertaForSequenceClassification: ['roberta.pooler.dense.bias', 'roberta.pooler.dense.weight']\n",
            "- This IS expected if you are initializing RobertaForSequenceClassification from the checkpoint of a model trained on another task or with another architecture (e.g. initializing a BertForSequenceClassification model from a BertForPreTraining model).\n",
            "- This IS NOT expected if you are initializing RobertaForSequenceClassification from the checkpoint of a model that you expect to be exactly identical (initializing a BertForSequenceClassification model from a BertForSequenceClassification model).\n"
          ]
        },
        {
          "output_type": "stream",
          "name": "stdout",
          "text": [
            "Result for row 426: {'full_marks': 2.0, 'obtained_marks': None, 'strengths': [], 'areas_for_improvement': [], 'clarity_score': None, 'depth_score': None, 'final_marks_obtained': 0, 'feedback': None, 'student_word_count': 49, 'student_sentence_count': 2, 'plagiarism': False, 'average_score': 0, 'max_score': 0, 'max_score_url': '', 'AI_category': 'AI-generated', 'AI_flag': True, 'AI_percentage': 99.07, 'AI_probabilities': {'Human-written': 0.009313563, 'AI-generated': 0.9906865}, 'reason': 'Penalty applied for AI detection exceeding 30%'}\n",
            "Row 426 results saved to /content/drive/MyDrive/updated_results.xlsx\n",
            "Failed to fetch : \n",
            "Failed to fetch : \n",
            "Failed to fetch : \n",
            "Failed to fetch : \n",
            "Failed to fetch : \n",
            "Failed to fetch : \n",
            "Failed to fetch : \n",
            "Failed to fetch : \n",
            "Failed to fetch : \n",
            "Failed to fetch : \n"
          ]
        },
        {
          "output_type": "stream",
          "name": "stderr",
          "text": [
            "Some weights of the model checkpoint at roberta-base-openai-detector were not used when initializing RobertaForSequenceClassification: ['roberta.pooler.dense.bias', 'roberta.pooler.dense.weight']\n",
            "- This IS expected if you are initializing RobertaForSequenceClassification from the checkpoint of a model trained on another task or with another architecture (e.g. initializing a BertForSequenceClassification model from a BertForPreTraining model).\n",
            "- This IS NOT expected if you are initializing RobertaForSequenceClassification from the checkpoint of a model that you expect to be exactly identical (initializing a BertForSequenceClassification model from a BertForSequenceClassification model).\n"
          ]
        },
        {
          "output_type": "stream",
          "name": "stdout",
          "text": [
            "Result for row 427: {'full_marks': 2.0, 'obtained_marks': 0.0, 'strengths': ['Answer is correct', 'Answer is complete', 'Answer is clear and concise', 'Answer is relevant'], 'areas_for_improvement': ['Answer is not according to asked question'], 'clarity_score': 0.0, 'depth_score': 0.0, 'final_marks_obtained': 0, 'feedback': \"You haven't given any answer. Try again.\", 'student_word_count': 2, 'student_sentence_count': 0, 'plagiarism': False, 'average_score': 0, 'max_score': 0, 'max_score_url': '', 'AI_category': 'Human-written', 'AI_flag': False, 'AI_percentage': 49.79, 'AI_probabilities': {'Human-written': 0.50209767, 'AI-generated': 0.4979023}, 'reason': ''}\n",
            "Row 427 results saved to /content/drive/MyDrive/updated_results.xlsx\n",
            "Failed to fetch /search?num=12: /search?num=12\n"
          ]
        },
        {
          "output_type": "stream",
          "name": "stderr",
          "text": [
            "Some weights of the model checkpoint at roberta-base-openai-detector were not used when initializing RobertaForSequenceClassification: ['roberta.pooler.dense.bias', 'roberta.pooler.dense.weight']\n",
            "- This IS expected if you are initializing RobertaForSequenceClassification from the checkpoint of a model trained on another task or with another architecture (e.g. initializing a BertForSequenceClassification model from a BertForPreTraining model).\n",
            "- This IS NOT expected if you are initializing RobertaForSequenceClassification from the checkpoint of a model that you expect to be exactly identical (initializing a BertForSequenceClassification model from a BertForSequenceClassification model).\n"
          ]
        },
        {
          "output_type": "stream",
          "name": "stdout",
          "text": [
            "Result for row 428: {'full_marks': 2.0, 'obtained_marks': 2.5, 'strengths': ['Correctness of answer'], 'areas_for_improvement': ['Completeness of answer'], 'clarity_score': 8.0, 'depth_score': 6.0, 'final_marks_obtained': 1, 'feedback': 'You have attempted the problem correctly but your answer is incomplete. Please provide the full answer to get full marks.', 'student_word_count': 2, 'student_sentence_count': 0, 'plagiarism': False, 'average_score': 0, 'max_score': 0, 'max_score_url': '', 'AI_category': 'Human-written', 'AI_flag': False, 'AI_percentage': 18.08, 'AI_probabilities': {'Human-written': 0.81919366, 'AI-generated': 0.1808063}, 'reason': ''}\n",
            "Row 428 results saved to /content/drive/MyDrive/updated_results.xlsx\n"
          ]
        },
        {
          "output_type": "stream",
          "name": "stderr",
          "text": [
            "Some weights of the model checkpoint at roberta-base-openai-detector were not used when initializing RobertaForSequenceClassification: ['roberta.pooler.dense.bias', 'roberta.pooler.dense.weight']\n",
            "- This IS expected if you are initializing RobertaForSequenceClassification from the checkpoint of a model trained on another task or with another architecture (e.g. initializing a BertForSequenceClassification model from a BertForPreTraining model).\n",
            "- This IS NOT expected if you are initializing RobertaForSequenceClassification from the checkpoint of a model that you expect to be exactly identical (initializing a BertForSequenceClassification model from a BertForSequenceClassification model).\n"
          ]
        },
        {
          "output_type": "stream",
          "name": "stdout",
          "text": [
            "Result for row 429: {'full_marks': 4.0, 'obtained_marks': 4.0, 'strengths': ['Correct answer', 'Relevant to the question', 'Explanation provided'], 'areas_for_improvement': [], 'clarity_score': 9.0, 'depth_score': 8.0, 'final_marks_obtained': 3, 'feedback': 'Correct answer and relevant to the question. Good job!', 'student_word_count': 1, 'student_sentence_count': 0, 'plagiarism': False, 'average_score': 0, 'max_score': 0, 'max_score_url': '', 'AI_category': 'Human-written', 'AI_flag': False, 'AI_percentage': 0.12, 'AI_probabilities': {'Human-written': 0.99879324, 'AI-generated': 0.0012067063}, 'reason': ''}\n",
            "Row 429 results saved to /content/drive/MyDrive/updated_results.xlsx\n",
            "Access denied for https://www.slideshare.net/slideshow/the-osi-model-and-tcpip/44905600\n"
          ]
        },
        {
          "output_type": "stream",
          "name": "stderr",
          "text": [
            "Some weights of the model checkpoint at roberta-base-openai-detector were not used when initializing RobertaForSequenceClassification: ['roberta.pooler.dense.bias', 'roberta.pooler.dense.weight']\n",
            "- This IS expected if you are initializing RobertaForSequenceClassification from the checkpoint of a model trained on another task or with another architecture (e.g. initializing a BertForSequenceClassification model from a BertForPreTraining model).\n",
            "- This IS NOT expected if you are initializing RobertaForSequenceClassification from the checkpoint of a model that you expect to be exactly identical (initializing a BertForSequenceClassification model from a BertForSequenceClassification model).\n"
          ]
        },
        {
          "output_type": "stream",
          "name": "stdout",
          "text": [
            "Result for row 430: {'full_marks': 4.0, 'obtained_marks': None, 'strengths': [], 'areas_for_improvement': [], 'clarity_score': None, 'depth_score': None, 'final_marks_obtained': 0, 'feedback': None, 'student_word_count': 64, 'student_sentence_count': 7, 'plagiarism': False, 'average_score': 0, 'max_score': 5.263157894736842, 'max_score_url': 'https://www.geeksforgeeks.org/difference-between-osi-model-and-tcp-ip-model/', 'AI_category': 'AI-generated', 'AI_flag': True, 'AI_percentage': 99.96, 'AI_probabilities': {'Human-written': 0.00038811905, 'AI-generated': 0.9996119}, 'reason': 'Penalty applied for AI detection exceeding 30%'}\n",
            "Row 430 results saved to /content/drive/MyDrive/updated_results.xlsx\n",
            "Failed to fetch : \n",
            "Failed to fetch /search?num=12: /search?num=12\n",
            "Access denied for https://www.reddit.com/r/HomeNetworking/comments/11r0syv/19216816426_but_how/\n"
          ]
        },
        {
          "output_type": "stream",
          "name": "stderr",
          "text": [
            "Some weights of the model checkpoint at roberta-base-openai-detector were not used when initializing RobertaForSequenceClassification: ['roberta.pooler.dense.bias', 'roberta.pooler.dense.weight']\n",
            "- This IS expected if you are initializing RobertaForSequenceClassification from the checkpoint of a model trained on another task or with another architecture (e.g. initializing a BertForSequenceClassification model from a BertForPreTraining model).\n",
            "- This IS NOT expected if you are initializing RobertaForSequenceClassification from the checkpoint of a model that you expect to be exactly identical (initializing a BertForSequenceClassification model from a BertForSequenceClassification model).\n"
          ]
        },
        {
          "output_type": "stream",
          "name": "stdout",
          "text": [
            "Result for row 431: {'full_marks': 5.0, 'obtained_marks': 5.0, 'strengths': [], 'areas_for_improvement': [], 'clarity_score': 8.0, 'depth_score': 9.0, 'final_marks_obtained': 4, 'feedback': \"Good job! You've got a clear understanding of the concepts. Just a few minor details need to be worked on.\", 'student_word_count': 5, 'student_sentence_count': 10, 'plagiarism': False, 'average_score': 0, 'max_score': 0, 'max_score_url': '', 'AI_category': 'Human-written', 'AI_flag': False, 'AI_percentage': 27.56, 'AI_probabilities': {'Human-written': 0.72435844, 'AI-generated': 0.27564162}, 'reason': ''}\n",
            "Row 431 results saved to /content/drive/MyDrive/updated_results.xlsx\n",
            "Access denied for https://www.cloudflare.com/learning/ddos/what-is-a-ddos-attack/\n"
          ]
        },
        {
          "output_type": "stream",
          "name": "stderr",
          "text": [
            "Some weights of the model checkpoint at roberta-base-openai-detector were not used when initializing RobertaForSequenceClassification: ['roberta.pooler.dense.bias', 'roberta.pooler.dense.weight']\n",
            "- This IS expected if you are initializing RobertaForSequenceClassification from the checkpoint of a model trained on another task or with another architecture (e.g. initializing a BertForSequenceClassification model from a BertForPreTraining model).\n",
            "- This IS NOT expected if you are initializing RobertaForSequenceClassification from the checkpoint of a model that you expect to be exactly identical (initializing a BertForSequenceClassification model from a BertForSequenceClassification model).\n"
          ]
        },
        {
          "output_type": "stream",
          "name": "stdout",
          "text": [
            "Result for row 432: {'full_marks': 4.0, 'obtained_marks': 4.0, 'strengths': ['Great job on (a) Security Services!'], 'areas_for_improvement': ['Provide more depth and examples for (b) Security Attacks.'], 'clarity_score': 9.0, 'depth_score': 7.0, 'final_marks_obtained': 2, 'feedback': 'Great job! You have given a clear, concise and relevant answer. However, you could have provided more depth and examples for some of the concepts. Keep up the good work!', 'student_word_count': 42, 'student_sentence_count': 2, 'plagiarism': False, 'average_score': 0, 'max_score': 0, 'max_score_url': '', 'AI_category': 'AI-generated', 'AI_flag': True, 'AI_percentage': 99.05, 'AI_probabilities': {'Human-written': 0.009493813, 'AI-generated': 0.99050623}, 'reason': 'Penalty applied for AI detection exceeding 30%'}\n",
            "Row 432 results saved to /content/drive/MyDrive/updated_results.xlsx\n",
            "Access denied for https://certera.com/blog/block-cipher-vs-stream-cipher/\n",
            "Failed to fetch https://people.computing.clemson.edu/~jmarty/courses/commonCourseContent/AdvancedModule-SecurityConceptsAndApplicationToLinux/RC4ALGORITHM-Stallings.pdf: Cannot connect to host people.computing.clemson.edu:443 ssl:True [SSLCertVerificationError: (1, '[SSL: CERTIFICATE_VERIFY_FAILED] certificate verify failed: unable to get local issuer certificate (_ssl.c:1006)')]\n"
          ]
        },
        {
          "output_type": "stream",
          "name": "stderr",
          "text": [
            "Some weights of the model checkpoint at roberta-base-openai-detector were not used when initializing RobertaForSequenceClassification: ['roberta.pooler.dense.bias', 'roberta.pooler.dense.weight']\n",
            "- This IS expected if you are initializing RobertaForSequenceClassification from the checkpoint of a model trained on another task or with another architecture (e.g. initializing a BertForSequenceClassification model from a BertForPreTraining model).\n",
            "- This IS NOT expected if you are initializing RobertaForSequenceClassification from the checkpoint of a model that you expect to be exactly identical (initializing a BertForSequenceClassification model from a BertForSequenceClassification model).\n"
          ]
        },
        {
          "output_type": "stream",
          "name": "stdout",
          "text": [
            "Result for row 433: {'full_marks': 2.0, 'obtained_marks': 2.0, 'strengths': [], 'areas_for_improvement': [], 'clarity_score': 8.0, 'depth_score': 7.0, 'final_marks_obtained': 1, 'feedback': 'Good job, but you missed providing a brief explanation of what block ciphers and stream ciphers are.', 'student_word_count': 27, 'student_sentence_count': 2, 'plagiarism': False, 'average_score': 0, 'max_score': 0, 'max_score_url': '', 'AI_category': 'AI-generated', 'AI_flag': True, 'AI_percentage': 97.45, 'AI_probabilities': {'Human-written': 0.025543151, 'AI-generated': 0.97445685}, 'reason': 'Penalty applied for AI detection exceeding 30%'}\n",
            "Row 433 results saved to /content/drive/MyDrive/updated_results.xlsx\n"
          ]
        },
        {
          "output_type": "stream",
          "name": "stderr",
          "text": [
            "Some weights of the model checkpoint at roberta-base-openai-detector were not used when initializing RobertaForSequenceClassification: ['roberta.pooler.dense.bias', 'roberta.pooler.dense.weight']\n",
            "- This IS expected if you are initializing RobertaForSequenceClassification from the checkpoint of a model trained on another task or with another architecture (e.g. initializing a BertForSequenceClassification model from a BertForPreTraining model).\n",
            "- This IS NOT expected if you are initializing RobertaForSequenceClassification from the checkpoint of a model that you expect to be exactly identical (initializing a BertForSequenceClassification model from a BertForSequenceClassification model).\n"
          ]
        },
        {
          "output_type": "stream",
          "name": "stdout",
          "text": [
            "Result for row 434: {'full_marks': 2.0, 'obtained_marks': 2.0, 'strengths': ['Explanation of the purpose of Hash Functions', 'Two real-world applications'], 'areas_for_improvement': ['Provide more depth and clarity to the answer'], 'clarity_score': 8.0, 'depth_score': 6.0, 'final_marks_obtained': 1, 'feedback': 'Great job! You have given a clear and concise answer with two real-world applications. However, you could have provided more depth and clarity to your answer.', 'student_word_count': 29, 'student_sentence_count': 2, 'plagiarism': False, 'average_score': 0, 'max_score': 6.666666666666667, 'max_score_url': 'https://www.tuple.nl/en/knowledge-base/hashing', 'AI_category': 'Human-written', 'AI_flag': False, 'AI_percentage': 41.88, 'AI_probabilities': {'Human-written': 0.5812204, 'AI-generated': 0.4187796}, 'reason': ''}\n",
            "Row 434 results saved to /content/drive/MyDrive/updated_results.xlsx\n",
            "Failed to fetch : \n",
            "Failed to fetch : \n",
            "Failed to fetch : \n",
            "Failed to fetch : \n",
            "Failed to fetch : \n",
            "Failed to fetch : \n",
            "Failed to fetch : \n",
            "Failed to fetch : \n",
            "Failed to fetch : \n",
            "Failed to fetch : \n"
          ]
        },
        {
          "output_type": "stream",
          "name": "stderr",
          "text": [
            "Some weights of the model checkpoint at roberta-base-openai-detector were not used when initializing RobertaForSequenceClassification: ['roberta.pooler.dense.bias', 'roberta.pooler.dense.weight']\n",
            "- This IS expected if you are initializing RobertaForSequenceClassification from the checkpoint of a model trained on another task or with another architecture (e.g. initializing a BertForSequenceClassification model from a BertForPreTraining model).\n",
            "- This IS NOT expected if you are initializing RobertaForSequenceClassification from the checkpoint of a model that you expect to be exactly identical (initializing a BertForSequenceClassification model from a BertForSequenceClassification model).\n"
          ]
        },
        {
          "output_type": "stream",
          "name": "stdout",
          "text": [
            "Result for row 435: {'full_marks': 2.0, 'obtained_marks': 2.0, 'strengths': [], 'areas_for_improvement': [], 'clarity_score': 8.0, 'depth_score': 8.0, 'final_marks_obtained': 1, 'feedback': 'Good job!', 'student_word_count': 2, 'student_sentence_count': 0, 'plagiarism': False, 'average_score': 0, 'max_score': 0, 'max_score_url': '', 'AI_category': 'Human-written', 'AI_flag': False, 'AI_percentage': 43.35, 'AI_probabilities': {'Human-written': 0.56653404, 'AI-generated': 0.43346602}, 'reason': ''}\n",
            "Row 435 results saved to /content/drive/MyDrive/updated_results.xlsx\n",
            "Failed to fetch /search?num=12: /search?num=12\n"
          ]
        },
        {
          "output_type": "stream",
          "name": "stderr",
          "text": [
            "Some weights of the model checkpoint at roberta-base-openai-detector were not used when initializing RobertaForSequenceClassification: ['roberta.pooler.dense.bias', 'roberta.pooler.dense.weight']\n",
            "- This IS expected if you are initializing RobertaForSequenceClassification from the checkpoint of a model trained on another task or with another architecture (e.g. initializing a BertForSequenceClassification model from a BertForPreTraining model).\n",
            "- This IS NOT expected if you are initializing RobertaForSequenceClassification from the checkpoint of a model that you expect to be exactly identical (initializing a BertForSequenceClassification model from a BertForSequenceClassification model).\n"
          ]
        },
        {
          "output_type": "stream",
          "name": "stdout",
          "text": [
            "Result for row 436: {'full_marks': 2.0, 'obtained_marks': 2.0, 'strengths': ['Your answer is correct and complete.'], 'areas_for_improvement': ['You should consider providing more context and explanations. You should also consider providing more details about your thought process and any relevant information that may help the reader understand your solution. Additionally', 'your answer could benefit from more clarity and depth', 'which could be achieved by providing more examples or explanations.'], 'clarity_score': 7.0, 'depth_score': 6.0, 'final_marks_obtained': 1, 'feedback': 'Your answer is correct and complete. However, your answer could be improved by providing more context and explanations. You should also consider providing more details about your thought process and any relevant information that may help the reader understand your solution. Additionally, your answer could benefit from more clarity and depth, which could be achieved by providing more examples or explanations. Your score for clarity is 7 out of 10 and your score for depth is 6 out of 10.', 'student_word_count': 2, 'student_sentence_count': 0, 'plagiarism': False, 'average_score': 0, 'max_score': 0, 'max_score_url': '', 'AI_category': 'Human-written', 'AI_flag': False, 'AI_percentage': 14.5, 'AI_probabilities': {'Human-written': 0.8549922, 'AI-generated': 0.14500785}, 'reason': ''}\n",
            "Row 436 results saved to /content/drive/MyDrive/updated_results.xlsx\n",
            "Access denied for https://open.spotify.com/artist/2Dor6diK1zw9BEluKBOdoA\n"
          ]
        },
        {
          "output_type": "stream",
          "name": "stderr",
          "text": [
            "Some weights of the model checkpoint at roberta-base-openai-detector were not used when initializing RobertaForSequenceClassification: ['roberta.pooler.dense.bias', 'roberta.pooler.dense.weight']\n",
            "- This IS expected if you are initializing RobertaForSequenceClassification from the checkpoint of a model trained on another task or with another architecture (e.g. initializing a BertForSequenceClassification model from a BertForPreTraining model).\n",
            "- This IS NOT expected if you are initializing RobertaForSequenceClassification from the checkpoint of a model that you expect to be exactly identical (initializing a BertForSequenceClassification model from a BertForSequenceClassification model).\n"
          ]
        },
        {
          "output_type": "stream",
          "name": "stdout",
          "text": [
            "Result for row 437: {'full_marks': 4.0, 'obtained_marks': 3.0, 'strengths': ['Good job on explaining RSA cryptosystem.'], 'areas_for_improvement': ['Mention all possible scenarios.'], 'clarity_score': 8.0, 'depth_score': 7.0, 'final_marks_obtained': 3, 'feedback': \"Your answer is nearly correct but you didn't mentioned all the possible scenarios. Try to mention all possible scenarios.\", 'student_word_count': 1, 'student_sentence_count': 0, 'plagiarism': False, 'average_score': 0, 'max_score': 0, 'max_score_url': '', 'AI_category': 'Human-written', 'AI_flag': False, 'AI_percentage': 0.12, 'AI_probabilities': {'Human-written': 0.99879324, 'AI-generated': 0.0012067063}, 'reason': ''}\n",
            "Row 437 results saved to /content/drive/MyDrive/updated_results.xlsx\n",
            "Failed to fetch /search?num=12: /search?num=12\n",
            "Failed to fetch /search?num=12: /search?num=12\n",
            "Access denied for https://www.cloudflare.com/learning/ddos/glossary/open-systems-interconnection-model-osi/\n",
            "Access denied for https://www.sciencedirect.com/topics/computer-science/network-interface-layer\n"
          ]
        },
        {
          "output_type": "stream",
          "name": "stderr",
          "text": [
            "Some weights of the model checkpoint at roberta-base-openai-detector were not used when initializing RobertaForSequenceClassification: ['roberta.pooler.dense.bias', 'roberta.pooler.dense.weight']\n",
            "- This IS expected if you are initializing RobertaForSequenceClassification from the checkpoint of a model trained on another task or with another architecture (e.g. initializing a BertForSequenceClassification model from a BertForPreTraining model).\n",
            "- This IS NOT expected if you are initializing RobertaForSequenceClassification from the checkpoint of a model that you expect to be exactly identical (initializing a BertForSequenceClassification model from a BertForSequenceClassification model).\n"
          ]
        },
        {
          "output_type": "stream",
          "name": "stdout",
          "text": [
            "Result for row 438: {'full_marks': 4.0, 'obtained_marks': None, 'strengths': [], 'areas_for_improvement': [], 'clarity_score': None, 'depth_score': None, 'final_marks_obtained': 0, 'feedback': None, 'student_word_count': 67, 'student_sentence_count': 5, 'plagiarism': False, 'average_score': 0, 'max_score': 0, 'max_score_url': '', 'AI_category': 'AI-generated', 'AI_flag': True, 'AI_percentage': 99.37, 'AI_probabilities': {'Human-written': 0.0062603904, 'AI-generated': 0.9937396}, 'reason': 'Penalty applied for AI detection exceeding 30%'}\n",
            "Row 438 results saved to /content/drive/MyDrive/updated_results.xlsx\n",
            "Failed to fetch /search?q=a.+number+of+hosts+62%C3%AF%C2%BB%C2%BF%C3%AF%C2%BB%C2%BF%0A%0A%0Ab.+network+address+192.168.1.64%0A%0A%0Ac.+broadcast+address+192.168.1.127&num=12&safe=active&sca_esv=92b12e7e59cf2f55&hl=en&ie=UTF-8&filter=0: /search?q=a.+number+of+hosts+62%C3%AF%C2%BB%C2%BF%C3%AF%C2%BB%C2%BF%0A%0A%0Ab.+network+address+192.168.1.64%0A%0A%0Ac.+broadcast+address+192.168.1.127&num=12&safe=active&sca_esv=92b12e7e59cf2f55&hl=en&ie=UTF-8&filter=0\n",
            "Failed to fetch : \n",
            "Access denied for https://www.reddit.com/r/ccna/comments/1e0c1vh/network_and_broadcast/\n"
          ]
        },
        {
          "output_type": "stream",
          "name": "stderr",
          "text": [
            "Some weights of the model checkpoint at roberta-base-openai-detector were not used when initializing RobertaForSequenceClassification: ['roberta.pooler.dense.bias', 'roberta.pooler.dense.weight']\n",
            "- This IS expected if you are initializing RobertaForSequenceClassification from the checkpoint of a model trained on another task or with another architecture (e.g. initializing a BertForSequenceClassification model from a BertForPreTraining model).\n",
            "- This IS NOT expected if you are initializing RobertaForSequenceClassification from the checkpoint of a model that you expect to be exactly identical (initializing a BertForSequenceClassification model from a BertForSequenceClassification model).\n"
          ]
        },
        {
          "output_type": "stream",
          "name": "stdout",
          "text": [
            "Result for row 439: {'full_marks': 5.0, 'obtained_marks': 5.0, 'strengths': [], 'areas_for_improvement': [], 'clarity_score': 9.5, 'depth_score': 9.5, 'final_marks_obtained': 3, 'feedback': 'Good work! You have answered all the questions correctly and in detail. You have also provided a clear explanation for each question. The only improvement you can make is to add some more details to your answer. Your answer is complete and has depth. Your answer is relevant and has provided a complete solution to the problem. Your overall clarity score is 9.5 and your overall depth score is 9.5.', 'student_word_count': 13, 'student_sentence_count': 9, 'plagiarism': False, 'average_score': 0, 'max_score': 0, 'max_score_url': '', 'AI_category': 'AI-generated', 'AI_flag': True, 'AI_percentage': 97.38, 'AI_probabilities': {'Human-written': 0.026182363, 'AI-generated': 0.9738176}, 'reason': 'Penalty applied for AI detection exceeding 30%'}\n",
            "Row 439 results saved to /content/drive/MyDrive/updated_results.xlsx\n",
            "Failed to fetch /search?num=12: /search?num=12\n",
            "Failed to fetch /search?num=12: /search?num=12\n",
            "Failed to fetch /search?num=12: /search?num=12\n",
            "Access denied for https://www.justdial.com/Vadodara/Computer-Network-Security-in-Tp-13/nct-10115026\n",
            "Access denied for https://www.entrust.com/resources/learn/what-is-encryption-key-management\n",
            "Error processing row 440: \n",
            "Failed to fetch /search?num=12: /search?num=12\n",
            "Failed to fetch /search?num=12: /search?num=12\n",
            "Access denied for https://www.researchgate.net/publication/275605075_RC4_stream_cipher_and_possible_attacks_on_WEP\n"
          ]
        },
        {
          "output_type": "stream",
          "name": "stderr",
          "text": [
            "Some weights of the model checkpoint at roberta-base-openai-detector were not used when initializing RobertaForSequenceClassification: ['roberta.pooler.dense.bias', 'roberta.pooler.dense.weight']\n",
            "- This IS expected if you are initializing RobertaForSequenceClassification from the checkpoint of a model trained on another task or with another architecture (e.g. initializing a BertForSequenceClassification model from a BertForPreTraining model).\n",
            "- This IS NOT expected if you are initializing RobertaForSequenceClassification from the checkpoint of a model that you expect to be exactly identical (initializing a BertForSequenceClassification model from a BertForSequenceClassification model).\n"
          ]
        },
        {
          "output_type": "stream",
          "name": "stdout",
          "text": [
            "Result for row 441: {'full_marks': 2.0, 'obtained_marks': None, 'strengths': [], 'areas_for_improvement': [], 'clarity_score': None, 'depth_score': None, 'final_marks_obtained': 0, 'feedback': None, 'student_word_count': 34, 'student_sentence_count': 1, 'plagiarism': False, 'average_score': 0, 'max_score': 0, 'max_score_url': '', 'AI_category': 'AI-generated', 'AI_flag': True, 'AI_percentage': 99.78, 'AI_probabilities': {'Human-written': 0.0022099414, 'AI-generated': 0.9977901}, 'reason': 'Penalty applied for AI detection exceeding 30%'}\n",
            "Row 441 results saved to /content/drive/MyDrive/updated_results.xlsx\n"
          ]
        },
        {
          "output_type": "stream",
          "name": "stderr",
          "text": [
            "Some weights of the model checkpoint at roberta-base-openai-detector were not used when initializing RobertaForSequenceClassification: ['roberta.pooler.dense.bias', 'roberta.pooler.dense.weight']\n",
            "- This IS expected if you are initializing RobertaForSequenceClassification from the checkpoint of a model trained on another task or with another architecture (e.g. initializing a BertForSequenceClassification model from a BertForPreTraining model).\n",
            "- This IS NOT expected if you are initializing RobertaForSequenceClassification from the checkpoint of a model that you expect to be exactly identical (initializing a BertForSequenceClassification model from a BertForSequenceClassification model).\n"
          ]
        },
        {
          "output_type": "stream",
          "name": "stdout",
          "text": [
            "Result for row 442: {'full_marks': 2.0, 'obtained_marks': 2.0, 'strengths': ['Correct understanding of the purpose of hash functions'], 'areas_for_improvement': ['Clarity in the answer', 'Explanation of real-world applications'], 'clarity_score': 7.0, 'depth_score': 8.0, 'final_marks_obtained': 1, 'feedback': 'Answer is partially correct and has a good depth of understanding but lacks some clarity in some parts. Please provide a more concise and clear answer in the future.', 'student_word_count': 0, 'student_sentence_count': 0, 'plagiarism': False, 'average_score': 0, 'max_score': 0, 'max_score_url': '', 'AI_category': 'Human-written', 'AI_flag': False, 'AI_percentage': 0.09, 'AI_probabilities': {'Human-written': 0.9990896, 'AI-generated': 0.00091043336}, 'reason': ''}\n",
            "Row 442 results saved to /content/drive/MyDrive/updated_results.xlsx\n",
            "Failed to fetch /search?num=12: /search?num=12\n",
            "Access denied for https://www.sec.gov/Archives/edgar/data/312070/0001193125-11-008375.txt\n",
            "Error processing row 443: \n",
            "Failed to fetch /search?num=12: /search?num=12\n"
          ]
        },
        {
          "output_type": "stream",
          "name": "stderr",
          "text": [
            "Some weights of the model checkpoint at roberta-base-openai-detector were not used when initializing RobertaForSequenceClassification: ['roberta.pooler.dense.bias', 'roberta.pooler.dense.weight']\n",
            "- This IS expected if you are initializing RobertaForSequenceClassification from the checkpoint of a model trained on another task or with another architecture (e.g. initializing a BertForSequenceClassification model from a BertForPreTraining model).\n",
            "- This IS NOT expected if you are initializing RobertaForSequenceClassification from the checkpoint of a model that you expect to be exactly identical (initializing a BertForSequenceClassification model from a BertForSequenceClassification model).\n"
          ]
        },
        {
          "output_type": "stream",
          "name": "stdout",
          "text": [
            "Result for row 444: {'full_marks': 2.0, 'obtained_marks': 1.5, 'strengths': [], 'areas_for_improvement': [], 'clarity_score': 7.0, 'depth_score': 4.0, 'final_marks_obtained': 1, 'feedback': 'Strengths: Good job! You got the correct answer. However, your answer could have been more complete. Try to explain your steps and provide more details. Areas for improvement: Please provide more explanation and details. Clarity score: 7, Depth score: 4', 'student_word_count': 2, 'student_sentence_count': 0, 'plagiarism': False, 'average_score': 0, 'max_score': 0, 'max_score_url': '', 'AI_category': 'Human-written', 'AI_flag': False, 'AI_percentage': 0.03, 'AI_probabilities': {'Human-written': 0.9997234, 'AI-generated': 0.00027658895}, 'reason': ''}\n",
            "Row 444 results saved to /content/drive/MyDrive/updated_results.xlsx\n"
          ]
        },
        {
          "output_type": "stream",
          "name": "stderr",
          "text": [
            "Some weights of the model checkpoint at roberta-base-openai-detector were not used when initializing RobertaForSequenceClassification: ['roberta.pooler.dense.bias', 'roberta.pooler.dense.weight']\n",
            "- This IS expected if you are initializing RobertaForSequenceClassification from the checkpoint of a model trained on another task or with another architecture (e.g. initializing a BertForSequenceClassification model from a BertForPreTraining model).\n",
            "- This IS NOT expected if you are initializing RobertaForSequenceClassification from the checkpoint of a model that you expect to be exactly identical (initializing a BertForSequenceClassification model from a BertForSequenceClassification model).\n"
          ]
        },
        {
          "output_type": "stream",
          "name": "stdout",
          "text": [
            "Result for row 445: {'full_marks': 4.0, 'obtained_marks': None, 'strengths': [], 'areas_for_improvement': [], 'clarity_score': None, 'depth_score': None, 'final_marks_obtained': 0, 'feedback': None, 'student_word_count': 1, 'student_sentence_count': 0, 'plagiarism': False, 'average_score': 0, 'max_score': 0, 'max_score_url': '', 'AI_category': 'Human-written', 'AI_flag': False, 'AI_percentage': 22.87, 'AI_probabilities': {'Human-written': 0.77132136, 'AI-generated': 0.22867864}, 'reason': ''}\n",
            "Row 445 results saved to /content/drive/MyDrive/updated_results.xlsx\n",
            "Failed to fetch /search?num=12: /search?num=12\n",
            "Failed to fetch /search?num=12: /search?num=12\n",
            "Access denied for https://www.cloudflare.com/learning/ddos/glossary/open-systems-interconnection-model-osi/\n",
            "Access denied for https://www.reddit.com/r/overclocking/comments/vu1y2f/low_cpu_usage_under_20_when_i_playing_bad_or_good/\n",
            "Access denied for https://www.sdxcentral.com/resources/glossary/open-systems-interconnection-osi/\n",
            "Access denied for https://www.cloudflare.com/learning/ddos/glossary/open-systems-interconnection-model-osi/\n",
            "Access denied for https://linustechtips.com/topic/1546379-very-low-cpu-usage-and-high-gpu-usage/\n",
            "Access denied for https://www.reddit.com/r/AFKJourney/comments/1hvtl34/horizontal_or_vertical_approaches/\n",
            "Access denied for https://linustechtips.com/topic/1485781-low-cpu-and-gpu-usage-and-low-fps/\n",
            "Access denied for https://www.tenforums.com/performance-maintenance/169133-poor-performance-but-very-low-hardware-usage.html\n",
            "Access denied for https://ludwig.guru/s/due+to+low+usage\n",
            "Access denied for https://www.reddit.com/r/AFKJourney/comments/1hvtl34/horizontal_or_vertical_approaches/\n"
          ]
        },
        {
          "output_type": "stream",
          "name": "stderr",
          "text": [
            "Some weights of the model checkpoint at roberta-base-openai-detector were not used when initializing RobertaForSequenceClassification: ['roberta.pooler.dense.bias', 'roberta.pooler.dense.weight']\n",
            "- This IS expected if you are initializing RobertaForSequenceClassification from the checkpoint of a model trained on another task or with another architecture (e.g. initializing a BertForSequenceClassification model from a BertForPreTraining model).\n",
            "- This IS NOT expected if you are initializing RobertaForSequenceClassification from the checkpoint of a model that you expect to be exactly identical (initializing a BertForSequenceClassification model from a BertForSequenceClassification model).\n"
          ]
        },
        {
          "output_type": "stream",
          "name": "stdout",
          "text": [
            "Result for row 446: {'full_marks': 4.0, 'obtained_marks': 4.0, 'strengths': ['The answer is correct and complete.'], 'areas_for_improvement': ['Provide more depth and context on the role and usage of each model.'], 'clarity_score': 9.0, 'depth_score': 7.0, 'final_marks_obtained': 3, 'feedback': 'Answer is correct and complete. It provides a clear and concise explanation of the difference between the OSI Model and TCP/IP Model. However, the answer could be improved by providing more depth and context on the role and usage of each model. Additionally, the answer could be improved by providing more specific examples of the differences between the two models. Overall, a good job!', 'student_word_count': 38, 'student_sentence_count': 6, 'plagiarism': False, 'average_score': 0, 'max_score': 0, 'max_score_url': '', 'AI_category': 'Human-written', 'AI_flag': False, 'AI_percentage': 21.71, 'AI_probabilities': {'Human-written': 0.7828733, 'AI-generated': 0.21712667}, 'reason': ''}\n",
            "Row 446 results saved to /content/drive/MyDrive/updated_results.xlsx\n",
            "Failed to fetch : \n",
            "Failed to fetch /search?num=12: /search?num=12\n",
            "Failed to fetch /search?q=The+ip+adddress+192.168.1.65+is+binary+is+using+the+subnet+mask+255.255.255.19(/26)n+we+set+the+last+6+bit(host+bit)+to+0+to+find+the+network+address.&num=12&safe=active&sca_esv=92b12e7e59cf2f55&hl=en&ie=UTF-8&filter=0: /search?q=The+ip+adddress+192.168.1.65+is+binary+is+using+the+subnet+mask+255.255.255.19(/26)n+we+set+the+last+6+bit(host+bit)+to+0+to+find+the+network+address.&num=12&safe=active&sca_esv=92b12e7e59cf2f55&hl=en&ie=UTF-8&filter=0\n",
            "Access denied for https://www.reddit.com/r/ccna/comments/17qdm4v/how_do_i_figure_out_how_many_hosts_would_be/\n",
            "Access denied for https://brainly.com/question/49640670\n",
            "Access denied for https://www.reddit.com/r/HomeNetworking/comments/11r0syv/19216816426_but_how/\n",
            "Error processing row 447: \n",
            "Failed to fetch : \n",
            "Failed to fetch /search?num=12: /search?num=12\n",
            "Failed to fetch /search?q=Security+Services:+Security+Services+in+information+security+are+processes+and+mechanisms+that+protect+data+from+security+risks+they+ensure+that+authonized+people+can+access+and+modify+sensitive+information+.&num=12&safe=active&sca_esv=92b12e7e59cf2f55&hl=en&ie=UTF-8&filter=0: /search?q=Security+Services:+Security+Services+in+information+security+are+processes+and+mechanisms+that+protect+data+from+security+risks+they+ensure+that+authonized+people+can+access+and+modify+sensitive+information+.&num=12&safe=active&sca_esv=92b12e7e59cf2f55&hl=en&ie=UTF-8&filter=0\n",
            "Failed to fetch /search?num=12: /search?num=12\n",
            "Failed to fetch /search?num=12: /search?num=12\n",
            "Access denied for https://www.reddit.com/r/phishing/comments/16em6t0/hi_there_i_regret_to_inform_you_about_some_sad/\n",
            "Access denied for https://trustifi.com/blog/what-is-email-trap-phishing/\n",
            "Failed to fetch https://double.cloud/blog/posts/2023/07/what-is-data-integrity/: 400, message='Got more than 8190 bytes (12152) when reading Header value is too long.', url='https://double.cloud/blog/posts/2023/07/what-is-data-integrity/'\n"
          ]
        },
        {
          "output_type": "stream",
          "name": "stderr",
          "text": [
            "Some weights of the model checkpoint at roberta-base-openai-detector were not used when initializing RobertaForSequenceClassification: ['roberta.pooler.dense.bias', 'roberta.pooler.dense.weight']\n",
            "- This IS expected if you are initializing RobertaForSequenceClassification from the checkpoint of a model trained on another task or with another architecture (e.g. initializing a BertForSequenceClassification model from a BertForPreTraining model).\n",
            "- This IS NOT expected if you are initializing RobertaForSequenceClassification from the checkpoint of a model that you expect to be exactly identical (initializing a BertForSequenceClassification model from a BertForSequenceClassification model).\n"
          ]
        },
        {
          "output_type": "stream",
          "name": "stdout",
          "text": [
            "Result for row 448: {'full_marks': 4.0, 'obtained_marks': 4.0, 'strengths': ['You provided a good explanation of security services and security attacks.'], 'areas_for_improvement': ['You could provide more details and examples to support your answers.'], 'clarity_score': 9.0, 'depth_score': 6.0, 'final_marks_obtained': 2, 'feedback': 'Good work! You have provided a clear and concise explanation of the security services and security attacks. However, there is room for improvement in the depth and completeness of your answers.\\n    The depth score is 6 out of 10. The clarity score is 9 out of 10.', 'student_word_count': 94, 'student_sentence_count': 7, 'plagiarism': False, 'average_score': 0, 'max_score': 4.0, 'max_score_url': 'https://digitdefence.com/blog/security-services-in-information-security', 'AI_category': 'AI-generated', 'AI_flag': True, 'AI_percentage': 99.9, 'AI_probabilities': {'Human-written': 0.0010085371, 'AI-generated': 0.99899143}, 'reason': 'Penalty applied for AI detection exceeding 30%'}\n",
            "Row 448 results saved to /content/drive/MyDrive/updated_results.xlsx\n",
            "Failed to fetch /search?num=12: /search?num=12\n",
            "Failed to fetch /search?q=2.RCA.: /search?q=2.RCA.\n",
            "Access denied for https://www.sciencedirect.com/topics/computer-science/block-cipher\n",
            "Access denied for https://www.reddit.com/r/crypto/comments/vv1vzn/using_64_byte_key_for_aes_encryption_and_the_key/\n",
            "Access denied for https://www.allekabels.nl/audio_kabels/tulp_kabel/rca-kabel.html\n",
            "Access denied for https://www.bax-shop.nl/verlooppluggen-kabels/jack-rca-verlooppluggen-kabels\n"
          ]
        },
        {
          "output_type": "stream",
          "name": "stderr",
          "text": [
            "Some weights of the model checkpoint at roberta-base-openai-detector were not used when initializing RobertaForSequenceClassification: ['roberta.pooler.dense.bias', 'roberta.pooler.dense.weight']\n",
            "- This IS expected if you are initializing RobertaForSequenceClassification from the checkpoint of a model trained on another task or with another architecture (e.g. initializing a BertForSequenceClassification model from a BertForPreTraining model).\n",
            "- This IS NOT expected if you are initializing RobertaForSequenceClassification from the checkpoint of a model that you expect to be exactly identical (initializing a BertForSequenceClassification model from a BertForSequenceClassification model).\n"
          ]
        },
        {
          "output_type": "stream",
          "name": "stdout",
          "text": [
            "Result for row 449: {'full_marks': 2.0, 'obtained_marks': 2.0, 'strengths': ['Correctness of answer', 'Completeness of answer', 'Clarity of answer', 'Relevance of answer'], 'areas_for_improvement': [], 'clarity_score': 9.0, 'depth_score': 8.0, 'final_marks_obtained': 1, 'feedback': 'Great job! You have covered all the points asked in the question. Keep up the good work!', 'student_word_count': 26, 'student_sentence_count': 8, 'plagiarism': True, 'average_score': 60.0, 'max_score': 60.0, 'max_score_url': 'https://www.geeksforgeeks.org/stream-ciphers/', 'AI_category': 'AI-generated', 'AI_flag': True, 'AI_percentage': 96.49, 'AI_probabilities': {'Human-written': 0.035094954, 'AI-generated': 0.96490496}, 'reason': 'Penalty applied for plagiarism exceeding 30%; Penalty applied for AI detection exceeding 30%'}\n",
            "Row 449 results saved to /content/drive/MyDrive/updated_results.xlsx\n",
            "Failed to fetch /search?num=12: /search?num=12\n",
            "Access denied for https://www.reddit.com/r/AskComputerScience/comments/10g384l/noobie_hashing_algorithms_isnt_the_whole_point_of/\n",
            "Access denied for https://codesigningstore.com/how-does-hashing-work\n",
            "Access denied for https://www.baeldung.com/cs/hashing\n",
            "Access denied for https://www.reddit.com/r/cissp/comments/zacw87/dont_digital_signatures_ensure_integrity_and/\n",
            "Error processing row 450: \n",
            "Failed to fetch /search?num=12: /search?num=12\n",
            "Failed to fetch : \n",
            "Failed to fetch /search?num=2: /search?num=2\n",
            "Failed to fetch : \n",
            "Failed to fetch : \n",
            "Failed to fetch : \n",
            "Failed to fetch : \n",
            "Failed to fetch : \n",
            "Failed to fetch : \n",
            "Failed to fetch : \n"
          ]
        },
        {
          "output_type": "stream",
          "name": "stderr",
          "text": [
            "Some weights of the model checkpoint at roberta-base-openai-detector were not used when initializing RobertaForSequenceClassification: ['roberta.pooler.dense.bias', 'roberta.pooler.dense.weight']\n",
            "- This IS expected if you are initializing RobertaForSequenceClassification from the checkpoint of a model trained on another task or with another architecture (e.g. initializing a BertForSequenceClassification model from a BertForPreTraining model).\n",
            "- This IS NOT expected if you are initializing RobertaForSequenceClassification from the checkpoint of a model that you expect to be exactly identical (initializing a BertForSequenceClassification model from a BertForSequenceClassification model).\n"
          ]
        },
        {
          "output_type": "stream",
          "name": "stdout",
          "text": [
            "Result for row 451: {'full_marks': 2.0, 'obtained_marks': 2.0, 'strengths': ['Your answer is correct.', 'You used the correct encryption method (Caesar Cipher).'], 'areas_for_improvement': ['Provide a detailed explanation of the encryption process and the reasoning behind the chosen shift.', 'Improve the overall clarity of your answer.', 'Make sure to explain why a Caesar Cipher with a shift of 5 was chosen.'], 'clarity_score': 6.0, 'depth_score': 6.0, 'final_marks_obtained': 1, 'feedback': 'Good job! Your answer is correct. However, you could have provided more details in your explanation. For example, you could have explained why a Caesar Cipher with a shift of 5 was chosen and how it works. Additionally, your answer could have been clearer and easier to understand. The overall clarity score is 6 out of 10. For full marks, make sure to provide a detailed explanation of the encryption process and the reasoning behind the chosen shift.', 'student_word_count': 2, 'student_sentence_count': 0, 'plagiarism': False, 'average_score': 0, 'max_score': 0, 'max_score_url': '', 'AI_category': 'Human-written', 'AI_flag': False, 'AI_percentage': 52.08, 'AI_probabilities': {'Human-written': 0.47923028, 'AI-generated': 0.52076966}, 'reason': ''}\n",
            "Row 451 results saved to /content/drive/MyDrive/updated_results.xlsx\n",
            "Failed to fetch /search?num=12: /search?num=12\n"
          ]
        },
        {
          "output_type": "stream",
          "name": "stderr",
          "text": [
            "Some weights of the model checkpoint at roberta-base-openai-detector were not used when initializing RobertaForSequenceClassification: ['roberta.pooler.dense.bias', 'roberta.pooler.dense.weight']\n",
            "- This IS expected if you are initializing RobertaForSequenceClassification from the checkpoint of a model trained on another task or with another architecture (e.g. initializing a BertForSequenceClassification model from a BertForPreTraining model).\n",
            "- This IS NOT expected if you are initializing RobertaForSequenceClassification from the checkpoint of a model that you expect to be exactly identical (initializing a BertForSequenceClassification model from a BertForSequenceClassification model).\n"
          ]
        },
        {
          "output_type": "stream",
          "name": "stdout",
          "text": [
            "Result for row 452: {'full_marks': 2.0, 'obtained_marks': None, 'strengths': [], 'areas_for_improvement': [], 'clarity_score': None, 'depth_score': None, 'final_marks_obtained': 0, 'feedback': None, 'student_word_count': 2, 'student_sentence_count': 0, 'plagiarism': False, 'average_score': 0, 'max_score': 0, 'max_score_url': '', 'AI_category': 'Human-written', 'AI_flag': False, 'AI_percentage': 14.5, 'AI_probabilities': {'Human-written': 0.8549922, 'AI-generated': 0.14500785}, 'reason': ''}\n",
            "Row 452 results saved to /content/drive/MyDrive/updated_results.xlsx\n",
            "Access denied for https://open.spotify.com/track/20FZrLl9zSbO9b3DhaqO6M\n"
          ]
        },
        {
          "output_type": "stream",
          "name": "stderr",
          "text": [
            "Some weights of the model checkpoint at roberta-base-openai-detector were not used when initializing RobertaForSequenceClassification: ['roberta.pooler.dense.bias', 'roberta.pooler.dense.weight']\n",
            "- This IS expected if you are initializing RobertaForSequenceClassification from the checkpoint of a model trained on another task or with another architecture (e.g. initializing a BertForSequenceClassification model from a BertForPreTraining model).\n",
            "- This IS NOT expected if you are initializing RobertaForSequenceClassification from the checkpoint of a model that you expect to be exactly identical (initializing a BertForSequenceClassification model from a BertForSequenceClassification model).\n"
          ]
        },
        {
          "output_type": "stream",
          "name": "stdout",
          "text": [
            "Result for row 453: {'full_marks': 4.0, 'obtained_marks': 4.0, 'strengths': ['Correct answer', 'Complete answer', 'Clear and concise'], 'areas_for_improvement': [], 'clarity_score': 9.5, 'depth_score': 9.5, 'final_marks_obtained': 3, 'feedback': 'Excellent. The answer is correct and complete. It is also clear and concise. Good job!', 'student_word_count': 1, 'student_sentence_count': 0, 'plagiarism': False, 'average_score': 0, 'max_score': 0, 'max_score_url': '', 'AI_category': 'Human-written', 'AI_flag': False, 'AI_percentage': 0.12, 'AI_probabilities': {'Human-written': 0.99879324, 'AI-generated': 0.0012067063}, 'reason': ''}\n",
            "Row 453 results saved to /content/drive/MyDrive/updated_results.xlsx\n",
            "Failed to fetch /search?num=12: /search?num=12\n"
          ]
        },
        {
          "output_type": "stream",
          "name": "stderr",
          "text": [
            "Some weights of the model checkpoint at roberta-base-openai-detector were not used when initializing RobertaForSequenceClassification: ['roberta.pooler.dense.bias', 'roberta.pooler.dense.weight']\n",
            "- This IS expected if you are initializing RobertaForSequenceClassification from the checkpoint of a model trained on another task or with another architecture (e.g. initializing a BertForSequenceClassification model from a BertForPreTraining model).\n",
            "- This IS NOT expected if you are initializing RobertaForSequenceClassification from the checkpoint of a model that you expect to be exactly identical (initializing a BertForSequenceClassification model from a BertForSequenceClassification model).\n"
          ]
        },
        {
          "output_type": "stream",
          "name": "stdout",
          "text": [
            "Result for row 454: {'full_marks': 4.0, 'obtained_marks': 4.0, 'strengths': ['Correctly differentiated between the OSI Model and TCP/IP Model', 'Complete and clear answer', 'Relevant answer'], 'areas_for_improvement': ['Give a depth score', 'Explain more about the OSI Model and TCP/IP Model'], 'clarity_score': 8.0, 'depth_score': 7.0, 'final_marks_obtained': 2, 'feedback': \"Good job! You have correctly differentiated between the OSI Model and TCP/IP Model. Your answer is complete, clear and relevant. However, you haven't given a depth score, so I'm going to assign a score of 7 out of 10 for depth. Great job!\", 'student_word_count': 34, 'student_sentence_count': 0, 'plagiarism': False, 'average_score': 0, 'max_score': 0, 'max_score_url': '', 'AI_category': 'AI-generated', 'AI_flag': True, 'AI_percentage': 98.78, 'AI_probabilities': {'Human-written': 0.012167924, 'AI-generated': 0.9878321}, 'reason': 'Penalty applied for AI detection exceeding 30%'}\n",
            "Row 454 results saved to /content/drive/MyDrive/updated_results.xlsx\n",
            "Access denied for https://www.reddit.com/r/packettracer/comments/jhjn7p/packet_tracer_help/\n"
          ]
        },
        {
          "output_type": "stream",
          "name": "stderr",
          "text": [
            "Some weights of the model checkpoint at roberta-base-openai-detector were not used when initializing RobertaForSequenceClassification: ['roberta.pooler.dense.bias', 'roberta.pooler.dense.weight']\n",
            "- This IS expected if you are initializing RobertaForSequenceClassification from the checkpoint of a model trained on another task or with another architecture (e.g. initializing a BertForSequenceClassification model from a BertForPreTraining model).\n",
            "- This IS NOT expected if you are initializing RobertaForSequenceClassification from the checkpoint of a model that you expect to be exactly identical (initializing a BertForSequenceClassification model from a BertForSequenceClassification model).\n"
          ]
        },
        {
          "output_type": "stream",
          "name": "stdout",
          "text": [
            "Result for row 455: {'full_marks': 5.0, 'obtained_marks': 5.0, 'strengths': ['Correctness of answer', 'Completeness of answer', 'Clarity', 'Relevance of answer'], 'areas_for_improvement': ['No improvement needed'], 'clarity_score': 9.5, 'depth_score': 9.0, 'final_marks_obtained': 4, 'feedback': 'Great job! You have answered all the questions correctly and provided detailed explanations. Your answers were also very clear and easy to understand. Keep up the good work!', 'student_word_count': 3, 'student_sentence_count': 6, 'plagiarism': False, 'average_score': 0, 'max_score': 0, 'max_score_url': '', 'AI_category': 'Human-written', 'AI_flag': False, 'AI_percentage': 22.6, 'AI_probabilities': {'Human-written': 0.7739865, 'AI-generated': 0.22601356}, 'reason': ''}\n",
            "Row 455 results saved to /content/drive/MyDrive/updated_results.xlsx\n",
            "Failed to fetch /search?num=12: /search?num=12\n",
            "Failed to fetch /search?q=Exmple-encryption,authentication%0AB)an+attempt+to+to+explotor+compromise+the+security+of+a+system%0AExample-e.g.man+in+the+middle.phising&num=12&safe=active&sca_esv=ef12aeaa4e0d65bc&hl=en&ie=UTF-8&filter=0: /search?q=Exmple-encryption,authentication%0AB)an+attempt+to+to+explotor+compromise+the+security+of+a+system%0AExample-e.g.man+in+the+middle.phising&num=12&safe=active&sca_esv=ef12aeaa4e0d65bc&hl=en&ie=UTF-8&filter=0\n",
            "Failed to fetch : \n"
          ]
        },
        {
          "output_type": "stream",
          "name": "stderr",
          "text": [
            "Some weights of the model checkpoint at roberta-base-openai-detector were not used when initializing RobertaForSequenceClassification: ['roberta.pooler.dense.bias', 'roberta.pooler.dense.weight']\n",
            "- This IS expected if you are initializing RobertaForSequenceClassification from the checkpoint of a model trained on another task or with another architecture (e.g. initializing a BertForSequenceClassification model from a BertForPreTraining model).\n",
            "- This IS NOT expected if you are initializing RobertaForSequenceClassification from the checkpoint of a model that you expect to be exactly identical (initializing a BertForSequenceClassification model from a BertForSequenceClassification model).\n"
          ]
        },
        {
          "output_type": "stream",
          "name": "stdout",
          "text": [
            "Result for row 456: {'full_marks': 4.0, 'obtained_marks': 0.0, 'strengths': [''], 'areas_for_improvement': ['Provide more details and examples to explain the concept of Security Service and Security Attack'], 'clarity_score': 3.0, 'depth_score': 3.0, 'final_marks_obtained': 0, 'feedback': 'The answer is incomplete, it lacks depth and clarity. Please provide more details.', 'student_word_count': 30, 'student_sentence_count': 4, 'plagiarism': False, 'average_score': 0, 'max_score': 0, 'max_score_url': '', 'AI_category': 'AI-generated', 'AI_flag': True, 'AI_percentage': 97.15, 'AI_probabilities': {'Human-written': 0.02847003, 'AI-generated': 0.97153}, 'reason': 'Penalty applied for AI detection exceeding 30%'}\n",
            "Row 456 results saved to /content/drive/MyDrive/updated_results.xlsx\n",
            "Access denied for https://certera.com/blog/block-cipher-vs-stream-cipher/\n"
          ]
        },
        {
          "output_type": "stream",
          "name": "stderr",
          "text": [
            "Some weights of the model checkpoint at roberta-base-openai-detector were not used when initializing RobertaForSequenceClassification: ['roberta.pooler.dense.bias', 'roberta.pooler.dense.weight']\n",
            "- This IS expected if you are initializing RobertaForSequenceClassification from the checkpoint of a model trained on another task or with another architecture (e.g. initializing a BertForSequenceClassification model from a BertForPreTraining model).\n",
            "- This IS NOT expected if you are initializing RobertaForSequenceClassification from the checkpoint of a model that you expect to be exactly identical (initializing a BertForSequenceClassification model from a BertForSequenceClassification model).\n"
          ]
        },
        {
          "output_type": "stream",
          "name": "stdout",
          "text": [
            "Result for row 457: {'full_marks': 2.0, 'obtained_marks': 1.5, 'strengths': [], 'areas_for_improvement': [], 'clarity_score': 8.0, 'depth_score': 7.0, 'final_marks_obtained': 1, 'feedback': 'Good attempt. However, you have not provided any examples for Block Ciphers and Stream Ciphers. Try to provide one example for each in your next answer.', 'student_word_count': 41, 'student_sentence_count': 1, 'plagiarism': False, 'average_score': 0, 'max_score': 0, 'max_score_url': '', 'AI_category': 'AI-generated', 'AI_flag': True, 'AI_percentage': 98.84, 'AI_probabilities': {'Human-written': 0.011588903, 'AI-generated': 0.98841107}, 'reason': 'Penalty applied for AI detection exceeding 30%'}\n",
            "Row 457 results saved to /content/drive/MyDrive/updated_results.xlsx\n",
            "Failed to fetch /search?num=12: /search?num=12\n",
            "Access denied for https://fastercapital.com/topics/the-importance-of-hash-functions-in-cryptography.html\n",
            "Access denied for https://www.researchgate.net/publication/381639930_A_Comprehensive_Study_of_Cryptographic_Hash_Functions\n"
          ]
        },
        {
          "output_type": "stream",
          "name": "stderr",
          "text": [
            "Some weights of the model checkpoint at roberta-base-openai-detector were not used when initializing RobertaForSequenceClassification: ['roberta.pooler.dense.bias', 'roberta.pooler.dense.weight']\n",
            "- This IS expected if you are initializing RobertaForSequenceClassification from the checkpoint of a model trained on another task or with another architecture (e.g. initializing a BertForSequenceClassification model from a BertForPreTraining model).\n",
            "- This IS NOT expected if you are initializing RobertaForSequenceClassification from the checkpoint of a model that you expect to be exactly identical (initializing a BertForSequenceClassification model from a BertForSequenceClassification model).\n"
          ]
        },
        {
          "output_type": "stream",
          "name": "stdout",
          "text": [
            "Result for row 458: {'full_marks': 2.0, 'obtained_marks': 2.0, 'strengths': ['The answer is correct and covers all the aspects required in the question', 'It is easy to understand and provides a general overview of the topic'], 'areas_for_improvement': ['Providing more detailed and relevant examples of real-world applications', 'Explaining how hash functions are used in these applications in more detail'], 'clarity_score': 8.0, 'depth_score': 8.0, 'final_marks_obtained': 1, 'feedback': 'The answer provided is correct and covers all the aspects required in the question, however, it could be improved by providing more detailed and relevant examples of real-world applications. The clarity score is 8 out of 10, and the depth score is also 8 out of 10.', 'student_word_count': 33, 'student_sentence_count': 3, 'plagiarism': False, 'average_score': 0, 'max_score': 0, 'max_score_url': '', 'AI_category': 'AI-generated', 'AI_flag': True, 'AI_percentage': 94.58, 'AI_probabilities': {'Human-written': 0.054173045, 'AI-generated': 0.94582695}, 'reason': 'Penalty applied for AI detection exceeding 30%'}\n",
            "Row 458 results saved to /content/drive/MyDrive/updated_results.xlsx\n",
            "Failed to fetch : \n",
            "Failed to fetch : \n",
            "Failed to fetch : \n",
            "Failed to fetch : \n",
            "Failed to fetch : \n",
            "Failed to fetch : \n",
            "Failed to fetch : \n",
            "Failed to fetch : \n",
            "Failed to fetch : \n",
            "Failed to fetch : \n"
          ]
        },
        {
          "output_type": "stream",
          "name": "stderr",
          "text": [
            "Some weights of the model checkpoint at roberta-base-openai-detector were not used when initializing RobertaForSequenceClassification: ['roberta.pooler.dense.bias', 'roberta.pooler.dense.weight']\n",
            "- This IS expected if you are initializing RobertaForSequenceClassification from the checkpoint of a model trained on another task or with another architecture (e.g. initializing a BertForSequenceClassification model from a BertForPreTraining model).\n",
            "- This IS NOT expected if you are initializing RobertaForSequenceClassification from the checkpoint of a model that you expect to be exactly identical (initializing a BertForSequenceClassification model from a BertForSequenceClassification model).\n"
          ]
        },
        {
          "output_type": "stream",
          "name": "stdout",
          "text": [
            "Result for row 459: {'full_marks': 2.0, 'obtained_marks': None, 'strengths': [], 'areas_for_improvement': [], 'clarity_score': None, 'depth_score': None, 'final_marks_obtained': 0, 'feedback': None, 'student_word_count': 2, 'student_sentence_count': 0, 'plagiarism': False, 'average_score': 0, 'max_score': 0, 'max_score_url': '', 'AI_category': 'Human-written', 'AI_flag': False, 'AI_percentage': 57.43, 'AI_probabilities': {'Human-written': 0.42569968, 'AI-generated': 0.57430035}, 'reason': ''}\n",
            "Row 459 results saved to /content/drive/MyDrive/updated_results.xlsx\n",
            "Failed to fetch https://www.eset.com/nl/thuis/beveiligingsniveaus/?srsltid=AfmBOoqt3tHyP6nCooqzYbg3ZdmodNkTQ3d3AKCe6cXcW_slWIUo6GlV: 400, message='Got more than 8190 bytes (12123) when reading Header value is too long.', url='https://www.eset.com/nl/thuis/beveiligingsniveaus/?srsltid=AfmBOoqt3tHyP6nCooqzYbg3ZdmodNkTQ3d3AKCe6cXcW_slWIUo6GlV'\n"
          ]
        },
        {
          "output_type": "stream",
          "name": "stderr",
          "text": [
            "Some weights of the model checkpoint at roberta-base-openai-detector were not used when initializing RobertaForSequenceClassification: ['roberta.pooler.dense.bias', 'roberta.pooler.dense.weight']\n",
            "- This IS expected if you are initializing RobertaForSequenceClassification from the checkpoint of a model trained on another task or with another architecture (e.g. initializing a BertForSequenceClassification model from a BertForPreTraining model).\n",
            "- This IS NOT expected if you are initializing RobertaForSequenceClassification from the checkpoint of a model that you expect to be exactly identical (initializing a BertForSequenceClassification model from a BertForSequenceClassification model).\n"
          ]
        },
        {
          "output_type": "stream",
          "name": "stdout",
          "text": [
            "Result for row 460: {'full_marks': 2.0, 'obtained_marks': None, 'strengths': [], 'areas_for_improvement': [], 'clarity_score': None, 'depth_score': None, 'final_marks_obtained': 0, 'feedback': None, 'student_word_count': 2, 'student_sentence_count': 0, 'plagiarism': False, 'average_score': 0, 'max_score': 0, 'max_score_url': '', 'AI_category': 'Human-written', 'AI_flag': False, 'AI_percentage': 23.1, 'AI_probabilities': {'Human-written': 0.7689893, 'AI-generated': 0.23101065}, 'reason': ''}\n",
            "Row 460 results saved to /content/drive/MyDrive/updated_results.xlsx\n"
          ]
        },
        {
          "output_type": "stream",
          "name": "stderr",
          "text": [
            "Some weights of the model checkpoint at roberta-base-openai-detector were not used when initializing RobertaForSequenceClassification: ['roberta.pooler.dense.bias', 'roberta.pooler.dense.weight']\n",
            "- This IS expected if you are initializing RobertaForSequenceClassification from the checkpoint of a model trained on another task or with another architecture (e.g. initializing a BertForSequenceClassification model from a BertForPreTraining model).\n",
            "- This IS NOT expected if you are initializing RobertaForSequenceClassification from the checkpoint of a model that you expect to be exactly identical (initializing a BertForSequenceClassification model from a BertForSequenceClassification model).\n"
          ]
        },
        {
          "output_type": "stream",
          "name": "stdout",
          "text": [
            "Result for row 461: {'full_marks': 4.0, 'obtained_marks': None, 'strengths': [], 'areas_for_improvement': [], 'clarity_score': None, 'depth_score': None, 'final_marks_obtained': 0, 'feedback': None, 'student_word_count': 1, 'student_sentence_count': 0, 'plagiarism': False, 'average_score': 0, 'max_score': 0, 'max_score_url': '', 'AI_category': 'Human-written', 'AI_flag': False, 'AI_percentage': 0.12, 'AI_probabilities': {'Human-written': 0.99879324, 'AI-generated': 0.0012067063}, 'reason': ''}\n",
            "Row 461 results saved to /content/drive/MyDrive/updated_results.xlsx\n",
            "Failed to fetch /search?num=12: /search?num=12\n",
            "Access denied for https://www.reddit.com/r/newworldgame/comments/uab09m/should_new_world_follow_a_horizontal_or_vertical/\n",
            "Access denied for https://brainly.ph/question/31154277\n",
            "Access denied for https://www.cloudflare.com/learning/ddos/glossary/open-systems-interconnection-model-osi/\n",
            "Access denied for https://www.reddit.com/r/newworldgame/comments/uab09m/should_new_world_follow_a_horizontal_or_vertical/\n",
            "Access denied for https://www.slps.org/cms/lib03/MO01001157/Centricity/Domain/1127/Layers%20of%20the%20Earth%20Reading%20Comprehension%20Sheet.pdf\n",
            "Failed to fetch https://www.ndix.net/ndix-explains-osi-model/: Cannot connect to host www.ndix.net:443 ssl:True [SSLCertVerificationError: (1, '[SSL: CERTIFICATE_VERIFY_FAILED] certificate verify failed: unable to get local issuer certificate (_ssl.c:1006)')]\n"
          ]
        },
        {
          "output_type": "stream",
          "name": "stderr",
          "text": [
            "Some weights of the model checkpoint at roberta-base-openai-detector were not used when initializing RobertaForSequenceClassification: ['roberta.pooler.dense.bias', 'roberta.pooler.dense.weight']\n",
            "- This IS expected if you are initializing RobertaForSequenceClassification from the checkpoint of a model trained on another task or with another architecture (e.g. initializing a BertForSequenceClassification model from a BertForPreTraining model).\n",
            "- This IS NOT expected if you are initializing RobertaForSequenceClassification from the checkpoint of a model that you expect to be exactly identical (initializing a BertForSequenceClassification model from a BertForSequenceClassification model).\n"
          ]
        },
        {
          "output_type": "stream",
          "name": "stdout",
          "text": [
            "Result for row 462: {'full_marks': 4.0, 'obtained_marks': None, 'strengths': [], 'areas_for_improvement': [], 'clarity_score': None, 'depth_score': None, 'final_marks_obtained': 0, 'feedback': None, 'student_word_count': 52, 'student_sentence_count': 16, 'plagiarism': False, 'average_score': 0, 'max_score': 0, 'max_score_url': '', 'AI_category': 'AI-generated', 'AI_flag': True, 'AI_percentage': 99.88, 'AI_probabilities': {'Human-written': 0.001224687, 'AI-generated': 0.9987753}, 'reason': 'Penalty applied for AI detection exceeding 30%'}\n",
            "Row 462 results saved to /content/drive/MyDrive/updated_results.xlsx\n",
            "Failed to fetch : \n",
            "Failed to fetch /search?num=12: /search?num=12\n",
            "Access denied for https://www.reddit.com/r/HomeNetworking/comments/11r0syv/19216816426_but_how/\n",
            "Access denied for https://interlir.com/2024/12/26/a-beginners-guide-to-subnetting-ipv4-and-ipv6-addresses/\n",
            "Access denied for https://www.kentwood.us/city_services/city_departments/court_(62-b_district)/index.php\n"
          ]
        },
        {
          "output_type": "stream",
          "name": "stderr",
          "text": [
            "Some weights of the model checkpoint at roberta-base-openai-detector were not used when initializing RobertaForSequenceClassification: ['roberta.pooler.dense.bias', 'roberta.pooler.dense.weight']\n",
            "- This IS expected if you are initializing RobertaForSequenceClassification from the checkpoint of a model trained on another task or with another architecture (e.g. initializing a BertForSequenceClassification model from a BertForPreTraining model).\n",
            "- This IS NOT expected if you are initializing RobertaForSequenceClassification from the checkpoint of a model that you expect to be exactly identical (initializing a BertForSequenceClassification model from a BertForSequenceClassification model).\n"
          ]
        },
        {
          "output_type": "stream",
          "name": "stdout",
          "text": [
            "Result for row 463: {'full_marks': 5.0, 'obtained_marks': 5.0, 'strengths': ['Correctness of answer', 'Clarity'], 'areas_for_improvement': [], 'clarity_score': 10.0, 'depth_score': 10.0, 'final_marks_obtained': 4, 'feedback': 'Great job! You have correctly calculated and provided all the required information. Your answers are complete and relevant. Keep up the good work!', 'student_word_count': 5, 'student_sentence_count': 9, 'plagiarism': False, 'average_score': 0, 'max_score': 0, 'max_score_url': '', 'AI_category': 'Human-written', 'AI_flag': False, 'AI_percentage': 26.0, 'AI_probabilities': {'Human-written': 0.7399661, 'AI-generated': 0.26003388}, 'reason': ''}\n",
            "Row 463 results saved to /content/drive/MyDrive/updated_results.xlsx\n",
            "Failed to fetch https://www.cybersecurityandlaw.com/pdf-142180-68336?filename=Network%20eavesdropping.pdf: Cannot connect to host www.cybersecurityandlaw.com:443 ssl:default [Name or service not known]\n"
          ]
        },
        {
          "output_type": "stream",
          "name": "stderr",
          "text": [
            "Some weights of the model checkpoint at roberta-base-openai-detector were not used when initializing RobertaForSequenceClassification: ['roberta.pooler.dense.bias', 'roberta.pooler.dense.weight']\n",
            "- This IS expected if you are initializing RobertaForSequenceClassification from the checkpoint of a model trained on another task or with another architecture (e.g. initializing a BertForSequenceClassification model from a BertForPreTraining model).\n",
            "- This IS NOT expected if you are initializing RobertaForSequenceClassification from the checkpoint of a model that you expect to be exactly identical (initializing a BertForSequenceClassification model from a BertForSequenceClassification model).\n"
          ]
        },
        {
          "output_type": "stream",
          "name": "stdout",
          "text": [
            "Result for row 464: {'full_marks': 4.0, 'obtained_marks': None, 'strengths': [], 'areas_for_improvement': [], 'clarity_score': None, 'depth_score': None, 'final_marks_obtained': 0, 'feedback': None, 'student_word_count': 112, 'student_sentence_count': 8, 'plagiarism': True, 'average_score': 31.25, 'max_score': 31.25, 'max_score_url': 'https://connectivity.esa.int/news/security-issues-satcom', 'AI_category': 'AI-generated', 'AI_flag': True, 'AI_percentage': 97.32, 'AI_probabilities': {'Human-written': 0.026774388, 'AI-generated': 0.9732256}, 'reason': 'Penalty applied for plagiarism exceeding 30%; Penalty applied for AI detection exceeding 30%'}\n",
            "Row 464 results saved to /content/drive/MyDrive/updated_results.xlsx\n",
            "Failed to fetch /search?num=12: /search?num=12\n",
            "Access denied for https://www.researchgate.net/publication/221274797_Cryptanalysis_of_RC4-like_Ciphers\n",
            "Access denied for https://www.sciencedirect.com/topics/computer-science/block-cipher\n",
            "Error processing row 465: \n",
            "Access denied for https://www.researchgate.net/figure/Signature-sample-groups-a-Data-1-b-Data-2_fig1_350203435\n"
          ]
        },
        {
          "output_type": "stream",
          "name": "stderr",
          "text": [
            "Some weights of the model checkpoint at roberta-base-openai-detector were not used when initializing RobertaForSequenceClassification: ['roberta.pooler.dense.bias', 'roberta.pooler.dense.weight']\n",
            "- This IS expected if you are initializing RobertaForSequenceClassification from the checkpoint of a model trained on another task or with another architecture (e.g. initializing a BertForSequenceClassification model from a BertForPreTraining model).\n",
            "- This IS NOT expected if you are initializing RobertaForSequenceClassification from the checkpoint of a model that you expect to be exactly identical (initializing a BertForSequenceClassification model from a BertForSequenceClassification model).\n"
          ]
        },
        {
          "output_type": "stream",
          "name": "stdout",
          "text": [
            "Result for row 466: {'full_marks': 2.0, 'obtained_marks': 2.0, 'strengths': ['Correctness of answer', 'Clarity of explanation'], 'areas_for_improvement': ['Providing more specific examples for each application', 'Enhancing the depth of the answer by discussing the mathematical principles behind hash functions'], 'clarity_score': 9.0, 'depth_score': 7.0, 'final_marks_obtained': 1, 'feedback': 'The answer is correct and complete. The explanation provided for the purpose of hash functions is clear and concise. However, the answer could have been improved by providing more specific examples for each application. The depth of the answer could also have been enhanced by discussing the mathematical principles behind hash functions.', 'student_word_count': 18, 'student_sentence_count': 3, 'plagiarism': False, 'average_score': 0, 'max_score': 0, 'max_score_url': '', 'AI_category': 'AI-generated', 'AI_flag': True, 'AI_percentage': 70.4, 'AI_probabilities': {'Human-written': 0.2959622, 'AI-generated': 0.70403785}, 'reason': 'Penalty applied for AI detection exceeding 30%'}\n",
            "Row 466 results saved to /content/drive/MyDrive/updated_results.xlsx\n",
            "Failed to fetch /search?num=12: /search?num=12\n",
            "Access denied for https://www.orbea.com/nl-en/bicycles/mountain/laufey/cat/laufey-h-ltd\n"
          ]
        },
        {
          "output_type": "stream",
          "name": "stderr",
          "text": [
            "Some weights of the model checkpoint at roberta-base-openai-detector were not used when initializing RobertaForSequenceClassification: ['roberta.pooler.dense.bias', 'roberta.pooler.dense.weight']\n",
            "- This IS expected if you are initializing RobertaForSequenceClassification from the checkpoint of a model trained on another task or with another architecture (e.g. initializing a BertForSequenceClassification model from a BertForPreTraining model).\n",
            "- This IS NOT expected if you are initializing RobertaForSequenceClassification from the checkpoint of a model that you expect to be exactly identical (initializing a BertForSequenceClassification model from a BertForSequenceClassification model).\n"
          ]
        },
        {
          "output_type": "stream",
          "name": "stdout",
          "text": [
            "Result for row 467: {'full_marks': 2.0, 'obtained_marks': None, 'strengths': [], 'areas_for_improvement': [], 'clarity_score': None, 'depth_score': None, 'final_marks_obtained': 0, 'feedback': None, 'student_word_count': 1, 'student_sentence_count': 0, 'plagiarism': False, 'average_score': 0, 'max_score': 0, 'max_score_url': '', 'AI_category': 'Human-written', 'AI_flag': False, 'AI_percentage': 48.68, 'AI_probabilities': {'Human-written': 0.51317537, 'AI-generated': 0.48682457}, 'reason': ''}\n",
            "Row 467 results saved to /content/drive/MyDrive/updated_results.xlsx\n",
            "Failed to fetch /search?num=12: /search?num=12\n",
            "Failed to fetch /search?num=12: /search?num=12\n"
          ]
        },
        {
          "output_type": "stream",
          "name": "stderr",
          "text": [
            "Some weights of the model checkpoint at roberta-base-openai-detector were not used when initializing RobertaForSequenceClassification: ['roberta.pooler.dense.bias', 'roberta.pooler.dense.weight']\n",
            "- This IS expected if you are initializing RobertaForSequenceClassification from the checkpoint of a model trained on another task or with another architecture (e.g. initializing a BertForSequenceClassification model from a BertForPreTraining model).\n",
            "- This IS NOT expected if you are initializing RobertaForSequenceClassification from the checkpoint of a model that you expect to be exactly identical (initializing a BertForSequenceClassification model from a BertForSequenceClassification model).\n"
          ]
        },
        {
          "output_type": "stream",
          "name": "stdout",
          "text": [
            "Result for row 468: {'full_marks': 2.0, 'obtained_marks': None, 'strengths': ['The solution is correct and complete.', 'It provides a clear and concise explanation of the steps involved in decrypting the cipher text using a Caesar Cipher with a shift of 3.', 'The solution includes the relevant mathematical formula and example calculations', 'making it easy to understand and follow.'], 'areas_for_improvement': [], 'clarity_score': None, 'depth_score': None, 'final_marks_obtained': 0, 'feedback': 'The solution is correct and complete. It provides a clear and concise explanation of the steps involved in decrypting the cipher text using a Caesar Cipher with a shift of 3. The solution also includes the relevant mathematical formula and example calculations, making it easy to understand and follow.', 'student_word_count': 2, 'student_sentence_count': 0, 'plagiarism': False, 'average_score': 0, 'max_score': 0, 'max_score_url': '', 'AI_category': 'Human-written', 'AI_flag': False, 'AI_percentage': 27.78, 'AI_probabilities': {'Human-written': 0.7222285, 'AI-generated': 0.2777714}, 'reason': ''}\n",
            "Row 468 results saved to /content/drive/MyDrive/updated_results.xlsx\n",
            "Access denied for https://open.spotify.com/artist/2Dor6diK1zw9BEluKBOdoA\n"
          ]
        },
        {
          "output_type": "stream",
          "name": "stderr",
          "text": [
            "Some weights of the model checkpoint at roberta-base-openai-detector were not used when initializing RobertaForSequenceClassification: ['roberta.pooler.dense.bias', 'roberta.pooler.dense.weight']\n",
            "- This IS expected if you are initializing RobertaForSequenceClassification from the checkpoint of a model trained on another task or with another architecture (e.g. initializing a BertForSequenceClassification model from a BertForPreTraining model).\n",
            "- This IS NOT expected if you are initializing RobertaForSequenceClassification from the checkpoint of a model that you expect to be exactly identical (initializing a BertForSequenceClassification model from a BertForSequenceClassification model).\n"
          ]
        },
        {
          "output_type": "stream",
          "name": "stdout",
          "text": [
            "Result for row 469: {'full_marks': 4.0, 'obtained_marks': 4.0, 'strengths': [], 'areas_for_improvement': [], 'clarity_score': 8.0, 'depth_score': 6.0, 'final_marks_obtained': 3, 'feedback': 'The answer is partially correct. The private key (d) of A is found by computing the modular multiplicative inverse of the public key (e) with respect to the product of the two primes p and q. The formula for finding the modular multiplicative inverse is given by: d = (e^(-1)) mod (p*q). Substituting the values of p = 17 and q = 11, we get: d = (7^(-1)) mod (17*11) = 10. Therefore, the private key (d) of A is 10.', 'student_word_count': 1, 'student_sentence_count': 0, 'plagiarism': False, 'average_score': 0, 'max_score': 0, 'max_score_url': '', 'AI_category': 'Human-written', 'AI_flag': False, 'AI_percentage': 0.12, 'AI_probabilities': {'Human-written': 0.99879324, 'AI-generated': 0.0012067063}, 'reason': ''}\n",
            "Row 469 results saved to /content/drive/MyDrive/updated_results.xlsx\n",
            "Failed to fetch /search?num=12: /search?num=12\n",
            "Failed to fetch /search?num=12: /search?num=12\n",
            "Failed to fetch /search?num=12: /search?num=12\n",
            "Failed to fetch /search?num=12: /search?num=12\n",
            "Access denied for https://www.cloudflare.com/learning/ddos/glossary/open-systems-interconnection-model-osi/\n",
            "Access denied for https://lightyear.ai/tips/what-is-the-data-link-layer\n",
            "Access denied for https://www.cloudflare.com/learning/network-layer/what-is-routing/\n",
            "Access denied for https://brainly.com/question/38660398\n",
            "Access denied for https://interlir.com/2024/06/28/the-basics-of-network-routing-and-its-importance/\n",
            "Access denied for https://lightyear.ai/tips/what-are-transport-layer-protocols\n",
            "Failed to fetch https://osi-model.com/session-layer/: Cannot connect to host osi-model.com:443 ssl:True [SSLCertVerificationError: (1, '[SSL: CERTIFICATE_VERIFY_FAILED] certificate verify failed: certificate has expired (_ssl.c:1006)')]\n",
            "Access denied for https://www.collidu.com/presentation-data-encryption\n",
            "Access denied for https://www.servicenow.com/workflows/creator-workflows/what-are-application-services.html\n",
            "Access denied for https://www.cloudflare.com/learning/network-layer/what-is-the-network-layer/\n",
            "Error processing row 470: \n",
            "Failed to fetch /search?q=(A)62%0A(B)192.168.1.64+(11000000.10101000.00000001.01000000)%0A(C)192.168.1.127%0A(11000000.10101000.0000000.01111111)&num=12&safe=active&sca_esv=ef12aeaa4e0d65bc&hl=en&ie=UTF-8&filter=0: /search?q=(A)62%0A(B)192.168.1.64+(11000000.10101000.00000001.01000000)%0A(C)192.168.1.127%0A(11000000.10101000.0000000.01111111)&num=12&safe=active&sca_esv=ef12aeaa4e0d65bc&hl=en&ie=UTF-8&filter=0\n",
            "Failed to fetch : \n",
            "Failed to fetch /search?q=(A)62%0A(B)192.168.1.64+(11000000.10101000.00000001.01000000)%0A(C)192.168.1.127%0A(11000000.10101000.0000000.01111111)&num=2&safe=active&sca_esv=ef12aeaa4e0d65bc&hl=en&ie=UTF-8&filter=0: /search?q=(A)62%0A(B)192.168.1.64+(11000000.10101000.00000001.01000000)%0A(C)192.168.1.127%0A(11000000.10101000.0000000.01111111)&num=2&safe=active&sca_esv=ef12aeaa4e0d65bc&hl=en&ie=UTF-8&filter=0\n",
            "Failed to fetch : \n",
            "Failed to fetch : \n",
            "Failed to fetch : \n",
            "Failed to fetch : \n"
          ]
        },
        {
          "output_type": "stream",
          "name": "stderr",
          "text": [
            "Some weights of the model checkpoint at roberta-base-openai-detector were not used when initializing RobertaForSequenceClassification: ['roberta.pooler.dense.bias', 'roberta.pooler.dense.weight']\n",
            "- This IS expected if you are initializing RobertaForSequenceClassification from the checkpoint of a model trained on another task or with another architecture (e.g. initializing a BertForSequenceClassification model from a BertForPreTraining model).\n",
            "- This IS NOT expected if you are initializing RobertaForSequenceClassification from the checkpoint of a model that you expect to be exactly identical (initializing a BertForSequenceClassification model from a BertForSequenceClassification model).\n"
          ]
        },
        {
          "output_type": "stream",
          "name": "stdout",
          "text": [
            "Result for row 471: {'full_marks': 5.0, 'obtained_marks': None, 'strengths': [], 'areas_for_improvement': [], 'clarity_score': None, 'depth_score': None, 'final_marks_obtained': 0, 'feedback': None, 'student_word_count': 5, 'student_sentence_count': 12, 'plagiarism': False, 'average_score': 0, 'max_score': 0, 'max_score_url': '', 'AI_category': 'Human-written', 'AI_flag': False, 'AI_percentage': 41.91, 'AI_probabilities': {'Human-written': 0.5809158, 'AI-generated': 0.41908422}, 'reason': ''}\n",
            "Row 471 results saved to /content/drive/MyDrive/updated_results.xlsx\n",
            "Failed to fetch /search?num=12: /search?num=12\n",
            "Failed to fetch /search?num=12: /search?num=12\n",
            "Failed to fetch /search?num=12: /search?num=12\n",
            "Failed to fetch /search?num=12: /search?num=12\n",
            "Failed to fetch /search?num=12: /search?num=12\n",
            "Failed to fetch /search?num=12: /search?num=12\n",
            "Failed to fetch /search?num=12: /search?num=12\n",
            "Failed to fetch /search?num=12: /search?num=12\n",
            "Failed to fetch /search?num=12: /search?num=12\n",
            "Failed to fetch /search?num=12: /search?num=12\n",
            "Access denied for https://www.storminternet.co.uk/blog/building-resilient-systems-redundancy-and-failover-in-devops/\n",
            "Failed to fetch https://www.cybersecurityandlaw.com/pdf-142180-68336?filename=Network%20eavesdropping.pdf: Cannot connect to host www.cybersecurityandlaw.com:443 ssl:default [Name or service not known]\n",
            "Access denied for https://fastercapital.com/topics/implementing-redundancy-and-failover-mechanisms.html\n",
            "Access denied for https://fastercapital.com/topics/implementing-redundancy-and-failover-measures.html\n",
            "Access denied for https://www.sciencedirect.com/topics/computer-science/modification-attack\n",
            "Access denied for https://www.cloudflare.com/learning/ddos/what-is-a-ddos-attack/\n",
            "Access denied for https://www.cloudflare.com/learning/ddos/what-is-a-ddos-attack/\n",
            "Access denied for https://www.cloudflare.com/learning/ddos/syn-flood-ddos-attack/\n",
            "Failed to fetch https://cs.baylor.edu/~donahoo/tools/sniffer/sniffingFAQ.htm: Cannot connect to host cs.baylor.edu:443 ssl:True [SSLCertVerificationError: (1, '[SSL: CERTIFICATE_VERIFY_FAILED] certificate verify failed: unable to get local issuer certificate (_ssl.c:1006)')]\n",
            "Failed to fetch https://octatco.com/bloge=24: Cannot connect to host octatco.com:443 ssl:True [SSLCertVerificationError: (1, '[SSL: CERTIFICATE_VERIFY_FAILED] certificate verify failed: unable to get local issuer certificate (_ssl.c:1006)')]\n",
            "Error processing row 472: \n",
            "Failed to fetch /search?num=12: /search?num=12\n",
            "Access denied for https://preyproject.com/blog/types-of-encryption-symmetric-or-asymmetric-rsa-or-aes\n",
            "Failed to fetch https://cisspmadeeasy.com/2024/02/28/encryption-algorithm-types-and-modes/: Server disconnected\n",
            "Access denied for https://www.researchgate.net/profile/Allam-Mousa/publication/26621365_Evaluation_of_the_RC4_Algorithm_for_Data_Encryption/links/0912f50af2f981277b000000/Evaluation-of-the-RC4-Algorithm-for-Data-Encryption.pdf\n",
            "Failed to fetch https://people.computing.clemson.edu/~jmarty/courses/commonCourseContent/AdvancedModule-SecurityConceptsAndApplicationToLinux/RC4ALGORITHM-Stallings.pdf: Cannot connect to host people.computing.clemson.edu:443 ssl:True [SSLCertVerificationError: (1, '[SSL: CERTIFICATE_VERIFY_FAILED] certificate verify failed: unable to get local issuer certificate (_ssl.c:1006)')]\n"
          ]
        },
        {
          "output_type": "stream",
          "name": "stderr",
          "text": [
            "Some weights of the model checkpoint at roberta-base-openai-detector were not used when initializing RobertaForSequenceClassification: ['roberta.pooler.dense.bias', 'roberta.pooler.dense.weight']\n",
            "- This IS expected if you are initializing RobertaForSequenceClassification from the checkpoint of a model trained on another task or with another architecture (e.g. initializing a BertForSequenceClassification model from a BertForPreTraining model).\n",
            "- This IS NOT expected if you are initializing RobertaForSequenceClassification from the checkpoint of a model that you expect to be exactly identical (initializing a BertForSequenceClassification model from a BertForSequenceClassification model).\n"
          ]
        },
        {
          "output_type": "stream",
          "name": "stdout",
          "text": [
            "Result for row 473: {'full_marks': 2.0, 'obtained_marks': 2.0, 'strengths': ['Your answer is clear and easy to understand.', 'You have given relevant examples to illustrate your points.'], 'areas_for_improvement': ['You could have given more depth to your explanation.', 'You could have provided more examples to illustrate your points.'], 'clarity_score': 9.0, 'depth_score': 7.0, 'final_marks_obtained': 1, 'feedback': 'Good job! You have given a clear and relevant answer to the question. Your answer is complete and covers all the points mentioned in the question. However, you could have given more depth to your explanation.', 'student_word_count': 40, 'student_sentence_count': 4, 'plagiarism': True, 'average_score': 37.5, 'max_score': 37.5, 'max_score_url': 'https://www.studysmarter.co.uk/explanations/computer-science/cybersecurity-in-computer-science/stream-ciphers/', 'AI_category': 'AI-generated', 'AI_flag': True, 'AI_percentage': 95.58, 'AI_probabilities': {'Human-written': 0.044231918, 'AI-generated': 0.95576805}, 'reason': 'Penalty applied for plagiarism exceeding 30%; Penalty applied for AI detection exceeding 30%'}\n",
            "Row 473 results saved to /content/drive/MyDrive/updated_results.xlsx\n",
            "Failed to fetch /search?num=12: /search?num=12\n",
            "Failed to fetch /search?num=12: /search?num=12\n",
            "Failed to fetch /search?num=12: /search?num=12\n",
            "Access denied for https://www.reddit.com/r/Database/comments/oaffk2/best_practices_for_storing_passwords_in_database/\n",
            "Error processing row 474: \n",
            "Failed to fetch : \n",
            "Failed to fetch : \n",
            "Failed to fetch : \n",
            "Failed to fetch : \n",
            "Failed to fetch : \n",
            "Failed to fetch : \n",
            "Failed to fetch : \n",
            "Failed to fetch : \n",
            "Failed to fetch : \n",
            "Failed to fetch : \n"
          ]
        },
        {
          "output_type": "stream",
          "name": "stderr",
          "text": [
            "Some weights of the model checkpoint at roberta-base-openai-detector were not used when initializing RobertaForSequenceClassification: ['roberta.pooler.dense.bias', 'roberta.pooler.dense.weight']\n",
            "- This IS expected if you are initializing RobertaForSequenceClassification from the checkpoint of a model trained on another task or with another architecture (e.g. initializing a BertForSequenceClassification model from a BertForPreTraining model).\n",
            "- This IS NOT expected if you are initializing RobertaForSequenceClassification from the checkpoint of a model that you expect to be exactly identical (initializing a BertForSequenceClassification model from a BertForSequenceClassification model).\n"
          ]
        },
        {
          "output_type": "stream",
          "name": "stdout",
          "text": [
            "Result for row 475: {'full_marks': 2.0, 'obtained_marks': 2.0, 'strengths': ['Correctness of answer', 'Ease of understanding', 'Completeness of the code'], 'areas_for_improvement': ['Error handling and input validation', 'Adding comments explaining the code'], 'clarity_score': 8.0, 'depth_score': 6.0, 'final_marks_obtained': 1, 'feedback': 'The solution is correct. The code is complete and easy to understand. The code can be made more robust by adding error handling and input validation. The depth score could be improved by adding comments explaining the code.', 'student_word_count': 1, 'student_sentence_count': 0, 'plagiarism': False, 'average_score': 0, 'max_score': 0, 'max_score_url': '', 'AI_category': 'Human-written', 'AI_flag': False, 'AI_percentage': 50.37, 'AI_probabilities': {'Human-written': 0.49627432, 'AI-generated': 0.5037257}, 'reason': ''}\n",
            "Row 475 results saved to /content/drive/MyDrive/updated_results.xlsx\n",
            "Failed to fetch /search?num=12: /search?num=12\n"
          ]
        },
        {
          "output_type": "stream",
          "name": "stderr",
          "text": [
            "Some weights of the model checkpoint at roberta-base-openai-detector were not used when initializing RobertaForSequenceClassification: ['roberta.pooler.dense.bias', 'roberta.pooler.dense.weight']\n",
            "- This IS expected if you are initializing RobertaForSequenceClassification from the checkpoint of a model trained on another task or with another architecture (e.g. initializing a BertForSequenceClassification model from a BertForPreTraining model).\n",
            "- This IS NOT expected if you are initializing RobertaForSequenceClassification from the checkpoint of a model that you expect to be exactly identical (initializing a BertForSequenceClassification model from a BertForSequenceClassification model).\n"
          ]
        },
        {
          "output_type": "stream",
          "name": "stdout",
          "text": [
            "Result for row 476: {'full_marks': 2.0, 'obtained_marks': 2.0, 'strengths': ['The decrypted text is correct.'], 'areas_for_improvement': ['The explanation is not very clear and lacks depth. The answer could be improved by providing more information about the Caesar Cipher and how to decrypt it. Additionally', 'the clarity score could be improved by explaining the steps taken to arrive at the answer.'], 'clarity_score': 7.0, 'depth_score': 6.0, 'final_marks_obtained': 1, 'feedback': 'The decrypted text is correct. However, the explanation is not very clear and lacks depth. The answer could be improved by providing more information about the Caesar Cipher and how to decrypt it. Additionally, the clarity score could be improved by explaining the steps taken to arrive at the answer. The depth score could be improved by providing more information about the Caesar Cipher and how it works.', 'student_word_count': 2, 'student_sentence_count': 0, 'plagiarism': False, 'average_score': 0, 'max_score': 0, 'max_score_url': '', 'AI_category': 'Human-written', 'AI_flag': False, 'AI_percentage': 14.5, 'AI_probabilities': {'Human-written': 0.8549922, 'AI-generated': 0.14500785}, 'reason': ''}\n",
            "Row 476 results saved to /content/drive/MyDrive/updated_results.xlsx\n",
            "Access denied for https://open.spotify.com/artist/2Dor6diK1zw9BEluKBOdoA\n"
          ]
        },
        {
          "output_type": "stream",
          "name": "stderr",
          "text": [
            "Some weights of the model checkpoint at roberta-base-openai-detector were not used when initializing RobertaForSequenceClassification: ['roberta.pooler.dense.bias', 'roberta.pooler.dense.weight']\n",
            "- This IS expected if you are initializing RobertaForSequenceClassification from the checkpoint of a model trained on another task or with another architecture (e.g. initializing a BertForSequenceClassification model from a BertForPreTraining model).\n",
            "- This IS NOT expected if you are initializing RobertaForSequenceClassification from the checkpoint of a model that you expect to be exactly identical (initializing a BertForSequenceClassification model from a BertForSequenceClassification model).\n"
          ]
        },
        {
          "output_type": "stream",
          "name": "stdout",
          "text": [
            "Result for row 477: {'full_marks': 4.0, 'obtained_marks': 4.0, 'strengths': ['Correct answer', 'Clarity of explanation'], 'areas_for_improvement': ['Depth of explanation'], 'clarity_score': 9.0, 'depth_score': 7.0, 'final_marks_obtained': 3, 'feedback': 'Good job! The answer is correct and complete. You have provided a clear and relevant explanation. However, you could improve the depth of your answer by providing more details about the RSA algorithm.', 'student_word_count': 1, 'student_sentence_count': 0, 'plagiarism': False, 'average_score': 0, 'max_score': 0, 'max_score_url': '', 'AI_category': 'Human-written', 'AI_flag': False, 'AI_percentage': 0.12, 'AI_probabilities': {'Human-written': 0.99879324, 'AI-generated': 0.0012067063}, 'reason': ''}\n",
            "Row 477 results saved to /content/drive/MyDrive/updated_results.xlsx\n"
          ]
        },
        {
          "output_type": "stream",
          "name": "stderr",
          "text": [
            "Some weights of the model checkpoint at roberta-base-openai-detector were not used when initializing RobertaForSequenceClassification: ['roberta.pooler.dense.bias', 'roberta.pooler.dense.weight']\n",
            "- This IS expected if you are initializing RobertaForSequenceClassification from the checkpoint of a model trained on another task or with another architecture (e.g. initializing a BertForSequenceClassification model from a BertForPreTraining model).\n",
            "- This IS NOT expected if you are initializing RobertaForSequenceClassification from the checkpoint of a model that you expect to be exactly identical (initializing a BertForSequenceClassification model from a BertForSequenceClassification model).\n"
          ]
        },
        {
          "output_type": "stream",
          "name": "stdout",
          "text": [
            "Result for row 478: {'full_marks': 0, 'obtained_marks': 9.0, 'strengths': ['Correct answer', 'Good depth', 'Good clarity'], 'areas_for_improvement': ['Add more depth to your answer'], 'clarity_score': 8.0, 'depth_score': 6.0, 'final_marks_obtained': 0, 'feedback': 'Good job! Your answer is mostly correct and complete. You could have provided more depth to your explanation. The clarity score is 8 and the depth score is 6.', 'student_word_count': 0, 'student_sentence_count': 0, 'plagiarism': False, 'average_score': 0, 'max_score': 0, 'max_score_url': '', 'AI_category': 'Human-written', 'AI_flag': False, 'AI_percentage': 0.09, 'AI_probabilities': {'Human-written': 0.9990896, 'AI-generated': 0.00091043336}, 'reason': ''}\n",
            "Row 478 results saved to /content/drive/MyDrive/updated_results.xlsx\n",
            "Failed to fetch /search?q=OSI+--%3E+(open+system+interconnection+model)+%0Ait+has+7+layers+which+categories+entire+networking+infra+into+7+layers+for+proper+understanding+of+entire+infra+and+troubleshoot%0Ait+is+just+theoretical+model+not+practical+due+to+it's+complexity+in+implementation%0Ait+is+protocol+independent+model+each+layer+just+describes+what+to+do+not+how+to+do+%0Alayer+include+-%3E+1.+physical+layer+-%3E+2.+data+link+layer+-%3E+3.+network+layer+-%3E+4.+transport+layer+-%3E+5.+session+layer+-%3E+6.+presentation+layer+-%3E+7.+application+layer%0Atcp/ip+model+-%3E+%0Ait+has+just+4+layers+to+describe+the+internet+infra%0Ait+is+more+practically+used+i.e.&num=12&safe=active&sca_esv=ef12aeaa4e0d65bc&hl=en&ie=UTF-8&filter=0: /search?q=OSI+--%3E+(open+system+interconnection+model)+%0Ait+has+7+layers+which+categories+entire+networking+infra+into+7+layers+for+proper+understanding+of+entire+infra+and+troubleshoot%0Ait+is+just+theoretical+model+not+practical+due+to+it's+complexity+in+implementation%0Ait+is+protocol+independent+model+each+layer+just+describes+what+to+do+not+how+to+do+%0Alayer+include+-%3E+1.+physical+layer+-%3E+2.+data+link+layer+-%3E+3.+network+layer+-%3E+4.+transport+layer+-%3E+5.+session+layer+-%3E+6.+presentation+layer+-%3E+7.+application+layer%0Atcp/ip+model+-%3E+%0Ait+has+just+4+layers+to+describe+the+internet+infra%0Ait+is+more+practically+used+i.e.&num=12&safe=active&sca_esv=ef12aeaa4e0d65bc&hl=en&ie=UTF-8&filter=0\n",
            "Access denied for https://www.bigrentz.com/blog/types-of-infrastructure?srsltid=AfmBOopc4ZO8UwSCyp5awzSYJmszWBPSsuxTIXrYlMQVtG8i-5icY36-\n",
            "Access denied for https://datadome.co/guides/ddos/7-layers-osi-model/\n",
            "Access denied for https://datadome.co/guides/ddos/7-layers-osi-model/\n",
            "Error processing row 479: \n",
            "Access denied for https://www.reddit.com/r/ccna/comments/1e0c1vh/network_and_broadcast/\n",
            "Access denied for https://brainly.com/question/33405972\n",
            "Access denied for https://brainly.com/question/32787504\n"
          ]
        },
        {
          "output_type": "stream",
          "name": "stderr",
          "text": [
            "Some weights of the model checkpoint at roberta-base-openai-detector were not used when initializing RobertaForSequenceClassification: ['roberta.pooler.dense.bias', 'roberta.pooler.dense.weight']\n",
            "- This IS expected if you are initializing RobertaForSequenceClassification from the checkpoint of a model trained on another task or with another architecture (e.g. initializing a BertForSequenceClassification model from a BertForPreTraining model).\n",
            "- This IS NOT expected if you are initializing RobertaForSequenceClassification from the checkpoint of a model that you expect to be exactly identical (initializing a BertForSequenceClassification model from a BertForSequenceClassification model).\n"
          ]
        },
        {
          "output_type": "stream",
          "name": "stdout",
          "text": [
            "Result for row 480: {'full_marks': 5.0, 'obtained_marks': 5.0, 'strengths': ['Correctness of answer', 'Relevance of answer'], 'areas_for_improvement': ['Clarity score could be improved'], 'clarity_score': 9.0, 'depth_score': 8.0, 'final_marks_obtained': 4, 'feedback': 'Overall feedback: Good job! Your answer was correct, complete and relevant. The clarity and depth scores are 9 and 8 respectively. Keep up the good work!', 'student_word_count': 31, 'student_sentence_count': 6, 'plagiarism': False, 'average_score': 0, 'max_score': 0, 'max_score_url': '', 'AI_category': 'Human-written', 'AI_flag': False, 'AI_percentage': 27.31, 'AI_probabilities': {'Human-written': 0.726868, 'AI-generated': 0.27313203}, 'reason': ''}\n",
            "Row 480 results saved to /content/drive/MyDrive/updated_results.xlsx\n",
            "Failed to fetch /search?num=12: /search?num=12\n"
          ]
        },
        {
          "output_type": "stream",
          "name": "stderr",
          "text": [
            "Some weights of the model checkpoint at roberta-base-openai-detector were not used when initializing RobertaForSequenceClassification: ['roberta.pooler.dense.bias', 'roberta.pooler.dense.weight']\n",
            "- This IS expected if you are initializing RobertaForSequenceClassification from the checkpoint of a model trained on another task or with another architecture (e.g. initializing a BertForSequenceClassification model from a BertForPreTraining model).\n",
            "- This IS NOT expected if you are initializing RobertaForSequenceClassification from the checkpoint of a model that you expect to be exactly identical (initializing a BertForSequenceClassification model from a BertForSequenceClassification model).\n"
          ]
        },
        {
          "output_type": "stream",
          "name": "stdout",
          "text": [
            "Result for row 481: {'full_marks': 4.0, 'obtained_marks': 4.0, 'strengths': ['Explanation is correct and complete.'], 'areas_for_improvement': ['You could have provided more examples to make your answer more comprehensive.'], 'clarity_score': 7.0, 'depth_score': 7.0, 'final_marks_obtained': 2, 'feedback': \"Good job! You've covered all the points. However, you could have provided more examples. The explanation could have been a bit more detailed. Your overall clarity score is 7 out of 10.\", 'student_word_count': 74, 'student_sentence_count': 0, 'plagiarism': False, 'average_score': 0, 'max_score': 0, 'max_score_url': '', 'AI_category': 'AI-generated', 'AI_flag': True, 'AI_percentage': 99.85, 'AI_probabilities': {'Human-written': 0.0015400391, 'AI-generated': 0.99845994}, 'reason': 'Penalty applied for AI detection exceeding 30%'}\n",
            "Row 481 results saved to /content/drive/MyDrive/updated_results.xlsx\n"
          ]
        }
      ],
      "source": [
        "\n",
        "import asyncio\n",
        "import pandas as pd\n",
        "\n",
        "# Function to convert values to string, except final_marks_obtained and full_marks\n",
        "def convert_to_string(value, column_name):\n",
        "    if column_name == \"final_marks_obtained\":\n",
        "        # Ensure final_marks_obtained is an integer, set to 0 if invalid\n",
        "        if pd.isna(value) or not isinstance(value, (int, float)):\n",
        "            return 0\n",
        "        return int(value)  # Forcefully convert to int\n",
        "    elif column_name == \"full_marks\":\n",
        "        # Ensure full_marks is a float, set to 0 if invalid\n",
        "        if pd.isna(value) or not isinstance(value, (int, float)):\n",
        "            return 0.0\n",
        "        return float(value)  # Forcefully convert to float\n",
        "    elif isinstance(value, (float, int)):\n",
        "        return str(value)  # Convert numbers to string\n",
        "    return str(value)  # Convert any other type to string\n",
        "\n",
        "async def process_multiple_questions(excel_file_path, start_row=10):\n",
        "    try:\n",
        "        # Read the Excel file into a DataFrame\n",
        "        df = pd.read_excel(excel_file_path)\n",
        "        print(\"Excel file loaded successfully.\")\n",
        "\n",
        "        # Ensure all required columns are present\n",
        "        required_columns = ['registration_no', 'roll_no', 'student_name', 'allowed_class',\n",
        "                            'question_id', 'question_text', 'full_marks', 'student_answer', 'obtained_marks']\n",
        "        missing_columns = [col for col in required_columns if col not in df.columns]\n",
        "        if missing_columns:\n",
        "            raise ValueError(f\"Missing required columns: {', '.join(missing_columns)}\")\n",
        "\n",
        "        # Define the columns from the result data dictionary to be added\n",
        "        result_columns = [\n",
        "            \"full_marks\", \"obtained_marks\", \"strengths\", \"areas_for_improvement\", \"clarity_score\",\n",
        "            \"depth_score\", \"final_marks_obtained\", \"feedback\", \"student_word_count\", \"student_sentence_count\",\n",
        "            \"plagiarism\", \"average_score\", \"max_score\", \"max_score_url\", \"AI_category\", \"AI_flag\",\n",
        "            \"AI_percentage\", \"AI_probabilities\", \"reason\"\n",
        "        ]\n",
        "\n",
        "        # Ensure these columns are in the DataFrame\n",
        "        for col in result_columns:\n",
        "            if col not in df.columns:\n",
        "                df[col] = None\n",
        "\n",
        "        # Iterate through each row starting from the specified start_row\n",
        "        for index, row in df.iloc[start_row-1:].iterrows():  # Start from the 10th row (index 9)\n",
        "            # Forcefully convert question_text and student_answer to string and handle nulls\n",
        "            question = str(row[\"question_text\"]) if pd.notna(row[\"question_text\"]) else \"\"\n",
        "            student_answer = str(row[\"student_answer\"]) if pd.notna(row[\"student_answer\"]) else \"\"\n",
        "\n",
        "            # Ensure full_marks is a float, handle float32 or other types, and set invalid marks to 0\n",
        "            try:\n",
        "                if pd.notna(row[\"full_marks\"]):\n",
        "                    full_marks = float(row[\"full_marks\"])  # Convert to float\n",
        "                else:\n",
        "                    full_marks = 0.0\n",
        "            except (ValueError, TypeError):\n",
        "                full_marks = 0.0\n",
        "\n",
        "            try:\n",
        "                # Call GetData asynchronously and wait for the result\n",
        "                result = await GetData(question, student_answer, question, full_marks)\n",
        "\n",
        "                # Print the result received from GetData\n",
        "                print(f\"Result for row {index + 1}: {result}\")\n",
        "\n",
        "                # Add result data to the DataFrame (add the result columns)\n",
        "                for col in result_columns:\n",
        "                    # If the column exists in the result, assign its value, else set to None\n",
        "                    value = result.get(col, None)\n",
        "\n",
        "                    # Convert the value to string, except for final_marks_obtained and full_marks\n",
        "                    value = convert_to_string(value, col)\n",
        "\n",
        "                    # Assign the value to the corresponding column in the DataFrame\n",
        "                    df.at[index, col] = value\n",
        "\n",
        "                # Save the updated DataFrame after processing each row\n",
        "                output_file = \"/content/drive/MyDrive/updated_results.xlsx\"\n",
        "                df.to_excel(output_file, index=False)\n",
        "                print(f\"Row {index + 1} results saved to {output_file}\")\n",
        "\n",
        "            except Exception as e:\n",
        "                print(f\"Error processing row {index + 1}: {e}\")\n",
        "                continue  # Skip to next row\n",
        "\n",
        "    except Exception as e:\n",
        "        print(f\"Error reading or processing the Excel file: {e}\")\n",
        "\n",
        "\n",
        "# Run the function to process multiple questions\n",
        "# Run the function to process multiple questions\n",
        "async def main():\n",
        "    excel_file_path = \"/content/drive/MyDrive/cleaned_lsngjlxe_sses.xlsx\"  # Your Excel file path\n",
        "    start_row = 300  # Set the starting row to 10\n",
        "    await process_multiple_questions(excel_file_path, start_row)\n",
        "\n",
        "# Start the main function\n",
        "await main()\n"
      ]
    }
  ],
  "metadata": {
    "accelerator": "GPU",
    "colab": {
      "gpuType": "T4",
      "provenance": [],
      "include_colab_link": true
    },
    "kernelspec": {
      "display_name": "Python 3",
      "name": "python3"
    },
    "language_info": {
      "name": "python"
    },
    "widgets": {
      "application/vnd.jupyter.widget-state+json": {
        "4da70ae3246146d081a569c727ed88f7": {
          "model_module": "@jupyter-widgets/controls",
          "model_name": "HBoxModel",
          "model_module_version": "1.5.0",
          "state": {
            "_dom_classes": [],
            "_model_module": "@jupyter-widgets/controls",
            "_model_module_version": "1.5.0",
            "_model_name": "HBoxModel",
            "_view_count": null,
            "_view_module": "@jupyter-widgets/controls",
            "_view_module_version": "1.5.0",
            "_view_name": "HBoxView",
            "box_style": "",
            "children": [
              "IPY_MODEL_ed72bac70b9a472f88b0c8011c9aadcd",
              "IPY_MODEL_ca77971bf2c0438eb7f33c248bd6cb9a",
              "IPY_MODEL_6a94a680008049a7831ab2c50406165f"
            ],
            "layout": "IPY_MODEL_fda05352fc9349ed964452ab2a82b1fb"
          }
        },
        "ed72bac70b9a472f88b0c8011c9aadcd": {
          "model_module": "@jupyter-widgets/controls",
          "model_name": "HTMLModel",
          "model_module_version": "1.5.0",
          "state": {
            "_dom_classes": [],
            "_model_module": "@jupyter-widgets/controls",
            "_model_module_version": "1.5.0",
            "_model_name": "HTMLModel",
            "_view_count": null,
            "_view_module": "@jupyter-widgets/controls",
            "_view_module_version": "1.5.0",
            "_view_name": "HTMLView",
            "description": "",
            "description_tooltip": null,
            "layout": "IPY_MODEL_cc9ef1b987a84a08ae13e3cf9b9827c1",
            "placeholder": "​",
            "style": "IPY_MODEL_0f5d1d549abd45549a47ba97c5a1b44b",
            "value": "tokenizer_config.json: 100%"
          }
        },
        "ca77971bf2c0438eb7f33c248bd6cb9a": {
          "model_module": "@jupyter-widgets/controls",
          "model_name": "FloatProgressModel",
          "model_module_version": "1.5.0",
          "state": {
            "_dom_classes": [],
            "_model_module": "@jupyter-widgets/controls",
            "_model_module_version": "1.5.0",
            "_model_name": "FloatProgressModel",
            "_view_count": null,
            "_view_module": "@jupyter-widgets/controls",
            "_view_module_version": "1.5.0",
            "_view_name": "ProgressView",
            "bar_style": "success",
            "description": "",
            "description_tooltip": null,
            "layout": "IPY_MODEL_222f5588fe2a4d278fba6bd771cd56c7",
            "max": 25,
            "min": 0,
            "orientation": "horizontal",
            "style": "IPY_MODEL_603804d46a6443a0a952f94320499b9a",
            "value": 25
          }
        },
        "6a94a680008049a7831ab2c50406165f": {
          "model_module": "@jupyter-widgets/controls",
          "model_name": "HTMLModel",
          "model_module_version": "1.5.0",
          "state": {
            "_dom_classes": [],
            "_model_module": "@jupyter-widgets/controls",
            "_model_module_version": "1.5.0",
            "_model_name": "HTMLModel",
            "_view_count": null,
            "_view_module": "@jupyter-widgets/controls",
            "_view_module_version": "1.5.0",
            "_view_name": "HTMLView",
            "description": "",
            "description_tooltip": null,
            "layout": "IPY_MODEL_1502cffac2e74a17ab89efdce4cf33dd",
            "placeholder": "​",
            "style": "IPY_MODEL_0e2353114fd146acb551afdbda53003a",
            "value": " 25.0/25.0 [00:00&lt;00:00, 1.57kB/s]"
          }
        },
        "fda05352fc9349ed964452ab2a82b1fb": {
          "model_module": "@jupyter-widgets/base",
          "model_name": "LayoutModel",
          "model_module_version": "1.2.0",
          "state": {
            "_model_module": "@jupyter-widgets/base",
            "_model_module_version": "1.2.0",
            "_model_name": "LayoutModel",
            "_view_count": null,
            "_view_module": "@jupyter-widgets/base",
            "_view_module_version": "1.2.0",
            "_view_name": "LayoutView",
            "align_content": null,
            "align_items": null,
            "align_self": null,
            "border": null,
            "bottom": null,
            "display": null,
            "flex": null,
            "flex_flow": null,
            "grid_area": null,
            "grid_auto_columns": null,
            "grid_auto_flow": null,
            "grid_auto_rows": null,
            "grid_column": null,
            "grid_gap": null,
            "grid_row": null,
            "grid_template_areas": null,
            "grid_template_columns": null,
            "grid_template_rows": null,
            "height": null,
            "justify_content": null,
            "justify_items": null,
            "left": null,
            "margin": null,
            "max_height": null,
            "max_width": null,
            "min_height": null,
            "min_width": null,
            "object_fit": null,
            "object_position": null,
            "order": null,
            "overflow": null,
            "overflow_x": null,
            "overflow_y": null,
            "padding": null,
            "right": null,
            "top": null,
            "visibility": null,
            "width": null
          }
        },
        "cc9ef1b987a84a08ae13e3cf9b9827c1": {
          "model_module": "@jupyter-widgets/base",
          "model_name": "LayoutModel",
          "model_module_version": "1.2.0",
          "state": {
            "_model_module": "@jupyter-widgets/base",
            "_model_module_version": "1.2.0",
            "_model_name": "LayoutModel",
            "_view_count": null,
            "_view_module": "@jupyter-widgets/base",
            "_view_module_version": "1.2.0",
            "_view_name": "LayoutView",
            "align_content": null,
            "align_items": null,
            "align_self": null,
            "border": null,
            "bottom": null,
            "display": null,
            "flex": null,
            "flex_flow": null,
            "grid_area": null,
            "grid_auto_columns": null,
            "grid_auto_flow": null,
            "grid_auto_rows": null,
            "grid_column": null,
            "grid_gap": null,
            "grid_row": null,
            "grid_template_areas": null,
            "grid_template_columns": null,
            "grid_template_rows": null,
            "height": null,
            "justify_content": null,
            "justify_items": null,
            "left": null,
            "margin": null,
            "max_height": null,
            "max_width": null,
            "min_height": null,
            "min_width": null,
            "object_fit": null,
            "object_position": null,
            "order": null,
            "overflow": null,
            "overflow_x": null,
            "overflow_y": null,
            "padding": null,
            "right": null,
            "top": null,
            "visibility": null,
            "width": null
          }
        },
        "0f5d1d549abd45549a47ba97c5a1b44b": {
          "model_module": "@jupyter-widgets/controls",
          "model_name": "DescriptionStyleModel",
          "model_module_version": "1.5.0",
          "state": {
            "_model_module": "@jupyter-widgets/controls",
            "_model_module_version": "1.5.0",
            "_model_name": "DescriptionStyleModel",
            "_view_count": null,
            "_view_module": "@jupyter-widgets/base",
            "_view_module_version": "1.2.0",
            "_view_name": "StyleView",
            "description_width": ""
          }
        },
        "222f5588fe2a4d278fba6bd771cd56c7": {
          "model_module": "@jupyter-widgets/base",
          "model_name": "LayoutModel",
          "model_module_version": "1.2.0",
          "state": {
            "_model_module": "@jupyter-widgets/base",
            "_model_module_version": "1.2.0",
            "_model_name": "LayoutModel",
            "_view_count": null,
            "_view_module": "@jupyter-widgets/base",
            "_view_module_version": "1.2.0",
            "_view_name": "LayoutView",
            "align_content": null,
            "align_items": null,
            "align_self": null,
            "border": null,
            "bottom": null,
            "display": null,
            "flex": null,
            "flex_flow": null,
            "grid_area": null,
            "grid_auto_columns": null,
            "grid_auto_flow": null,
            "grid_auto_rows": null,
            "grid_column": null,
            "grid_gap": null,
            "grid_row": null,
            "grid_template_areas": null,
            "grid_template_columns": null,
            "grid_template_rows": null,
            "height": null,
            "justify_content": null,
            "justify_items": null,
            "left": null,
            "margin": null,
            "max_height": null,
            "max_width": null,
            "min_height": null,
            "min_width": null,
            "object_fit": null,
            "object_position": null,
            "order": null,
            "overflow": null,
            "overflow_x": null,
            "overflow_y": null,
            "padding": null,
            "right": null,
            "top": null,
            "visibility": null,
            "width": null
          }
        },
        "603804d46a6443a0a952f94320499b9a": {
          "model_module": "@jupyter-widgets/controls",
          "model_name": "ProgressStyleModel",
          "model_module_version": "1.5.0",
          "state": {
            "_model_module": "@jupyter-widgets/controls",
            "_model_module_version": "1.5.0",
            "_model_name": "ProgressStyleModel",
            "_view_count": null,
            "_view_module": "@jupyter-widgets/base",
            "_view_module_version": "1.2.0",
            "_view_name": "StyleView",
            "bar_color": null,
            "description_width": ""
          }
        },
        "1502cffac2e74a17ab89efdce4cf33dd": {
          "model_module": "@jupyter-widgets/base",
          "model_name": "LayoutModel",
          "model_module_version": "1.2.0",
          "state": {
            "_model_module": "@jupyter-widgets/base",
            "_model_module_version": "1.2.0",
            "_model_name": "LayoutModel",
            "_view_count": null,
            "_view_module": "@jupyter-widgets/base",
            "_view_module_version": "1.2.0",
            "_view_name": "LayoutView",
            "align_content": null,
            "align_items": null,
            "align_self": null,
            "border": null,
            "bottom": null,
            "display": null,
            "flex": null,
            "flex_flow": null,
            "grid_area": null,
            "grid_auto_columns": null,
            "grid_auto_flow": null,
            "grid_auto_rows": null,
            "grid_column": null,
            "grid_gap": null,
            "grid_row": null,
            "grid_template_areas": null,
            "grid_template_columns": null,
            "grid_template_rows": null,
            "height": null,
            "justify_content": null,
            "justify_items": null,
            "left": null,
            "margin": null,
            "max_height": null,
            "max_width": null,
            "min_height": null,
            "min_width": null,
            "object_fit": null,
            "object_position": null,
            "order": null,
            "overflow": null,
            "overflow_x": null,
            "overflow_y": null,
            "padding": null,
            "right": null,
            "top": null,
            "visibility": null,
            "width": null
          }
        },
        "0e2353114fd146acb551afdbda53003a": {
          "model_module": "@jupyter-widgets/controls",
          "model_name": "DescriptionStyleModel",
          "model_module_version": "1.5.0",
          "state": {
            "_model_module": "@jupyter-widgets/controls",
            "_model_module_version": "1.5.0",
            "_model_name": "DescriptionStyleModel",
            "_view_count": null,
            "_view_module": "@jupyter-widgets/base",
            "_view_module_version": "1.2.0",
            "_view_name": "StyleView",
            "description_width": ""
          }
        },
        "3b3d342fc7cd42bcabaf4a7f884a1643": {
          "model_module": "@jupyter-widgets/controls",
          "model_name": "HBoxModel",
          "model_module_version": "1.5.0",
          "state": {
            "_dom_classes": [],
            "_model_module": "@jupyter-widgets/controls",
            "_model_module_version": "1.5.0",
            "_model_name": "HBoxModel",
            "_view_count": null,
            "_view_module": "@jupyter-widgets/controls",
            "_view_module_version": "1.5.0",
            "_view_name": "HBoxView",
            "box_style": "",
            "children": [
              "IPY_MODEL_1a0c8466d4394cadaca7aa5a8a26e612",
              "IPY_MODEL_12dbff2db50242ca9c9f040f7cd4c852",
              "IPY_MODEL_13174df550c24f90b72bbd06f337f468"
            ],
            "layout": "IPY_MODEL_1e2eafc17e5b43f5a789b678e262c973"
          }
        },
        "1a0c8466d4394cadaca7aa5a8a26e612": {
          "model_module": "@jupyter-widgets/controls",
          "model_name": "HTMLModel",
          "model_module_version": "1.5.0",
          "state": {
            "_dom_classes": [],
            "_model_module": "@jupyter-widgets/controls",
            "_model_module_version": "1.5.0",
            "_model_name": "HTMLModel",
            "_view_count": null,
            "_view_module": "@jupyter-widgets/controls",
            "_view_module_version": "1.5.0",
            "_view_name": "HTMLView",
            "description": "",
            "description_tooltip": null,
            "layout": "IPY_MODEL_ffca174169d442ec9a8477daa61264ea",
            "placeholder": "​",
            "style": "IPY_MODEL_12f99544bb1d46f7a9249c12b2938b8f",
            "value": "config.json: 100%"
          }
        },
        "12dbff2db50242ca9c9f040f7cd4c852": {
          "model_module": "@jupyter-widgets/controls",
          "model_name": "FloatProgressModel",
          "model_module_version": "1.5.0",
          "state": {
            "_dom_classes": [],
            "_model_module": "@jupyter-widgets/controls",
            "_model_module_version": "1.5.0",
            "_model_name": "FloatProgressModel",
            "_view_count": null,
            "_view_module": "@jupyter-widgets/controls",
            "_view_module_version": "1.5.0",
            "_view_name": "ProgressView",
            "bar_style": "success",
            "description": "",
            "description_tooltip": null,
            "layout": "IPY_MODEL_29ba6021520847848a55328ba5a89de9",
            "max": 624,
            "min": 0,
            "orientation": "horizontal",
            "style": "IPY_MODEL_4376a334b3b64941a5b8416650e0f5b8",
            "value": 624
          }
        },
        "13174df550c24f90b72bbd06f337f468": {
          "model_module": "@jupyter-widgets/controls",
          "model_name": "HTMLModel",
          "model_module_version": "1.5.0",
          "state": {
            "_dom_classes": [],
            "_model_module": "@jupyter-widgets/controls",
            "_model_module_version": "1.5.0",
            "_model_name": "HTMLModel",
            "_view_count": null,
            "_view_module": "@jupyter-widgets/controls",
            "_view_module_version": "1.5.0",
            "_view_name": "HTMLView",
            "description": "",
            "description_tooltip": null,
            "layout": "IPY_MODEL_cd139441605143028d62ffa56313a7bb",
            "placeholder": "​",
            "style": "IPY_MODEL_4fc9e3df4f9e4a7c8cc81fff1caf913a",
            "value": " 624/624 [00:00&lt;00:00, 41.1kB/s]"
          }
        },
        "1e2eafc17e5b43f5a789b678e262c973": {
          "model_module": "@jupyter-widgets/base",
          "model_name": "LayoutModel",
          "model_module_version": "1.2.0",
          "state": {
            "_model_module": "@jupyter-widgets/base",
            "_model_module_version": "1.2.0",
            "_model_name": "LayoutModel",
            "_view_count": null,
            "_view_module": "@jupyter-widgets/base",
            "_view_module_version": "1.2.0",
            "_view_name": "LayoutView",
            "align_content": null,
            "align_items": null,
            "align_self": null,
            "border": null,
            "bottom": null,
            "display": null,
            "flex": null,
            "flex_flow": null,
            "grid_area": null,
            "grid_auto_columns": null,
            "grid_auto_flow": null,
            "grid_auto_rows": null,
            "grid_column": null,
            "grid_gap": null,
            "grid_row": null,
            "grid_template_areas": null,
            "grid_template_columns": null,
            "grid_template_rows": null,
            "height": null,
            "justify_content": null,
            "justify_items": null,
            "left": null,
            "margin": null,
            "max_height": null,
            "max_width": null,
            "min_height": null,
            "min_width": null,
            "object_fit": null,
            "object_position": null,
            "order": null,
            "overflow": null,
            "overflow_x": null,
            "overflow_y": null,
            "padding": null,
            "right": null,
            "top": null,
            "visibility": null,
            "width": null
          }
        },
        "ffca174169d442ec9a8477daa61264ea": {
          "model_module": "@jupyter-widgets/base",
          "model_name": "LayoutModel",
          "model_module_version": "1.2.0",
          "state": {
            "_model_module": "@jupyter-widgets/base",
            "_model_module_version": "1.2.0",
            "_model_name": "LayoutModel",
            "_view_count": null,
            "_view_module": "@jupyter-widgets/base",
            "_view_module_version": "1.2.0",
            "_view_name": "LayoutView",
            "align_content": null,
            "align_items": null,
            "align_self": null,
            "border": null,
            "bottom": null,
            "display": null,
            "flex": null,
            "flex_flow": null,
            "grid_area": null,
            "grid_auto_columns": null,
            "grid_auto_flow": null,
            "grid_auto_rows": null,
            "grid_column": null,
            "grid_gap": null,
            "grid_row": null,
            "grid_template_areas": null,
            "grid_template_columns": null,
            "grid_template_rows": null,
            "height": null,
            "justify_content": null,
            "justify_items": null,
            "left": null,
            "margin": null,
            "max_height": null,
            "max_width": null,
            "min_height": null,
            "min_width": null,
            "object_fit": null,
            "object_position": null,
            "order": null,
            "overflow": null,
            "overflow_x": null,
            "overflow_y": null,
            "padding": null,
            "right": null,
            "top": null,
            "visibility": null,
            "width": null
          }
        },
        "12f99544bb1d46f7a9249c12b2938b8f": {
          "model_module": "@jupyter-widgets/controls",
          "model_name": "DescriptionStyleModel",
          "model_module_version": "1.5.0",
          "state": {
            "_model_module": "@jupyter-widgets/controls",
            "_model_module_version": "1.5.0",
            "_model_name": "DescriptionStyleModel",
            "_view_count": null,
            "_view_module": "@jupyter-widgets/base",
            "_view_module_version": "1.2.0",
            "_view_name": "StyleView",
            "description_width": ""
          }
        },
        "29ba6021520847848a55328ba5a89de9": {
          "model_module": "@jupyter-widgets/base",
          "model_name": "LayoutModel",
          "model_module_version": "1.2.0",
          "state": {
            "_model_module": "@jupyter-widgets/base",
            "_model_module_version": "1.2.0",
            "_model_name": "LayoutModel",
            "_view_count": null,
            "_view_module": "@jupyter-widgets/base",
            "_view_module_version": "1.2.0",
            "_view_name": "LayoutView",
            "align_content": null,
            "align_items": null,
            "align_self": null,
            "border": null,
            "bottom": null,
            "display": null,
            "flex": null,
            "flex_flow": null,
            "grid_area": null,
            "grid_auto_columns": null,
            "grid_auto_flow": null,
            "grid_auto_rows": null,
            "grid_column": null,
            "grid_gap": null,
            "grid_row": null,
            "grid_template_areas": null,
            "grid_template_columns": null,
            "grid_template_rows": null,
            "height": null,
            "justify_content": null,
            "justify_items": null,
            "left": null,
            "margin": null,
            "max_height": null,
            "max_width": null,
            "min_height": null,
            "min_width": null,
            "object_fit": null,
            "object_position": null,
            "order": null,
            "overflow": null,
            "overflow_x": null,
            "overflow_y": null,
            "padding": null,
            "right": null,
            "top": null,
            "visibility": null,
            "width": null
          }
        },
        "4376a334b3b64941a5b8416650e0f5b8": {
          "model_module": "@jupyter-widgets/controls",
          "model_name": "ProgressStyleModel",
          "model_module_version": "1.5.0",
          "state": {
            "_model_module": "@jupyter-widgets/controls",
            "_model_module_version": "1.5.0",
            "_model_name": "ProgressStyleModel",
            "_view_count": null,
            "_view_module": "@jupyter-widgets/base",
            "_view_module_version": "1.2.0",
            "_view_name": "StyleView",
            "bar_color": null,
            "description_width": ""
          }
        },
        "cd139441605143028d62ffa56313a7bb": {
          "model_module": "@jupyter-widgets/base",
          "model_name": "LayoutModel",
          "model_module_version": "1.2.0",
          "state": {
            "_model_module": "@jupyter-widgets/base",
            "_model_module_version": "1.2.0",
            "_model_name": "LayoutModel",
            "_view_count": null,
            "_view_module": "@jupyter-widgets/base",
            "_view_module_version": "1.2.0",
            "_view_name": "LayoutView",
            "align_content": null,
            "align_items": null,
            "align_self": null,
            "border": null,
            "bottom": null,
            "display": null,
            "flex": null,
            "flex_flow": null,
            "grid_area": null,
            "grid_auto_columns": null,
            "grid_auto_flow": null,
            "grid_auto_rows": null,
            "grid_column": null,
            "grid_gap": null,
            "grid_row": null,
            "grid_template_areas": null,
            "grid_template_columns": null,
            "grid_template_rows": null,
            "height": null,
            "justify_content": null,
            "justify_items": null,
            "left": null,
            "margin": null,
            "max_height": null,
            "max_width": null,
            "min_height": null,
            "min_width": null,
            "object_fit": null,
            "object_position": null,
            "order": null,
            "overflow": null,
            "overflow_x": null,
            "overflow_y": null,
            "padding": null,
            "right": null,
            "top": null,
            "visibility": null,
            "width": null
          }
        },
        "4fc9e3df4f9e4a7c8cc81fff1caf913a": {
          "model_module": "@jupyter-widgets/controls",
          "model_name": "DescriptionStyleModel",
          "model_module_version": "1.5.0",
          "state": {
            "_model_module": "@jupyter-widgets/controls",
            "_model_module_version": "1.5.0",
            "_model_name": "DescriptionStyleModel",
            "_view_count": null,
            "_view_module": "@jupyter-widgets/base",
            "_view_module_version": "1.2.0",
            "_view_name": "StyleView",
            "description_width": ""
          }
        },
        "9aa30571920349c6b3ea2323d632a5f7": {
          "model_module": "@jupyter-widgets/controls",
          "model_name": "HBoxModel",
          "model_module_version": "1.5.0",
          "state": {
            "_dom_classes": [],
            "_model_module": "@jupyter-widgets/controls",
            "_model_module_version": "1.5.0",
            "_model_name": "HBoxModel",
            "_view_count": null,
            "_view_module": "@jupyter-widgets/controls",
            "_view_module_version": "1.5.0",
            "_view_name": "HBoxView",
            "box_style": "",
            "children": [
              "IPY_MODEL_b5a5b790c8124ed1ad46b6b695b1d5e9",
              "IPY_MODEL_1ee6b1564c0e473b9070faa779fe196e",
              "IPY_MODEL_3eb8b7a69dd04b0984671f8ac665065d"
            ],
            "layout": "IPY_MODEL_d49522be9b444fb98ecc962d0742d486"
          }
        },
        "b5a5b790c8124ed1ad46b6b695b1d5e9": {
          "model_module": "@jupyter-widgets/controls",
          "model_name": "HTMLModel",
          "model_module_version": "1.5.0",
          "state": {
            "_dom_classes": [],
            "_model_module": "@jupyter-widgets/controls",
            "_model_module_version": "1.5.0",
            "_model_name": "HTMLModel",
            "_view_count": null,
            "_view_module": "@jupyter-widgets/controls",
            "_view_module_version": "1.5.0",
            "_view_name": "HTMLView",
            "description": "",
            "description_tooltip": null,
            "layout": "IPY_MODEL_6929f4a98d0247c7b5e69b19a3bd69a0",
            "placeholder": "​",
            "style": "IPY_MODEL_039c1a93664f464eb89177bb840b5442",
            "value": "vocab.json: 100%"
          }
        },
        "1ee6b1564c0e473b9070faa779fe196e": {
          "model_module": "@jupyter-widgets/controls",
          "model_name": "FloatProgressModel",
          "model_module_version": "1.5.0",
          "state": {
            "_dom_classes": [],
            "_model_module": "@jupyter-widgets/controls",
            "_model_module_version": "1.5.0",
            "_model_name": "FloatProgressModel",
            "_view_count": null,
            "_view_module": "@jupyter-widgets/controls",
            "_view_module_version": "1.5.0",
            "_view_name": "ProgressView",
            "bar_style": "success",
            "description": "",
            "description_tooltip": null,
            "layout": "IPY_MODEL_2442e23d1253462f8d1c1ffa5776e736",
            "max": 898823,
            "min": 0,
            "orientation": "horizontal",
            "style": "IPY_MODEL_e54584374b804f1eb4fac7559d9e1829",
            "value": 898823
          }
        },
        "3eb8b7a69dd04b0984671f8ac665065d": {
          "model_module": "@jupyter-widgets/controls",
          "model_name": "HTMLModel",
          "model_module_version": "1.5.0",
          "state": {
            "_dom_classes": [],
            "_model_module": "@jupyter-widgets/controls",
            "_model_module_version": "1.5.0",
            "_model_name": "HTMLModel",
            "_view_count": null,
            "_view_module": "@jupyter-widgets/controls",
            "_view_module_version": "1.5.0",
            "_view_name": "HTMLView",
            "description": "",
            "description_tooltip": null,
            "layout": "IPY_MODEL_59a5881e9c8443509b9e9d7216f7a6d6",
            "placeholder": "​",
            "style": "IPY_MODEL_da248b6c45b24ce4957b7a3f4eb049be",
            "value": " 899k/899k [00:00&lt;00:00, 5.43MB/s]"
          }
        },
        "d49522be9b444fb98ecc962d0742d486": {
          "model_module": "@jupyter-widgets/base",
          "model_name": "LayoutModel",
          "model_module_version": "1.2.0",
          "state": {
            "_model_module": "@jupyter-widgets/base",
            "_model_module_version": "1.2.0",
            "_model_name": "LayoutModel",
            "_view_count": null,
            "_view_module": "@jupyter-widgets/base",
            "_view_module_version": "1.2.0",
            "_view_name": "LayoutView",
            "align_content": null,
            "align_items": null,
            "align_self": null,
            "border": null,
            "bottom": null,
            "display": null,
            "flex": null,
            "flex_flow": null,
            "grid_area": null,
            "grid_auto_columns": null,
            "grid_auto_flow": null,
            "grid_auto_rows": null,
            "grid_column": null,
            "grid_gap": null,
            "grid_row": null,
            "grid_template_areas": null,
            "grid_template_columns": null,
            "grid_template_rows": null,
            "height": null,
            "justify_content": null,
            "justify_items": null,
            "left": null,
            "margin": null,
            "max_height": null,
            "max_width": null,
            "min_height": null,
            "min_width": null,
            "object_fit": null,
            "object_position": null,
            "order": null,
            "overflow": null,
            "overflow_x": null,
            "overflow_y": null,
            "padding": null,
            "right": null,
            "top": null,
            "visibility": null,
            "width": null
          }
        },
        "6929f4a98d0247c7b5e69b19a3bd69a0": {
          "model_module": "@jupyter-widgets/base",
          "model_name": "LayoutModel",
          "model_module_version": "1.2.0",
          "state": {
            "_model_module": "@jupyter-widgets/base",
            "_model_module_version": "1.2.0",
            "_model_name": "LayoutModel",
            "_view_count": null,
            "_view_module": "@jupyter-widgets/base",
            "_view_module_version": "1.2.0",
            "_view_name": "LayoutView",
            "align_content": null,
            "align_items": null,
            "align_self": null,
            "border": null,
            "bottom": null,
            "display": null,
            "flex": null,
            "flex_flow": null,
            "grid_area": null,
            "grid_auto_columns": null,
            "grid_auto_flow": null,
            "grid_auto_rows": null,
            "grid_column": null,
            "grid_gap": null,
            "grid_row": null,
            "grid_template_areas": null,
            "grid_template_columns": null,
            "grid_template_rows": null,
            "height": null,
            "justify_content": null,
            "justify_items": null,
            "left": null,
            "margin": null,
            "max_height": null,
            "max_width": null,
            "min_height": null,
            "min_width": null,
            "object_fit": null,
            "object_position": null,
            "order": null,
            "overflow": null,
            "overflow_x": null,
            "overflow_y": null,
            "padding": null,
            "right": null,
            "top": null,
            "visibility": null,
            "width": null
          }
        },
        "039c1a93664f464eb89177bb840b5442": {
          "model_module": "@jupyter-widgets/controls",
          "model_name": "DescriptionStyleModel",
          "model_module_version": "1.5.0",
          "state": {
            "_model_module": "@jupyter-widgets/controls",
            "_model_module_version": "1.5.0",
            "_model_name": "DescriptionStyleModel",
            "_view_count": null,
            "_view_module": "@jupyter-widgets/base",
            "_view_module_version": "1.2.0",
            "_view_name": "StyleView",
            "description_width": ""
          }
        },
        "2442e23d1253462f8d1c1ffa5776e736": {
          "model_module": "@jupyter-widgets/base",
          "model_name": "LayoutModel",
          "model_module_version": "1.2.0",
          "state": {
            "_model_module": "@jupyter-widgets/base",
            "_model_module_version": "1.2.0",
            "_model_name": "LayoutModel",
            "_view_count": null,
            "_view_module": "@jupyter-widgets/base",
            "_view_module_version": "1.2.0",
            "_view_name": "LayoutView",
            "align_content": null,
            "align_items": null,
            "align_self": null,
            "border": null,
            "bottom": null,
            "display": null,
            "flex": null,
            "flex_flow": null,
            "grid_area": null,
            "grid_auto_columns": null,
            "grid_auto_flow": null,
            "grid_auto_rows": null,
            "grid_column": null,
            "grid_gap": null,
            "grid_row": null,
            "grid_template_areas": null,
            "grid_template_columns": null,
            "grid_template_rows": null,
            "height": null,
            "justify_content": null,
            "justify_items": null,
            "left": null,
            "margin": null,
            "max_height": null,
            "max_width": null,
            "min_height": null,
            "min_width": null,
            "object_fit": null,
            "object_position": null,
            "order": null,
            "overflow": null,
            "overflow_x": null,
            "overflow_y": null,
            "padding": null,
            "right": null,
            "top": null,
            "visibility": null,
            "width": null
          }
        },
        "e54584374b804f1eb4fac7559d9e1829": {
          "model_module": "@jupyter-widgets/controls",
          "model_name": "ProgressStyleModel",
          "model_module_version": "1.5.0",
          "state": {
            "_model_module": "@jupyter-widgets/controls",
            "_model_module_version": "1.5.0",
            "_model_name": "ProgressStyleModel",
            "_view_count": null,
            "_view_module": "@jupyter-widgets/base",
            "_view_module_version": "1.2.0",
            "_view_name": "StyleView",
            "bar_color": null,
            "description_width": ""
          }
        },
        "59a5881e9c8443509b9e9d7216f7a6d6": {
          "model_module": "@jupyter-widgets/base",
          "model_name": "LayoutModel",
          "model_module_version": "1.2.0",
          "state": {
            "_model_module": "@jupyter-widgets/base",
            "_model_module_version": "1.2.0",
            "_model_name": "LayoutModel",
            "_view_count": null,
            "_view_module": "@jupyter-widgets/base",
            "_view_module_version": "1.2.0",
            "_view_name": "LayoutView",
            "align_content": null,
            "align_items": null,
            "align_self": null,
            "border": null,
            "bottom": null,
            "display": null,
            "flex": null,
            "flex_flow": null,
            "grid_area": null,
            "grid_auto_columns": null,
            "grid_auto_flow": null,
            "grid_auto_rows": null,
            "grid_column": null,
            "grid_gap": null,
            "grid_row": null,
            "grid_template_areas": null,
            "grid_template_columns": null,
            "grid_template_rows": null,
            "height": null,
            "justify_content": null,
            "justify_items": null,
            "left": null,
            "margin": null,
            "max_height": null,
            "max_width": null,
            "min_height": null,
            "min_width": null,
            "object_fit": null,
            "object_position": null,
            "order": null,
            "overflow": null,
            "overflow_x": null,
            "overflow_y": null,
            "padding": null,
            "right": null,
            "top": null,
            "visibility": null,
            "width": null
          }
        },
        "da248b6c45b24ce4957b7a3f4eb049be": {
          "model_module": "@jupyter-widgets/controls",
          "model_name": "DescriptionStyleModel",
          "model_module_version": "1.5.0",
          "state": {
            "_model_module": "@jupyter-widgets/controls",
            "_model_module_version": "1.5.0",
            "_model_name": "DescriptionStyleModel",
            "_view_count": null,
            "_view_module": "@jupyter-widgets/base",
            "_view_module_version": "1.2.0",
            "_view_name": "StyleView",
            "description_width": ""
          }
        },
        "b127c2d5d05d479a98e2a2841f37c7bc": {
          "model_module": "@jupyter-widgets/controls",
          "model_name": "HBoxModel",
          "model_module_version": "1.5.0",
          "state": {
            "_dom_classes": [],
            "_model_module": "@jupyter-widgets/controls",
            "_model_module_version": "1.5.0",
            "_model_name": "HBoxModel",
            "_view_count": null,
            "_view_module": "@jupyter-widgets/controls",
            "_view_module_version": "1.5.0",
            "_view_name": "HBoxView",
            "box_style": "",
            "children": [
              "IPY_MODEL_850ef0801dfb421baa3d03070f445865",
              "IPY_MODEL_d1602942361843d4a6e00dd48da5cbca",
              "IPY_MODEL_e1e8594a02a3494ca4c3d0725e7ecb22"
            ],
            "layout": "IPY_MODEL_096cf1dd0caa408495415a6f767946c4"
          }
        },
        "850ef0801dfb421baa3d03070f445865": {
          "model_module": "@jupyter-widgets/controls",
          "model_name": "HTMLModel",
          "model_module_version": "1.5.0",
          "state": {
            "_dom_classes": [],
            "_model_module": "@jupyter-widgets/controls",
            "_model_module_version": "1.5.0",
            "_model_name": "HTMLModel",
            "_view_count": null,
            "_view_module": "@jupyter-widgets/controls",
            "_view_module_version": "1.5.0",
            "_view_name": "HTMLView",
            "description": "",
            "description_tooltip": null,
            "layout": "IPY_MODEL_d0864caeaed048bb915c4436d6af14cb",
            "placeholder": "​",
            "style": "IPY_MODEL_e3b9cb6d1d3145b382a8519000e70175",
            "value": "merges.txt: 100%"
          }
        },
        "d1602942361843d4a6e00dd48da5cbca": {
          "model_module": "@jupyter-widgets/controls",
          "model_name": "FloatProgressModel",
          "model_module_version": "1.5.0",
          "state": {
            "_dom_classes": [],
            "_model_module": "@jupyter-widgets/controls",
            "_model_module_version": "1.5.0",
            "_model_name": "FloatProgressModel",
            "_view_count": null,
            "_view_module": "@jupyter-widgets/controls",
            "_view_module_version": "1.5.0",
            "_view_name": "ProgressView",
            "bar_style": "success",
            "description": "",
            "description_tooltip": null,
            "layout": "IPY_MODEL_ae944a724c314af99977b131a84e5b24",
            "max": 456318,
            "min": 0,
            "orientation": "horizontal",
            "style": "IPY_MODEL_7056ad585ffb4420a1b6255bbd900ee9",
            "value": 456318
          }
        },
        "e1e8594a02a3494ca4c3d0725e7ecb22": {
          "model_module": "@jupyter-widgets/controls",
          "model_name": "HTMLModel",
          "model_module_version": "1.5.0",
          "state": {
            "_dom_classes": [],
            "_model_module": "@jupyter-widgets/controls",
            "_model_module_version": "1.5.0",
            "_model_name": "HTMLModel",
            "_view_count": null,
            "_view_module": "@jupyter-widgets/controls",
            "_view_module_version": "1.5.0",
            "_view_name": "HTMLView",
            "description": "",
            "description_tooltip": null,
            "layout": "IPY_MODEL_5582028ba2024d66b0e830260b0ee1a9",
            "placeholder": "​",
            "style": "IPY_MODEL_67926c233f58494382e4cf3986902626",
            "value": " 456k/456k [00:00&lt;00:00, 2.78MB/s]"
          }
        },
        "096cf1dd0caa408495415a6f767946c4": {
          "model_module": "@jupyter-widgets/base",
          "model_name": "LayoutModel",
          "model_module_version": "1.2.0",
          "state": {
            "_model_module": "@jupyter-widgets/base",
            "_model_module_version": "1.2.0",
            "_model_name": "LayoutModel",
            "_view_count": null,
            "_view_module": "@jupyter-widgets/base",
            "_view_module_version": "1.2.0",
            "_view_name": "LayoutView",
            "align_content": null,
            "align_items": null,
            "align_self": null,
            "border": null,
            "bottom": null,
            "display": null,
            "flex": null,
            "flex_flow": null,
            "grid_area": null,
            "grid_auto_columns": null,
            "grid_auto_flow": null,
            "grid_auto_rows": null,
            "grid_column": null,
            "grid_gap": null,
            "grid_row": null,
            "grid_template_areas": null,
            "grid_template_columns": null,
            "grid_template_rows": null,
            "height": null,
            "justify_content": null,
            "justify_items": null,
            "left": null,
            "margin": null,
            "max_height": null,
            "max_width": null,
            "min_height": null,
            "min_width": null,
            "object_fit": null,
            "object_position": null,
            "order": null,
            "overflow": null,
            "overflow_x": null,
            "overflow_y": null,
            "padding": null,
            "right": null,
            "top": null,
            "visibility": null,
            "width": null
          }
        },
        "d0864caeaed048bb915c4436d6af14cb": {
          "model_module": "@jupyter-widgets/base",
          "model_name": "LayoutModel",
          "model_module_version": "1.2.0",
          "state": {
            "_model_module": "@jupyter-widgets/base",
            "_model_module_version": "1.2.0",
            "_model_name": "LayoutModel",
            "_view_count": null,
            "_view_module": "@jupyter-widgets/base",
            "_view_module_version": "1.2.0",
            "_view_name": "LayoutView",
            "align_content": null,
            "align_items": null,
            "align_self": null,
            "border": null,
            "bottom": null,
            "display": null,
            "flex": null,
            "flex_flow": null,
            "grid_area": null,
            "grid_auto_columns": null,
            "grid_auto_flow": null,
            "grid_auto_rows": null,
            "grid_column": null,
            "grid_gap": null,
            "grid_row": null,
            "grid_template_areas": null,
            "grid_template_columns": null,
            "grid_template_rows": null,
            "height": null,
            "justify_content": null,
            "justify_items": null,
            "left": null,
            "margin": null,
            "max_height": null,
            "max_width": null,
            "min_height": null,
            "min_width": null,
            "object_fit": null,
            "object_position": null,
            "order": null,
            "overflow": null,
            "overflow_x": null,
            "overflow_y": null,
            "padding": null,
            "right": null,
            "top": null,
            "visibility": null,
            "width": null
          }
        },
        "e3b9cb6d1d3145b382a8519000e70175": {
          "model_module": "@jupyter-widgets/controls",
          "model_name": "DescriptionStyleModel",
          "model_module_version": "1.5.0",
          "state": {
            "_model_module": "@jupyter-widgets/controls",
            "_model_module_version": "1.5.0",
            "_model_name": "DescriptionStyleModel",
            "_view_count": null,
            "_view_module": "@jupyter-widgets/base",
            "_view_module_version": "1.2.0",
            "_view_name": "StyleView",
            "description_width": ""
          }
        },
        "ae944a724c314af99977b131a84e5b24": {
          "model_module": "@jupyter-widgets/base",
          "model_name": "LayoutModel",
          "model_module_version": "1.2.0",
          "state": {
            "_model_module": "@jupyter-widgets/base",
            "_model_module_version": "1.2.0",
            "_model_name": "LayoutModel",
            "_view_count": null,
            "_view_module": "@jupyter-widgets/base",
            "_view_module_version": "1.2.0",
            "_view_name": "LayoutView",
            "align_content": null,
            "align_items": null,
            "align_self": null,
            "border": null,
            "bottom": null,
            "display": null,
            "flex": null,
            "flex_flow": null,
            "grid_area": null,
            "grid_auto_columns": null,
            "grid_auto_flow": null,
            "grid_auto_rows": null,
            "grid_column": null,
            "grid_gap": null,
            "grid_row": null,
            "grid_template_areas": null,
            "grid_template_columns": null,
            "grid_template_rows": null,
            "height": null,
            "justify_content": null,
            "justify_items": null,
            "left": null,
            "margin": null,
            "max_height": null,
            "max_width": null,
            "min_height": null,
            "min_width": null,
            "object_fit": null,
            "object_position": null,
            "order": null,
            "overflow": null,
            "overflow_x": null,
            "overflow_y": null,
            "padding": null,
            "right": null,
            "top": null,
            "visibility": null,
            "width": null
          }
        },
        "7056ad585ffb4420a1b6255bbd900ee9": {
          "model_module": "@jupyter-widgets/controls",
          "model_name": "ProgressStyleModel",
          "model_module_version": "1.5.0",
          "state": {
            "_model_module": "@jupyter-widgets/controls",
            "_model_module_version": "1.5.0",
            "_model_name": "ProgressStyleModel",
            "_view_count": null,
            "_view_module": "@jupyter-widgets/base",
            "_view_module_version": "1.2.0",
            "_view_name": "StyleView",
            "bar_color": null,
            "description_width": ""
          }
        },
        "5582028ba2024d66b0e830260b0ee1a9": {
          "model_module": "@jupyter-widgets/base",
          "model_name": "LayoutModel",
          "model_module_version": "1.2.0",
          "state": {
            "_model_module": "@jupyter-widgets/base",
            "_model_module_version": "1.2.0",
            "_model_name": "LayoutModel",
            "_view_count": null,
            "_view_module": "@jupyter-widgets/base",
            "_view_module_version": "1.2.0",
            "_view_name": "LayoutView",
            "align_content": null,
            "align_items": null,
            "align_self": null,
            "border": null,
            "bottom": null,
            "display": null,
            "flex": null,
            "flex_flow": null,
            "grid_area": null,
            "grid_auto_columns": null,
            "grid_auto_flow": null,
            "grid_auto_rows": null,
            "grid_column": null,
            "grid_gap": null,
            "grid_row": null,
            "grid_template_areas": null,
            "grid_template_columns": null,
            "grid_template_rows": null,
            "height": null,
            "justify_content": null,
            "justify_items": null,
            "left": null,
            "margin": null,
            "max_height": null,
            "max_width": null,
            "min_height": null,
            "min_width": null,
            "object_fit": null,
            "object_position": null,
            "order": null,
            "overflow": null,
            "overflow_x": null,
            "overflow_y": null,
            "padding": null,
            "right": null,
            "top": null,
            "visibility": null,
            "width": null
          }
        },
        "67926c233f58494382e4cf3986902626": {
          "model_module": "@jupyter-widgets/controls",
          "model_name": "DescriptionStyleModel",
          "model_module_version": "1.5.0",
          "state": {
            "_model_module": "@jupyter-widgets/controls",
            "_model_module_version": "1.5.0",
            "_model_name": "DescriptionStyleModel",
            "_view_count": null,
            "_view_module": "@jupyter-widgets/base",
            "_view_module_version": "1.2.0",
            "_view_name": "StyleView",
            "description_width": ""
          }
        },
        "37e16115288649a5b87e696d527c4f6a": {
          "model_module": "@jupyter-widgets/controls",
          "model_name": "HBoxModel",
          "model_module_version": "1.5.0",
          "state": {
            "_dom_classes": [],
            "_model_module": "@jupyter-widgets/controls",
            "_model_module_version": "1.5.0",
            "_model_name": "HBoxModel",
            "_view_count": null,
            "_view_module": "@jupyter-widgets/controls",
            "_view_module_version": "1.5.0",
            "_view_name": "HBoxView",
            "box_style": "",
            "children": [
              "IPY_MODEL_5101c7a4088345468367cde143bbf0e7",
              "IPY_MODEL_f52c4ff3fc8b4252a09bea7d902b6690",
              "IPY_MODEL_121386b1b91a4208bc56c19f79ba76b7"
            ],
            "layout": "IPY_MODEL_a2f5a74f4e264204b9c263c2142482cd"
          }
        },
        "5101c7a4088345468367cde143bbf0e7": {
          "model_module": "@jupyter-widgets/controls",
          "model_name": "HTMLModel",
          "model_module_version": "1.5.0",
          "state": {
            "_dom_classes": [],
            "_model_module": "@jupyter-widgets/controls",
            "_model_module_version": "1.5.0",
            "_model_name": "HTMLModel",
            "_view_count": null,
            "_view_module": "@jupyter-widgets/controls",
            "_view_module_version": "1.5.0",
            "_view_name": "HTMLView",
            "description": "",
            "description_tooltip": null,
            "layout": "IPY_MODEL_3cf469a257fb4b28b7bbe54949729c8a",
            "placeholder": "​",
            "style": "IPY_MODEL_71c4ecbe983e49d683077f65c3a9dc2d",
            "value": "tokenizer.json: 100%"
          }
        },
        "f52c4ff3fc8b4252a09bea7d902b6690": {
          "model_module": "@jupyter-widgets/controls",
          "model_name": "FloatProgressModel",
          "model_module_version": "1.5.0",
          "state": {
            "_dom_classes": [],
            "_model_module": "@jupyter-widgets/controls",
            "_model_module_version": "1.5.0",
            "_model_name": "FloatProgressModel",
            "_view_count": null,
            "_view_module": "@jupyter-widgets/controls",
            "_view_module_version": "1.5.0",
            "_view_name": "ProgressView",
            "bar_style": "success",
            "description": "",
            "description_tooltip": null,
            "layout": "IPY_MODEL_155d9e7fe9804794b8b1e8bcea5145ce",
            "max": 1355863,
            "min": 0,
            "orientation": "horizontal",
            "style": "IPY_MODEL_ba48a03c76d3432fb82b0021940abe95",
            "value": 1355863
          }
        },
        "121386b1b91a4208bc56c19f79ba76b7": {
          "model_module": "@jupyter-widgets/controls",
          "model_name": "HTMLModel",
          "model_module_version": "1.5.0",
          "state": {
            "_dom_classes": [],
            "_model_module": "@jupyter-widgets/controls",
            "_model_module_version": "1.5.0",
            "_model_name": "HTMLModel",
            "_view_count": null,
            "_view_module": "@jupyter-widgets/controls",
            "_view_module_version": "1.5.0",
            "_view_name": "HTMLView",
            "description": "",
            "description_tooltip": null,
            "layout": "IPY_MODEL_39af033b756a4d55ba3eb8e9daacfb6d",
            "placeholder": "​",
            "style": "IPY_MODEL_fbf2404872054a85a68e1567bf49dae9",
            "value": " 1.36M/1.36M [00:00&lt;00:00, 4.17MB/s]"
          }
        },
        "a2f5a74f4e264204b9c263c2142482cd": {
          "model_module": "@jupyter-widgets/base",
          "model_name": "LayoutModel",
          "model_module_version": "1.2.0",
          "state": {
            "_model_module": "@jupyter-widgets/base",
            "_model_module_version": "1.2.0",
            "_model_name": "LayoutModel",
            "_view_count": null,
            "_view_module": "@jupyter-widgets/base",
            "_view_module_version": "1.2.0",
            "_view_name": "LayoutView",
            "align_content": null,
            "align_items": null,
            "align_self": null,
            "border": null,
            "bottom": null,
            "display": null,
            "flex": null,
            "flex_flow": null,
            "grid_area": null,
            "grid_auto_columns": null,
            "grid_auto_flow": null,
            "grid_auto_rows": null,
            "grid_column": null,
            "grid_gap": null,
            "grid_row": null,
            "grid_template_areas": null,
            "grid_template_columns": null,
            "grid_template_rows": null,
            "height": null,
            "justify_content": null,
            "justify_items": null,
            "left": null,
            "margin": null,
            "max_height": null,
            "max_width": null,
            "min_height": null,
            "min_width": null,
            "object_fit": null,
            "object_position": null,
            "order": null,
            "overflow": null,
            "overflow_x": null,
            "overflow_y": null,
            "padding": null,
            "right": null,
            "top": null,
            "visibility": null,
            "width": null
          }
        },
        "3cf469a257fb4b28b7bbe54949729c8a": {
          "model_module": "@jupyter-widgets/base",
          "model_name": "LayoutModel",
          "model_module_version": "1.2.0",
          "state": {
            "_model_module": "@jupyter-widgets/base",
            "_model_module_version": "1.2.0",
            "_model_name": "LayoutModel",
            "_view_count": null,
            "_view_module": "@jupyter-widgets/base",
            "_view_module_version": "1.2.0",
            "_view_name": "LayoutView",
            "align_content": null,
            "align_items": null,
            "align_self": null,
            "border": null,
            "bottom": null,
            "display": null,
            "flex": null,
            "flex_flow": null,
            "grid_area": null,
            "grid_auto_columns": null,
            "grid_auto_flow": null,
            "grid_auto_rows": null,
            "grid_column": null,
            "grid_gap": null,
            "grid_row": null,
            "grid_template_areas": null,
            "grid_template_columns": null,
            "grid_template_rows": null,
            "height": null,
            "justify_content": null,
            "justify_items": null,
            "left": null,
            "margin": null,
            "max_height": null,
            "max_width": null,
            "min_height": null,
            "min_width": null,
            "object_fit": null,
            "object_position": null,
            "order": null,
            "overflow": null,
            "overflow_x": null,
            "overflow_y": null,
            "padding": null,
            "right": null,
            "top": null,
            "visibility": null,
            "width": null
          }
        },
        "71c4ecbe983e49d683077f65c3a9dc2d": {
          "model_module": "@jupyter-widgets/controls",
          "model_name": "DescriptionStyleModel",
          "model_module_version": "1.5.0",
          "state": {
            "_model_module": "@jupyter-widgets/controls",
            "_model_module_version": "1.5.0",
            "_model_name": "DescriptionStyleModel",
            "_view_count": null,
            "_view_module": "@jupyter-widgets/base",
            "_view_module_version": "1.2.0",
            "_view_name": "StyleView",
            "description_width": ""
          }
        },
        "155d9e7fe9804794b8b1e8bcea5145ce": {
          "model_module": "@jupyter-widgets/base",
          "model_name": "LayoutModel",
          "model_module_version": "1.2.0",
          "state": {
            "_model_module": "@jupyter-widgets/base",
            "_model_module_version": "1.2.0",
            "_model_name": "LayoutModel",
            "_view_count": null,
            "_view_module": "@jupyter-widgets/base",
            "_view_module_version": "1.2.0",
            "_view_name": "LayoutView",
            "align_content": null,
            "align_items": null,
            "align_self": null,
            "border": null,
            "bottom": null,
            "display": null,
            "flex": null,
            "flex_flow": null,
            "grid_area": null,
            "grid_auto_columns": null,
            "grid_auto_flow": null,
            "grid_auto_rows": null,
            "grid_column": null,
            "grid_gap": null,
            "grid_row": null,
            "grid_template_areas": null,
            "grid_template_columns": null,
            "grid_template_rows": null,
            "height": null,
            "justify_content": null,
            "justify_items": null,
            "left": null,
            "margin": null,
            "max_height": null,
            "max_width": null,
            "min_height": null,
            "min_width": null,
            "object_fit": null,
            "object_position": null,
            "order": null,
            "overflow": null,
            "overflow_x": null,
            "overflow_y": null,
            "padding": null,
            "right": null,
            "top": null,
            "visibility": null,
            "width": null
          }
        },
        "ba48a03c76d3432fb82b0021940abe95": {
          "model_module": "@jupyter-widgets/controls",
          "model_name": "ProgressStyleModel",
          "model_module_version": "1.5.0",
          "state": {
            "_model_module": "@jupyter-widgets/controls",
            "_model_module_version": "1.5.0",
            "_model_name": "ProgressStyleModel",
            "_view_count": null,
            "_view_module": "@jupyter-widgets/base",
            "_view_module_version": "1.2.0",
            "_view_name": "StyleView",
            "bar_color": null,
            "description_width": ""
          }
        },
        "39af033b756a4d55ba3eb8e9daacfb6d": {
          "model_module": "@jupyter-widgets/base",
          "model_name": "LayoutModel",
          "model_module_version": "1.2.0",
          "state": {
            "_model_module": "@jupyter-widgets/base",
            "_model_module_version": "1.2.0",
            "_model_name": "LayoutModel",
            "_view_count": null,
            "_view_module": "@jupyter-widgets/base",
            "_view_module_version": "1.2.0",
            "_view_name": "LayoutView",
            "align_content": null,
            "align_items": null,
            "align_self": null,
            "border": null,
            "bottom": null,
            "display": null,
            "flex": null,
            "flex_flow": null,
            "grid_area": null,
            "grid_auto_columns": null,
            "grid_auto_flow": null,
            "grid_auto_rows": null,
            "grid_column": null,
            "grid_gap": null,
            "grid_row": null,
            "grid_template_areas": null,
            "grid_template_columns": null,
            "grid_template_rows": null,
            "height": null,
            "justify_content": null,
            "justify_items": null,
            "left": null,
            "margin": null,
            "max_height": null,
            "max_width": null,
            "min_height": null,
            "min_width": null,
            "object_fit": null,
            "object_position": null,
            "order": null,
            "overflow": null,
            "overflow_x": null,
            "overflow_y": null,
            "padding": null,
            "right": null,
            "top": null,
            "visibility": null,
            "width": null
          }
        },
        "fbf2404872054a85a68e1567bf49dae9": {
          "model_module": "@jupyter-widgets/controls",
          "model_name": "DescriptionStyleModel",
          "model_module_version": "1.5.0",
          "state": {
            "_model_module": "@jupyter-widgets/controls",
            "_model_module_version": "1.5.0",
            "_model_name": "DescriptionStyleModel",
            "_view_count": null,
            "_view_module": "@jupyter-widgets/base",
            "_view_module_version": "1.2.0",
            "_view_name": "StyleView",
            "description_width": ""
          }
        },
        "7f8f6ab51454420d9e78cdc751f83795": {
          "model_module": "@jupyter-widgets/controls",
          "model_name": "HBoxModel",
          "model_module_version": "1.5.0",
          "state": {
            "_dom_classes": [],
            "_model_module": "@jupyter-widgets/controls",
            "_model_module_version": "1.5.0",
            "_model_name": "HBoxModel",
            "_view_count": null,
            "_view_module": "@jupyter-widgets/controls",
            "_view_module_version": "1.5.0",
            "_view_name": "HBoxView",
            "box_style": "",
            "children": [
              "IPY_MODEL_5bf2e6ce5ee14a8a929cd4601d5ae97a",
              "IPY_MODEL_a03c90f0f9bc4dafae5dba3223c92c21",
              "IPY_MODEL_132d01548ef9446d836c8ba305b345a0"
            ],
            "layout": "IPY_MODEL_b68da65c70f341f48a0db5ebe6b0469f"
          }
        },
        "5bf2e6ce5ee14a8a929cd4601d5ae97a": {
          "model_module": "@jupyter-widgets/controls",
          "model_name": "HTMLModel",
          "model_module_version": "1.5.0",
          "state": {
            "_dom_classes": [],
            "_model_module": "@jupyter-widgets/controls",
            "_model_module_version": "1.5.0",
            "_model_name": "HTMLModel",
            "_view_count": null,
            "_view_module": "@jupyter-widgets/controls",
            "_view_module_version": "1.5.0",
            "_view_name": "HTMLView",
            "description": "",
            "description_tooltip": null,
            "layout": "IPY_MODEL_5facd2456fa2407b87f790818361b824",
            "placeholder": "​",
            "style": "IPY_MODEL_44a14090a13243dc9efc157aeb607dc2",
            "value": "model.safetensors: 100%"
          }
        },
        "a03c90f0f9bc4dafae5dba3223c92c21": {
          "model_module": "@jupyter-widgets/controls",
          "model_name": "FloatProgressModel",
          "model_module_version": "1.5.0",
          "state": {
            "_dom_classes": [],
            "_model_module": "@jupyter-widgets/controls",
            "_model_module_version": "1.5.0",
            "_model_name": "FloatProgressModel",
            "_view_count": null,
            "_view_module": "@jupyter-widgets/controls",
            "_view_module_version": "1.5.0",
            "_view_name": "ProgressView",
            "bar_style": "success",
            "description": "",
            "description_tooltip": null,
            "layout": "IPY_MODEL_fc4d3c59c2794d6db8061a934127b74f",
            "max": 500975390,
            "min": 0,
            "orientation": "horizontal",
            "style": "IPY_MODEL_d55fdcc519864b589cf2c21ca831f77a",
            "value": 500975390
          }
        },
        "132d01548ef9446d836c8ba305b345a0": {
          "model_module": "@jupyter-widgets/controls",
          "model_name": "HTMLModel",
          "model_module_version": "1.5.0",
          "state": {
            "_dom_classes": [],
            "_model_module": "@jupyter-widgets/controls",
            "_model_module_version": "1.5.0",
            "_model_name": "HTMLModel",
            "_view_count": null,
            "_view_module": "@jupyter-widgets/controls",
            "_view_module_version": "1.5.0",
            "_view_name": "HTMLView",
            "description": "",
            "description_tooltip": null,
            "layout": "IPY_MODEL_1dd98523937e41e199f4df0058ec319d",
            "placeholder": "​",
            "style": "IPY_MODEL_eb25bc9123b64fbeb360d69ec898acc7",
            "value": " 501M/501M [00:02&lt;00:00, 231MB/s]"
          }
        },
        "b68da65c70f341f48a0db5ebe6b0469f": {
          "model_module": "@jupyter-widgets/base",
          "model_name": "LayoutModel",
          "model_module_version": "1.2.0",
          "state": {
            "_model_module": "@jupyter-widgets/base",
            "_model_module_version": "1.2.0",
            "_model_name": "LayoutModel",
            "_view_count": null,
            "_view_module": "@jupyter-widgets/base",
            "_view_module_version": "1.2.0",
            "_view_name": "LayoutView",
            "align_content": null,
            "align_items": null,
            "align_self": null,
            "border": null,
            "bottom": null,
            "display": null,
            "flex": null,
            "flex_flow": null,
            "grid_area": null,
            "grid_auto_columns": null,
            "grid_auto_flow": null,
            "grid_auto_rows": null,
            "grid_column": null,
            "grid_gap": null,
            "grid_row": null,
            "grid_template_areas": null,
            "grid_template_columns": null,
            "grid_template_rows": null,
            "height": null,
            "justify_content": null,
            "justify_items": null,
            "left": null,
            "margin": null,
            "max_height": null,
            "max_width": null,
            "min_height": null,
            "min_width": null,
            "object_fit": null,
            "object_position": null,
            "order": null,
            "overflow": null,
            "overflow_x": null,
            "overflow_y": null,
            "padding": null,
            "right": null,
            "top": null,
            "visibility": null,
            "width": null
          }
        },
        "5facd2456fa2407b87f790818361b824": {
          "model_module": "@jupyter-widgets/base",
          "model_name": "LayoutModel",
          "model_module_version": "1.2.0",
          "state": {
            "_model_module": "@jupyter-widgets/base",
            "_model_module_version": "1.2.0",
            "_model_name": "LayoutModel",
            "_view_count": null,
            "_view_module": "@jupyter-widgets/base",
            "_view_module_version": "1.2.0",
            "_view_name": "LayoutView",
            "align_content": null,
            "align_items": null,
            "align_self": null,
            "border": null,
            "bottom": null,
            "display": null,
            "flex": null,
            "flex_flow": null,
            "grid_area": null,
            "grid_auto_columns": null,
            "grid_auto_flow": null,
            "grid_auto_rows": null,
            "grid_column": null,
            "grid_gap": null,
            "grid_row": null,
            "grid_template_areas": null,
            "grid_template_columns": null,
            "grid_template_rows": null,
            "height": null,
            "justify_content": null,
            "justify_items": null,
            "left": null,
            "margin": null,
            "max_height": null,
            "max_width": null,
            "min_height": null,
            "min_width": null,
            "object_fit": null,
            "object_position": null,
            "order": null,
            "overflow": null,
            "overflow_x": null,
            "overflow_y": null,
            "padding": null,
            "right": null,
            "top": null,
            "visibility": null,
            "width": null
          }
        },
        "44a14090a13243dc9efc157aeb607dc2": {
          "model_module": "@jupyter-widgets/controls",
          "model_name": "DescriptionStyleModel",
          "model_module_version": "1.5.0",
          "state": {
            "_model_module": "@jupyter-widgets/controls",
            "_model_module_version": "1.5.0",
            "_model_name": "DescriptionStyleModel",
            "_view_count": null,
            "_view_module": "@jupyter-widgets/base",
            "_view_module_version": "1.2.0",
            "_view_name": "StyleView",
            "description_width": ""
          }
        },
        "fc4d3c59c2794d6db8061a934127b74f": {
          "model_module": "@jupyter-widgets/base",
          "model_name": "LayoutModel",
          "model_module_version": "1.2.0",
          "state": {
            "_model_module": "@jupyter-widgets/base",
            "_model_module_version": "1.2.0",
            "_model_name": "LayoutModel",
            "_view_count": null,
            "_view_module": "@jupyter-widgets/base",
            "_view_module_version": "1.2.0",
            "_view_name": "LayoutView",
            "align_content": null,
            "align_items": null,
            "align_self": null,
            "border": null,
            "bottom": null,
            "display": null,
            "flex": null,
            "flex_flow": null,
            "grid_area": null,
            "grid_auto_columns": null,
            "grid_auto_flow": null,
            "grid_auto_rows": null,
            "grid_column": null,
            "grid_gap": null,
            "grid_row": null,
            "grid_template_areas": null,
            "grid_template_columns": null,
            "grid_template_rows": null,
            "height": null,
            "justify_content": null,
            "justify_items": null,
            "left": null,
            "margin": null,
            "max_height": null,
            "max_width": null,
            "min_height": null,
            "min_width": null,
            "object_fit": null,
            "object_position": null,
            "order": null,
            "overflow": null,
            "overflow_x": null,
            "overflow_y": null,
            "padding": null,
            "right": null,
            "top": null,
            "visibility": null,
            "width": null
          }
        },
        "d55fdcc519864b589cf2c21ca831f77a": {
          "model_module": "@jupyter-widgets/controls",
          "model_name": "ProgressStyleModel",
          "model_module_version": "1.5.0",
          "state": {
            "_model_module": "@jupyter-widgets/controls",
            "_model_module_version": "1.5.0",
            "_model_name": "ProgressStyleModel",
            "_view_count": null,
            "_view_module": "@jupyter-widgets/base",
            "_view_module_version": "1.2.0",
            "_view_name": "StyleView",
            "bar_color": null,
            "description_width": ""
          }
        },
        "1dd98523937e41e199f4df0058ec319d": {
          "model_module": "@jupyter-widgets/base",
          "model_name": "LayoutModel",
          "model_module_version": "1.2.0",
          "state": {
            "_model_module": "@jupyter-widgets/base",
            "_model_module_version": "1.2.0",
            "_model_name": "LayoutModel",
            "_view_count": null,
            "_view_module": "@jupyter-widgets/base",
            "_view_module_version": "1.2.0",
            "_view_name": "LayoutView",
            "align_content": null,
            "align_items": null,
            "align_self": null,
            "border": null,
            "bottom": null,
            "display": null,
            "flex": null,
            "flex_flow": null,
            "grid_area": null,
            "grid_auto_columns": null,
            "grid_auto_flow": null,
            "grid_auto_rows": null,
            "grid_column": null,
            "grid_gap": null,
            "grid_row": null,
            "grid_template_areas": null,
            "grid_template_columns": null,
            "grid_template_rows": null,
            "height": null,
            "justify_content": null,
            "justify_items": null,
            "left": null,
            "margin": null,
            "max_height": null,
            "max_width": null,
            "min_height": null,
            "min_width": null,
            "object_fit": null,
            "object_position": null,
            "order": null,
            "overflow": null,
            "overflow_x": null,
            "overflow_y": null,
            "padding": null,
            "right": null,
            "top": null,
            "visibility": null,
            "width": null
          }
        },
        "eb25bc9123b64fbeb360d69ec898acc7": {
          "model_module": "@jupyter-widgets/controls",
          "model_name": "DescriptionStyleModel",
          "model_module_version": "1.5.0",
          "state": {
            "_model_module": "@jupyter-widgets/controls",
            "_model_module_version": "1.5.0",
            "_model_name": "DescriptionStyleModel",
            "_view_count": null,
            "_view_module": "@jupyter-widgets/base",
            "_view_module_version": "1.2.0",
            "_view_name": "StyleView",
            "description_width": ""
          }
        }
      }
    }
  },
  "nbformat": 4,
  "nbformat_minor": 0
}